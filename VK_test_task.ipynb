{
  "nbformat": 4,
  "nbformat_minor": 0,
  "metadata": {
    "colab": {
      "provenance": []
    },
    "kernelspec": {
      "name": "python3",
      "display_name": "Python 3"
    },
    "language_info": {
      "name": "python"
    },
    "widgets": {
      "application/vnd.jupyter.widget-state+json": {
        "3059047a355741148f0533a0accdc051": {
          "model_module": "catboost-widget",
          "model_name": "CatboostWidgetModel",
          "model_module_version": "^1.0.0",
          "state": {
            "_dom_classes": [],
            "_model_module": "catboost-widget",
            "_model_module_version": "^1.0.0",
            "_model_name": "CatboostWidgetModel",
            "_view_count": null,
            "_view_module": "catboost-widget",
            "_view_module_version": "^1.0.0",
            "_view_name": "CatboostWidgetView",
            "data": {
              "catboost_info": {
                "path": "catboost_info",
                "name": "catboost_info",
                "content": {
                  "passed_iterations": 1999,
                  "total_iterations": 2000,
                  "data": {
                    "iterations": [
                      {
                        "learn": [
                          0.02333829365
                        ],
                        "iteration": 0,
                        "passed_time": 0.0753509048,
                        "remaining_time": 150.6264587,
                        "test": [
                          0.1026003224,
                          0.8674761635,
                          0.03117857143
                        ]
                      },
                      {
                        "learn": [
                          0.02971329365
                        ],
                        "iteration": 1,
                        "passed_time": 0.1297244167,
                        "remaining_time": 129.5946923,
                        "test": [
                          0.1341379842,
                          0.8889178478,
                          0.03517857143
                        ]
                      },
                      {
                        "learn": [
                          0.03246329365
                        ],
                        "iteration": 2,
                        "passed_time": 0.1873266645,
                        "remaining_time": 124.6971163,
                        "test": [
                          0.1520787272,
                          0.9006964725,
                          0.04017857143
                        ]
                      },
                      {
                        "learn": [
                          0.03296329365
                        ],
                        "iteration": 3,
                        "passed_time": 0.2318540567,
                        "remaining_time": 115.6951743,
                        "test": [
                          0.1555858817,
                          0.9028706799,
                          0.03817857143
                        ]
                      },
                      {
                        "learn": [
                          0.03458829365
                        ],
                        "iteration": 4,
                        "passed_time": 0.255322333,
                        "remaining_time": 101.8736109,
                        "test": [
                          0.1610189212,
                          0.903624911,
                          0.04017857143
                        ]
                      },
                      {
                        "learn": [
                          0.03496329365
                        ],
                        "iteration": 5,
                        "passed_time": 0.2784535093,
                        "remaining_time": 92.53938294,
                        "test": [
                          0.1645224582,
                          0.906855139,
                          0.04217857143
                        ]
                      },
                      {
                        "learn": [
                          0.03521329365
                        ],
                        "iteration": 6,
                        "passed_time": 0.3037288276,
                        "remaining_time": 86.4759362,
                        "test": [
                          0.171417846,
                          0.9175037786,
                          0.04017857143
                        ]
                      },
                      {
                        "learn": [
                          0.03521329365
                        ],
                        "iteration": 7,
                        "passed_time": 0.326329546,
                        "remaining_time": 81.25605696,
                        "test": [
                          0.1670763966,
                          0.9152940537,
                          0.04217857143
                        ]
                      },
                      {
                        "learn": [
                          0.03596329365
                        ],
                        "iteration": 8,
                        "passed_time": 0.3495384757,
                        "remaining_time": 77.32567835,
                        "test": [
                          0.1701136514,
                          0.9156644975,
                          0.04317857143
                        ]
                      },
                      {
                        "learn": [
                          0.03546329365
                        ],
                        "iteration": 9,
                        "passed_time": 0.3721685529,
                        "remaining_time": 74.06154202,
                        "test": [
                          0.1714997158,
                          0.9145438044,
                          0.04417857143
                        ]
                      },
                      {
                        "learn": [
                          0.03546329365
                        ],
                        "iteration": 10,
                        "passed_time": 0.3951666865,
                        "remaining_time": 71.45332177,
                        "test": [
                          0.1744831369,
                          0.9194020457,
                          0.04417857143
                        ]
                      },
                      {
                        "learn": [
                          0.03533829365
                        ],
                        "iteration": 11,
                        "passed_time": 0.4200926724,
                        "remaining_time": 69.59535273,
                        "test": [
                          0.1806079258,
                          0.9238199801,
                          0.04517857143
                        ]
                      },
                      {
                        "learn": [
                          0.03558829365
                        ],
                        "iteration": 12,
                        "passed_time": 0.4425752901,
                        "remaining_time": 67.64593087,
                        "test": [
                          0.1798146045,
                          0.9252751569,
                          0.04417857143
                        ]
                      },
                      {
                        "learn": [
                          0.03621329365
                        ],
                        "iteration": 13,
                        "passed_time": 0.4659056483,
                        "remaining_time": 66.0920441,
                        "test": [
                          0.1754516741,
                          0.9242584467,
                          0.04717857143
                        ]
                      },
                      {
                        "learn": [
                          0.03608829365
                        ],
                        "iteration": 14,
                        "passed_time": 0.4883951082,
                        "remaining_time": 64.63095265,
                        "test": [
                          0.1734308249,
                          0.9227247032,
                          0.04717857143
                        ]
                      },
                      {
                        "learn": [
                          0.03621329365
                        ],
                        "iteration": 15,
                        "passed_time": 0.5112413032,
                        "remaining_time": 63.3939216,
                        "test": [
                          0.1765148429,
                          0.9226232399,
                          0.04617857143
                        ]
                      },
                      {
                        "learn": [
                          0.03633829365
                        ],
                        "iteration": 16,
                        "passed_time": 0.5430724341,
                        "remaining_time": 63.34780217,
                        "test": [
                          0.172451896,
                          0.9206706428,
                          0.04617857143
                        ]
                      },
                      {
                        "learn": [
                          0.03646329365
                        ],
                        "iteration": 17,
                        "passed_time": 0.5726586087,
                        "remaining_time": 63.05607569,
                        "test": [
                          0.1710033287,
                          0.9205492524,
                          0.04417857143
                        ]
                      },
                      {
                        "learn": [
                          0.03658829365
                        ],
                        "iteration": 18,
                        "passed_time": 0.5963316142,
                        "remaining_time": 62.17541725,
                        "test": [
                          0.1702203193,
                          0.9205618155,
                          0.04617857143
                        ]
                      },
                      {
                        "learn": [
                          0.03683829365
                        ],
                        "iteration": 19,
                        "passed_time": 0.6200719354,
                        "remaining_time": 61.3871216,
                        "test": [
                          0.1773813078,
                          0.9240512549,
                          0.04517857143
                        ]
                      },
                      {
                        "learn": [
                          0.03683829365
                        ],
                        "iteration": 20,
                        "passed_time": 0.6428355229,
                        "remaining_time": 60.57959523,
                        "test": [
                          0.1704092812,
                          0.9203201652,
                          0.04417857143
                        ]
                      },
                      {
                        "learn": [
                          0.03658829365
                        ],
                        "iteration": 21,
                        "passed_time": 0.6673703832,
                        "remaining_time": 60.00266445,
                        "test": [
                          0.168490529,
                          0.9189042008,
                          0.04417857143
                        ]
                      },
                      {
                        "learn": [
                          0.03671329365
                        ],
                        "iteration": 22,
                        "passed_time": 0.6969257181,
                        "remaining_time": 59.90531064,
                        "test": [
                          0.1684833588,
                          0.9140761959,
                          0.04817857143
                        ]
                      },
                      {
                        "learn": [
                          0.03671329365
                        ],
                        "iteration": 23,
                        "passed_time": 0.7516151627,
                        "remaining_time": 61.88298173,
                        "test": [
                          0.1673996088,
                          0.9127949585,
                          0.04517857143
                        ]
                      },
                      {
                        "learn": [
                          0.03671329365
                        ],
                        "iteration": 24,
                        "passed_time": 0.8207013725,
                        "remaining_time": 64.83540843,
                        "test": [
                          0.1703208799,
                          0.9197477577,
                          0.04617857143
                        ]
                      },
                      {
                        "learn": [
                          0.03683829365
                        ],
                        "iteration": 25,
                        "passed_time": 0.9032576177,
                        "remaining_time": 68.57809759,
                        "test": [
                          0.1664621299,
                          0.9165256711,
                          0.04617857143
                        ]
                      },
                      {
                        "learn": [
                          0.03671329365
                        ],
                        "iteration": 26,
                        "passed_time": 0.9985264497,
                        "remaining_time": 72.96639575,
                        "test": [
                          0.1656501302,
                          0.9134282836,
                          0.04417857143
                        ]
                      },
                      {
                        "learn": [
                          0.03683829365
                        ],
                        "iteration": 27,
                        "passed_time": 1.094791898,
                        "remaining_time": 77.10462936,
                        "test": [
                          0.1673201305,
                          0.9150618691,
                          0.04517857143
                        ]
                      },
                      {
                        "learn": [
                          0.03683829365
                        ],
                        "iteration": 28,
                        "passed_time": 1.17197622,
                        "remaining_time": 79.65396998,
                        "test": [
                          0.1661625819,
                          0.9134972931,
                          0.04417857143
                        ]
                      },
                      {
                        "learn": [
                          0.03683829365
                        ],
                        "iteration": 29,
                        "passed_time": 1.233560514,
                        "remaining_time": 81.00380709,
                        "test": [
                          0.1680993598,
                          0.9154353243,
                          0.04317857143
                        ]
                      },
                      {
                        "learn": [
                          0.03683829365
                        ],
                        "iteration": 30,
                        "passed_time": 1.320164477,
                        "remaining_time": 83.85173726,
                        "test": [
                          0.1684467852,
                          0.917704464,
                          0.04517857143
                        ]
                      },
                      {
                        "learn": [
                          0.03683829365
                        ],
                        "iteration": 31,
                        "passed_time": 1.344149138,
                        "remaining_time": 82.66517198,
                        "test": [
                          0.1688630352,
                          0.9200311827,
                          0.04517857143
                        ]
                      },
                      {
                        "learn": [
                          0.03683829365
                        ],
                        "iteration": 32,
                        "passed_time": 1.367438302,
                        "remaining_time": 81.50761033,
                        "test": [
                          0.1723773268,
                          0.9229018174,
                          0.04717857143
                        ]
                      },
                      {
                        "learn": [
                          0.03696329365
                        ],
                        "iteration": 33,
                        "passed_time": 1.390937558,
                        "remaining_time": 80.42891882,
                        "test": [
                          0.1704610768,
                          0.9173749485,
                          0.04617857143
                        ]
                      },
                      {
                        "learn": [
                          0.03696329365
                        ],
                        "iteration": 34,
                        "passed_time": 1.415396952,
                        "remaining_time": 79.46442885,
                        "test": [
                          0.1738551206,
                          0.9228303456,
                          0.04617857143
                        ]
                      },
                      {
                        "learn": [
                          0.03696329365
                        ],
                        "iteration": 35,
                        "passed_time": 1.447777994,
                        "remaining_time": 78.98433281,
                        "test": [
                          0.175247572,
                          0.9236431155,
                          0.04617857143
                        ]
                      },
                      {
                        "learn": [
                          0.03708829365
                        ],
                        "iteration": 36,
                        "passed_time": 1.471737964,
                        "remaining_time": 78.08166552,
                        "test": [
                          0.1756828331,
                          0.9250832035,
                          0.04617857143
                        ]
                      },
                      {
                        "learn": [
                          0.03708829365
                        ],
                        "iteration": 37,
                        "passed_time": 1.495322142,
                        "remaining_time": 77.20584321,
                        "test": [
                          0.1760382963,
                          0.9255394284,
                          0.04517857143
                        ]
                      },
                      {
                        "learn": [
                          0.03708829365
                        ],
                        "iteration": 38,
                        "passed_time": 1.518822633,
                        "remaining_time": 76.36951752,
                        "test": [
                          0.172472572,
                          0.9189330782,
                          0.04517857143
                        ]
                      },
                      {
                        "learn": [
                          0.03721329365
                        ],
                        "iteration": 39,
                        "passed_time": 1.541764395,
                        "remaining_time": 75.54645536,
                        "test": [
                          0.1717535709,
                          0.9195370879,
                          0.04417857143
                        ]
                      },
                      {
                        "learn": [
                          0.03721329365
                        ],
                        "iteration": 40,
                        "passed_time": 1.581823313,
                        "remaining_time": 75.58028953,
                        "test": [
                          0.1690186605,
                          0.9206528348,
                          0.04517857143
                        ]
                      },
                      {
                        "learn": [
                          0.03708829365
                        ],
                        "iteration": 41,
                        "passed_time": 1.606673645,
                        "remaining_time": 74.90159514,
                        "test": [
                          0.1663157903,
                          0.915504824,
                          0.04417857143
                        ]
                      },
                      {
                        "learn": [
                          0.03721329365
                        ],
                        "iteration": 42,
                        "passed_time": 1.630036475,
                        "remaining_time": 74.18561353,
                        "test": [
                          0.1669813483,
                          0.9157312476,
                          0.04417857143
                        ]
                      },
                      {
                        "learn": [
                          0.03708829365
                        ],
                        "iteration": 43,
                        "passed_time": 1.653475535,
                        "remaining_time": 73.50450335,
                        "test": [
                          0.16794905,
                          0.9154761414,
                          0.04517857143
                        ]
                      },
                      {
                        "learn": [
                          0.03708829365
                        ],
                        "iteration": 44,
                        "passed_time": 1.679584532,
                        "remaining_time": 72.96861691,
                        "test": [
                          0.1681023268,
                          0.9153637256,
                          0.04617857143
                        ]
                      },
                      {
                        "learn": [
                          0.03708829365
                        ],
                        "iteration": 45,
                        "passed_time": 1.707842033,
                        "remaining_time": 72.54615941,
                        "test": [
                          0.1671811393,
                          0.9152351108,
                          0.04517857143
                        ]
                      },
                      {
                        "learn": [
                          0.03708829365
                        ],
                        "iteration": 46,
                        "passed_time": 1.731278094,
                        "remaining_time": 71.94013016,
                        "test": [
                          0.1667871997,
                          0.9154561506,
                          0.04417857143
                        ]
                      },
                      {
                        "learn": [
                          0.03708829365
                        ],
                        "iteration": 47,
                        "passed_time": 1.754362456,
                        "remaining_time": 71.3440732,
                        "test": [
                          0.1688452091,
                          0.9164254961,
                          0.04517857143
                        ]
                      },
                      {
                        "learn": [
                          0.03721329365
                        ],
                        "iteration": 48,
                        "passed_time": 1.778228916,
                        "remaining_time": 70.80254318,
                        "test": [
                          0.16568473,
                          0.9143125122,
                          0.04317857143
                        ]
                      },
                      {
                        "learn": [
                          0.03721329365
                        ],
                        "iteration": 49,
                        "passed_time": 1.80208601,
                        "remaining_time": 70.28135437,
                        "test": [
                          0.165627924,
                          0.9100975158,
                          0.04417857143
                        ]
                      },
                      {
                        "learn": [
                          0.03708829365
                        ],
                        "iteration": 50,
                        "passed_time": 1.825783454,
                        "remaining_time": 69.7735677,
                        "test": [
                          0.1636229865,
                          0.9097461752,
                          0.04417857143
                        ]
                      },
                      {
                        "learn": [
                          0.03721329365
                        ],
                        "iteration": 51,
                        "passed_time": 1.849915767,
                        "remaining_time": 69.30069064,
                        "test": [
                          0.1624463046,
                          0.9094312235,
                          0.04617857143
                        ]
                      },
                      {
                        "learn": [
                          0.03721329365
                        ],
                        "iteration": 52,
                        "passed_time": 1.935846046,
                        "remaining_time": 71.11494815,
                        "test": [
                          0.1624385897,
                          0.9082211438,
                          0.04617857143
                        ]
                      },
                      {
                        "learn": [
                          0.03708829365
                        ],
                        "iteration": 53,
                        "passed_time": 2.024397512,
                        "remaining_time": 72.95328812,
                        "test": [
                          0.1594593929,
                          0.9062487597,
                          0.04617857143
                        ]
                      },
                      {
                        "learn": [
                          0.03721329365
                        ],
                        "iteration": 54,
                        "passed_time": 2.113313017,
                        "remaining_time": 74.73443306,
                        "test": [
                          0.1585697914,
                          0.906483178,
                          0.04617857143
                        ]
                      },
                      {
                        "learn": [
                          0.03746329365
                        ],
                        "iteration": 55,
                        "passed_time": 2.191909264,
                        "remaining_time": 76.09056446,
                        "test": [
                          0.1598447914,
                          0.9078809826,
                          0.04617857143
                        ]
                      },
                      {
                        "learn": [
                          0.03746329365
                        ],
                        "iteration": 56,
                        "passed_time": 2.287750582,
                        "remaining_time": 77.98419968,
                        "test": [
                          0.1599072289,
                          0.9105770001,
                          0.04717857143
                        ]
                      },
                      {
                        "learn": [
                          0.03746329365
                        ],
                        "iteration": 57,
                        "passed_time": 2.353940493,
                        "remaining_time": 78.81642132,
                        "test": [
                          0.1608528008,
                          0.9110401385,
                          0.04717857143
                        ]
                      },
                      {
                        "learn": [
                          0.03746329365
                        ],
                        "iteration": 58,
                        "passed_time": 2.394772087,
                        "remaining_time": 78.78394272,
                        "test": [
                          0.1595356532,
                          0.9106404707,
                          0.04617857143
                        ]
                      },
                      {
                        "learn": [
                          0.03746329365
                        ],
                        "iteration": 59,
                        "passed_time": 2.41916908,
                        "remaining_time": 78.21980024,
                        "test": [
                          0.1612454241,
                          0.9113085968,
                          0.04617857143
                        ]
                      },
                      {
                        "learn": [
                          0.03746329365
                        ],
                        "iteration": 60,
                        "passed_time": 2.442331237,
                        "remaining_time": 77.63410278,
                        "test": [
                          0.1594589561,
                          0.9100677714,
                          0.04517857143
                        ]
                      },
                      {
                        "learn": [
                          0.03746329365
                        ],
                        "iteration": 61,
                        "passed_time": 2.465458568,
                        "remaining_time": 77.06546298,
                        "test": [
                          0.1605427061,
                          0.9107567623,
                          0.04617857143
                        ]
                      },
                      {
                        "learn": [
                          0.03746329365
                        ],
                        "iteration": 62,
                        "passed_time": 2.48807113,
                        "remaining_time": 76.49831396,
                        "test": [
                          0.1605427061,
                          0.9108570545,
                          0.04717857143
                        ]
                      },
                      {
                        "learn": [
                          0.03746329365
                        ],
                        "iteration": 63,
                        "passed_time": 2.511466908,
                        "remaining_time": 75.97187398,
                        "test": [
                          0.1608576255,
                          0.9108183248,
                          0.04517857143
                        ]
                      },
                      {
                        "learn": [
                          0.03746329365
                        ],
                        "iteration": 64,
                        "passed_time": 2.535176676,
                        "remaining_time": 75.47025952,
                        "test": [
                          0.1636972412,
                          0.9125334639,
                          0.04517857143
                        ]
                      },
                      {
                        "learn": [
                          0.03746329365
                        ],
                        "iteration": 65,
                        "passed_time": 2.562474075,
                        "remaining_time": 75.08825548,
                        "test": [
                          0.1632163755,
                          0.9123353969,
                          0.04517857143
                        ]
                      },
                      {
                        "learn": [
                          0.03746329365
                        ],
                        "iteration": 66,
                        "passed_time": 2.590120517,
                        "remaining_time": 74.72690983,
                        "test": [
                          0.1632163755,
                          0.9123797618,
                          0.04517857143
                        ]
                      },
                      {
                        "learn": [
                          0.03746329365
                        ],
                        "iteration": 67,
                        "passed_time": 2.624297813,
                        "remaining_time": 74.56093197,
                        "test": [
                          0.162295188,
                          0.9121879999,
                          0.04517857143
                        ]
                      },
                      {
                        "learn": [
                          0.03746329365
                        ],
                        "iteration": 68,
                        "passed_time": 2.647405283,
                        "remaining_time": 74.08897972,
                        "test": [
                          0.1633417779,
                          0.9124808994,
                          0.04517857143
                        ]
                      },
                      {
                        "learn": [
                          0.03746329365
                        ],
                        "iteration": 69,
                        "passed_time": 2.67639098,
                        "remaining_time": 73.79192273,
                        "test": [
                          0.1621955904,
                          0.9096094308,
                          0.04517857143
                        ]
                      },
                      {
                        "learn": [
                          0.03746329365
                        ],
                        "iteration": 70,
                        "passed_time": 2.700218582,
                        "remaining_time": 73.36227668,
                        "test": [
                          0.1646728939,
                          0.9133045676,
                          0.04517857143
                        ]
                      },
                      {
                        "learn": [
                          0.03746329365
                        ],
                        "iteration": 71,
                        "passed_time": 2.723941291,
                        "remaining_time": 72.94109456,
                        "test": [
                          0.1623787595,
                          0.9088001148,
                          0.04517857143
                        ]
                      },
                      {
                        "learn": [
                          0.03746329365
                        ],
                        "iteration": 72,
                        "passed_time": 2.746800895,
                        "remaining_time": 72.50801816,
                        "test": [
                          0.164574947,
                          0.9089803582,
                          0.04517857143
                        ]
                      },
                      {
                        "learn": [
                          0.03746329365
                        ],
                        "iteration": 73,
                        "passed_time": 2.77073812,
                        "remaining_time": 72.11407594,
                        "test": [
                          0.1629367689,
                          0.906133396,
                          0.04717857143
                        ]
                      },
                      {
                        "learn": [
                          0.03746329365
                        ],
                        "iteration": 74,
                        "passed_time": 2.797838356,
                        "remaining_time": 71.81118447,
                        "test": [
                          0.1620155814,
                          0.9058646919,
                          0.04717857143
                        ]
                      },
                      {
                        "learn": [
                          0.03746329365
                        ],
                        "iteration": 75,
                        "passed_time": 2.820816845,
                        "remaining_time": 71.41120539,
                        "test": [
                          0.1620155814,
                          0.9048125616,
                          0.04617857143
                        ]
                      },
                      {
                        "learn": [
                          0.03746329365
                        ],
                        "iteration": 76,
                        "passed_time": 2.84413229,
                        "remaining_time": 71.02943367,
                        "test": [
                          0.1648659658,
                          0.9090055382,
                          0.04617857143
                        ]
                      },
                      {
                        "learn": [
                          0.03746329365
                        ],
                        "iteration": 77,
                        "passed_time": 2.867164401,
                        "remaining_time": 70.64987153,
                        "test": [
                          0.1644767525,
                          0.9060066804,
                          0.04717857143
                        ]
                      },
                      {
                        "learn": [
                          0.03746329365
                        ],
                        "iteration": 78,
                        "passed_time": 2.905023556,
                        "remaining_time": 70.6398766,
                        "test": [
                          0.165721123,
                          0.9094038197,
                          0.04617857143
                        ]
                      },
                      {
                        "learn": [
                          0.03746329365
                        ],
                        "iteration": 79,
                        "passed_time": 2.928216644,
                        "remaining_time": 70.27719945,
                        "test": [
                          0.164637373,
                          0.9086954424,
                          0.04617857143
                        ]
                      },
                      {
                        "learn": [
                          0.03746329365
                        ],
                        "iteration": 80,
                        "passed_time": 2.951585002,
                        "remaining_time": 69.92705702,
                        "test": [
                          0.1675765862,
                          0.9125646714,
                          0.04617857143
                        ]
                      },
                      {
                        "learn": [
                          0.03746329365
                        ],
                        "iteration": 81,
                        "passed_time": 2.974448128,
                        "remaining_time": 69.5730672,
                        "test": [
                          0.1710815237,
                          0.917749476,
                          0.04617857143
                        ]
                      },
                      {
                        "learn": [
                          0.03746329365
                        ],
                        "iteration": 82,
                        "passed_time": 2.997443064,
                        "remaining_time": 69.23010065,
                        "test": [
                          0.1679322501,
                          0.9129357907,
                          0.04617857143
                        ]
                      },
                      {
                        "learn": [
                          0.03746329365
                        ],
                        "iteration": 83,
                        "passed_time": 3.020676241,
                        "remaining_time": 68.90018665,
                        "test": [
                          0.1670031116,
                          0.9137526688,
                          0.04617857143
                        ]
                      },
                      {
                        "learn": [
                          0.03746329365
                        ],
                        "iteration": 84,
                        "passed_time": 3.043871421,
                        "remaining_time": 68.5766326,
                        "test": [
                          0.1688038523,
                          0.9168160388,
                          0.04517857143
                        ]
                      },
                      {
                        "learn": [
                          0.03746329365
                        ],
                        "iteration": 85,
                        "passed_time": 3.066795498,
                        "remaining_time": 68.25403003,
                        "test": [
                          0.1693695765,
                          0.9168370917,
                          0.04517857143
                        ]
                      },
                      {
                        "learn": [
                          0.03746329365
                        ],
                        "iteration": 86,
                        "passed_time": 3.089435056,
                        "remaining_time": 67.93206048,
                        "test": [
                          0.1706445765,
                          0.9181463893,
                          0.04517857143
                        ]
                      },
                      {
                        "learn": [
                          0.03746329365
                        ],
                        "iteration": 87,
                        "passed_time": 3.113904944,
                        "remaining_time": 67.65666196,
                        "test": [
                          0.1682858265,
                          0.9165651309,
                          0.04617857143
                        ]
                      },
                      {
                        "learn": [
                          0.03746329365
                        ],
                        "iteration": 88,
                        "passed_time": 3.136972576,
                        "remaining_time": 67.35679318,
                        "test": [
                          0.1678770907,
                          0.9165201683,
                          0.04617857143
                        ]
                      },
                      {
                        "learn": [
                          0.03758829365
                        ],
                        "iteration": 89,
                        "passed_time": 3.160564383,
                        "remaining_time": 67.07419968,
                        "test": [
                          0.1705063984,
                          0.9185929868,
                          0.04717857143
                        ]
                      },
                      {
                        "learn": [
                          0.03758829365
                        ],
                        "iteration": 90,
                        "passed_time": 3.183658812,
                        "remaining_time": 66.78686453,
                        "test": [
                          0.1733681439,
                          0.9204351287,
                          0.04717857143
                        ]
                      },
                      {
                        "learn": [
                          0.03758829365
                        ],
                        "iteration": 91,
                        "passed_time": 3.206848398,
                        "remaining_time": 66.50724722,
                        "test": [
                          0.1719305814,
                          0.9191958671,
                          0.04717857143
                        ]
                      },
                      {
                        "learn": [
                          0.03758829365
                        ],
                        "iteration": 92,
                        "passed_time": 3.229389497,
                        "remaining_time": 66.21984699,
                        "test": [
                          0.1727135908,
                          0.9193217078,
                          0.04617857143
                        ]
                      },
                      {
                        "learn": [
                          0.03746329365
                        ],
                        "iteration": 93,
                        "passed_time": 3.25300339,
                        "remaining_time": 65.9598347,
                        "test": [
                          0.1663562734,
                          0.9146220825,
                          0.04517857143
                        ]
                      },
                      {
                        "learn": [
                          0.03746329365
                        ],
                        "iteration": 94,
                        "passed_time": 3.275735983,
                        "remaining_time": 65.68712682,
                        "test": [
                          0.1650475234,
                          0.9113655255,
                          0.04617857143
                        ]
                      },
                      {
                        "learn": [
                          0.03746329365
                        ],
                        "iteration": 95,
                        "passed_time": 3.298684755,
                        "remaining_time": 65.4239143,
                        "test": [
                          0.1615940186,
                          0.9098504515,
                          0.04617857143
                        ]
                      },
                      {
                        "learn": [
                          0.03746329365
                        ],
                        "iteration": 96,
                        "passed_time": 3.321444549,
                        "remaining_time": 65.16194821,
                        "test": [
                          0.1619207943,
                          0.9099021548,
                          0.04517857143
                        ]
                      },
                      {
                        "learn": [
                          0.03758829365
                        ],
                        "iteration": 97,
                        "passed_time": 3.344630025,
                        "remaining_time": 64.91312558,
                        "test": [
                          0.1580734818,
                          0.9086720231,
                          0.04517857143
                        ]
                      },
                      {
                        "learn": [
                          0.03758829365
                        ],
                        "iteration": 98,
                        "passed_time": 3.366651173,
                        "remaining_time": 64.64650383,
                        "test": [
                          0.1589946693,
                          0.9090796203,
                          0.04617857143
                        ]
                      },
                      {
                        "learn": [
                          0.03758829365
                        ],
                        "iteration": 99,
                        "passed_time": 3.390145566,
                        "remaining_time": 64.41276576,
                        "test": [
                          0.1599158568,
                          0.9095171248,
                          0.04617857143
                        ]
                      },
                      {
                        "learn": [
                          0.03758829365
                        ],
                        "iteration": 100,
                        "passed_time": 3.414593942,
                        "remaining_time": 64.20112768,
                        "test": [
                          0.1661829422,
                          0.912689562,
                          0.04617857143
                        ]
                      },
                      {
                        "learn": [
                          0.03758829365
                        ],
                        "iteration": 101,
                        "passed_time": 3.439691852,
                        "remaining_time": 64.00524643,
                        "test": [
                          0.1639738078,
                          0.9151251174,
                          0.04617857143
                        ]
                      },
                      {
                        "learn": [
                          0.03758829365
                        ],
                        "iteration": 102,
                        "passed_time": 3.462936311,
                        "remaining_time": 63.77854545,
                        "test": [
                          0.1608019676,
                          0.9132657445,
                          0.04617857143
                        ]
                      },
                      {
                        "learn": [
                          0.03758829365
                        ],
                        "iteration": 103,
                        "passed_time": 3.486066285,
                        "remaining_time": 63.55366997,
                        "test": [
                          0.1608019676,
                          0.91388017,
                          0.04617857143
                        ]
                      },
                      {
                        "learn": [
                          0.03758829365
                        ],
                        "iteration": 104,
                        "passed_time": 3.509378662,
                        "remaining_time": 63.33592918,
                        "test": [
                          0.1603211019,
                          0.9139972422,
                          0.04617857143
                        ]
                      },
                      {
                        "learn": [
                          0.03758829365
                        ],
                        "iteration": 105,
                        "passed_time": 3.532746365,
                        "remaining_time": 63.12284543,
                        "test": [
                          0.1617696693,
                          0.9139923244,
                          0.04617857143
                        ]
                      },
                      {
                        "learn": [
                          0.03758829365
                        ],
                        "iteration": 106,
                        "passed_time": 3.560463677,
                        "remaining_time": 62.99025927,
                        "test": [
                          0.1617696693,
                          0.9139188288,
                          0.04517857143
                        ]
                      },
                      {
                        "learn": [
                          0.03758829365
                        ],
                        "iteration": 107,
                        "passed_time": 3.585752857,
                        "remaining_time": 62.81707782,
                        "test": [
                          0.1626359335,
                          0.9151957911,
                          0.04517857143
                        ]
                      },
                      {
                        "learn": [
                          0.03758829365
                        ],
                        "iteration": 108,
                        "passed_time": 3.613522879,
                        "remaining_time": 62.68964922,
                        "test": [
                          0.1606326467,
                          0.9133906208,
                          0.04517857143
                        ]
                      },
                      {
                        "learn": [
                          0.03758829365
                        ],
                        "iteration": 109,
                        "passed_time": 3.646164554,
                        "remaining_time": 62.64773643,
                        "test": [
                          0.1632033085,
                          0.9145421575,
                          0.04517857143
                        ]
                      },
                      {
                        "learn": [
                          0.03758829365
                        ],
                        "iteration": 110,
                        "passed_time": 3.671881433,
                        "remaining_time": 62.48814439,
                        "test": [
                          0.1632033085,
                          0.9145886869,
                          0.04517857143
                        ]
                      },
                      {
                        "learn": [
                          0.03758829365
                        ],
                        "iteration": 111,
                        "passed_time": 3.695832349,
                        "remaining_time": 62.30117388,
                        "test": [
                          0.1621195585,
                          0.9143074456,
                          0.04517857143
                        ]
                      },
                      {
                        "learn": [
                          0.03758829365
                        ],
                        "iteration": 112,
                        "passed_time": 3.718444971,
                        "remaining_time": 62.09474036,
                        "test": [
                          0.1621195585,
                          0.9143074456,
                          0.04517857143
                        ]
                      },
                      {
                        "learn": [
                          0.03758829365
                        ],
                        "iteration": 113,
                        "passed_time": 3.741958737,
                        "remaining_time": 61.90644016,
                        "test": [
                          0.1638688665,
                          0.9148516789,
                          0.04517857143
                        ]
                      },
                      {
                        "learn": [
                          0.03758829365
                        ],
                        "iteration": 114,
                        "passed_time": 3.765347829,
                        "remaining_time": 61.71896225,
                        "test": [
                          0.1638688665,
                          0.9148516789,
                          0.04517857143
                        ]
                      },
                      {
                        "learn": [
                          0.03758829365
                        ],
                        "iteration": 115,
                        "passed_time": 3.78887223,
                        "remaining_time": 61.53651104,
                        "test": [
                          0.1638688665,
                          0.9147631718,
                          0.04517857143
                        ]
                      },
                      {
                        "learn": [
                          0.03758829365
                        ],
                        "iteration": 116,
                        "passed_time": 3.811884975,
                        "remaining_time": 61.34854195,
                        "test": [
                          0.161956996,
                          0.9141068432,
                          0.04517857143
                        ]
                      },
                      {
                        "learn": [
                          0.03758829365
                        ],
                        "iteration": 117,
                        "passed_time": 3.834527169,
                        "remaining_time": 61.15745875,
                        "test": [
                          0.1610358085,
                          0.9138381391,
                          0.04517857143
                        ]
                      },
                      {
                        "learn": [
                          0.03758829365
                        ],
                        "iteration": 118,
                        "passed_time": 3.85811894,
                        "remaining_time": 60.98421618,
                        "test": [
                          0.161956996,
                          0.9141068432,
                          0.04517857143
                        ]
                      },
                      {
                        "learn": [
                          0.03758829365
                        ],
                        "iteration": 119,
                        "passed_time": 3.900784675,
                        "remaining_time": 61.11229325,
                        "test": [
                          0.160114621,
                          0.9128765144,
                          0.04517857143
                        ]
                      },
                      {
                        "learn": [
                          0.03758829365
                        ],
                        "iteration": 120,
                        "passed_time": 3.923314227,
                        "remaining_time": 60.92485482,
                        "test": [
                          0.160114621,
                          0.9126678974,
                          0.04617857143
                        ]
                      },
                      {
                        "learn": [
                          0.03758829365
                        ],
                        "iteration": 121,
                        "passed_time": 3.94583533,
                        "remaining_time": 60.73998975,
                        "test": [
                          0.1626004241,
                          0.9140549214,
                          0.04617857143
                        ]
                      },
                      {
                        "learn": [
                          0.03758829365
                        ],
                        "iteration": 122,
                        "passed_time": 3.968503522,
                        "remaining_time": 60.56000903,
                        "test": [
                          0.1615166741,
                          0.9135413596,
                          0.04617857143
                        ]
                      },
                      {
                        "learn": [
                          0.03758829365
                        ],
                        "iteration": 123,
                        "passed_time": 3.992610153,
                        "remaining_time": 60.4043278,
                        "test": [
                          0.1646695585,
                          0.9160904021,
                          0.04617857143
                        ]
                      },
                      {
                        "learn": [
                          0.03758829365
                        ],
                        "iteration": 124,
                        "passed_time": 4.015462554,
                        "remaining_time": 60.23193832,
                        "test": [
                          0.1661620443,
                          0.9167323626,
                          0.04617857143
                        ]
                      },
                      {
                        "learn": [
                          0.03758829365
                        ],
                        "iteration": 125,
                        "passed_time": 4.040928007,
                        "remaining_time": 60.1007864,
                        "test": [
                          0.1648870443,
                          0.9160134234,
                          0.04617857143
                        ]
                      },
                      {
                        "learn": [
                          0.03758829365
                        ],
                        "iteration": 126,
                        "passed_time": 4.064345875,
                        "remaining_time": 59.94110098,
                        "test": [
                          0.16432132,
                          0.9158086165,
                          0.04617857143
                        ]
                      },
                      {
                        "learn": [
                          0.03758829365
                        ],
                        "iteration": 127,
                        "passed_time": 4.088252929,
                        "remaining_time": 59.79069908,
                        "test": [
                          0.1638404544,
                          0.9150684673,
                          0.04617857143
                        ]
                      },
                      {
                        "learn": [
                          0.03758829365
                        ],
                        "iteration": 128,
                        "passed_time": 4.111540359,
                        "remaining_time": 59.63327141,
                        "test": [
                          0.1632067186,
                          0.9125674107,
                          0.04617857143
                        ]
                      },
                      {
                        "learn": [
                          0.03758829365
                        ],
                        "iteration": 129,
                        "passed_time": 4.13385776,
                        "remaining_time": 59.46395394,
                        "test": [
                          0.1611487092,
                          0.911700731,
                          0.04617857143
                        ]
                      },
                      {
                        "learn": [
                          0.03758829365
                        ],
                        "iteration": 130,
                        "passed_time": 4.157059762,
                        "remaining_time": 59.30950149,
                        "test": [
                          0.164225853,
                          0.9162588061,
                          0.04617857143
                        ]
                      },
                      {
                        "learn": [
                          0.03758829365
                        ],
                        "iteration": 131,
                        "passed_time": 4.179949478,
                        "remaining_time": 59.15261837,
                        "test": [
                          0.1641279061,
                          0.9131105081,
                          0.04617857143
                        ]
                      },
                      {
                        "learn": [
                          0.03758829365
                        ],
                        "iteration": 132,
                        "passed_time": 4.203411568,
                        "remaining_time": 59.00578494,
                        "test": [
                          0.1638273662,
                          0.9122091068,
                          0.04617857143
                        ]
                      },
                      {
                        "learn": [
                          0.03758829365
                        ],
                        "iteration": 133,
                        "passed_time": 4.226056541,
                        "remaining_time": 58.84941422,
                        "test": [
                          0.1658082318,
                          0.9160441581,
                          0.04617857143
                        ]
                      },
                      {
                        "learn": [
                          0.03758829365
                        ],
                        "iteration": 134,
                        "passed_time": 4.249208138,
                        "remaining_time": 58.70202353,
                        "test": [
                          0.1658082318,
                          0.9160738226,
                          0.04617857143
                        ]
                      },
                      {
                        "learn": [
                          0.03758829365
                        ],
                        "iteration": 135,
                        "passed_time": 4.276267591,
                        "remaining_time": 58.61002051,
                        "test": [
                          0.1658082318,
                          0.9160738226,
                          0.04617857143
                        ]
                      },
                      {
                        "learn": [
                          0.03758829365
                        ],
                        "iteration": 136,
                        "passed_time": 4.298964444,
                        "remaining_time": 58.45964057,
                        "test": [
                          0.1648870443,
                          0.9160219672,
                          0.04617857143
                        ]
                      },
                      {
                        "learn": [
                          0.03758829365
                        ],
                        "iteration": 137,
                        "passed_time": 4.3215689,
                        "remaining_time": 58.30986443,
                        "test": [
                          0.1613689713,
                          0.9142891707,
                          0.04517857143
                        ]
                      },
                      {
                        "learn": [
                          0.03758829365
                        ],
                        "iteration": 138,
                        "passed_time": 4.344436618,
                        "remaining_time": 58.16544278,
                        "test": [
                          0.1605062847,
                          0.9152331013,
                          0.04517857143
                        ]
                      },
                      {
                        "learn": [
                          0.03758829365
                        ],
                        "iteration": 139,
                        "passed_time": 4.367502607,
                        "remaining_time": 58.02539178,
                        "test": [
                          0.1605062847,
                          0.9152331013,
                          0.04517857143
                        ]
                      },
                      {
                        "learn": [
                          0.03758829365
                        ],
                        "iteration": 140,
                        "passed_time": 4.390896628,
                        "remaining_time": 57.89132504,
                        "test": [
                          0.1586395253,
                          0.9141093379,
                          0.04517857143
                        ]
                      },
                      {
                        "learn": [
                          0.03758829365
                        ],
                        "iteration": 141,
                        "passed_time": 4.415049431,
                        "remaining_time": 57.76874537,
                        "test": [
                          0.1585700196,
                          0.9143459319,
                          0.04517857143
                        ]
                      },
                      {
                        "learn": [
                          0.03758829365
                        ],
                        "iteration": 142,
                        "passed_time": 4.437747819,
                        "remaining_time": 57.62865525,
                        "test": [
                          0.1591958955,
                          0.9146374836,
                          0.04517857143
                        ]
                      },
                      {
                        "learn": [
                          0.03758829365
                        ],
                        "iteration": 143,
                        "passed_time": 4.460977452,
                        "remaining_time": 57.49704271,
                        "test": [
                          0.1600569314,
                          0.9147153133,
                          0.04517857143
                        ]
                      },
                      {
                        "learn": [
                          0.03758829365
                        ],
                        "iteration": 144,
                        "passed_time": 4.485599902,
                        "remaining_time": 57.38474357,
                        "test": [
                          0.1615054987,
                          0.915909577,
                          0.04517857143
                        ]
                      },
                      {
                        "learn": [
                          0.03758829365
                        ],
                        "iteration": 145,
                        "passed_time": 4.50916644,
                        "remaining_time": 57.26023685,
                        "test": [
                          0.1588460081,
                          0.913818071,
                          0.04517857143
                        ]
                      },
                      {
                        "learn": [
                          0.03758829365
                        ],
                        "iteration": 146,
                        "passed_time": 4.532173314,
                        "remaining_time": 57.13004865,
                        "test": [
                          0.1593268737,
                          0.9140213928,
                          0.04417857143
                        ]
                      },
                      {
                        "learn": [
                          0.03758829365
                        ],
                        "iteration": 147,
                        "passed_time": 4.556890938,
                        "remaining_time": 57.02271633,
                        "test": [
                          0.1593268737,
                          0.9141988721,
                          0.04517857143
                        ]
                      },
                      {
                        "learn": [
                          0.03758829365
                        ],
                        "iteration": 148,
                        "passed_time": 4.579636311,
                        "remaining_time": 56.89199202,
                        "test": [
                          0.1593268737,
                          0.9140213928,
                          0.04417857143
                        ]
                      },
                      {
                        "learn": [
                          0.03758829365
                        ],
                        "iteration": 149,
                        "passed_time": 4.606924117,
                        "remaining_time": 56.81873077,
                        "test": [
                          0.1585438643,
                          0.9136552217,
                          0.04417857143
                        ]
                      },
                      {
                        "learn": [
                          0.03758829365
                        ],
                        "iteration": 150,
                        "passed_time": 4.639618509,
                        "remaining_time": 56.81228227,
                        "test": [
                          0.1585438643,
                          0.913681344,
                          0.04417857143
                        ]
                      },
                      {
                        "learn": [
                          0.03758829365
                        ],
                        "iteration": 151,
                        "passed_time": 4.672348464,
                        "remaining_time": 56.8059208,
                        "test": [
                          0.1585438643,
                          0.913681344,
                          0.04417857143
                        ]
                      },
                      {
                        "learn": [
                          0.03758829365
                        ],
                        "iteration": 152,
                        "passed_time": 4.695146368,
                        "remaining_time": 56.67931596,
                        "test": [
                          0.1586820425,
                          0.9138131253,
                          0.04417857143
                        ]
                      },
                      {
                        "learn": [
                          0.03758829365
                        ],
                        "iteration": 153,
                        "passed_time": 4.718011298,
                        "remaining_time": 56.55486271,
                        "test": [
                          0.1594650518,
                          0.9138764088,
                          0.04417857143
                        ]
                      },
                      {
                        "learn": [
                          0.03758829365
                        ],
                        "iteration": 154,
                        "passed_time": 4.740943758,
                        "remaining_time": 56.43252409,
                        "test": [
                          0.1594650518,
                          0.9138764088,
                          0.04417857143
                        ]
                      },
                      {
                        "learn": [
                          0.03758829365
                        ],
                        "iteration": 155,
                        "passed_time": 4.764180954,
                        "remaining_time": 56.31506205,
                        "test": [
                          0.1579650518,
                          0.9105946608,
                          0.04417857143
                        ]
                      },
                      {
                        "learn": [
                          0.03758829365
                        ],
                        "iteration": 156,
                        "passed_time": 4.786984721,
                        "remaining_time": 56.19371236,
                        "test": [
                          0.1590488018,
                          0.9113442461,
                          0.04417857143
                        ]
                      },
                      {
                        "learn": [
                          0.03758829365
                        ],
                        "iteration": 157,
                        "passed_time": 4.809906192,
                        "remaining_time": 56.07498232,
                        "test": [
                          0.1575488018,
                          0.9073282235,
                          0.04417857143
                        ]
                      },
                      {
                        "learn": [
                          0.03758829365
                        ],
                        "iteration": 158,
                        "passed_time": 4.833161182,
                        "remaining_time": 55.96131909,
                        "test": [
                          0.1581145261,
                          0.9077879791,
                          0.04417857143
                        ]
                      },
                      {
                        "learn": [
                          0.03758829365
                        ],
                        "iteration": 159,
                        "passed_time": 4.856411759,
                        "remaining_time": 55.84873523,
                        "test": [
                          0.1606982761,
                          0.9114874856,
                          0.04417857143
                        ]
                      },
                      {
                        "learn": [
                          0.03758829365
                        ],
                        "iteration": 160,
                        "passed_time": 4.891458203,
                        "remaining_time": 55.87199774,
                        "test": [
                          0.1568750355,
                          0.9072998231,
                          0.04417857143
                        ]
                      },
                      {
                        "learn": [
                          0.03758829365
                        ],
                        "iteration": 161,
                        "passed_time": 4.917226232,
                        "remaining_time": 55.78927046,
                        "test": [
                          0.157796223,
                          0.9078183375,
                          0.04417857143
                        ]
                      },
                      {
                        "learn": [
                          0.03758829365
                        ],
                        "iteration": 162,
                        "passed_time": 4.939878368,
                        "remaining_time": 55.67212615,
                        "test": [
                          0.1587174105,
                          0.9080870416,
                          0.04417857143
                        ]
                      },
                      {
                        "learn": [
                          0.03758829365
                        ],
                        "iteration": 163,
                        "passed_time": 4.962648298,
                        "remaining_time": 55.5574529,
                        "test": [
                          0.1582770886,
                          0.9078175496,
                          0.04417857143
                        ]
                      },
                      {
                        "learn": [
                          0.03758829365
                        ],
                        "iteration": 164,
                        "passed_time": 4.986149432,
                        "remaining_time": 55.4520255,
                        "test": [
                          0.1582770886,
                          0.9078175496,
                          0.04417857143
                        ]
                      },
                      {
                        "learn": [
                          0.03758829365
                        ],
                        "iteration": 165,
                        "passed_time": 5.012764644,
                        "remaining_time": 55.38199011,
                        "test": [
                          0.1582770886,
                          0.9077216724,
                          0.04417857143
                        ]
                      },
                      {
                        "learn": [
                          0.03758829365
                        ],
                        "iteration": 166,
                        "passed_time": 5.035638049,
                        "remaining_time": 55.27140445,
                        "test": [
                          0.1587647864,
                          0.9079410807,
                          0.04417857143
                        ]
                      },
                      {
                        "learn": [
                          0.03758829365
                        ],
                        "iteration": 167,
                        "passed_time": 5.058683096,
                        "remaining_time": 55.16373471,
                        "test": [
                          0.1596859739,
                          0.908325945,
                          0.04417857143
                        ]
                      },
                      {
                        "learn": [
                          0.03758829365
                        ],
                        "iteration": 168,
                        "passed_time": 5.081139962,
                        "remaining_time": 55.0506939,
                        "test": [
                          0.1596859739,
                          0.908325945,
                          0.04417857143
                        ]
                      },
                      {
                        "learn": [
                          0.03758829365
                        ],
                        "iteration": 169,
                        "passed_time": 5.104289618,
                        "remaining_time": 54.94617648,
                        "test": [
                          0.157981777,
                          0.9077973562,
                          0.04417857143
                        ]
                      },
                      {
                        "learn": [
                          0.03758829365
                        ],
                        "iteration": 170,
                        "passed_time": 5.126621302,
                        "remaining_time": 54.83386177,
                        "test": [
                          0.1589029645,
                          0.9080660603,
                          0.04417857143
                        ]
                      },
                      {
                        "learn": [
                          0.03758829365
                        ],
                        "iteration": 171,
                        "passed_time": 5.14948948,
                        "remaining_time": 54.72829517,
                        "test": [
                          0.1559768395,
                          0.9068061346,
                          0.04417857143
                        ]
                      },
                      {
                        "learn": [
                          0.03758829365
                        ],
                        "iteration": 172,
                        "passed_time": 5.172529823,
                        "remaining_time": 54.62550281,
                        "test": [
                          0.156898027,
                          0.9071979668,
                          0.04417857143
                        ]
                      },
                      {
                        "learn": [
                          0.03758829365
                        ],
                        "iteration": 173,
                        "passed_time": 5.19680777,
                        "remaining_time": 54.53661488,
                        "test": [
                          0.1559768395,
                          0.9069292627,
                          0.04417857143
                        ]
                      },
                      {
                        "learn": [
                          0.03758829365
                        ],
                        "iteration": 174,
                        "passed_time": 5.220520169,
                        "remaining_time": 54.44256747,
                        "test": [
                          0.1559768395,
                          0.9071108036,
                          0.04417857143
                        ]
                      },
                      {
                        "learn": [
                          0.03758829365
                        ],
                        "iteration": 175,
                        "passed_time": 5.24687903,
                        "remaining_time": 54.37674631,
                        "test": [
                          0.1560044526,
                          0.9075828916,
                          0.04417857143
                        ]
                      },
                      {
                        "learn": [
                          0.03758829365
                        ],
                        "iteration": 176,
                        "passed_time": 5.271523181,
                        "remaining_time": 54.2937105,
                        "test": [
                          0.1564688301,
                          0.9074569888,
                          0.04417857143
                        ]
                      },
                      {
                        "learn": [
                          0.03758829365
                        ],
                        "iteration": 177,
                        "passed_time": 5.294437703,
                        "remaining_time": 54.19362637,
                        "test": [
                          0.1564688301,
                          0.9074569888,
                          0.04417857143
                        ]
                      },
                      {
                        "learn": [
                          0.03758829365
                        ],
                        "iteration": 178,
                        "passed_time": 5.31695427,
                        "remaining_time": 54.09035601,
                        "test": [
                          0.1559879645,
                          0.9072521212,
                          0.04417857143
                        ]
                      },
                      {
                        "learn": [
                          0.03758829365
                        ],
                        "iteration": 179,
                        "passed_time": 5.339693333,
                        "remaining_time": 53.99023259,
                        "test": [
                          0.1567709739,
                          0.9077642329,
                          0.04417857143
                        ]
                      },
                      {
                        "learn": [
                          0.03758829365
                        ],
                        "iteration": 180,
                        "passed_time": 5.365428468,
                        "remaining_time": 53.92107394,
                        "test": [
                          0.1545215138,
                          0.9061135918,
                          0.04417857143
                        ]
                      },
                      {
                        "learn": [
                          0.03758829365
                        ],
                        "iteration": 181,
                        "passed_time": 5.390045604,
                        "remaining_time": 53.84122477,
                        "test": [
                          0.1521627638,
                          0.9041180413,
                          0.04417857143
                        ]
                      },
                      {
                        "learn": [
                          0.03758829365
                        ],
                        "iteration": 182,
                        "passed_time": 5.413157897,
                        "remaining_time": 53.7470377,
                        "test": [
                          0.1529457732,
                          0.9043059441,
                          0.04417857143
                        ]
                      },
                      {
                        "learn": [
                          0.03758829365
                        ],
                        "iteration": 183,
                        "passed_time": 5.435640555,
                        "remaining_time": 53.64740896,
                        "test": [
                          0.1521174821,
                          0.9038938777,
                          0.04317857143
                        ]
                      },
                      {
                        "learn": [
                          0.03758829365
                        ],
                        "iteration": 184,
                        "passed_time": 5.457766807,
                        "remaining_time": 53.54511759,
                        "test": [
                          0.1533924821,
                          0.9052031752,
                          0.04317857143
                        ]
                      },
                      {
                        "learn": [
                          0.03758829365
                        ],
                        "iteration": 185,
                        "passed_time": 5.481415536,
                        "remaining_time": 53.45853647,
                        "test": [
                          0.1509035035,
                          0.9036229857,
                          0.04417857143
                        ]
                      },
                      {
                        "learn": [
                          0.03758829365
                        ],
                        "iteration": 186,
                        "passed_time": 5.504457652,
                        "remaining_time": 53.36674719,
                        "test": [
                          0.1509035035,
                          0.9036229857,
                          0.04417857143
                        ]
                      },
                      {
                        "learn": [
                          0.03758829365
                        ],
                        "iteration": 187,
                        "passed_time": 5.52747384,
                        "remaining_time": 53.27543935,
                        "test": [
                          0.1509035035,
                          0.9043570456,
                          0.04417857143
                        ]
                      },
                      {
                        "learn": [
                          0.03758829365
                        ],
                        "iteration": 188,
                        "passed_time": 5.553065969,
                        "remaining_time": 53.20953688,
                        "test": [
                          0.1509035035,
                          0.904293158,
                          0.04417857143
                        ]
                      },
                      {
                        "learn": [
                          0.03758829365
                        ],
                        "iteration": 189,
                        "passed_time": 5.576910192,
                        "remaining_time": 53.12740762,
                        "test": [
                          0.1514772656,
                          0.9042941445,
                          0.04317857143
                        ]
                      },
                      {
                        "learn": [
                          0.03758829365
                        ],
                        "iteration": 190,
                        "passed_time": 5.600052152,
                        "remaining_time": 53.0392374,
                        "test": [
                          0.1520757058,
                          0.9036837432,
                          0.04517857143
                        ]
                      },
                      {
                        "learn": [
                          0.03758829365
                        ],
                        "iteration": 191,
                        "passed_time": 5.622872994,
                        "remaining_time": 52.9487207,
                        "test": [
                          0.1520757058,
                          0.9036442294,
                          0.04417857143
                        ]
                      },
                      {
                        "learn": [
                          0.03758829365
                        ],
                        "iteration": 192,
                        "passed_time": 5.646420621,
                        "remaining_time": 52.86571017,
                        "test": [
                          0.1520757058,
                          0.9036181071,
                          0.04417857143
                        ]
                      },
                      {
                        "learn": [
                          0.03758829365
                        ],
                        "iteration": 193,
                        "passed_time": 5.687553896,
                        "remaining_time": 52.94702235,
                        "test": [
                          0.151824691,
                          0.9041566464,
                          0.04417857143
                        ]
                      },
                      {
                        "learn": [
                          0.03758829365
                        ],
                        "iteration": 194,
                        "passed_time": 5.71053153,
                        "remaining_time": 52.85902262,
                        "test": [
                          0.1509035035,
                          0.9038962722,
                          0.04417857143
                        ]
                      },
                      {
                        "learn": [
                          0.03758829365
                        ],
                        "iteration": 195,
                        "passed_time": 5.732963288,
                        "remaining_time": 52.7666621,
                        "test": [
                          0.1509035035,
                          0.9038962722,
                          0.04417857143
                        ]
                      },
                      {
                        "learn": [
                          0.03758829365
                        ],
                        "iteration": 196,
                        "passed_time": 5.756147209,
                        "remaining_time": 52.68189552,
                        "test": [
                          0.1520499271,
                          0.9038417559,
                          0.04417857143
                        ]
                      },
                      {
                        "learn": [
                          0.03758829365
                        ],
                        "iteration": 197,
                        "passed_time": 5.779134641,
                        "remaining_time": 52.59596275,
                        "test": [
                          0.1506013597,
                          0.9028017078,
                          0.04417857143
                        ]
                      },
                      {
                        "learn": [
                          0.03758829365
                        ],
                        "iteration": 198,
                        "passed_time": 5.804067495,
                        "remaining_time": 52.52826914,
                        "test": [
                          0.1502539343,
                          0.9033349393,
                          0.04317857143
                        ]
                      },
                      {
                        "learn": [
                          0.03758829365
                        ],
                        "iteration": 199,
                        "passed_time": 5.831772006,
                        "remaining_time": 52.48594805,
                        "test": [
                          0.1502539343,
                          0.9033349393,
                          0.04317857143
                        ]
                      },
                      {
                        "learn": [
                          0.03758829365
                        ],
                        "iteration": 200,
                        "passed_time": 5.854583456,
                        "remaining_time": 52.39997829,
                        "test": [
                          0.1499586227,
                          0.9032815661,
                          0.04317857143
                        ]
                      },
                      {
                        "learn": [
                          0.03758829365
                        ],
                        "iteration": 201,
                        "passed_time": 5.878922027,
                        "remaining_time": 52.32822675,
                        "test": [
                          0.1499586227,
                          0.9039491142,
                          0.04317857143
                        ]
                      },
                      {
                        "learn": [
                          0.03758829365
                        ],
                        "iteration": 202,
                        "passed_time": 5.931021418,
                        "remaining_time": 52.50268713,
                        "test": [
                          0.1499586227,
                          0.9039491142,
                          0.04317857143
                        ]
                      },
                      {
                        "learn": [
                          0.03758829365
                        ],
                        "iteration": 203,
                        "passed_time": 5.954001446,
                        "remaining_time": 52.41856175,
                        "test": [
                          0.1507416321,
                          0.9028657575,
                          0.04417857143
                        ]
                      },
                      {
                        "learn": [
                          0.03758829365
                        ],
                        "iteration": 204,
                        "passed_time": 5.977316866,
                        "remaining_time": 52.33796963,
                        "test": [
                          0.1492930647,
                          0.9036981513,
                          0.04417857143
                        ]
                      },
                      {
                        "learn": [
                          0.03758829365
                        ],
                        "iteration": 205,
                        "passed_time": 5.999738621,
                        "remaining_time": 52.2501509,
                        "test": [
                          0.15399094,
                          0.9085707115,
                          0.04417857143
                        ]
                      },
                      {
                        "learn": [
                          0.03758829365
                        ],
                        "iteration": 206,
                        "passed_time": 6.022516354,
                        "remaining_time": 52.16604746,
                        "test": [
                          0.1552074392,
                          0.9081340287,
                          0.04417857143
                        ]
                      },
                      {
                        "learn": [
                          0.03758829365
                        ],
                        "iteration": 207,
                        "passed_time": 6.046372941,
                        "remaining_time": 52.09182841,
                        "test": [
                          0.157579579,
                          0.9108654564,
                          0.04417857143
                        ]
                      },
                      {
                        "learn": [
                          0.03758829365
                        ],
                        "iteration": 208,
                        "passed_time": 6.068773636,
                        "remaining_time": 52.00561523,
                        "test": [
                          0.1578305938,
                          0.9109413426,
                          0.04417857143
                        ]
                      },
                      {
                        "learn": [
                          0.03758829365
                        ],
                        "iteration": 209,
                        "passed_time": 6.092312348,
                        "remaining_time": 51.92971001,
                        "test": [
                          0.1564217086,
                          0.9114622411,
                          0.04417857143
                        ]
                      },
                      {
                        "learn": [
                          0.03758829365
                        ],
                        "iteration": 210,
                        "passed_time": 6.115366362,
                        "remaining_time": 51.85019157,
                        "test": [
                          0.1573428961,
                          0.9119004786,
                          0.04417857143
                        ]
                      },
                      {
                        "learn": [
                          0.03758829365
                        ],
                        "iteration": 211,
                        "passed_time": 6.138290266,
                        "remaining_time": 51.77010847,
                        "test": [
                          0.1600600763,
                          0.9123935046,
                          0.04517857143
                        ]
                      },
                      {
                        "learn": [
                          0.03758829365
                        ],
                        "iteration": 212,
                        "passed_time": 6.160837138,
                        "remaining_time": 51.6873989,
                        "test": [
                          0.1600600763,
                          0.9123935046,
                          0.04517857143
                        ]
                      },
                      {
                        "learn": [
                          0.03758829365
                        ],
                        "iteration": 213,
                        "passed_time": 6.182935682,
                        "remaining_time": 51.60150994,
                        "test": [
                          0.1591388888,
                          0.9122224254,
                          0.04517857143
                        ]
                      },
                      {
                        "learn": [
                          0.03758829365
                        ],
                        "iteration": 214,
                        "passed_time": 6.206800509,
                        "remaining_time": 51.53087865,
                        "test": [
                          0.1582177013,
                          0.9117841879,
                          0.04517857143
                        ]
                      },
                      {
                        "learn": [
                          0.03758829365
                        ],
                        "iteration": 215,
                        "passed_time": 6.2297378,
                        "remaining_time": 51.4530196,
                        "test": [
                          0.1569427013,
                          0.9105844503,
                          0.04517857143
                        ]
                      },
                      {
                        "learn": [
                          0.03758829365
                        ],
                        "iteration": 216,
                        "passed_time": 6.252562623,
                        "remaining_time": 51.37474266,
                        "test": [
                          0.1562771433,
                          0.91033464,
                          0.04517857143
                        ]
                      },
                      {
                        "learn": [
                          0.03758829365
                        ],
                        "iteration": 217,
                        "passed_time": 6.276566238,
                        "remaining_time": 51.30661026,
                        "test": [
                          0.1569427013,
                          0.910331077,
                          0.04517857143
                        ]
                      },
                      {
                        "learn": [
                          0.03758829365
                        ],
                        "iteration": 218,
                        "passed_time": 6.302126303,
                        "remaining_time": 51.25153857,
                        "test": [
                          0.1566916864,
                          0.9102110487,
                          0.04517857143
                        ]
                      },
                      {
                        "learn": [
                          0.03758829365
                        ],
                        "iteration": 219,
                        "passed_time": 6.328162947,
                        "remaining_time": 51.20059112,
                        "test": [
                          0.1559136133,
                          0.9095475794,
                          0.04417857143
                        ]
                      },
                      {
                        "learn": [
                          0.03758829365
                        ],
                        "iteration": 220,
                        "passed_time": 6.351344946,
                        "remaining_time": 51.12688986,
                        "test": [
                          0.1588928102,
                          0.9114147489,
                          0.04417857143
                        ]
                      },
                      {
                        "learn": [
                          0.03758829365
                        ],
                        "iteration": 221,
                        "passed_time": 6.374481922,
                        "remaining_time": 51.05328314,
                        "test": [
                          0.1588928102,
                          0.9114147489,
                          0.04417857143
                        ]
                      },
                      {
                        "learn": [
                          0.03758829365
                        ],
                        "iteration": 222,
                        "passed_time": 6.400328982,
                        "remaining_time": 51.00172467,
                        "test": [
                          0.1596241985,
                          0.9119358168,
                          0.04317857143
                        ]
                      },
                      {
                        "learn": [
                          0.03758829365
                        ],
                        "iteration": 223,
                        "passed_time": 6.426530819,
                        "remaining_time": 50.95320864,
                        "test": [
                          0.1581358359,
                          0.9105130748,
                          0.04317857143
                        ]
                      },
                      {
                        "learn": [
                          0.03758829365
                        ],
                        "iteration": 224,
                        "passed_time": 6.449948753,
                        "remaining_time": 50.88292905,
                        "test": [
                          0.157917537,
                          0.910435966,
                          0.04517857143
                        ]
                      },
                      {
                        "learn": [
                          0.03758829365
                        ],
                        "iteration": 225,
                        "passed_time": 6.474333484,
                        "remaining_time": 50.8206531,
                        "test": [
                          0.1583491985,
                          0.9107087986,
                          0.04417857143
                        ]
                      },
                      {
                        "learn": [
                          0.03758829365
                        ],
                        "iteration": 226,
                        "passed_time": 6.497488809,
                        "remaining_time": 50.74910862,
                        "test": [
                          0.1576836406,
                          0.9105685482,
                          0.04417857143
                        ]
                      },
                      {
                        "learn": [
                          0.03758829365
                        ],
                        "iteration": 227,
                        "passed_time": 6.520445646,
                        "remaining_time": 50.67644598,
                        "test": [
                          0.1585423906,
                          0.9088803777,
                          0.04417857143
                        ]
                      },
                      {
                        "learn": [
                          0.03758829365
                        ],
                        "iteration": 228,
                        "passed_time": 6.546598953,
                        "remaining_time": 50.62893775,
                        "test": [
                          0.1591435035,
                          0.9114177526,
                          0.04517857143
                        ]
                      },
                      {
                        "learn": [
                          0.03758829365
                        ],
                        "iteration": 229,
                        "passed_time": 6.569537431,
                        "remaining_time": 50.55687501,
                        "test": [
                          0.1591435035,
                          0.9114177526,
                          0.04517857143
                        ]
                      },
                      {
                        "learn": [
                          0.03758829365
                        ],
                        "iteration": 230,
                        "passed_time": 6.592884999,
                        "remaining_time": 50.4883704,
                        "test": [
                          0.1591435035,
                          0.9115185001,
                          0.04517857143
                        ]
                      },
                      {
                        "learn": [
                          0.03758829365
                        ],
                        "iteration": 231,
                        "passed_time": 6.616008245,
                        "remaining_time": 50.41854559,
                        "test": [
                          0.158222316,
                          0.9110802626,
                          0.04517857143
                        ]
                      },
                      {
                        "learn": [
                          0.03758829365
                        ],
                        "iteration": 232,
                        "passed_time": 6.639223204,
                        "remaining_time": 50.34981718,
                        "test": [
                          0.1578748906,
                          0.9110182005,
                          0.04417857143
                        ]
                      },
                      {
                        "learn": [
                          0.03758829365
                        ],
                        "iteration": 233,
                        "passed_time": 6.664582393,
                        "remaining_time": 50.29766028,
                        "test": [
                          0.1577704422,
                          0.9108345338,
                          0.04417857143
                        ]
                      },
                      {
                        "learn": [
                          0.03758829365
                        ],
                        "iteration": 234,
                        "passed_time": 6.703940408,
                        "remaining_time": 50.35087158,
                        "test": [
                          0.1572047179,
                          0.910683945,
                          0.04417857143
                        ]
                      },
                      {
                        "learn": [
                          0.03758829365
                        ],
                        "iteration": 235,
                        "passed_time": 6.726876435,
                        "remaining_time": 50.28055098,
                        "test": [
                          0.1581259054,
                          0.9111221825,
                          0.04417857143
                        ]
                      },
                      {
                        "learn": [
                          0.03758829365
                        ],
                        "iteration": 236,
                        "passed_time": 6.749806261,
                        "remaining_time": 50.21058413,
                        "test": [
                          0.1576450398,
                          0.9110336755,
                          0.04417857143
                        ]
                      },
                      {
                        "learn": [
                          0.03758829365
                        ],
                        "iteration": 237,
                        "passed_time": 6.772728344,
                        "remaining_time": 50.14095522,
                        "test": [
                          0.1578748906,
                          0.910979983,
                          0.04417857143
                        ]
                      },
                      {
                        "learn": [
                          0.03758829365
                        ],
                        "iteration": 238,
                        "passed_time": 6.795972521,
                        "remaining_time": 50.07409042,
                        "test": [
                          0.1576615279,
                          0.9108720391,
                          0.04417857143
                        ]
                      },
                      {
                        "learn": [
                          0.03758829365
                        ],
                        "iteration": 239,
                        "passed_time": 6.818901289,
                        "remaining_time": 50.00527612,
                        "test": [
                          0.1573091663,
                          0.9108012985,
                          0.04417857143
                        ]
                      },
                      {
                        "learn": [
                          0.03758829365
                        ],
                        "iteration": 240,
                        "passed_time": 6.842402727,
                        "remaining_time": 49.94102239,
                        "test": [
                          0.1570958037,
                          0.9103756419,
                          0.04417857143
                        ]
                      },
                      {
                        "learn": [
                          0.03758829365
                        ],
                        "iteration": 241,
                        "passed_time": 6.865940687,
                        "remaining_time": 49.87737078,
                        "test": [
                          0.1574432291,
                          0.9108262272,
                          0.04517857143
                        ]
                      },
                      {
                        "learn": [
                          0.03758829365
                        ],
                        "iteration": 242,
                        "passed_time": 6.888548755,
                        "remaining_time": 49.80732577,
                        "test": [
                          0.1574432291,
                          0.9108627587,
                          0.04517857143
                        ]
                      },
                      {
                        "learn": [
                          0.03758829365
                        ],
                        "iteration": 243,
                        "passed_time": 6.935402358,
                        "remaining_time": 49.91215796,
                        "test": [
                          0.1563815917,
                          0.9100903502,
                          0.04517857143
                        ]
                      },
                      {
                        "learn": [
                          0.03758829365
                        ],
                        "iteration": 244,
                        "passed_time": 6.958457867,
                        "remaining_time": 49.84527982,
                        "test": [
                          0.1563815917,
                          0.9102553285,
                          0.04517857143
                        ]
                      },
                      {
                        "learn": [
                          0.03758829365
                        ],
                        "iteration": 245,
                        "passed_time": 6.983593759,
                        "remaining_time": 49.79359127,
                        "test": [
                          0.156947316,
                          0.9103522759,
                          0.04517857143
                        ]
                      },
                      {
                        "learn": [
                          0.03758829365
                        ],
                        "iteration": 246,
                        "passed_time": 7.006564606,
                        "remaining_time": 49.72675204,
                        "test": [
                          0.156947316,
                          0.9103522759,
                          0.04517857143
                        ]
                      },
                      {
                        "learn": [
                          0.03758829365
                        ],
                        "iteration": 247,
                        "passed_time": 7.031652807,
                        "remaining_time": 49.67522467,
                        "test": [
                          0.156947316,
                          0.9100002496,
                          0.04517857143
                        ]
                      },
                      {
                        "learn": [
                          0.03758829365
                        ],
                        "iteration": 248,
                        "passed_time": 7.054903371,
                        "remaining_time": 49.61098716,
                        "test": [
                          0.156947316,
                          0.9098102072,
                          0.04517857143
                        ]
                      },
                      {
                        "learn": [
                          0.03758829365
                        ],
                        "iteration": 249,
                        "passed_time": 7.078398261,
                        "remaining_time": 49.54878783,
                        "test": [
                          0.156947316,
                          0.9097303478,
                          0.04517857143
                        ]
                      },
                      {
                        "learn": [
                          0.03758829365
                        ],
                        "iteration": 250,
                        "passed_time": 7.101555017,
                        "remaining_time": 49.48454074,
                        "test": [
                          0.1563815917,
                          0.909840452,
                          0.04517857143
                        ]
                      },
                      {
                        "learn": [
                          0.03758829365
                        ],
                        "iteration": 251,
                        "passed_time": 7.124056997,
                        "remaining_time": 49.4160779,
                        "test": [
                          0.1563815917,
                          0.909840452,
                          0.04517857143
                        ]
                      },
                      {
                        "learn": [
                          0.03758829365
                        ],
                        "iteration": 252,
                        "passed_time": 7.147328969,
                        "remaining_time": 49.35329529,
                        "test": [
                          0.1563815917,
                          0.9103020382,
                          0.04517857143
                        ]
                      },
                      {
                        "learn": [
                          0.03758829365
                        ],
                        "iteration": 253,
                        "passed_time": 7.179267941,
                        "remaining_time": 49.35040089,
                        "test": [
                          0.1563815917,
                          0.9101924782,
                          0.04517857143
                        ]
                      },
                      {
                        "learn": [
                          0.03758829365
                        ],
                        "iteration": 254,
                        "passed_time": 7.202936644,
                        "remaining_time": 49.29068409,
                        "test": [
                          0.1567354042,
                          0.9101243705,
                          0.04517857143
                        ]
                      },
                      {
                        "learn": [
                          0.03758829365
                        ],
                        "iteration": 255,
                        "passed_time": 7.22675973,
                        "remaining_time": 49.23230066,
                        "test": [
                          0.1567354042,
                          0.9100047361,
                          0.04517857143
                        ]
                      },
                      {
                        "learn": [
                          0.03758829365
                        ],
                        "iteration": 256,
                        "passed_time": 7.249923512,
                        "remaining_time": 49.16971472,
                        "test": [
                          0.1567354042,
                          0.9100047361,
                          0.04517857143
                        ]
                      },
                      {
                        "learn": [
                          0.03758829365
                        ],
                        "iteration": 257,
                        "passed_time": 7.274740511,
                        "remaining_time": 49.11859678,
                        "test": [
                          0.1554604042,
                          0.9089375525,
                          0.04517857143
                        ]
                      },
                      {
                        "learn": [
                          0.03758829365
                        ],
                        "iteration": 258,
                        "passed_time": 7.301966911,
                        "remaining_time": 49.08387796,
                        "test": [
                          0.1557114191,
                          0.9090134387,
                          0.04517857143
                        ]
                      },
                      {
                        "learn": [
                          0.03758829365
                        ],
                        "iteration": 259,
                        "passed_time": 7.325136791,
                        "remaining_time": 49.02206929,
                        "test": [
                          0.1557114191,
                          0.9085069332,
                          0.04517857143
                        ]
                      },
                      {
                        "learn": [
                          0.03758829365
                        ],
                        "iteration": 260,
                        "passed_time": 7.347417127,
                        "remaining_time": 48.95462982,
                        "test": [
                          0.1554604042,
                          0.9084775765,
                          0.04517857143
                        ]
                      },
                      {
                        "learn": [
                          0.03758829365
                        ],
                        "iteration": 261,
                        "passed_time": 7.369806862,
                        "remaining_time": 48.88826078,
                        "test": [
                          0.1552470416,
                          0.9090267267,
                          0.04517857143
                        ]
                      },
                      {
                        "learn": [
                          0.03758829365
                        ],
                        "iteration": 262,
                        "passed_time": 7.394087145,
                        "remaining_time": 48.83471244,
                        "test": [
                          0.1552470416,
                          0.9090267267,
                          0.04517857143
                        ]
                      },
                      {
                        "learn": [
                          0.03758829365
                        ],
                        "iteration": 263,
                        "passed_time": 7.417730907,
                        "remaining_time": 48.7772002,
                        "test": [
                          0.1552470416,
                          0.9090267267,
                          0.04517857143
                        ]
                      },
                      {
                        "learn": [
                          0.03758829365
                        ],
                        "iteration": 264,
                        "passed_time": 7.441370245,
                        "remaining_time": 48.71991462,
                        "test": [
                          0.1565220416,
                          0.9098295188,
                          0.04517857143
                        ]
                      },
                      {
                        "learn": [
                          0.03758829365
                        ],
                        "iteration": 265,
                        "passed_time": 7.464742896,
                        "remaining_time": 48.66114354,
                        "test": [
                          0.1565220416,
                          0.9098295188,
                          0.04517857143
                        ]
                      },
                      {
                        "learn": [
                          0.03758829365
                        ],
                        "iteration": 266,
                        "passed_time": 7.48838165,
                        "remaining_time": 48.60436479,
                        "test": [
                          0.1552470416,
                          0.9085202213,
                          0.04517857143
                        ]
                      },
                      {
                        "learn": [
                          0.03758829365
                        ],
                        "iteration": 267,
                        "passed_time": 7.511115364,
                        "remaining_time": 48.54198437,
                        "test": [
                          0.1552470416,
                          0.9085202213,
                          0.04517857143
                        ]
                      },
                      {
                        "learn": [
                          0.03758829365
                        ],
                        "iteration": 268,
                        "passed_time": 7.534939951,
                        "remaining_time": 48.48691842,
                        "test": [
                          0.1561682291,
                          0.9089584588,
                          0.04517857143
                        ]
                      },
                      {
                        "learn": [
                          0.03758829365
                        ],
                        "iteration": 269,
                        "passed_time": 7.560292878,
                        "remaining_time": 48.44187659,
                        "test": [
                          0.1561682291,
                          0.9090987092,
                          0.04517857143
                        ]
                      },
                      {
                        "learn": [
                          0.03758829365
                        ],
                        "iteration": 270,
                        "passed_time": 7.584386087,
                        "remaining_time": 48.38894297,
                        "test": [
                          0.1567339533,
                          0.9096333239,
                          0.04517857143
                        ]
                      },
                      {
                        "learn": [
                          0.03758829365
                        ],
                        "iteration": 271,
                        "passed_time": 7.607876205,
                        "remaining_time": 48.33239001,
                        "test": [
                          0.1567339533,
                          0.9090680187,
                          0.04517857143
                        ]
                      },
                      {
                        "learn": [
                          0.03758829365
                        ],
                        "iteration": 272,
                        "passed_time": 7.631015742,
                        "remaining_time": 48.27386149,
                        "test": [
                          0.155950944,
                          0.9087615625,
                          0.04517857143
                        ]
                      },
                      {
                        "learn": [
                          0.03758829365
                        ],
                        "iteration": 273,
                        "passed_time": 7.663061976,
                        "remaining_time": 48.27169697,
                        "test": [
                          0.1566165019,
                          0.9089248848,
                          0.04517857143
                        ]
                      },
                      {
                        "learn": [
                          0.03758829365
                        ],
                        "iteration": 274,
                        "passed_time": 7.687162275,
                        "remaining_time": 48.21947246,
                        "test": [
                          0.155950944,
                          0.9095867716,
                          0.04517857143
                        ]
                      },
                      {
                        "learn": [
                          0.03758829365
                        ],
                        "iteration": 275,
                        "passed_time": 7.725436497,
                        "remaining_time": 48.25598739,
                        "test": [
                          0.156833787,
                          0.9095933652,
                          0.04517857143
                        ]
                      },
                      {
                        "learn": [
                          0.03758829365
                        ],
                        "iteration": 276,
                        "passed_time": 7.74884737,
                        "remaining_time": 48.19950909,
                        "test": [
                          0.1573995113,
                          0.909721812,
                          0.04517857143
                        ]
                      },
                      {
                        "learn": [
                          0.03758829365
                        ],
                        "iteration": 277,
                        "passed_time": 7.772560796,
                        "remaining_time": 48.14514277,
                        "test": [
                          0.1563082471,
                          0.9063202339,
                          0.04517857143
                        ]
                      },
                      {
                        "learn": [
                          0.03758829365
                        ],
                        "iteration": 278,
                        "passed_time": 7.795016461,
                        "remaining_time": 48.08323774,
                        "test": [
                          0.1552244971,
                          0.9056269995,
                          0.04517857143
                        ]
                      },
                      {
                        "learn": [
                          0.03758829365
                        ],
                        "iteration": 279,
                        "passed_time": 7.81978214,
                        "remaining_time": 48.03580458,
                        "test": [
                          0.1561587728,
                          0.9093177019,
                          0.04517857143
                        ]
                      },
                      {
                        "learn": [
                          0.03758829365
                        ],
                        "iteration": 280,
                        "passed_time": 7.842550869,
                        "remaining_time": 47.97631653,
                        "test": [
                          0.1561587728,
                          0.9093177019,
                          0.04517857143
                        ]
                      },
                      {
                        "learn": [
                          0.03758829365
                        ],
                        "iteration": 281,
                        "passed_time": 7.865670527,
                        "remaining_time": 47.91922683,
                        "test": [
                          0.1563721355,
                          0.9089595623,
                          0.04517857143
                        ]
                      },
                      {
                        "learn": [
                          0.03758829365
                        ],
                        "iteration": 282,
                        "passed_time": 7.88994831,
                        "remaining_time": 47.8694037,
                        "test": [
                          0.1561587728,
                          0.9090022071,
                          0.04517857143
                        ]
                      },
                      {
                        "learn": [
                          0.03758829365
                        ],
                        "iteration": 283,
                        "passed_time": 7.920565491,
                        "remaining_time": 47.85806473,
                        "test": [
                          0.1563721355,
                          0.9090224126,
                          0.04517857143
                        ]
                      },
                      {
                        "learn": [
                          0.03758829365
                        ],
                        "iteration": 284,
                        "passed_time": 7.960006397,
                        "remaining_time": 47.89968762,
                        "test": [
                          0.1567244971,
                          0.9089774992,
                          0.04517857143
                        ]
                      },
                      {
                        "learn": [
                          0.03758829365
                        ],
                        "iteration": 285,
                        "passed_time": 7.982835283,
                        "remaining_time": 47.84118767,
                        "test": [
                          0.1567244971,
                          0.9089774992,
                          0.04517857143
                        ]
                      },
                      {
                        "learn": [
                          0.03758829365
                        ],
                        "iteration": 286,
                        "passed_time": 8.005880999,
                        "remaining_time": 47.78423049,
                        "test": [
                          0.1563721355,
                          0.9095127484,
                          0.04517857143
                        ]
                      },
                      {
                        "learn": [
                          0.03758829365
                        ],
                        "iteration": 287,
                        "passed_time": 8.028737729,
                        "remaining_time": 47.72638539,
                        "test": [
                          0.1569378597,
                          0.9095392054,
                          0.04517857143
                        ]
                      },
                      {
                        "learn": [
                          0.03758829365
                        ],
                        "iteration": 288,
                        "passed_time": 8.056210508,
                        "remaining_time": 47.69611135,
                        "test": [
                          0.1569378597,
                          0.9095392054,
                          0.04517857143
                        ]
                      },
                      {
                        "learn": [
                          0.03758829365
                        ],
                        "iteration": 289,
                        "passed_time": 8.079274326,
                        "remaining_time": 47.63985895,
                        "test": [
                          0.1571004222,
                          0.9097074702,
                          0.04517857143
                        ]
                      },
                      {
                        "learn": [
                          0.03758829365
                        ],
                        "iteration": 290,
                        "passed_time": 8.102140608,
                        "remaining_time": 47.58267457,
                        "test": [
                          0.1581841722,
                          0.9104007046,
                          0.04517857143
                        ]
                      },
                      {
                        "learn": [
                          0.03758829365
                        ],
                        "iteration": 291,
                        "passed_time": 8.124918306,
                        "remaining_time": 47.52520707,
                        "test": [
                          0.1583223504,
                          0.9101966085,
                          0.04517857143
                        ]
                      },
                      {
                        "learn": [
                          0.03758829365
                        ],
                        "iteration": 292,
                        "passed_time": 8.147512273,
                        "remaining_time": 47.46690598,
                        "test": [
                          0.1589879083,
                          0.9103368589,
                          0.04517857143
                        ]
                      },
                      {
                        "learn": [
                          0.03758829365
                        ],
                        "iteration": 293,
                        "passed_time": 8.170421482,
                        "remaining_time": 47.41067704,
                        "test": [
                          0.1577129083,
                          0.9095340668,
                          0.04517857143
                        ]
                      },
                      {
                        "learn": [
                          0.03758829365
                        ],
                        "iteration": 294,
                        "passed_time": 8.194276738,
                        "remaining_time": 47.36014182,
                        "test": [
                          0.1570473504,
                          0.9095544796,
                          0.04517857143
                        ]
                      },
                      {
                        "learn": [
                          0.03758829365
                        ],
                        "iteration": 295,
                        "passed_time": 8.217510888,
                        "remaining_time": 47.30621133,
                        "test": [
                          0.1584959177,
                          0.9100011862,
                          0.04517857143
                        ]
                      },
                      {
                        "learn": [
                          0.03758829365
                        ],
                        "iteration": 296,
                        "passed_time": 8.240920458,
                        "remaining_time": 47.2534934,
                        "test": [
                          0.1604879083,
                          0.9141882246,
                          0.04517857143
                        ]
                      },
                      {
                        "learn": [
                          0.03758829365
                        ],
                        "iteration": 297,
                        "passed_time": 8.26675851,
                        "remaining_time": 47.21484223,
                        "test": [
                          0.1612709177,
                          0.9138082313,
                          0.04517857143
                        ]
                      },
                      {
                        "learn": [
                          0.03758829365
                        ],
                        "iteration": 298,
                        "passed_time": 8.290835179,
                        "remaining_time": 47.16625632,
                        "test": [
                          0.1599959177,
                          0.9135360118,
                          0.04517857143
                        ]
                      },
                      {
                        "learn": [
                          0.03758829365
                        ],
                        "iteration": 299,
                        "passed_time": 8.314125259,
                        "remaining_time": 47.11337647,
                        "test": [
                          0.1612709177,
                          0.915270364,
                          0.04517857143
                        ]
                      },
                      {
                        "learn": [
                          0.03758829365
                        ],
                        "iteration": 300,
                        "passed_time": 8.337632471,
                        "remaining_time": 47.06191883,
                        "test": [
                          0.1588919971,
                          0.9107507613,
                          0.04517857143
                        ]
                      },
                      {
                        "learn": [
                          0.03758829365
                        ],
                        "iteration": 301,
                        "passed_time": 8.360681213,
                        "remaining_time": 47.00806854,
                        "test": [
                          0.1593839877,
                          0.9112936266,
                          0.04517857143
                        ]
                      },
                      {
                        "learn": [
                          0.03758829365
                        ],
                        "iteration": 302,
                        "passed_time": 8.385169247,
                        "remaining_time": 46.96248255,
                        "test": [
                          0.1576797909,
                          0.9105489329,
                          0.04517857143
                        ]
                      },
                      {
                        "learn": [
                          0.03758829365
                        ],
                        "iteration": 303,
                        "passed_time": 8.408393126,
                        "remaining_time": 46.9099827,
                        "test": [
                          0.1576797909,
                          0.9105024035,
                          0.04517857143
                        ]
                      },
                      {
                        "learn": [
                          0.03758829365
                        ],
                        "iteration": 304,
                        "passed_time": 8.431665876,
                        "remaining_time": 46.85794643,
                        "test": [
                          0.1564485086,
                          0.9099909305,
                          0.04517857143
                        ]
                      },
                      {
                        "learn": [
                          0.03758829365
                        ],
                        "iteration": 305,
                        "passed_time": 8.458496015,
                        "remaining_time": 46.82579166,
                        "test": [
                          0.1557829506,
                          0.9098313166,
                          0.04517857143
                        ]
                      },
                      {
                        "learn": [
                          0.03758829365
                        ],
                        "iteration": 306,
                        "passed_time": 8.482442595,
                        "remaining_time": 46.77776975,
                        "test": [
                          0.1571140666,
                          0.9102887936,
                          0.04517857143
                        ]
                      },
                      {
                        "learn": [
                          0.03758829365
                        ],
                        "iteration": 307,
                        "passed_time": 8.505508296,
                        "remaining_time": 46.72506505,
                        "test": [
                          0.1574050853,
                          0.9099586635,
                          0.04517857143
                        ]
                      },
                      {
                        "learn": [
                          0.03758829365
                        ],
                        "iteration": 308,
                        "passed_time": 8.528965653,
                        "remaining_time": 46.67469553,
                        "test": [
                          0.1580540644,
                          0.9103816354,
                          0.04517857143
                        ]
                      },
                      {
                        "learn": [
                          0.03758829365
                        ],
                        "iteration": 309,
                        "passed_time": 8.553485396,
                        "remaining_time": 46.63029135,
                        "test": [
                          0.1580540644,
                          0.9103816354,
                          0.04517857143
                        ]
                      },
                      {
                        "learn": [
                          0.03758829365
                        ],
                        "iteration": 310,
                        "passed_time": 8.576485578,
                        "remaining_time": 46.57776251,
                        "test": [
                          0.1562133402,
                          0.9094692833,
                          0.04517857143
                        ]
                      },
                      {
                        "learn": [
                          0.03758829365
                        ],
                        "iteration": 311,
                        "passed_time": 8.599377038,
                        "remaining_time": 46.52483474,
                        "test": [
                          0.1567790644,
                          0.9096253727,
                          0.04517857143
                        ]
                      },
                      {
                        "learn": [
                          0.03758829365
                        ],
                        "iteration": 312,
                        "passed_time": 8.622689148,
                        "remaining_time": 46.47436611,
                        "test": [
                          0.1567790644,
                          0.9096253727,
                          0.04517857143
                        ]
                      },
                      {
                        "learn": [
                          0.03758829365
                        ],
                        "iteration": 313,
                        "passed_time": 8.647919995,
                        "remaining_time": 46.43437297,
                        "test": [
                          0.1580540644,
                          0.9109977007,
                          0.04517857143
                        ]
                      },
                      {
                        "learn": [
                          0.03758829365
                        ],
                        "iteration": 314,
                        "passed_time": 8.674011326,
                        "remaining_time": 46.39907646,
                        "test": [
                          0.1579979485,
                          0.9113430158,
                          0.04517857143
                        ]
                      },
                      {
                        "learn": [
                          0.03758829365
                        ],
                        "iteration": 315,
                        "passed_time": 8.697440563,
                        "remaining_time": 46.34965161,
                        "test": [
                          0.1586635065,
                          0.9117585341,
                          0.04517857143
                        ]
                      },
                      {
                        "learn": [
                          0.03758829365
                        ],
                        "iteration": 316,
                        "passed_time": 8.730962884,
                        "remaining_time": 46.35397645,
                        "test": [
                          0.1586635065,
                          0.9117120047,
                          0.04517857143
                        ]
                      },
                      {
                        "learn": [
                          0.03758829365
                        ],
                        "iteration": 317,
                        "passed_time": 8.758337538,
                        "remaining_time": 46.32554635,
                        "test": [
                          0.1586635065,
                          0.9117120047,
                          0.04517857143
                        ]
                      },
                      {
                        "learn": [
                          0.03758829365
                        ],
                        "iteration": 318,
                        "passed_time": 8.784533603,
                        "remaining_time": 46.29091218,
                        "test": [
                          0.1586635065,
                          0.9117120047,
                          0.04517857143
                        ]
                      },
                      {
                        "learn": [
                          0.03758829365
                        ],
                        "iteration": 319,
                        "passed_time": 8.809637167,
                        "remaining_time": 46.25059513,
                        "test": [
                          0.1586635065,
                          0.9117587143,
                          0.04517857143
                        ]
                      },
                      {
                        "learn": [
                          0.03758829365
                        ],
                        "iteration": 320,
                        "passed_time": 8.834898607,
                        "remaining_time": 46.21119863,
                        "test": [
                          0.158316081,
                          0.9116499427,
                          0.04417857143
                        ]
                      },
                      {
                        "learn": [
                          0.03758829365
                        ],
                        "iteration": 321,
                        "passed_time": 8.860447319,
                        "remaining_time": 46.17338696,
                        "test": [
                          0.1593290644,
                          0.9119407432,
                          0.04517857143
                        ]
                      },
                      {
                        "learn": [
                          0.03758829365
                        ],
                        "iteration": 322,
                        "passed_time": 8.883018205,
                        "remaining_time": 46.12019049,
                        "test": [
                          0.1593290644,
                          0.9119874529,
                          0.04517857143
                        ]
                      },
                      {
                        "learn": [
                          0.03758829365
                        ],
                        "iteration": 323,
                        "passed_time": 8.905773039,
                        "remaining_time": 46.06813461,
                        "test": [
                          0.1586635065,
                          0.9117120047,
                          0.04517857143
                        ]
                      },
                      {
                        "learn": [
                          0.03758829365
                        ],
                        "iteration": 324,
                        "passed_time": 8.952611382,
                        "remaining_time": 46.14038174,
                        "test": [
                          0.1593290644,
                          0.9118211088,
                          0.04517857143
                        ]
                      },
                      {
                        "learn": [
                          0.03758829365
                        ],
                        "iteration": 325,
                        "passed_time": 8.98205417,
                        "remaining_time": 46.12257264,
                        "test": [
                          0.1593290644,
                          0.9119874529,
                          0.04517857143
                        ]
                      },
                      {
                        "learn": [
                          0.03758829365
                        ],
                        "iteration": 326,
                        "passed_time": 9.00587345,
                        "remaining_time": 46.07592135,
                        "test": [
                          0.1593290644,
                          0.911946424,
                          0.04517857143
                        ]
                      },
                      {
                        "learn": [
                          0.03758829365
                        ],
                        "iteration": 327,
                        "passed_time": 9.028635599,
                        "remaining_time": 46.02402049,
                        "test": [
                          0.1593290644,
                          0.911946424,
                          0.04517857143
                        ]
                      },
                      {
                        "learn": [
                          0.03758829365
                        ],
                        "iteration": 328,
                        "passed_time": 9.051740431,
                        "remaining_time": 45.97403727,
                        "test": [
                          0.1593290644,
                          0.911946424,
                          0.04517857143
                        ]
                      },
                      {
                        "learn": [
                          0.03758829365
                        ],
                        "iteration": 329,
                        "passed_time": 9.075493731,
                        "remaining_time": 45.92749858,
                        "test": [
                          0.1599946224,
                          0.9120438504,
                          0.04517857143
                        ]
                      },
                      {
                        "learn": [
                          0.03758829365
                        ],
                        "iteration": 330,
                        "passed_time": 9.099395965,
                        "remaining_time": 45.88184854,
                        "test": [
                          0.1599946224,
                          0.9120028216,
                          0.04517857143
                        ]
                      },
                      {
                        "learn": [
                          0.03758829365
                        ],
                        "iteration": 331,
                        "passed_time": 9.121669266,
                        "remaining_time": 45.82814559,
                        "test": [
                          0.1599946224,
                          0.9120028216,
                          0.04517857143
                        ]
                      },
                      {
                        "learn": [
                          0.03758829365
                        ],
                        "iteration": 332,
                        "passed_time": 9.144932591,
                        "remaining_time": 45.77958748,
                        "test": [
                          0.1607776318,
                          0.9122745772,
                          0.04517857143
                        ]
                      },
                      {
                        "learn": [
                          0.03758829365
                        ],
                        "iteration": 333,
                        "passed_time": 9.167813443,
                        "remaining_time": 45.72927304,
                        "test": [
                          0.1607776318,
                          0.9122745772,
                          0.04517857143
                        ]
                      },
                      {
                        "learn": [
                          0.03758829365
                        ],
                        "iteration": 334,
                        "passed_time": 9.191073854,
                        "remaining_time": 45.68100886,
                        "test": [
                          0.1607776318,
                          0.9122745772,
                          0.04517857143
                        ]
                      },
                      {
                        "learn": [
                          0.03758829365
                        ],
                        "iteration": 335,
                        "passed_time": 9.213580438,
                        "remaining_time": 45.62916026,
                        "test": [
                          0.1607776318,
                          0.9122745772,
                          0.04517857143
                        ]
                      },
                      {
                        "learn": [
                          0.03758829365
                        ],
                        "iteration": 336,
                        "passed_time": 9.235564409,
                        "remaining_time": 45.57490686,
                        "test": [
                          0.1609909944,
                          0.9122576394,
                          0.04517857143
                        ]
                      },
                      {
                        "learn": [
                          0.03758829365
                        ],
                        "iteration": 337,
                        "passed_time": 9.260461584,
                        "remaining_time": 45.53516909,
                        "test": [
                          0.1607776318,
                          0.9123819193,
                          0.04517857143
                        ]
                      },
                      {
                        "learn": [
                          0.03758829365
                        ],
                        "iteration": 338,
                        "passed_time": 9.282978689,
                        "remaining_time": 45.48385724,
                        "test": [
                          0.1607776318,
                          0.9123819193,
                          0.04517857143
                        ]
                      },
                      {
                        "learn": [
                          0.03758829365
                        ],
                        "iteration": 339,
                        "passed_time": 9.308270797,
                        "remaining_time": 45.4462633,
                        "test": [
                          0.1607776318,
                          0.9122745772,
                          0.04517857143
                        ]
                      },
                      {
                        "learn": [
                          0.03758829365
                        ],
                        "iteration": 340,
                        "passed_time": 9.330781824,
                        "remaining_time": 45.39521128,
                        "test": [
                          0.1607776318,
                          0.9122967191,
                          0.04517857143
                        ]
                      },
                      {
                        "learn": [
                          0.03758829365
                        ],
                        "iteration": 341,
                        "passed_time": 9.353731309,
                        "remaining_time": 45.34645179,
                        "test": [
                          0.1611863676,
                          0.9123700832,
                          0.04517857143
                        ]
                      },
                      {
                        "learn": [
                          0.03758829365
                        ],
                        "iteration": 342,
                        "passed_time": 9.378528998,
                        "remaining_time": 45.30677128,
                        "test": [
                          0.1583453488,
                          0.911091819,
                          0.04517857143
                        ]
                      },
                      {
                        "learn": [
                          0.03758829365
                        ],
                        "iteration": 343,
                        "passed_time": 9.401719275,
                        "remaining_time": 45.2594393,
                        "test": [
                          0.1594389906,
                          0.9116758936,
                          0.04517857143
                        ]
                      },
                      {
                        "learn": [
                          0.03758829365
                        ],
                        "iteration": 344,
                        "passed_time": 9.424213969,
                        "remaining_time": 45.20891049,
                        "test": [
                          0.1594389906,
                          0.9116758936,
                          0.04517857143
                        ]
                      },
                      {
                        "learn": [
                          0.03758829365
                        ],
                        "iteration": 345,
                        "passed_time": 9.447625803,
                        "remaining_time": 45.16292797,
                        "test": [
                          0.1589547909,
                          0.9116059569,
                          0.04517857143
                        ]
                      },
                      {
                        "learn": [
                          0.03758829365
                        ],
                        "iteration": 346,
                        "passed_time": 9.470796235,
                        "remaining_time": 45.11592558,
                        "test": [
                          0.1587734326,
                          0.9115441589,
                          0.04517857143
                        ]
                      },
                      {
                        "learn": [
                          0.03758829365
                        ],
                        "iteration": 347,
                        "passed_time": 9.493333274,
                        "remaining_time": 45.06605336,
                        "test": [
                          0.1576896826,
                          0.911273534,
                          0.04517857143
                        ]
                      },
                      {
                        "learn": [
                          0.03758829365
                        ],
                        "iteration": 348,
                        "passed_time": 9.51588722,
                        "remaining_time": 45.01641777,
                        "test": [
                          0.1576896826,
                          0.9113830939,
                          0.04517857143
                        ]
                      },
                      {
                        "learn": [
                          0.03758829365
                        ],
                        "iteration": 349,
                        "passed_time": 9.541391755,
                        "remaining_time": 44.98084685,
                        "test": [
                          0.1574984326,
                          0.9108509267,
                          0.04517857143
                        ]
                      },
                      {
                        "learn": [
                          0.03758829365
                        ],
                        "iteration": 350,
                        "passed_time": 9.56431763,
                        "remaining_time": 44.93321872,
                        "test": [
                          0.1590644514,
                          0.9115237548,
                          0.04517857143
                        ]
                      },
                      {
                        "learn": [
                          0.03758829365
                        ],
                        "iteration": 351,
                        "passed_time": 9.587911955,
                        "remaining_time": 44.88886052,
                        "test": [
                          0.1570595139,
                          0.9109844258,
                          0.04517857143
                        ]
                      },
                      {
                        "learn": [
                          0.03758829365
                        ],
                        "iteration": 352,
                        "passed_time": 9.626214974,
                        "remaining_time": 44.91324663,
                        "test": [
                          0.1564937896,
                          0.9109459916,
                          0.04517857143
                        ]
                      },
                      {
                        "learn": [
                          0.03758829365
                        ],
                        "iteration": 353,
                        "passed_time": 9.666161699,
                        "remaining_time": 44.94492135,
                        "test": [
                          0.1564937896,
                          0.9109459916,
                          0.04517857143
                        ]
                      },
                      {
                        "learn": [
                          0.03758829365
                        ],
                        "iteration": 354,
                        "passed_time": 9.719328833,
                        "remaining_time": 45.03745332,
                        "test": [
                          0.1552299146,
                          0.9104951866,
                          0.04517857143
                        ]
                      },
                      {
                        "learn": [
                          0.03758829365
                        ],
                        "iteration": 355,
                        "passed_time": 9.766515869,
                        "remaining_time": 45.10155081,
                        "test": [
                          0.1552299146,
                          0.9102146858,
                          0.04517857143
                        ]
                      },
                      {
                        "learn": [
                          0.03758829365
                        ],
                        "iteration": 356,
                        "passed_time": 9.819654649,
                        "remaining_time": 45.19241622,
                        "test": [
                          0.156012924,
                          0.910521142,
                          0.04517857143
                        ]
                      },
                      {
                        "learn": [
                          0.03758829365
                        ],
                        "iteration": 357,
                        "passed_time": 9.865839715,
                        "remaining_time": 45.25058327,
                        "test": [
                          0.156012924,
                          0.910521142,
                          0.04517857143
                        ]
                      },
                      {
                        "learn": [
                          0.03758829365
                        ],
                        "iteration": 358,
                        "passed_time": 9.916729114,
                        "remaining_time": 45.32967263,
                        "test": [
                          0.1556041882,
                          0.9102919304,
                          0.04517857143
                        ]
                      },
                      {
                        "learn": [
                          0.03758829365
                        ],
                        "iteration": 359,
                        "passed_time": 10.00698598,
                        "remaining_time": 45.58738056,
                        "test": [
                          0.1557855464,
                          0.910304801,
                          0.04517857143
                        ]
                      },
                      {
                        "learn": [
                          0.03758829365
                        ],
                        "iteration": 360,
                        "passed_time": 10.06063585,
                        "remaining_time": 45.67695887,
                        "test": [
                          0.1557855464,
                          0.910304801,
                          0.04517857143
                        ]
                      },
                      {
                        "learn": [
                          0.03758829365
                        ],
                        "iteration": 361,
                        "passed_time": 10.11365681,
                        "remaining_time": 45.76290015,
                        "test": [
                          0.1557855464,
                          0.9103515106,
                          0.04517857143
                        ]
                      },
                      {
                        "learn": [
                          0.03758829365
                        ],
                        "iteration": 362,
                        "passed_time": 10.16212876,
                        "remaining_time": 45.82756138,
                        "test": [
                          0.1557855464,
                          0.9103515106,
                          0.04517857143
                        ]
                      },
                      {
                        "learn": [
                          0.03758829365
                        ],
                        "iteration": 363,
                        "passed_time": 10.2149482,
                        "remaining_time": 45.91114083,
                        "test": [
                          0.1557855464,
                          0.910491761,
                          0.04517857143
                        ]
                      },
                      {
                        "learn": [
                          0.03758829365
                        ],
                        "iteration": 364,
                        "passed_time": 10.26973412,
                        "remaining_time": 46.00278159,
                        "test": [
                          0.1568692964,
                          0.9108701061,
                          0.04517857143
                        ]
                      },
                      {
                        "learn": [
                          0.03758829365
                        ],
                        "iteration": 365,
                        "passed_time": 10.32341328,
                        "remaining_time": 46.08868116,
                        "test": [
                          0.1562996497,
                          0.9106772747,
                          0.04517857143
                        ]
                      },
                      {
                        "learn": [
                          0.03758829365
                        ],
                        "iteration": 366,
                        "passed_time": 10.37639009,
                        "remaining_time": 46.17069487,
                        "test": [
                          0.1555166403,
                          0.9103708185,
                          0.04517857143
                        ]
                      },
                      {
                        "learn": [
                          0.03758829365
                        ],
                        "iteration": 367,
                        "passed_time": 10.43330676,
                        "remaining_time": 46.26944739,
                        "test": [
                          0.1555166403,
                          0.9103708185,
                          0.04517857143
                        ]
                      },
                      {
                        "learn": [
                          0.03758829365
                        ],
                        "iteration": 368,
                        "passed_time": 10.4850044,
                        "remaining_time": 46.34428772,
                        "test": [
                          0.1565782777,
                          0.9111066955,
                          0.04517857143
                        ]
                      },
                      {
                        "learn": [
                          0.03758829365
                        ],
                        "iteration": 369,
                        "passed_time": 10.54351883,
                        "remaining_time": 46.44847484,
                        "test": [
                          0.1567916403,
                          0.9110851035,
                          0.04517857143
                        ]
                      },
                      {
                        "learn": [
                          0.03758829365
                        ],
                        "iteration": 370,
                        "passed_time": 10.58992184,
                        "remaining_time": 46.4986056,
                        "test": [
                          0.1565782777,
                          0.9109714788,
                          0.04517857143
                        ]
                      },
                      {
                        "learn": [
                          0.03758829365
                        ],
                        "iteration": 371,
                        "passed_time": 10.64281625,
                        "remaining_time": 46.57662594,
                        "test": [
                          0.1567916403,
                          0.9111269009,
                          0.04517857143
                        ]
                      },
                      {
                        "learn": [
                          0.03758829365
                        ],
                        "iteration": 372,
                        "passed_time": 10.68754131,
                        "remaining_time": 46.61831022,
                        "test": [
                          0.1572003761,
                          0.9110177952,
                          0.04517857143
                        ]
                      },
                      {
                        "learn": [
                          0.03758829365
                        ],
                        "iteration": 373,
                        "passed_time": 10.72792167,
                        "remaining_time": 46.64064341,
                        "test": [
                          0.1569870134,
                          0.9109508801,
                          0.04517857143
                        ]
                      },
                      {
                        "learn": [
                          0.03758829365
                        ],
                        "iteration": 374,
                        "passed_time": 10.78378176,
                        "remaining_time": 46.72972097,
                        "test": [
                          0.1572003761,
                          0.9110177952,
                          0.04517857143
                        ]
                      },
                      {
                        "learn": [
                          0.03758829365
                        ],
                        "iteration": 375,
                        "passed_time": 10.84220747,
                        "remaining_time": 46.82910888,
                        "test": [
                          0.1572003761,
                          0.9110177952,
                          0.04517857143
                        ]
                      },
                      {
                        "learn": [
                          0.03758829365
                        ],
                        "iteration": 376,
                        "passed_time": 10.89395802,
                        "remaining_time": 46.89892273,
                        "test": [
                          0.1572003761,
                          0.9110645048,
                          0.04517857143
                        ]
                      },
                      {
                        "learn": [
                          0.03758829365
                        ],
                        "iteration": 377,
                        "passed_time": 10.94693467,
                        "remaining_time": 46.9733546,
                        "test": [
                          0.1572003761,
                          0.9110177952,
                          0.04517857143
                        ]
                      },
                      {
                        "learn": [
                          0.03758829365
                        ],
                        "iteration": 378,
                        "passed_time": 11.0128687,
                        "remaining_time": 47.1025334,
                        "test": [
                          0.1572003761,
                          0.9110177952,
                          0.04517857143
                        ]
                      },
                      {
                        "learn": [
                          0.03758829365
                        ],
                        "iteration": 379,
                        "passed_time": 11.07709898,
                        "remaining_time": 47.22342199,
                        "test": [
                          0.1569870134,
                          0.9109508801,
                          0.04517857143
                        ]
                      },
                      {
                        "learn": [
                          0.03758829365
                        ],
                        "iteration": 380,
                        "passed_time": 11.1256021,
                        "remaining_time": 47.27650865,
                        "test": [
                          0.1579833855,
                          0.9113242514,
                          0.04517857143
                        ]
                      },
                      {
                        "learn": [
                          0.03758829365
                        ],
                        "iteration": 381,
                        "passed_time": 11.17688929,
                        "remaining_time": 47.34085569,
                        "test": [
                          0.1587663948,
                          0.9117239466,
                          0.04517857143
                        ]
                      },
                      {
                        "learn": [
                          0.03758829365
                        ],
                        "iteration": 382,
                        "passed_time": 11.2381011,
                        "remaining_time": 47.44649993,
                        "test": [
                          0.1587663948,
                          0.911677237,
                          0.04517857143
                        ]
                      },
                      {
                        "learn": [
                          0.03758829365
                        ],
                        "iteration": 383,
                        "passed_time": 11.29153386,
                        "remaining_time": 47.51853834,
                        "test": [
                          0.1590174097,
                          0.9118935538,
                          0.04517857143
                        ]
                      },
                      {
                        "learn": [
                          0.03758829365
                        ],
                        "iteration": 384,
                        "passed_time": 11.33787098,
                        "remaining_time": 47.56016007,
                        "test": [
                          0.1587663948,
                          0.9118176676,
                          0.04517857143
                        ]
                      },
                      {
                        "learn": [
                          0.03758829365
                        ],
                        "iteration": 385,
                        "passed_time": 11.39081798,
                        "remaining_time": 47.62896428,
                        "test": [
                          0.1590174097,
                          0.9119400832,
                          0.04517857143
                        ]
                      },
                      {
                        "learn": [
                          0.03758829365
                        ],
                        "iteration": 386,
                        "passed_time": 11.43661866,
                        "remaining_time": 47.66735374,
                        "test": [
                          0.1590174097,
                          0.9119400832,
                          0.04517857143
                        ]
                      },
                      {
                        "learn": [
                          0.03758829365
                        ],
                        "iteration": 387,
                        "passed_time": 11.49621493,
                        "remaining_time": 47.76262493,
                        "test": [
                          0.1593127213,
                          0.9119804215,
                          0.04517857143
                        ]
                      },
                      {
                        "learn": [
                          0.03758829365
                        ],
                        "iteration": 388,
                        "passed_time": 11.55190274,
                        "remaining_time": 47.84091341,
                        "test": [
                          0.1587663948,
                          0.9118174874,
                          0.04517857143
                        ]
                      },
                      {
                        "learn": [
                          0.03758829365
                        ],
                        "iteration": 389,
                        "passed_time": 11.58529293,
                        "remaining_time": 47.8264657,
                        "test": [
                          0.1587663948,
                          0.9118174874,
                          0.04517857143
                        ]
                      },
                      {
                        "learn": [
                          0.03758829365
                        ],
                        "iteration": 390,
                        "passed_time": 11.62123028,
                        "remaining_time": 47.82240288,
                        "test": [
                          0.1574913948,
                          0.9105081898,
                          0.04517857143
                        ]
                      },
                      {
                        "learn": [
                          0.03758829365
                        ],
                        "iteration": 391,
                        "passed_time": 11.67857427,
                        "remaining_time": 47.90598834,
                        "test": [
                          0.1574913948,
                          0.9105081898,
                          0.04517857143
                        ]
                      },
                      {
                        "learn": [
                          0.03758829365
                        ],
                        "iteration": 392,
                        "passed_time": 11.71040491,
                        "remaining_time": 47.884531,
                        "test": [
                          0.1574913948,
                          0.9105081898,
                          0.04517857143
                        ]
                      },
                      {
                        "learn": [
                          0.03758829365
                        ],
                        "iteration": 393,
                        "passed_time": 11.75465148,
                        "remaining_time": 47.91363014,
                        "test": [
                          0.1574913948,
                          0.9105548995,
                          0.04517857143
                        ]
                      },
                      {
                        "learn": [
                          0.03758829365
                        ],
                        "iteration": 394,
                        "passed_time": 11.81075456,
                        "remaining_time": 47.99053434,
                        "test": [
                          0.1574913948,
                          0.9105548995,
                          0.04517857143
                        ]
                      },
                      {
                        "learn": [
                          0.03758829365
                        ],
                        "iteration": 395,
                        "passed_time": 11.86609331,
                        "remaining_time": 48.06367087,
                        "test": [
                          0.1574913948,
                          0.9105548995,
                          0.04517857143
                        ]
                      },
                      {
                        "learn": [
                          0.03758829365
                        ],
                        "iteration": 396,
                        "passed_time": 11.9064806,
                        "remaining_time": 48.07578944,
                        "test": [
                          0.1574913948,
                          0.9105548995,
                          0.04517857143
                        ]
                      },
                      {
                        "learn": [
                          0.03758829365
                        ],
                        "iteration": 397,
                        "passed_time": 11.95703475,
                        "remaining_time": 48.12856701,
                        "test": [
                          0.1574913948,
                          0.9105548995,
                          0.04517857143
                        ]
                      },
                      {
                        "learn": [
                          0.03758829365
                        ],
                        "iteration": 398,
                        "passed_time": 12.01283809,
                        "remaining_time": 48.20188917,
                        "test": [
                          0.1565506645,
                          0.9102931848,
                          0.04517857143
                        ]
                      },
                      {
                        "learn": [
                          0.03758829365
                        ],
                        "iteration": 399,
                        "passed_time": 12.09226771,
                        "remaining_time": 48.36907083,
                        "test": [
                          0.1562996497,
                          0.9103268586,
                          0.04517857143
                        ]
                      },
                      {
                        "learn": [
                          0.03758829365
                        ],
                        "iteration": 400,
                        "passed_time": 12.15180842,
                        "remaining_time": 48.45571489,
                        "test": [
                          0.1568459761,
                          0.9104430831,
                          0.04517857143
                        ]
                      },
                      {
                        "learn": [
                          0.03758829365
                        ],
                        "iteration": 401,
                        "passed_time": 12.19322577,
                        "remaining_time": 48.46958901,
                        "test": [
                          0.1568459761,
                          0.9104430831,
                          0.04517857143
                        ]
                      },
                      {
                        "learn": [
                          0.03758829365
                        ],
                        "iteration": 402,
                        "passed_time": 12.21608322,
                        "remaining_time": 48.40963996,
                        "test": [
                          0.156589154,
                          0.9103339962,
                          0.04517857143
                        ]
                      },
                      {
                        "learn": [
                          0.03758829365
                        ],
                        "iteration": 403,
                        "passed_time": 12.24106073,
                        "remaining_time": 48.35824983,
                        "test": [
                          0.1570700196,
                          0.910478345,
                          0.04517857143
                        ]
                      },
                      {
                        "learn": [
                          0.03758829365
                        ],
                        "iteration": 404,
                        "passed_time": 12.26532512,
                        "remaining_time": 48.30418165,
                        "test": [
                          0.1570700196,
                          0.910478345,
                          0.04517857143
                        ]
                      },
                      {
                        "learn": [
                          0.03758829365
                        ],
                        "iteration": 405,
                        "passed_time": 12.28827567,
                        "remaining_time": 48.24510202,
                        "test": [
                          0.1570700196,
                          0.9103687851,
                          0.04517857143
                        ]
                      },
                      {
                        "learn": [
                          0.03758829365
                        ],
                        "iteration": 406,
                        "passed_time": 12.31121989,
                        "remaining_time": 48.18617514,
                        "test": [
                          0.1570700196,
                          0.9102285347,
                          0.04517857143
                        ]
                      },
                      {
                        "learn": [
                          0.03758829365
                        ],
                        "iteration": 407,
                        "passed_time": 12.33443731,
                        "remaining_time": 48.12849067,
                        "test": [
                          0.1566612838,
                          0.9099571036,
                          0.04517857143
                        ]
                      },
                      {
                        "learn": [
                          0.03758829365
                        ],
                        "iteration": 408,
                        "passed_time": 12.35829998,
                        "remaining_time": 48.07348475,
                        "test": [
                          0.1566612838,
                          0.9099571036,
                          0.04517857143
                        ]
                      },
                      {
                        "learn": [
                          0.03758829365
                        ],
                        "iteration": 409,
                        "passed_time": 12.38181811,
                        "remaining_time": 48.01729464,
                        "test": [
                          0.1566612838,
                          0.9101551706,
                          0.04517857143
                        ]
                      },
                      {
                        "learn": [
                          0.03758829365
                        ],
                        "iteration": 410,
                        "passed_time": 12.40513777,
                        "remaining_time": 47.96049613,
                        "test": [
                          0.1576409722,
                          0.9108709148,
                          0.04517857143
                        ]
                      },
                      {
                        "learn": [
                          0.03758829365
                        ],
                        "iteration": 411,
                        "passed_time": 12.42780774,
                        "remaining_time": 47.90135604,
                        "test": [
                          0.1566612838,
                          0.9101551706,
                          0.04517857143
                        ]
                      },
                      {
                        "learn": [
                          0.03758829365
                        ],
                        "iteration": 412,
                        "passed_time": 12.45087618,
                        "remaining_time": 47.84392374,
                        "test": [
                          0.1597770081,
                          0.9124459448,
                          0.04517857143
                        ]
                      },
                      {
                        "learn": [
                          0.03758829365
                        ],
                        "iteration": 413,
                        "passed_time": 12.47428615,
                        "remaining_time": 47.78796579,
                        "test": [
                          0.1572270081,
                          0.9103338552,
                          0.04517857143
                        ]
                      },
                      {
                        "learn": [
                          0.03758829365
                        ],
                        "iteration": 414,
                        "passed_time": 12.4973695,
                        "remaining_time": 47.73091724,
                        "test": [
                          0.1569316965,
                          0.9101372473,
                          0.04517857143
                        ]
                      },
                      {
                        "learn": [
                          0.03758829365
                        ],
                        "iteration": 415,
                        "passed_time": 12.52057991,
                        "remaining_time": 47.67451582,
                        "test": [
                          0.159017319,
                          0.9121065357,
                          0.04517857143
                        ]
                      },
                      {
                        "learn": [
                          0.03758829365
                        ],
                        "iteration": 416,
                        "passed_time": 12.54504038,
                        "remaining_time": 47.623019,
                        "test": [
                          0.159017319,
                          0.9119446645,
                          0.04517857143
                        ]
                      },
                      {
                        "learn": [
                          0.03758829365
                        ],
                        "iteration": 417,
                        "passed_time": 12.56808331,
                        "remaining_time": 47.56628661,
                        "test": [
                          0.159017319,
                          0.9119446645,
                          0.04517857143
                        ]
                      },
                      {
                        "learn": [
                          0.03758829365
                        ],
                        "iteration": 418,
                        "passed_time": 12.59140335,
                        "remaining_time": 47.5107606,
                        "test": [
                          0.159017319,
                          0.9119446645,
                          0.04517857143
                        ]
                      },
                      {
                        "learn": [
                          0.03758829365
                        ],
                        "iteration": 419,
                        "passed_time": 12.61690349,
                        "remaining_time": 47.4635893,
                        "test": [
                          0.1579556816,
                          0.9112087875,
                          0.04517857143
                        ]
                      },
                      {
                        "learn": [
                          0.03758829365
                        ],
                        "iteration": 420,
                        "passed_time": 12.64072194,
                        "remaining_time": 47.41021364,
                        "test": [
                          0.1573899573,
                          0.9110301029,
                          0.04517857143
                        ]
                      },
                      {
                        "learn": [
                          0.03758829365
                        ],
                        "iteration": 421,
                        "passed_time": 12.66399805,
                        "remaining_time": 47.35495004,
                        "test": [
                          0.1571765947,
                          0.9109631878,
                          0.04517857143
                        ]
                      },
                      {
                        "learn": [
                          0.03758829365
                        ],
                        "iteration": 422,
                        "passed_time": 12.69000099,
                        "remaining_time": 47.31000371,
                        "test": [
                          0.1573899573,
                          0.9105703071,
                          0.04517857143
                        ]
                      },
                      {
                        "learn": [
                          0.03758829365
                        ],
                        "iteration": 423,
                        "passed_time": 12.71342963,
                        "remaining_time": 47.25557808,
                        "test": [
                          0.1563214555,
                          0.9101259511,
                          0.04517857143
                        ]
                      },
                      {
                        "learn": [
                          0.03758829365
                        ],
                        "iteration": 424,
                        "passed_time": 12.73643697,
                        "remaining_time": 47.19973702,
                        "test": [
                          0.1580773211,
                          0.9117414686,
                          0.04517857143
                        ]
                      },
                      {
                        "learn": [
                          0.03758829365
                        ],
                        "iteration": 425,
                        "passed_time": 12.7593942,
                        "remaining_time": 47.14386495,
                        "test": [
                          0.1580773211,
                          0.9118510286,
                          0.04517857143
                        ]
                      },
                      {
                        "learn": [
                          0.03758829365
                        ],
                        "iteration": 426,
                        "passed_time": 12.78298658,
                        "remaining_time": 47.09048686,
                        "test": [
                          0.1575964555,
                          0.9115971198,
                          0.04517857143
                        ]
                      },
                      {
                        "learn": [
                          0.03758829365
                        ],
                        "iteration": 427,
                        "passed_time": 12.8063708,
                        "remaining_time": 47.03648339,
                        "test": [
                          0.1575964555,
                          0.9115086128,
                          0.04517857143
                        ]
                      },
                      {
                        "learn": [
                          0.03758829365
                        ],
                        "iteration": 428,
                        "passed_time": 12.82991853,
                        "remaining_time": 46.98322148,
                        "test": [
                          0.1568402943,
                          0.9112877423,
                          0.04417857143
                        ]
                      },
                      {
                        "learn": [
                          0.03758829365
                        ],
                        "iteration": 429,
                        "passed_time": 12.85292158,
                        "remaining_time": 46.92810901,
                        "test": [
                          0.1576233036,
                          0.9117037584,
                          0.04417857143
                        ]
                      },
                      {
                        "learn": [
                          0.03758829365
                        ],
                        "iteration": 430,
                        "passed_time": 12.88722733,
                        "remaining_time": 46.91429161,
                        "test": [
                          0.1574419454,
                          0.9116441781,
                          0.04417857143
                        ]
                      },
                      {
                        "learn": [
                          0.03758829365
                        ],
                        "iteration": 431,
                        "passed_time": 12.91434885,
                        "remaining_time": 46.87430324,
                        "test": [
                          0.1561669454,
                          0.9102253207,
                          0.04417857143
                        ]
                      },
                      {
                        "learn": [
                          0.03758829365
                        ],
                        "iteration": 432,
                        "passed_time": 12.93778657,
                        "remaining_time": 46.82104284,
                        "test": [
                          0.1561669454,
                          0.9103348806,
                          0.04417857143
                        ]
                      },
                      {
                        "learn": [
                          0.03758829365
                        ],
                        "iteration": 433,
                        "passed_time": 12.96091874,
                        "remaining_time": 46.7668174,
                        "test": [
                          0.1563524994,
                          0.9103921815,
                          0.04417857143
                        ]
                      },
                      {
                        "learn": [
                          0.03758829365
                        ],
                        "iteration": 434,
                        "passed_time": 12.98468629,
                        "remaining_time": 46.71502077,
                        "test": [
                          0.1576274994,
                          0.9116281149,
                          0.04417857143
                        ]
                      },
                      {
                        "learn": [
                          0.03758829365
                        ],
                        "iteration": 435,
                        "passed_time": 13.00900689,
                        "remaining_time": 46.66533664,
                        "test": [
                          0.1571355088,
                          0.9104535111,
                          0.04417857143
                        ]
                      },
                      {
                        "learn": [
                          0.03758829365
                        ],
                        "iteration": 436,
                        "passed_time": 13.03166778,
                        "remaining_time": 46.60983234,
                        "test": [
                          0.1543605088,
                          0.9059600166,
                          0.04417857143
                        ]
                      },
                      {
                        "learn": [
                          0.03758829365
                        ],
                        "iteration": 437,
                        "passed_time": 13.05619419,
                        "remaining_time": 46.56113088,
                        "test": [
                          0.1550774994,
                          0.9093442628,
                          0.04417857143
                        ]
                      },
                      {
                        "learn": [
                          0.03758829365
                        ],
                        "iteration": 438,
                        "passed_time": 13.07974481,
                        "remaining_time": 46.50906982,
                        "test": [
                          0.1551512331,
                          0.908520106,
                          0.04417857143
                        ]
                      },
                      {
                        "learn": [
                          0.03758829365
                        ],
                        "iteration": 439,
                        "passed_time": 13.12409004,
                        "remaining_time": 46.53086467,
                        "test": [
                          0.1564262331,
                          0.9099027677,
                          0.04417857143
                        ]
                      },
                      {
                        "learn": [
                          0.03758829365
                        ],
                        "iteration": 440,
                        "passed_time": 13.16712437,
                        "remaining_time": 46.54772539,
                        "test": [
                          0.1564262331,
                          0.9097954256,
                          0.04417857143
                        ]
                      },
                      {
                        "learn": [
                          0.03758829365
                        ],
                        "iteration": 441,
                        "passed_time": 13.19164139,
                        "remaining_time": 46.49904363,
                        "test": [
                          0.1564262331,
                          0.9099049855,
                          0.04417857143
                        ]
                      },
                      {
                        "learn": [
                          0.03758829365
                        ],
                        "iteration": 442,
                        "passed_time": 13.21501903,
                        "remaining_time": 46.44646643,
                        "test": [
                          0.1577012331,
                          0.9106888907,
                          0.04417857143
                        ]
                      },
                      {
                        "learn": [
                          0.03758829365
                        ],
                        "iteration": 443,
                        "passed_time": 13.23990298,
                        "remaining_time": 46.39929963,
                        "test": [
                          0.1577012331,
                          0.9106888907,
                          0.04417857143
                        ]
                      },
                      {
                        "learn": [
                          0.03758829365
                        ],
                        "iteration": 444,
                        "passed_time": 13.26316318,
                        "remaining_time": 46.34655897,
                        "test": [
                          0.1566546432,
                          0.9103658573,
                          0.04417857143
                        ]
                      },
                      {
                        "learn": [
                          0.03758829365
                        ],
                        "iteration": 445,
                        "passed_time": 13.28588277,
                        "remaining_time": 46.29206687,
                        "test": [
                          0.1566546432,
                          0.9103658573,
                          0.04417857143
                        ]
                      },
                      {
                        "learn": [
                          0.03758829365
                        ],
                        "iteration": 446,
                        "passed_time": 13.30858625,
                        "remaining_time": 46.23766095,
                        "test": [
                          0.1558716338,
                          0.9100594011,
                          0.04417857143
                        ]
                      },
                      {
                        "learn": [
                          0.03758829365
                        ],
                        "iteration": 447,
                        "passed_time": 13.33242639,
                        "remaining_time": 46.18733427,
                        "test": [
                          0.1572924973,
                          0.9106155266,
                          0.04417857143
                        ]
                      },
                      {
                        "learn": [
                          0.03758829365
                        ],
                        "iteration": 448,
                        "passed_time": 13.35748687,
                        "remaining_time": 46.14134107,
                        "test": [
                          0.1577012331,
                          0.9107773978,
                          0.04417857143
                        ]
                      },
                      {
                        "learn": [
                          0.03758829365
                        ],
                        "iteration": 449,
                        "passed_time": 13.38061129,
                        "remaining_time": 46.08877222,
                        "test": [
                          0.158366791,
                          0.9110061363,
                          0.04417857143
                        ]
                      },
                      {
                        "learn": [
                          0.03758829365
                        ],
                        "iteration": 450,
                        "passed_time": 13.40439727,
                        "remaining_time": 46.03860613,
                        "test": [
                          0.159032349,
                          0.911178524,
                          0.04417857143
                        ]
                      },
                      {
                        "learn": [
                          0.03758829365
                        ],
                        "iteration": 451,
                        "passed_time": 13.42753523,
                        "remaining_time": 45.98633746,
                        "test": [
                          0.159032349,
                          0.911178524,
                          0.04417857143
                        ]
                      },
                      {
                        "learn": [
                          0.03758829365
                        ],
                        "iteration": 452,
                        "passed_time": 13.45074375,
                        "remaining_time": 45.93443839,
                        "test": [
                          0.1582493396,
                          0.9108720678,
                          0.04417857143
                        ]
                      },
                      {
                        "learn": [
                          0.03758829365
                        ],
                        "iteration": 453,
                        "passed_time": 13.47398637,
                        "remaining_time": 45.88278177,
                        "test": [
                          0.159032349,
                          0.9111974108,
                          0.04417857143
                        ]
                      },
                      {
                        "learn": [
                          0.03758829365
                        ],
                        "iteration": 454,
                        "passed_time": 13.49813254,
                        "remaining_time": 45.8343182,
                        "test": [
                          0.158366791,
                          0.9108801652,
                          0.04417857143
                        ]
                      },
                      {
                        "learn": [
                          0.03758829365
                        ],
                        "iteration": 455,
                        "passed_time": 13.52135157,
                        "remaining_time": 45.78282199,
                        "test": [
                          0.1563087817,
                          0.9097709169,
                          0.04417857143
                        ]
                      },
                      {
                        "learn": [
                          0.03758829365
                        ],
                        "iteration": 456,
                        "passed_time": 13.54579981,
                        "remaining_time": 45.73559979,
                        "test": [
                          0.1575837817,
                          0.910573709,
                          0.04417857143
                        ]
                      },
                      {
                        "learn": [
                          0.03758829365
                        ],
                        "iteration": 457,
                        "passed_time": 13.56929318,
                        "remaining_time": 45.6852622,
                        "test": [
                          0.1575837817,
                          0.9104641491,
                          0.04417857143
                        ]
                      },
                      {
                        "learn": [
                          0.03758829365
                        ],
                        "iteration": 458,
                        "passed_time": 13.59656424,
                        "remaining_time": 45.64772437,
                        "test": [
                          0.1575837817,
                          0.9104174395,
                          0.04417857143
                        ]
                      },
                      {
                        "learn": [
                          0.03758829365
                        ],
                        "iteration": 459,
                        "passed_time": 13.61961722,
                        "remaining_time": 45.59610983,
                        "test": [
                          0.1563087817,
                          0.9094574304,
                          0.04417857143
                        ]
                      },
                      {
                        "learn": [
                          0.03758829365
                        ],
                        "iteration": 460,
                        "passed_time": 13.64224523,
                        "remaining_time": 45.54320045,
                        "test": [
                          0.1563087817,
                          0.9094574304,
                          0.04417857143
                        ]
                      },
                      {
                        "learn": [
                          0.03758829365
                        ],
                        "iteration": 461,
                        "passed_time": 13.6680965,
                        "remaining_time": 45.50115243,
                        "test": [
                          0.1577108348,
                          0.9098146416,
                          0.04417857143
                        ]
                      },
                      {
                        "learn": [
                          0.03758829365
                        ],
                        "iteration": 462,
                        "passed_time": 13.69089574,
                        "remaining_time": 45.44904268,
                        "test": [
                          0.1600695848,
                          0.9104280629,
                          0.04417857143
                        ]
                      },
                      {
                        "learn": [
                          0.03758829365
                        ],
                        "iteration": 463,
                        "passed_time": 13.7135892,
                        "remaining_time": 45.39670909,
                        "test": [
                          0.1600695848,
                          0.9104280629,
                          0.04417857143
                        ]
                      },
                      {
                        "learn": [
                          0.03758829365
                        ],
                        "iteration": 464,
                        "passed_time": 13.73645033,
                        "remaining_time": 45.34505646,
                        "test": [
                          0.159475295,
                          0.9103137259,
                          0.04317857143
                        ]
                      },
                      {
                        "learn": [
                          0.03758829365
                        ],
                        "iteration": 465,
                        "passed_time": 13.75933413,
                        "remaining_time": 45.29360206,
                        "test": [
                          0.158200295,
                          0.9095109338,
                          0.04317857143
                        ]
                      },
                      {
                        "learn": [
                          0.03758829365
                        ],
                        "iteration": 466,
                        "passed_time": 13.78389085,
                        "remaining_time": 45.2477616,
                        "test": [
                          0.1589833044,
                          0.9097985031,
                          0.04317857143
                        ]
                      },
                      {
                        "learn": [
                          0.03758829365
                        ],
                        "iteration": 467,
                        "passed_time": 13.80680688,
                        "remaining_time": 45.19664134,
                        "test": [
                          0.1584175801,
                          0.9093622956,
                          0.04317857143
                        ]
                      },
                      {
                        "learn": [
                          0.03758829365
                        ],
                        "iteration": 468,
                        "passed_time": 13.83016347,
                        "remaining_time": 45.14707949,
                        "test": [
                          0.1576345707,
                          0.9089568319,
                          0.04417857143
                        ]
                      },
                      {
                        "learn": [
                          0.03758829365
                        ],
                        "iteration": 469,
                        "passed_time": 13.85309054,
                        "remaining_time": 45.09623089,
                        "test": [
                          0.1576345707,
                          0.908936205,
                          0.04317857143
                        ]
                      },
                      {
                        "learn": [
                          0.03758829365
                        ],
                        "iteration": 470,
                        "passed_time": 13.87623227,
                        "remaining_time": 45.04619775,
                        "test": [
                          0.1576345707,
                          0.9095901443,
                          0.04417857143
                        ]
                      },
                      {
                        "learn": [
                          0.03758829365
                        ],
                        "iteration": 471,
                        "passed_time": 13.91470476,
                        "remaining_time": 45.04590862,
                        "test": [
                          0.1576345707,
                          0.9089757188,
                          0.04417857143
                        ]
                      },
                      {
                        "learn": [
                          0.03758829365
                        ],
                        "iteration": 472,
                        "passed_time": 13.93866222,
                        "remaining_time": 44.99859877,
                        "test": [
                          0.158200295,
                          0.9091544033,
                          0.04417857143
                        ]
                      },
                      {
                        "learn": [
                          0.03758829365
                        ],
                        "iteration": 473,
                        "passed_time": 13.96168826,
                        "remaining_time": 44.94838879,
                        "test": [
                          0.1576345707,
                          0.9090642258,
                          0.04417857143
                        ]
                      },
                      {
                        "learn": [
                          0.03758829365
                        ],
                        "iteration": 474,
                        "passed_time": 13.98369701,
                        "remaining_time": 44.89502725,
                        "test": [
                          0.1563595707,
                          0.9077549283,
                          0.04417857143
                        ]
                      },
                      {
                        "learn": [
                          0.03758829365
                        ],
                        "iteration": 475,
                        "passed_time": 14.00715396,
                        "remaining_time": 44.84643411,
                        "test": [
                          0.1541940127,
                          0.9038166004,
                          0.04417857143
                        ]
                      },
                      {
                        "learn": [
                          0.03758829365
                        ],
                        "iteration": 476,
                        "passed_time": 14.02990355,
                        "remaining_time": 44.79568786,
                        "test": [
                          0.1541293971,
                          0.9069378993,
                          0.04417857143
                        ]
                      },
                      {
                        "learn": [
                          0.03758829365
                        ],
                        "iteration": 477,
                        "passed_time": 14.0524482,
                        "remaining_time": 44.74440618,
                        "test": [
                          0.1535189985,
                          0.9034649098,
                          0.04417857143
                        ]
                      },
                      {
                        "learn": [
                          0.03758829365
                        ],
                        "iteration": 478,
                        "passed_time": 14.07540121,
                        "remaining_time": 44.69454122,
                        "test": [
                          0.1539998642,
                          0.90360679,
                          0.04417857143
                        ]
                      },
                      {
                        "learn": [
                          0.03758829365
                        ],
                        "iteration": 479,
                        "passed_time": 14.09802304,
                        "remaining_time": 44.64373964,
                        "test": [
                          0.1539998642,
                          0.90360679,
                          0.04417857143
                        ]
                      },
                      {
                        "learn": [
                          0.03758829365
                        ],
                        "iteration": 480,
                        "passed_time": 14.13990779,
                        "remaining_time": 44.65388759,
                        "test": [
                          0.1539998642,
                          0.90360679,
                          0.04417857143
                        ]
                      },
                      {
                        "learn": [
                          0.03758829365
                        ],
                        "iteration": 481,
                        "passed_time": 14.18872152,
                        "remaining_time": 44.68564163,
                        "test": [
                          0.1546654221,
                          0.9038355286,
                          0.04417857143
                        ]
                      },
                      {
                        "learn": [
                          0.03758829365
                        ],
                        "iteration": 482,
                        "passed_time": 14.21156997,
                        "remaining_time": 44.63551065,
                        "test": [
                          0.1546654221,
                          0.9038355286,
                          0.04417857143
                        ]
                      },
                      {
                        "learn": [
                          0.03758829365
                        ],
                        "iteration": 483,
                        "passed_time": 14.23714498,
                        "remaining_time": 44.59403262,
                        "test": [
                          0.1562045927,
                          0.9043094821,
                          0.04517857143
                        ]
                      },
                      {
                        "learn": [
                          0.03758829365
                        ],
                        "iteration": 484,
                        "passed_time": 14.26041796,
                        "remaining_time": 44.54542929,
                        "test": [
                          0.156770317,
                          0.9044881667,
                          0.04517857143
                        ]
                      },
                      {
                        "learn": [
                          0.03758829365
                        ],
                        "iteration": 485,
                        "passed_time": 14.28336147,
                        "remaining_time": 44.49590384,
                        "test": [
                          0.157854067,
                          0.9057155496,
                          0.04517857143
                        ]
                      },
                      {
                        "learn": [
                          0.03758829365
                        ],
                        "iteration": 486,
                        "passed_time": 14.30720055,
                        "remaining_time": 44.44926988,
                        "test": [
                          0.1595582639,
                          0.9062723406,
                          0.04517857143
                        ]
                      },
                      {
                        "learn": [
                          0.03758829365
                        ],
                        "iteration": 487,
                        "passed_time": 14.33102492,
                        "remaining_time": 44.40268377,
                        "test": [
                          0.1595582639,
                          0.9062723406,
                          0.04517857143
                        ]
                      },
                      {
                        "learn": [
                          0.03758829365
                        ],
                        "iteration": 488,
                        "passed_time": 14.35538161,
                        "remaining_time": 44.35783562,
                        "test": [
                          0.1584745139,
                          0.9058472859,
                          0.04517857143
                        ]
                      },
                      {
                        "learn": [
                          0.03758829365
                        ],
                        "iteration": 489,
                        "passed_time": 14.37905453,
                        "remaining_time": 44.31096397,
                        "test": [
                          0.1578650718,
                          0.9048762868,
                          0.04517857143
                        ]
                      },
                      {
                        "learn": [
                          0.03758829365
                        ],
                        "iteration": 490,
                        "passed_time": 14.40172456,
                        "remaining_time": 44.2611046,
                        "test": [
                          0.1567813218,
                          0.9044512321,
                          0.04517857143
                        ]
                      },
                      {
                        "learn": [
                          0.03758829365
                        ],
                        "iteration": 491,
                        "passed_time": 14.42528069,
                        "remaining_time": 44.21407172,
                        "test": [
                          0.1578650718,
                          0.9048762868,
                          0.04517857143
                        ]
                      },
                      {
                        "learn": [
                          0.03758829365
                        ],
                        "iteration": 492,
                        "passed_time": 14.44814337,
                        "remaining_time": 44.16501433,
                        "test": [
                          0.1567813218,
                          0.9044512321,
                          0.04517857143
                        ]
                      },
                      {
                        "learn": [
                          0.03758829365
                        ],
                        "iteration": 493,
                        "passed_time": 14.47147763,
                        "remaining_time": 44.11750064,
                        "test": [
                          0.1567813218,
                          0.9046391348,
                          0.04517857143
                        ]
                      },
                      {
                        "learn": [
                          0.03758829365
                        ],
                        "iteration": 494,
                        "passed_time": 14.49537442,
                        "remaining_time": 44.07179497,
                        "test": [
                          0.1567813218,
                          0.9045046052,
                          0.04517857143
                        ]
                      },
                      {
                        "learn": [
                          0.03758829365
                        ],
                        "iteration": 495,
                        "passed_time": 14.51859605,
                        "remaining_time": 44.02412997,
                        "test": [
                          0.1555063218,
                          0.9031953077,
                          0.04517857143
                        ]
                      },
                      {
                        "learn": [
                          0.03758829365
                        ],
                        "iteration": 496,
                        "passed_time": 14.5434603,
                        "remaining_time": 43.98153086,
                        "test": [
                          0.1548407639,
                          0.9029665692,
                          0.04517857143
                        ]
                      },
                      {
                        "learn": [
                          0.03758829365
                        ],
                        "iteration": 497,
                        "passed_time": 14.56647988,
                        "remaining_time": 43.93343931,
                        "test": [
                          0.1548407639,
                          0.9029665692,
                          0.04517857143
                        ]
                      },
                      {
                        "learn": [
                          0.03758829365
                        ],
                        "iteration": 498,
                        "passed_time": 14.58877104,
                        "remaining_time": 43.88325718,
                        "test": [
                          0.1550033264,
                          0.9031312498,
                          0.04517857143
                        ]
                      },
                      {
                        "learn": [
                          0.03758829365
                        ],
                        "iteration": 499,
                        "passed_time": 14.61123351,
                        "remaining_time": 43.83370054,
                        "test": [
                          0.1534387107,
                          0.902617688,
                          0.04517857143
                        ]
                      },
                      {
                        "learn": [
                          0.03758829365
                        ],
                        "iteration": 500,
                        "passed_time": 14.63414363,
                        "remaining_time": 43.78559141,
                        "test": [
                          0.1545224607,
                          0.9030427427,
                          0.04517857143
                        ]
                      },
                      {
                        "learn": [
                          0.03758829365
                        ],
                        "iteration": 501,
                        "passed_time": 14.65746515,
                        "remaining_time": 43.73881034,
                        "test": [
                          0.1553887249,
                          0.9037258831,
                          0.04517857143
                        ]
                      },
                      {
                        "learn": [
                          0.03758829365
                        ],
                        "iteration": 502,
                        "passed_time": 14.6865445,
                        "remaining_time": 43.70925868,
                        "test": [
                          0.1541137249,
                          0.902923091,
                          0.04517857143
                        ]
                      },
                      {
                        "learn": [
                          0.03758829365
                        ],
                        "iteration": 503,
                        "passed_time": 14.71068693,
                        "remaining_time": 43.66505484,
                        "test": [
                          0.1553887249,
                          0.9036163232,
                          0.04517857143
                        ]
                      },
                      {
                        "learn": [
                          0.03758829365
                        ],
                        "iteration": 504,
                        "passed_time": 14.73419944,
                        "remaining_time": 43.61906566,
                        "test": [
                          0.1550412995,
                          0.9035151044,
                          0.04417857143
                        ]
                      },
                      {
                        "learn": [
                          0.03758829365
                        ],
                        "iteration": 505,
                        "passed_time": 14.75695226,
                        "remaining_time": 43.57092228,
                        "test": [
                          0.1550412995,
                          0.9035151044,
                          0.04417857143
                        ]
                      },
                      {
                        "learn": [
                          0.03758829365
                        ],
                        "iteration": 506,
                        "passed_time": 14.78000217,
                        "remaining_time": 43.52375393,
                        "test": [
                          0.1550412995,
                          0.9035151044,
                          0.04417857143
                        ]
                      },
                      {
                        "learn": [
                          0.03758829365
                        ],
                        "iteration": 507,
                        "passed_time": 14.8042906,
                        "remaining_time": 43.48031806,
                        "test": [
                          0.1557974607,
                          0.9037359749,
                          0.04517857143
                        ]
                      },
                      {
                        "learn": [
                          0.03758829365
                        ],
                        "iteration": 508,
                        "passed_time": 14.82835878,
                        "remaining_time": 43.43631227,
                        "test": [
                          0.1557974607,
                          0.9038252698,
                          0.04517857143
                        ]
                      },
                      {
                        "learn": [
                          0.03758829365
                        ],
                        "iteration": 509,
                        "passed_time": 14.85125052,
                        "remaining_time": 43.38894758,
                        "test": [
                          0.1557974607,
                          0.903809339,
                          0.04517857143
                        ]
                      },
                      {
                        "learn": [
                          0.03758829365
                        ],
                        "iteration": 510,
                        "passed_time": 14.87446275,
                        "remaining_time": 43.34261259,
                        "test": [
                          0.1553165951,
                          0.9037542851,
                          0.04517857143
                        ]
                      },
                      {
                        "learn": [
                          0.03758829365
                        ],
                        "iteration": 511,
                        "passed_time": 14.89707332,
                        "remaining_time": 43.29461932,
                        "test": [
                          0.1553165951,
                          0.9037542851,
                          0.04517857143
                        ]
                      },
                      {
                        "learn": [
                          0.03758829365
                        ],
                        "iteration": 512,
                        "passed_time": 14.93417795,
                        "remaining_time": 43.28873803,
                        "test": [
                          0.1557974607,
                          0.9038427922,
                          0.04517857143
                        ]
                      },
                      {
                        "learn": [
                          0.03758829365
                        ],
                        "iteration": 513,
                        "passed_time": 14.95783441,
                        "remaining_time": 43.24385589,
                        "test": [
                          0.1557974607,
                          0.9038427922,
                          0.04517857143
                        ]
                      },
                      {
                        "learn": [
                          0.03758829365
                        ],
                        "iteration": 514,
                        "passed_time": 14.98120784,
                        "remaining_time": 43.19824009,
                        "test": [
                          0.1557974607,
                          0.9038616791,
                          0.04517857143
                        ]
                      },
                      {
                        "learn": [
                          0.03758829365
                        ],
                        "iteration": 515,
                        "passed_time": 15.00471732,
                        "remaining_time": 43.15310176,
                        "test": [
                          0.1557974607,
                          0.9038616791,
                          0.04517857143
                        ]
                      },
                      {
                        "learn": [
                          0.03758829365
                        ],
                        "iteration": 516,
                        "passed_time": 15.0279676,
                        "remaining_time": 43.10730359,
                        "test": [
                          0.1557974607,
                          0.9037521191,
                          0.04517857143
                        ]
                      },
                      {
                        "learn": [
                          0.03758829365
                        ],
                        "iteration": 517,
                        "passed_time": 15.05254305,
                        "remaining_time": 43.06538377,
                        "test": [
                          0.1553165951,
                          0.9036636121,
                          0.04517857143
                        ]
                      },
                      {
                        "learn": [
                          0.03758829365
                        ],
                        "iteration": 518,
                        "passed_time": 15.07490159,
                        "remaining_time": 43.01720472,
                        "test": [
                          0.1553165951,
                          0.9037521191,
                          0.04517857143
                        ]
                      },
                      {
                        "learn": [
                          0.03758829365
                        ],
                        "iteration": 519,
                        "passed_time": 15.09805729,
                        "remaining_time": 42.97139381,
                        "test": [
                          0.1557974607,
                          0.9038406262,
                          0.04517857143
                        ]
                      },
                      {
                        "learn": [
                          0.03758829365
                        ],
                        "iteration": 520,
                        "passed_time": 15.12154905,
                        "remaining_time": 42.92662389,
                        "test": [
                          0.1557974607,
                          0.9038406262,
                          0.04517857143
                        ]
                      },
                      {
                        "learn": [
                          0.03758829365
                        ],
                        "iteration": 521,
                        "passed_time": 15.15649171,
                        "remaining_time": 42.91435774,
                        "test": [
                          0.1559821531,
                          0.9040904176,
                          0.04517857143
                        ]
                      },
                      {
                        "learn": [
                          0.03758829365
                        ],
                        "iteration": 522,
                        "passed_time": 15.21496908,
                        "remaining_time": 42.96846909,
                        "test": [
                          0.1559821531,
                          0.9040904176,
                          0.04517857143
                        ]
                      },
                      {
                        "learn": [
                          0.03758829365
                        ],
                        "iteration": 523,
                        "passed_time": 15.23809862,
                        "remaining_time": 42.92258313,
                        "test": [
                          0.1559821531,
                          0.9034759921,
                          0.04517857143
                        ]
                      },
                      {
                        "learn": [
                          0.03758829365
                        ],
                        "iteration": 524,
                        "passed_time": 15.2614064,
                        "remaining_time": 42.87728464,
                        "test": [
                          0.1559821531,
                          0.9034759921,
                          0.04517857143
                        ]
                      },
                      {
                        "learn": [
                          0.03758829365
                        ],
                        "iteration": 525,
                        "passed_time": 15.28444684,
                        "remaining_time": 42.83132061,
                        "test": [
                          0.1559821531,
                          0.9034759921,
                          0.04517857143
                        ]
                      },
                      {
                        "learn": [
                          0.03758829365
                        ],
                        "iteration": 526,
                        "passed_time": 15.30717107,
                        "remaining_time": 42.78455974,
                        "test": [
                          0.1559821531,
                          0.9034759921,
                          0.04517857143
                        ]
                      },
                      {
                        "learn": [
                          0.03758829365
                        ],
                        "iteration": 527,
                        "passed_time": 15.33122578,
                        "remaining_time": 42.74159915,
                        "test": [
                          0.1553165951,
                          0.9032472536,
                          0.04517857143
                        ]
                      },
                      {
                        "learn": [
                          0.03758829365
                        ],
                        "iteration": 528,
                        "passed_time": 15.35520679,
                        "remaining_time": 42.69850509,
                        "test": [
                          0.1553165951,
                          0.9032472536,
                          0.04517857143
                        ]
                      },
                      {
                        "learn": [
                          0.03758829365
                        ],
                        "iteration": 529,
                        "passed_time": 15.37878947,
                        "remaining_time": 42.65437835,
                        "test": [
                          0.1553165951,
                          0.9032472536,
                          0.04517857143
                        ]
                      },
                      {
                        "learn": [
                          0.03758829365
                        ],
                        "iteration": 530,
                        "passed_time": 15.40211317,
                        "remaining_time": 42.60961252,
                        "test": [
                          0.1553165951,
                          0.9038616791,
                          0.04517857143
                        ]
                      },
                      {
                        "learn": [
                          0.03758829365
                        ],
                        "iteration": 531,
                        "passed_time": 15.42530677,
                        "remaining_time": 42.5645683,
                        "test": [
                          0.1553165951,
                          0.9038616791,
                          0.04517857143
                        ]
                      },
                      {
                        "learn": [
                          0.03758829365
                        ],
                        "iteration": 532,
                        "passed_time": 15.44837257,
                        "remaining_time": 42.51925434,
                        "test": [
                          0.1553165951,
                          0.903773172,
                          0.04517857143
                        ]
                      },
                      {
                        "learn": [
                          0.03758829365
                        ],
                        "iteration": 533,
                        "passed_time": 15.47150785,
                        "remaining_time": 42.47421444,
                        "test": [
                          0.1549078593,
                          0.9036535203,
                          0.04517857143
                        ]
                      },
                      {
                        "learn": [
                          0.03758829365
                        ],
                        "iteration": 534,
                        "passed_time": 15.49388178,
                        "remaining_time": 42.42717161,
                        "test": [
                          0.1549078593,
                          0.9035439604,
                          0.04517857143
                        ]
                      },
                      {
                        "learn": [
                          0.03758829365
                        ],
                        "iteration": 535,
                        "passed_time": 15.51765415,
                        "remaining_time": 42.38404045,
                        "test": [
                          0.1549078593,
                          0.9030202079,
                          0.04517857143
                        ]
                      },
                      {
                        "learn": [
                          0.03758829365
                        ],
                        "iteration": 536,
                        "passed_time": 15.54217277,
                        "remaining_time": 42.34301446,
                        "test": [
                          0.1549078593,
                          0.9029295349,
                          0.04517857143
                        ]
                      },
                      {
                        "learn": [
                          0.03758829365
                        ],
                        "iteration": 537,
                        "passed_time": 15.56489522,
                        "remaining_time": 42.29716879,
                        "test": [
                          0.1549078593,
                          0.9029295349,
                          0.04517857143
                        ]
                      },
                      {
                        "learn": [
                          0.03758829365
                        ],
                        "iteration": 538,
                        "passed_time": 15.58848476,
                        "remaining_time": 42.25375924,
                        "test": [
                          0.1549078593,
                          0.9029295349,
                          0.04517857143
                        ]
                      },
                      {
                        "learn": [
                          0.03758829365
                        ],
                        "iteration": 539,
                        "passed_time": 15.61166171,
                        "remaining_time": 42.20930758,
                        "test": [
                          0.1549078593,
                          0.9029295349,
                          0.04517857143
                        ]
                      },
                      {
                        "learn": [
                          0.03758829365
                        ],
                        "iteration": 540,
                        "passed_time": 15.6383825,
                        "remaining_time": 42.17449181,
                        "test": [
                          0.1549078593,
                          0.9029295349,
                          0.04517857143
                        ]
                      },
                      {
                        "learn": [
                          0.03758829365
                        ],
                        "iteration": 541,
                        "passed_time": 15.66149815,
                        "remaining_time": 42.13000795,
                        "test": [
                          0.1549078593,
                          0.9029295349,
                          0.04517857143
                        ]
                      },
                      {
                        "learn": [
                          0.03758829365
                        ],
                        "iteration": 542,
                        "passed_time": 15.68700566,
                        "remaining_time": 42.09202072,
                        "test": [
                          0.1549078593,
                          0.9031174376,
                          0.04517857143
                        ]
                      },
                      {
                        "learn": [
                          0.03758829365
                        ],
                        "iteration": 543,
                        "passed_time": 15.71007339,
                        "remaining_time": 42.04754937,
                        "test": [
                          0.1549078593,
                          0.9031174376,
                          0.04517857143
                        ]
                      },
                      {
                        "learn": [
                          0.03758829365
                        ],
                        "iteration": 544,
                        "passed_time": 15.7328826,
                        "remaining_time": 42.00246638,
                        "test": [
                          0.1549078593,
                          0.9030281427,
                          0.04517857143
                        ]
                      },
                      {
                        "learn": [
                          0.03758829365
                        ],
                        "iteration": 545,
                        "passed_time": 15.75531456,
                        "remaining_time": 41.95646038,
                        "test": [
                          0.1545604339,
                          0.9025771499,
                          0.04417857143
                        ]
                      },
                      {
                        "learn": [
                          0.03758829365
                        ],
                        "iteration": 546,
                        "passed_time": 15.77837689,
                        "remaining_time": 41.91221504,
                        "test": [
                          0.1545604339,
                          0.9026664449,
                          0.04417857143
                        ]
                      },
                      {
                        "learn": [
                          0.03758829365
                        ],
                        "iteration": 547,
                        "passed_time": 15.80083608,
                        "remaining_time": 41.86644887,
                        "test": [
                          0.1545604339,
                          0.9026664449,
                          0.04417857143
                        ]
                      },
                      {
                        "learn": [
                          0.03758829365
                        ],
                        "iteration": 548,
                        "passed_time": 15.8240976,
                        "remaining_time": 41.82288819,
                        "test": [
                          0.1550412995,
                          0.9027214988,
                          0.04417857143
                        ]
                      },
                      {
                        "learn": [
                          0.03758829365
                        ],
                        "iteration": 549,
                        "passed_time": 15.8468674,
                        "remaining_time": 41.77810495,
                        "test": [
                          0.1550412995,
                          0.9027948629,
                          0.04417857143
                        ]
                      },
                      {
                        "learn": [
                          0.03758829365
                        ],
                        "iteration": 550,
                        "passed_time": 15.86950603,
                        "remaining_time": 41.7330567,
                        "test": [
                          0.1550412995,
                          0.9028107937,
                          0.04417857143
                        ]
                      },
                      {
                        "learn": [
                          0.03758829365
                        ],
                        "iteration": 551,
                        "passed_time": 15.89188595,
                        "remaining_time": 41.68741096,
                        "test": [
                          0.1550412995,
                          0.9029203537,
                          0.04417857143
                        ]
                      },
                      {
                        "learn": [
                          0.03758829365
                        ],
                        "iteration": 552,
                        "passed_time": 15.91477357,
                        "remaining_time": 41.64317786,
                        "test": [
                          0.1550412995,
                          0.9031082564,
                          0.04417857143
                        ]
                      },
                      {
                        "learn": [
                          0.03758829365
                        ],
                        "iteration": 553,
                        "passed_time": 15.95200043,
                        "remaining_time": 41.63644878,
                        "test": [
                          0.1550412995,
                          0.9030461944,
                          0.04317857143
                        ]
                      },
                      {
                        "learn": [
                          0.03758829365
                        ],
                        "iteration": 554,
                        "passed_time": 15.97489103,
                        "remaining_time": 41.59228386,
                        "test": [
                          0.1550412995,
                          0.9031082564,
                          0.04417857143
                        ]
                      },
                      {
                        "learn": [
                          0.03758829365
                        ],
                        "iteration": 555,
                        "passed_time": 15.99888001,
                        "remaining_time": 41.55104808,
                        "test": [
                          0.1539575495,
                          0.9025035291,
                          0.04417857143
                        ]
                      },
                      {
                        "learn": [
                          0.03758829365
                        ],
                        "iteration": 556,
                        "passed_time": 16.02236988,
                        "remaining_time": 41.50858122,
                        "test": [
                          0.1550412995,
                          0.9031158146,
                          0.04317857143
                        ]
                      },
                      {
                        "learn": [
                          0.03758829365
                        ],
                        "iteration": 557,
                        "passed_time": 16.04614705,
                        "remaining_time": 41.46692481,
                        "test": [
                          0.1550412995,
                          0.9031158146,
                          0.04317857143
                        ]
                      },
                      {
                        "learn": [
                          0.03758829365
                        ],
                        "iteration": 558,
                        "passed_time": 16.06915875,
                        "remaining_time": 41.42335913,
                        "test": [
                          0.1550412995,
                          0.9031778766,
                          0.04417857143
                        ]
                      },
                      {
                        "learn": [
                          0.03758829365
                        ],
                        "iteration": 559,
                        "passed_time": 16.09196693,
                        "remaining_time": 41.37934353,
                        "test": [
                          0.1550412995,
                          0.9027429965,
                          0.04417857143
                        ]
                      },
                      {
                        "learn": [
                          0.03758829365
                        ],
                        "iteration": 560,
                        "passed_time": 16.11430026,
                        "remaining_time": 41.3341855,
                        "test": [
                          0.152620112,
                          0.9007423243,
                          0.04417857143
                        ]
                      },
                      {
                        "learn": [
                          0.03758829365
                        ],
                        "iteration": 561,
                        "passed_time": 16.13724306,
                        "remaining_time": 41.29066818,
                        "test": [
                          0.152620112,
                          0.9007423243,
                          0.04417857143
                        ]
                      },
                      {
                        "learn": [
                          0.03758829365
                        ],
                        "iteration": 562,
                        "passed_time": 16.15968605,
                        "remaining_time": 41.24594824,
                        "test": [
                          0.152620112,
                          0.9007423243,
                          0.04417857143
                        ]
                      },
                      {
                        "learn": [
                          0.03758829365
                        ],
                        "iteration": 563,
                        "passed_time": 16.21728106,
                        "remaining_time": 41.2908078,
                        "test": [
                          0.151536362,
                          0.8999870278,
                          0.04317857143
                        ]
                      },
                      {
                        "learn": [
                          0.03758829365
                        ],
                        "iteration": 564,
                        "passed_time": 16.25742406,
                        "remaining_time": 41.29097969,
                        "test": [
                          0.151536362,
                          0.9001561011,
                          0.04317857143
                        ]
                      },
                      {
                        "learn": [
                          0.03758829365
                        ],
                        "iteration": 565,
                        "passed_time": 16.28128492,
                        "remaining_time": 41.24975721,
                        "test": [
                          0.151536362,
                          0.9000999511,
                          0.04317857143
                        ]
                      },
                      {
                        "learn": [
                          0.03758829365
                        ],
                        "iteration": 566,
                        "passed_time": 16.30483206,
                        "remaining_time": 41.20780307,
                        "test": [
                          0.151536362,
                          0.9000999511,
                          0.04317857143
                        ]
                      },
                      {
                        "learn": [
                          0.03758829365
                        ],
                        "iteration": 567,
                        "passed_time": 16.33000548,
                        "remaining_time": 41.17001383,
                        "test": [
                          0.1507533527,
                          0.8993811611,
                          0.04117857143
                        ]
                      },
                      {
                        "learn": [
                          0.03758829365
                        ],
                        "iteration": 568,
                        "passed_time": 16.35359884,
                        "remaining_time": 41.12829516,
                        "test": [
                          0.1507533527,
                          0.899745995,
                          0.04217857143
                        ]
                      },
                      {
                        "learn": [
                          0.03758829365
                        ],
                        "iteration": 569,
                        "passed_time": 16.37731738,
                        "remaining_time": 41.08695412,
                        "test": [
                          0.150036362,
                          0.8964092486,
                          0.04317857143
                        ]
                      },
                      {
                        "learn": [
                          0.03758829365
                        ],
                        "iteration": 570,
                        "passed_time": 16.40053596,
                        "remaining_time": 41.04442363,
                        "test": [
                          0.151536362,
                          0.9000999511,
                          0.04317857143
                        ]
                      },
                      {
                        "learn": [
                          0.03758829365
                        ],
                        "iteration": 571,
                        "passed_time": 16.42392693,
                        "remaining_time": 41.00239102,
                        "test": [
                          0.1524575495,
                          0.9003686552,
                          0.04317857143
                        ]
                      },
                      {
                        "learn": [
                          0.03758829365
                        ],
                        "iteration": 572,
                        "passed_time": 16.4470827,
                        "remaining_time": 40.95983772,
                        "test": [
                          0.1520488137,
                          0.9003573531,
                          0.04417857143
                        ]
                      },
                      {
                        "learn": [
                          0.03758829365
                        ],
                        "iteration": 573,
                        "passed_time": 16.46983808,
                        "remaining_time": 40.91635731,
                        "test": [
                          0.1511276262,
                          0.900144799,
                          0.04417857143
                        ]
                      },
                      {
                        "learn": [
                          0.03758829365
                        ],
                        "iteration": 574,
                        "passed_time": 16.493171,
                        "remaining_time": 40.87438031,
                        "test": [
                          0.1511276262,
                          0.9002125388,
                          0.04417857143
                        ]
                      },
                      {
                        "learn": [
                          0.03758829365
                        ],
                        "iteration": 575,
                        "passed_time": 16.51638481,
                        "remaining_time": 40.83217355,
                        "test": [
                          0.1511276262,
                          0.9001504768,
                          0.04317857143
                        ]
                      },
                      {
                        "learn": [
                          0.03758829365
                        ],
                        "iteration": 576,
                        "passed_time": 16.5422938,
                        "remaining_time": 40.79667952,
                        "test": [
                          0.1511276262,
                          0.9002125388,
                          0.04417857143
                        ]
                      },
                      {
                        "learn": [
                          0.03758829365
                        ],
                        "iteration": 577,
                        "passed_time": 16.56500192,
                        "remaining_time": 40.75334383,
                        "test": [
                          0.1511276262,
                          0.9002125388,
                          0.04417857143
                        ]
                      },
                      {
                        "learn": [
                          0.03758829365
                        ],
                        "iteration": 578,
                        "passed_time": 16.60018415,
                        "remaining_time": 40.74069374,
                        "test": [
                          0.1511276262,
                          0.9002125388,
                          0.04417857143
                        ]
                      },
                      {
                        "learn": [
                          0.03758829365
                        ],
                        "iteration": 579,
                        "passed_time": 16.62391104,
                        "remaining_time": 40.69992014,
                        "test": [
                          0.1511276262,
                          0.900088649,
                          0.04417857143
                        ]
                      },
                      {
                        "learn": [
                          0.03758829365
                        ],
                        "iteration": 580,
                        "passed_time": 16.64747233,
                        "remaining_time": 40.65880074,
                        "test": [
                          0.151536362,
                          0.9001620131,
                          0.04417857143
                        ]
                      },
                      {
                        "learn": [
                          0.03758829365
                        ],
                        "iteration": 581,
                        "passed_time": 16.67358772,
                        "remaining_time": 40.62396457,
                        "test": [
                          0.151536362,
                          0.9000524512,
                          0.04217857143
                        ]
                      },
                      {
                        "learn": [
                          0.03758829365
                        ],
                        "iteration": 582,
                        "passed_time": 16.69652083,
                        "remaining_time": 40.58142369,
                        "test": [
                          0.151536362,
                          0.9000999511,
                          0.04317857143
                        ]
                      },
                      {
                        "learn": [
                          0.03758829365
                        ],
                        "iteration": 583,
                        "passed_time": 16.72016805,
                        "remaining_time": 40.54068145,
                        "test": [
                          0.1520488137,
                          0.9003514411,
                          0.04317857143
                        ]
                      },
                      {
                        "learn": [
                          0.03758829365
                        ],
                        "iteration": 584,
                        "passed_time": 16.74307571,
                        "remaining_time": 40.49820876,
                        "test": [
                          0.1520488137,
                          0.9003514411,
                          0.04317857143
                        ]
                      },
                      {
                        "learn": [
                          0.03758829365
                        ],
                        "iteration": 585,
                        "passed_time": 16.76608804,
                        "remaining_time": 40.45605545,
                        "test": [
                          0.1524575495,
                          0.9004868672,
                          0.04417857143
                        ]
                      },
                      {
                        "learn": [
                          0.03758829365
                        ],
                        "iteration": 586,
                        "passed_time": 16.78940757,
                        "remaining_time": 40.41470681,
                        "test": [
                          0.1527143717,
                          0.9006611285,
                          0.04417857143
                        ]
                      },
                      {
                        "learn": [
                          0.03758829365
                        ],
                        "iteration": 587,
                        "passed_time": 16.81222645,
                        "remaining_time": 40.37221726,
                        "test": [
                          0.1531231075,
                          0.9007344926,
                          0.04417857143
                        ]
                      },
                      {
                        "learn": [
                          0.03758829365
                        ],
                        "iteration": 588,
                        "passed_time": 16.83517963,
                        "remaining_time": 40.33011623,
                        "test": [
                          0.1520393575,
                          0.900108998,
                          0.04417857143
                        ]
                      },
                      {
                        "learn": [
                          0.03758829365
                        ],
                        "iteration": 589,
                        "passed_time": 16.85877528,
                        "remaining_time": 40.2896155,
                        "test": [
                          0.1508400981,
                          0.8966978202,
                          0.04317857143
                        ]
                      },
                      {
                        "learn": [
                          0.03758829365
                        ],
                        "iteration": 590,
                        "passed_time": 16.8836996,
                        "remaining_time": 40.25233966,
                        "test": [
                          0.1523400981,
                          0.9003885226,
                          0.04317857143
                        ]
                      },
                      {
                        "learn": [
                          0.03758829365
                        ],
                        "iteration": 591,
                        "passed_time": 16.9066906,
                        "remaining_time": 40.21050737,
                        "test": [
                          0.1516745402,
                          0.8999718813,
                          0.04317857143
                        ]
                      },
                      {
                        "learn": [
                          0.03758829365
                        ],
                        "iteration": 592,
                        "passed_time": 16.93108838,
                        "remaining_time": 40.17207648,
                        "test": [
                          0.1516745402,
                          0.8995904112,
                          0.04317857143
                        ]
                      },
                      {
                        "learn": [
                          0.03758829365
                        ],
                        "iteration": 593,
                        "passed_time": 16.96504135,
                        "remaining_time": 40.15631,
                        "test": [
                          0.1516745402,
                          0.9001597841,
                          0.04317857143
                        ]
                      },
                      {
                        "learn": [
                          0.03758829365
                        ],
                        "iteration": 594,
                        "passed_time": 16.99209238,
                        "remaining_time": 40.12418454,
                        "test": [
                          0.1516745402,
                          0.9001597841,
                          0.04317857143
                        ]
                      },
                      {
                        "learn": [
                          0.03758829365
                        ],
                        "iteration": 595,
                        "passed_time": 17.01550586,
                        "remaining_time": 40.08350709,
                        "test": [
                          0.1516745402,
                          0.8999718813,
                          0.04317857143
                        ]
                      },
                      {
                        "learn": [
                          0.03758829365
                        ],
                        "iteration": 596,
                        "passed_time": 17.03810038,
                        "remaining_time": 40.04096288,
                        "test": [
                          0.1516745402,
                          0.8999718813,
                          0.04317857143
                        ]
                      },
                      {
                        "learn": [
                          0.03758829365
                        ],
                        "iteration": 597,
                        "passed_time": 17.06079988,
                        "remaining_time": 39.9987315,
                        "test": [
                          0.1515203856,
                          0.8999183867,
                          0.04317857143
                        ]
                      },
                      {
                        "learn": [
                          0.03758829365
                        ],
                        "iteration": 598,
                        "passed_time": 17.08375718,
                        "remaining_time": 39.95716828,
                        "test": [
                          0.1513893543,
                          0.899870006,
                          0.04317857143
                        ]
                      },
                      {
                        "learn": [
                          0.03758829365
                        ],
                        "iteration": 599,
                        "passed_time": 17.10763491,
                        "remaining_time": 39.91781479,
                        "test": [
                          0.1513893543,
                          0.8997325886,
                          0.04317857143
                        ]
                      },
                      {
                        "learn": [
                          0.03758829365
                        ],
                        "iteration": 600,
                        "passed_time": 17.13204715,
                        "remaining_time": 39.87975702,
                        "test": [
                          0.1513893543,
                          0.8998059527,
                          0.04317857143
                        ]
                      },
                      {
                        "learn": [
                          0.03758829365
                        ],
                        "iteration": 601,
                        "passed_time": 17.15544066,
                        "remaining_time": 39.83937881,
                        "test": [
                          0.1513893543,
                          0.8999642533,
                          0.04317857143
                        ]
                      },
                      {
                        "learn": [
                          0.03758829365
                        ],
                        "iteration": 602,
                        "passed_time": 17.17970882,
                        "remaining_time": 39.80108329,
                        "test": [
                          0.1513893543,
                          0.8996389331,
                          0.04317857143
                        ]
                      },
                      {
                        "learn": [
                          0.03758829365
                        ],
                        "iteration": 603,
                        "passed_time": 17.22109799,
                        "remaining_time": 39.80240529,
                        "test": [
                          0.1513893543,
                          0.8996389331,
                          0.04317857143
                        ]
                      },
                      {
                        "learn": [
                          0.03758829365
                        ],
                        "iteration": 604,
                        "passed_time": 17.27476183,
                        "remaining_time": 39.83188885,
                        "test": [
                          0.1509084887,
                          0.8994945843,
                          0.04317857143
                        ]
                      },
                      {
                        "learn": [
                          0.03758829365
                        ],
                        "iteration": 605,
                        "passed_time": 17.29816727,
                        "remaining_time": 39.79149368,
                        "test": [
                          0.1528893543,
                          0.901901877,
                          0.04317857143
                        ]
                      },
                      {
                        "learn": [
                          0.03758829365
                        ],
                        "iteration": 606,
                        "passed_time": 17.32256113,
                        "remaining_time": 39.75342282,
                        "test": [
                          0.1513893543,
                          0.8998268359,
                          0.04317857143
                        ]
                      },
                      {
                        "learn": [
                          0.03758829365
                        ],
                        "iteration": 607,
                        "passed_time": 17.34925436,
                        "remaining_time": 39.72066131,
                        "test": [
                          0.1509084887,
                          0.8995830914,
                          0.04317857143
                        ]
                      },
                      {
                        "learn": [
                          0.03758829365
                        ],
                        "iteration": 608,
                        "passed_time": 17.37295227,
                        "remaining_time": 39.68107817,
                        "test": [
                          0.1509084887,
                          0.8995830914,
                          0.04317857143
                        ]
                      },
                      {
                        "learn": [
                          0.03758829365
                        ],
                        "iteration": 609,
                        "passed_time": 17.39730095,
                        "remaining_time": 39.64303004,
                        "test": [
                          0.1509084887,
                          0.8996926513,
                          0.04317857143
                        ]
                      },
                      {
                        "learn": [
                          0.03758829365
                        ],
                        "iteration": 610,
                        "passed_time": 17.42022171,
                        "remaining_time": 39.6017806,
                        "test": [
                          0.1512623012,
                          0.9004541514,
                          0.04317857143
                        ]
                      },
                      {
                        "learn": [
                          0.03758829365
                        ],
                        "iteration": 611,
                        "passed_time": 17.44352729,
                        "remaining_time": 39.56146386,
                        "test": [
                          0.1499873012,
                          0.8991448539,
                          0.04317857143
                        ]
                      },
                      {
                        "learn": [
                          0.03758829365
                        ],
                        "iteration": 612,
                        "passed_time": 17.46759443,
                        "remaining_time": 39.52292573,
                        "test": [
                          0.1499873012,
                          0.8991448539,
                          0.04317857143
                        ]
                      },
                      {
                        "learn": [
                          0.03758829365
                        ],
                        "iteration": 613,
                        "passed_time": 17.49202852,
                        "remaining_time": 39.48526307,
                        "test": [
                          0.1482831043,
                          0.8985696936,
                          0.04317857143
                        ]
                      },
                      {
                        "learn": [
                          0.03758829365
                        ],
                        "iteration": 614,
                        "passed_time": 17.51698332,
                        "remaining_time": 39.44881609,
                        "test": [
                          0.1476175463,
                          0.898340955,
                          0.04317857143
                        ]
                      },
                      {
                        "learn": [
                          0.03758829365
                        ],
                        "iteration": 615,
                        "passed_time": 17.54042105,
                        "remaining_time": 39.40899794,
                        "test": [
                          0.1505661137,
                          0.9011390936,
                          0.04317857143
                        ]
                      },
                      {
                        "learn": [
                          0.03758829365
                        ],
                        "iteration": 616,
                        "passed_time": 17.56362851,
                        "remaining_time": 39.36871673,
                        "test": [
                          0.1527316717,
                          0.9030105054,
                          0.04317857143
                        ]
                      },
                      {
                        "learn": [
                          0.03758829365
                        ],
                        "iteration": 617,
                        "passed_time": 17.58753462,
                        "remaining_time": 39.33005314,
                        "test": [
                          0.1527316717,
                          0.9030998003,
                          0.04317857143
                        ]
                      },
                      {
                        "learn": [
                          0.03758829365
                        ],
                        "iteration": 618,
                        "passed_time": 17.61422861,
                        "remaining_time": 39.29765703,
                        "test": [
                          0.1517125373,
                          0.901366736,
                          0.04317857143
                        ]
                      },
                      {
                        "learn": [
                          0.03758829365
                        ],
                        "iteration": 619,
                        "passed_time": 17.63728455,
                        "remaining_time": 39.25718175,
                        "test": [
                          0.1502639699,
                          0.9009500947,
                          0.04317857143
                        ]
                      },
                      {
                        "learn": [
                          0.03758829365
                        ],
                        "iteration": 620,
                        "passed_time": 17.65991183,
                        "remaining_time": 39.21581065,
                        "test": [
                          0.1489021481,
                          0.899005754,
                          0.04317857143
                        ]
                      },
                      {
                        "learn": [
                          0.03758829365
                        ],
                        "iteration": 621,
                        "passed_time": 17.68525558,
                        "remaining_time": 39.18051798,
                        "test": [
                          0.1479809606,
                          0.8985675165,
                          0.04317857143
                        ]
                      },
                      {
                        "learn": [
                          0.03758829365
                        ],
                        "iteration": 622,
                        "passed_time": 17.70826791,
                        "remaining_time": 39.14010419,
                        "test": [
                          0.1475000949,
                          0.8984793177,
                          0.04317857143
                        ]
                      },
                      {
                        "learn": [
                          0.03758829365
                        ],
                        "iteration": 623,
                        "passed_time": 17.73136053,
                        "remaining_time": 39.09992322,
                        "test": [
                          0.1492042918,
                          0.8991054579,
                          0.04317857143
                        ]
                      },
                      {
                        "learn": [
                          0.03758829365
                        ],
                        "iteration": 624,
                        "passed_time": 17.75490968,
                        "remaining_time": 39.0608013,
                        "test": [
                          0.1499481306,
                          0.9011475313,
                          0.04217857143
                        ]
                      },
                      {
                        "learn": [
                          0.03758829365
                        ],
                        "iteration": 625,
                        "passed_time": 17.78063405,
                        "remaining_time": 39.02650348,
                        "test": [
                          0.1499481306,
                          0.9014728515,
                          0.04217857143
                        ]
                      },
                      {
                        "learn": [
                          0.03758829365
                        ],
                        "iteration": 626,
                        "passed_time": 17.80345554,
                        "remaining_time": 38.98587632,
                        "test": [
                          0.1499481306,
                          0.9014728515,
                          0.04217857143
                        ]
                      },
                      {
                        "learn": [
                          0.03758829365
                        ],
                        "iteration": 627,
                        "passed_time": 17.82853802,
                        "remaining_time": 38.95024547,
                        "test": [
                          0.1506136886,
                          0.90170159,
                          0.04217857143
                        ]
                      },
                      {
                        "learn": [
                          0.03758829365
                        ],
                        "iteration": 628,
                        "passed_time": 17.8514821,
                        "remaining_time": 38.90998721,
                        "test": [
                          0.1507042918,
                          0.901693722,
                          0.04317857143
                        ]
                      },
                      {
                        "learn": [
                          0.03758829365
                        ],
                        "iteration": 629,
                        "passed_time": 17.87450508,
                        "remaining_time": 38.86995549,
                        "test": [
                          0.148795556,
                          0.8993111264,
                          0.04317857143
                        ]
                      },
                      {
                        "learn": [
                          0.03758829365
                        ],
                        "iteration": 630,
                        "passed_time": 17.89762614,
                        "remaining_time": 38.83019047,
                        "test": [
                          0.150295556,
                          0.9015740703,
                          0.04317857143
                        ]
                      },
                      {
                        "learn": [
                          0.03758829365
                        ],
                        "iteration": 631,
                        "passed_time": 17.92041032,
                        "remaining_time": 38.78974891,
                        "test": [
                          0.1491651212,
                          0.9012849487,
                          0.04217857143
                        ]
                      },
                      {
                        "learn": [
                          0.03758829365
                        ],
                        "iteration": 632,
                        "passed_time": 17.9426809,
                        "remaining_time": 38.74825402,
                        "test": [
                          0.1476651212,
                          0.8986966847,
                          0.04217857143
                        ]
                      },
                      {
                        "learn": [
                          0.03758829365
                        ],
                        "iteration": 633,
                        "passed_time": 17.96903935,
                        "remaining_time": 38.71562738,
                        "test": [
                          0.1476651212,
                          0.8986966847,
                          0.04217857143
                        ]
                      },
                      {
                        "learn": [
                          0.03758829365
                        ],
                        "iteration": 634,
                        "passed_time": 18.00605693,
                        "remaining_time": 38.7059334,
                        "test": [
                          0.1476651212,
                          0.8986966847,
                          0.04217857143
                        ]
                      },
                      {
                        "learn": [
                          0.03758829365
                        ],
                        "iteration": 635,
                        "passed_time": 18.0302904,
                        "remaining_time": 38.66873602,
                        "test": [
                          0.1491651212,
                          0.9004286528,
                          0.04217857143
                        ]
                      },
                      {
                        "learn": [
                          0.03758829365
                        ],
                        "iteration": 636,
                        "passed_time": 18.0529724,
                        "remaining_time": 38.62825963,
                        "test": [
                          0.1491651212,
                          0.9004820628,
                          0.04217857143
                        ]
                      },
                      {
                        "learn": [
                          0.03758829365
                        ],
                        "iteration": 637,
                        "passed_time": 18.0763609,
                        "remaining_time": 38.58934725,
                        "test": [
                          0.1491651212,
                          0.9005382128,
                          0.04217857143
                        ]
                      },
                      {
                        "learn": [
                          0.03758829365
                        ],
                        "iteration": 638,
                        "passed_time": 18.09992189,
                        "remaining_time": 38.55085086,
                        "test": [
                          0.1498306792,
                          0.9007669513,
                          0.04217857143
                        ]
                      },
                      {
                        "learn": [
                          0.03758829365
                        ],
                        "iteration": 639,
                        "passed_time": 18.12291308,
                        "remaining_time": 38.51119029,
                        "test": [
                          0.1484995633,
                          0.9003640202,
                          0.04117857143
                        ]
                      },
                      {
                        "learn": [
                          0.03758829365
                        ],
                        "iteration": 640,
                        "passed_time": 18.14608673,
                        "remaining_time": 38.47196858,
                        "test": [
                          0.1491651212,
                          0.9004345629,
                          0.04117857143
                        ]
                      },
                      {
                        "learn": [
                          0.03758829365
                        ],
                        "iteration": 641,
                        "passed_time": 18.17017813,
                        "remaining_time": 38.43473817,
                        "test": [
                          0.1495125467,
                          0.9005357818,
                          0.04217857143
                        ]
                      },
                      {
                        "learn": [
                          0.03758829365
                        ],
                        "iteration": 642,
                        "passed_time": 18.19566484,
                        "remaining_time": 38.40049329,
                        "test": [
                          0.1491651212,
                          0.900325003,
                          0.04117857143
                        ]
                      },
                      {
                        "learn": [
                          0.03758829365
                        ],
                        "iteration": 643,
                        "passed_time": 18.21991036,
                        "remaining_time": 38.36366219,
                        "test": [
                          0.1495125467,
                          0.9005357818,
                          0.04217857143
                        ]
                      },
                      {
                        "learn": [
                          0.03758829365
                        ],
                        "iteration": 644,
                        "passed_time": 18.26911895,
                        "remaining_time": 38.3793119,
                        "test": [
                          0.1491651212,
                          0.9003725028,
                          0.04217857143
                        ]
                      },
                      {
                        "learn": [
                          0.03758829365
                        ],
                        "iteration": 645,
                        "passed_time": 18.31757035,
                        "remaining_time": 38.39317377,
                        "test": [
                          0.1491651212,
                          0.9004135101,
                          0.04117857143
                        ]
                      },
                      {
                        "learn": [
                          0.03758829365
                        ],
                        "iteration": 646,
                        "passed_time": 18.3403963,
                        "remaining_time": 38.35325533,
                        "test": [
                          0.1491651212,
                          0.900325003,
                          0.04117857143
                        ]
                      },
                      {
                        "learn": [
                          0.03758829365
                        ],
                        "iteration": 647,
                        "passed_time": 18.3637659,
                        "remaining_time": 38.31452391,
                        "test": [
                          0.1491651212,
                          0.900325003,
                          0.04117857143
                        ]
                      },
                      {
                        "learn": [
                          0.03758829365
                        ],
                        "iteration": 648,
                        "passed_time": 18.38757463,
                        "remaining_time": 38.27675396,
                        "test": [
                          0.1476651212,
                          0.8986815419,
                          0.04117857143
                        ]
                      },
                      {
                        "learn": [
                          0.03758829365
                        ],
                        "iteration": 649,
                        "passed_time": 18.41104875,
                        "remaining_time": 38.23833201,
                        "test": [
                          0.1476651212,
                          0.8986815419,
                          0.04117857143
                        ]
                      },
                      {
                        "learn": [
                          0.03758829365
                        ],
                        "iteration": 650,
                        "passed_time": 18.43522666,
                        "remaining_time": 38.20141439,
                        "test": [
                          0.1476651212,
                          0.8986815419,
                          0.04117857143
                        ]
                      },
                      {
                        "learn": [
                          0.03758829365
                        ],
                        "iteration": 651,
                        "passed_time": 18.45873856,
                        "remaining_time": 38.16315886,
                        "test": [
                          0.1476651212,
                          0.8986815419,
                          0.04117857143
                        ]
                      },
                      {
                        "learn": [
                          0.03758829365
                        ],
                        "iteration": 652,
                        "passed_time": 18.48290682,
                        "remaining_time": 38.12630243,
                        "test": [
                          0.1476651212,
                          0.8986815419,
                          0.04117857143
                        ]
                      },
                      {
                        "learn": [
                          0.03758829365
                        ],
                        "iteration": 653,
                        "passed_time": 18.50562505,
                        "remaining_time": 38.08650048,
                        "test": [
                          0.1476651212,
                          0.8987911019,
                          0.04117857143
                        ]
                      },
                      {
                        "learn": [
                          0.03758829365
                        ],
                        "iteration": 654,
                        "passed_time": 18.53121805,
                        "remaining_time": 38.05265386,
                        "test": [
                          0.1484481306,
                          0.8988222292,
                          0.04117857143
                        ]
                      },
                      {
                        "learn": [
                          0.03758829365
                        ],
                        "iteration": 655,
                        "passed_time": 18.55498425,
                        "remaining_time": 38.01508968,
                        "test": [
                          0.1484481306,
                          0.8987126692,
                          0.04117857143
                        ]
                      },
                      {
                        "learn": [
                          0.03758829365
                        ],
                        "iteration": 656,
                        "passed_time": 18.57823956,
                        "remaining_time": 37.97652319,
                        "test": [
                          0.1484481306,
                          0.8987126692,
                          0.04117857143
                        ]
                      },
                      {
                        "learn": [
                          0.03758829365
                        ],
                        "iteration": 657,
                        "passed_time": 18.60068156,
                        "remaining_time": 37.93634446,
                        "test": [
                          0.148795556,
                          0.8988138881,
                          0.04217857143
                        ]
                      },
                      {
                        "learn": [
                          0.03758829365
                        ],
                        "iteration": 658,
                        "passed_time": 18.62361265,
                        "remaining_time": 37.89721482,
                        "test": [
                          0.148795556,
                          0.8988138881,
                          0.04217857143
                        ]
                      },
                      {
                        "learn": [
                          0.03758829365
                        ],
                        "iteration": 659,
                        "passed_time": 18.65070139,
                        "remaining_time": 37.86657555,
                        "test": [
                          0.1484212824,
                          0.8988139054,
                          0.04217857143
                        ]
                      },
                      {
                        "learn": [
                          0.03758829365
                        ],
                        "iteration": 660,
                        "passed_time": 18.67759511,
                        "remaining_time": 37.83555196,
                        "test": [
                          0.1484212824,
                          0.8988326575,
                          0.04217857143
                        ]
                      },
                      {
                        "learn": [
                          0.03758829365
                        ],
                        "iteration": 661,
                        "passed_time": 18.70045824,
                        "remaining_time": 37.79639445,
                        "test": [
                          0.1484212824,
                          0.8988326575,
                          0.04217857143
                        ]
                      },
                      {
                        "learn": [
                          0.03758829365
                        ],
                        "iteration": 662,
                        "passed_time": 18.72325534,
                        "remaining_time": 37.75715292,
                        "test": [
                          0.146834537,
                          0.8983051251,
                          0.04217857143
                        ]
                      },
                      {
                        "learn": [
                          0.03758829365
                        ],
                        "iteration": 663,
                        "passed_time": 18.74585562,
                        "remaining_time": 37.71756493,
                        "test": [
                          0.1475000949,
                          0.89839442,
                          0.04217857143
                        ]
                      },
                      {
                        "learn": [
                          0.03758829365
                        ],
                        "iteration": 664,
                        "passed_time": 18.76901544,
                        "remaining_time": 37.67915129,
                        "test": [
                          0.1477557245,
                          0.8985738292,
                          0.04217857143
                        ]
                      },
                      {
                        "learn": [
                          0.03758829365
                        ],
                        "iteration": 665,
                        "passed_time": 18.79230769,
                        "remaining_time": 37.64104873,
                        "test": [
                          0.1484212824,
                          0.8986631241,
                          0.04217857143
                        ]
                      },
                      {
                        "learn": [
                          0.03758829365
                        ],
                        "iteration": 666,
                        "passed_time": 18.81505014,
                        "remaining_time": 37.6018918,
                        "test": [
                          0.1490307245,
                          0.8998831267,
                          0.04217857143
                        ]
                      },
                      {
                        "learn": [
                          0.03758829365
                        ],
                        "iteration": 667,
                        "passed_time": 18.83834952,
                        "remaining_time": 37.56389456,
                        "test": [
                          0.1479207508,
                          0.898614182,
                          0.04117857143
                        ]
                      },
                      {
                        "learn": [
                          0.03758829365
                        ],
                        "iteration": 668,
                        "passed_time": 18.86231227,
                        "remaining_time": 37.52726103,
                        "test": [
                          0.1469995633,
                          0.8981759445,
                          0.04117857143
                        ]
                      },
                      {
                        "learn": [
                          0.03758829365
                        ],
                        "iteration": 669,
                        "passed_time": 18.8856252,
                        "remaining_time": 37.48937541,
                        "test": [
                          0.1479207508,
                          0.8987026891,
                          0.04117857143
                        ]
                      },
                      {
                        "learn": [
                          0.03758829365
                        ],
                        "iteration": 670,
                        "passed_time": 18.9102918,
                        "remaining_time": 37.45421431,
                        "test": [
                          0.1479207508,
                          0.8987026891,
                          0.04117857143
                        ]
                      },
                      {
                        "learn": [
                          0.03758829365
                        ],
                        "iteration": 671,
                        "passed_time": 18.93304153,
                        "remaining_time": 37.41529636,
                        "test": [
                          0.1491957508,
                          0.9000352456,
                          0.04117857143
                        ]
                      },
                      {
                        "learn": [
                          0.03758829365
                        ],
                        "iteration": 672,
                        "passed_time": 18.95649499,
                        "remaining_time": 37.37781404,
                        "test": [
                          0.1498613087,
                          0.9004439874,
                          0.04217857143
                        ]
                      },
                      {
                        "learn": [
                          0.03758829365
                        ],
                        "iteration": 673,
                        "passed_time": 18.98067563,
                        "remaining_time": 37.34180399,
                        "test": [
                          0.1498613087,
                          0.9005698922,
                          0.04217857143
                        ]
                      },
                      {
                        "learn": [
                          0.03758829365
                        ],
                        "iteration": 674,
                        "passed_time": 19.02136504,
                        "remaining_time": 37.33823508,
                        "test": [
                          0.1495659971,
                          0.9004828443,
                          0.04217857143
                        ]
                      },
                      {
                        "learn": [
                          0.03758829365
                        ],
                        "iteration": 675,
                        "passed_time": 19.04442967,
                        "remaining_time": 37.3000368,
                        "test": [
                          0.1510659971,
                          0.9027457882,
                          0.04217857143
                        ]
                      },
                      {
                        "learn": [
                          0.03758829365
                        ],
                        "iteration": 676,
                        "passed_time": 19.06787415,
                        "remaining_time": 37.26262556,
                        "test": [
                          0.1510659971,
                          0.9027991614,
                          0.04217857143
                        ]
                      },
                      {
                        "learn": [
                          0.03758829365
                        ],
                        "iteration": 677,
                        "passed_time": 19.09051989,
                        "remaining_time": 37.22369807,
                        "test": [
                          0.1510659971,
                          0.9027991614,
                          0.04217857143
                        ]
                      },
                      {
                        "learn": [
                          0.03758829365
                        ],
                        "iteration": 678,
                        "passed_time": 19.11402489,
                        "remaining_time": 37.18649025,
                        "test": [
                          0.1510659971,
                          0.9027991614,
                          0.04217857143
                        ]
                      },
                      {
                        "learn": [
                          0.03758829365
                        ],
                        "iteration": 679,
                        "passed_time": 19.13702136,
                        "remaining_time": 37.14833558,
                        "test": [
                          0.1501448096,
                          0.9023075507,
                          0.04217857143
                        ]
                      },
                      {
                        "learn": [
                          0.03758829365
                        ],
                        "iteration": 680,
                        "passed_time": 19.16076669,
                        "remaining_time": 37.11167586,
                        "test": [
                          0.1488698096,
                          0.9009982531,
                          0.04217857143
                        ]
                      },
                      {
                        "learn": [
                          0.03758829365
                        ],
                        "iteration": 681,
                        "passed_time": 19.18313766,
                        "remaining_time": 37.072398,
                        "test": [
                          0.1488698096,
                          0.9009982531,
                          0.04217857143
                        ]
                      },
                      {
                        "learn": [
                          0.03758829365
                        ],
                        "iteration": 682,
                        "passed_time": 19.20796055,
                        "remaining_time": 37.03789758,
                        "test": [
                          0.1490740065,
                          0.8992931812,
                          0.04217857143
                        ]
                      },
                      {
                        "learn": [
                          0.03758829365
                        ],
                        "iteration": 683,
                        "passed_time": 19.23043455,
                        "remaining_time": 36.99890624,
                        "test": [
                          0.1490740065,
                          0.8993465544,
                          0.04217857143
                        ]
                      },
                      {
                        "learn": [
                          0.03758829365
                        ],
                        "iteration": 684,
                        "passed_time": 19.25306682,
                        "remaining_time": 36.96026696,
                        "test": [
                          0.1480868002,
                          0.9002141944,
                          0.04217857143
                        ]
                      },
                      {
                        "learn": [
                          0.03758829365
                        ],
                        "iteration": 685,
                        "passed_time": 19.27597687,
                        "remaining_time": 36.92220642,
                        "test": [
                          0.1465868002,
                          0.8984822263,
                          0.04217857143
                        ]
                      },
                      {
                        "learn": [
                          0.03758829365
                        ],
                        "iteration": 686,
                        "passed_time": 19.33771356,
                        "remaining_time": 36.95839578,
                        "test": [
                          0.1465868002,
                          0.8984288531,
                          0.04217857143
                        ]
                      },
                      {
                        "learn": [
                          0.03758829365
                        ],
                        "iteration": 687,
                        "passed_time": 19.37483842,
                        "remaining_time": 36.94736628,
                        "test": [
                          0.1482092257,
                          0.8998393694,
                          0.04317857143
                        ]
                      },
                      {
                        "learn": [
                          0.03758829365
                        ],
                        "iteration": 688,
                        "passed_time": 19.39917991,
                        "remaining_time": 36.91193739,
                        "test": [
                          0.1493618002,
                          0.9019449445,
                          0.04217857143
                        ]
                      },
                      {
                        "learn": [
                          0.03758829365
                        ],
                        "iteration": 689,
                        "passed_time": 19.42237603,
                        "remaining_time": 36.87436608,
                        "test": [
                          0.1493618002,
                          0.9019449445,
                          0.04217857143
                        ]
                      },
                      {
                        "learn": [
                          0.03758829365
                        ],
                        "iteration": 690,
                        "passed_time": 19.44526947,
                        "remaining_time": 36.836263,
                        "test": [
                          0.1493618002,
                          0.9019449445,
                          0.04217857143
                        ]
                      },
                      {
                        "learn": [
                          0.03758829365
                        ],
                        "iteration": 691,
                        "passed_time": 19.46777741,
                        "remaining_time": 36.79747522,
                        "test": [
                          0.1493618002,
                          0.9020010945,
                          0.04217857143
                        ]
                      },
                      {
                        "learn": [
                          0.03758829365
                        ],
                        "iteration": 692,
                        "passed_time": 19.49122037,
                        "remaining_time": 36.76049787,
                        "test": [
                          0.1493618002,
                          0.9021106544,
                          0.04217857143
                        ]
                      },
                      {
                        "learn": [
                          0.03758829365
                        ],
                        "iteration": 693,
                        "passed_time": 19.51733109,
                        "remaining_time": 36.72857984,
                        "test": [
                          0.1512092257,
                          0.9039438414,
                          0.04317857143
                        ]
                      },
                      {
                        "learn": [
                          0.03758829365
                        ],
                        "iteration": 694,
                        "passed_time": 19.54075757,
                        "remaining_time": 36.69163832,
                        "test": [
                          0.1512092257,
                          0.9038666385,
                          0.04317857143
                        ]
                      },
                      {
                        "learn": [
                          0.03758829365
                        ],
                        "iteration": 695,
                        "passed_time": 19.56370598,
                        "remaining_time": 36.65383994,
                        "test": [
                          0.1508618002,
                          0.9038398458,
                          0.04217857143
                        ]
                      },
                      {
                        "learn": [
                          0.03758829365
                        ],
                        "iteration": 696,
                        "passed_time": 19.58646817,
                        "remaining_time": 36.61573604,
                        "test": [
                          0.1508618002,
                          0.9035684146,
                          0.04217857143
                        ]
                      },
                      {
                        "learn": [
                          0.03758829365
                        ],
                        "iteration": 697,
                        "passed_time": 19.60963778,
                        "remaining_time": 36.57843608,
                        "test": [
                          0.1512092257,
                          0.9037257834,
                          0.04317857143
                        ]
                      },
                      {
                        "learn": [
                          0.03758829365
                        ],
                        "iteration": 698,
                        "passed_time": 19.63271985,
                        "remaining_time": 36.54101362,
                        "test": [
                          0.1512092257,
                          0.9037257834,
                          0.04317857143
                        ]
                      },
                      {
                        "learn": [
                          0.03758829365
                        ],
                        "iteration": 699,
                        "passed_time": 19.65581781,
                        "remaining_time": 36.50366164,
                        "test": [
                          0.1512092257,
                          0.9036724103,
                          0.04317857143
                        ]
                      },
                      {
                        "learn": [
                          0.03758829365
                        ],
                        "iteration": 700,
                        "passed_time": 19.68181805,
                        "remaining_time": 36.47172846,
                        "test": [
                          0.1512092257,
                          0.9036724103,
                          0.04317857143
                        ]
                      },
                      {
                        "learn": [
                          0.03758829365
                        ],
                        "iteration": 701,
                        "passed_time": 19.7084057,
                        "remaining_time": 36.44089829,
                        "test": [
                          0.1508618002,
                          0.9036596985,
                          0.04217857143
                        ]
                      },
                      {
                        "learn": [
                          0.03758829365
                        ],
                        "iteration": 702,
                        "passed_time": 19.73171241,
                        "remaining_time": 36.40402703,
                        "test": [
                          0.1493618002,
                          0.9018392233,
                          0.04217857143
                        ]
                      },
                      {
                        "learn": [
                          0.03758829365
                        ],
                        "iteration": 703,
                        "passed_time": 19.75734402,
                        "remaining_time": 36.37147422,
                        "test": [
                          0.1493618002,
                          0.9020896015,
                          0.04217857143
                        ]
                      },
                      {
                        "learn": [
                          0.03758829365
                        ],
                        "iteration": 704,
                        "passed_time": 19.78030385,
                        "remaining_time": 36.33403331,
                        "test": [
                          0.1493618002,
                          0.9020896015,
                          0.04217857143
                        ]
                      },
                      {
                        "learn": [
                          0.03758829365
                        ],
                        "iteration": 705,
                        "passed_time": 19.80394545,
                        "remaining_time": 36.29788302,
                        "test": [
                          0.1508618002,
                          0.9038583067,
                          0.04317857143
                        ]
                      },
                      {
                        "learn": [
                          0.03758829365
                        ],
                        "iteration": 706,
                        "passed_time": 19.8279364,
                        "remaining_time": 36.26240702,
                        "test": [
                          0.1508618002,
                          0.9039678666,
                          0.04317857143
                        ]
                      },
                      {
                        "learn": [
                          0.03758829365
                        ],
                        "iteration": 707,
                        "passed_time": 19.85101244,
                        "remaining_time": 36.22529389,
                        "test": [
                          0.1504401212,
                          0.9025898888,
                          0.04217857143
                        ]
                      },
                      {
                        "learn": [
                          0.03758829365
                        ],
                        "iteration": 708,
                        "passed_time": 19.8751112,
                        "remaining_time": 36.19008259,
                        "test": [
                          0.1504401212,
                          0.9025898888,
                          0.04217857143
                        ]
                      },
                      {
                        "learn": [
                          0.03758829365
                        ],
                        "iteration": 709,
                        "passed_time": 19.89811557,
                        "remaining_time": 36.15291421,
                        "test": [
                          0.1507875467,
                          0.9027867714,
                          0.04417857143
                        ]
                      },
                      {
                        "learn": [
                          0.03758829365
                        ],
                        "iteration": 710,
                        "passed_time": 19.92254581,
                        "remaining_time": 36.11837068,
                        "test": [
                          0.1500045373,
                          0.9025898751,
                          0.04417857143
                        ]
                      },
                      {
                        "learn": [
                          0.03758829365
                        ],
                        "iteration": 711,
                        "passed_time": 19.94527746,
                        "remaining_time": 36.08078282,
                        "test": [
                          0.1487295373,
                          0.9012805776,
                          0.04417857143
                        ]
                      },
                      {
                        "learn": [
                          0.03758829365
                        ],
                        "iteration": 712,
                        "passed_time": 19.96837103,
                        "remaining_time": 36.04388993,
                        "test": [
                          0.1499481306,
                          0.9016054494,
                          0.04317857143
                        ]
                      },
                      {
                        "learn": [
                          0.03758829365
                        ],
                        "iteration": 713,
                        "passed_time": 19.99290137,
                        "remaining_time": 36.00962348,
                        "test": [
                          0.1506651212,
                          0.9032177831,
                          0.04317857143
                        ]
                      },
                      {
                        "learn": [
                          0.03758829365
                        ],
                        "iteration": 714,
                        "passed_time": 20.02341554,
                        "remaining_time": 35.98613841,
                        "test": [
                          0.1498821119,
                          0.9028156631,
                          0.04217857143
                        ]
                      },
                      {
                        "learn": [
                          0.03758829365
                        ],
                        "iteration": 715,
                        "passed_time": 20.05558851,
                        "remaining_time": 35.96560845,
                        "test": [
                          0.1498821119,
                          0.9028156631,
                          0.04217857143
                        ]
                      },
                      {
                        "learn": [
                          0.03758829365
                        ],
                        "iteration": 716,
                        "passed_time": 20.0789755,
                        "remaining_time": 35.92932437,
                        "test": [
                          0.1511571119,
                          0.9040154007,
                          0.04217857143
                        ]
                      },
                      {
                        "learn": [
                          0.03758829365
                        ],
                        "iteration": 717,
                        "passed_time": 20.10124859,
                        "remaining_time": 35.89108732,
                        "test": [
                          0.1519401212,
                          0.9041350351,
                          0.04217857143
                        ]
                      },
                      {
                        "learn": [
                          0.03758829365
                        ],
                        "iteration": 718,
                        "passed_time": 20.12405088,
                        "remaining_time": 35.85383752,
                        "test": [
                          0.1538535654,
                          0.9047396064,
                          0.04317857143
                        ]
                      },
                      {
                        "learn": [
                          0.03758829365
                        ],
                        "iteration": 719,
                        "passed_time": 20.14720763,
                        "remaining_time": 35.81725802,
                        "test": [
                          0.1538535654,
                          0.9048491663,
                          0.04317857143
                        ]
                      },
                      {
                        "learn": [
                          0.03758829365
                        ],
                        "iteration": 720,
                        "passed_time": 20.17068735,
                        "remaining_time": 35.78128866,
                        "test": [
                          0.1538535654,
                          0.9048491663,
                          0.04317857143
                        ]
                      },
                      {
                        "learn": [
                          0.03758829365
                        ],
                        "iteration": 721,
                        "passed_time": 20.19637614,
                        "remaining_time": 35.74926413,
                        "test": [
                          0.153070556,
                          0.9046320051,
                          0.04317857143
                        ]
                      },
                      {
                        "learn": [
                          0.03758829365
                        ],
                        "iteration": 722,
                        "passed_time": 20.21894507,
                        "remaining_time": 35.71174669,
                        "test": [
                          0.153070556,
                          0.9046320051,
                          0.04317857143
                        ]
                      },
                      {
                        "learn": [
                          0.03758829365
                        ],
                        "iteration": 723,
                        "passed_time": 20.24223556,
                        "remaining_time": 35.67554223,
                        "test": [
                          0.153070556,
                          0.9046320051,
                          0.04317857143
                        ]
                      },
                      {
                        "learn": [
                          0.03758829365
                        ],
                        "iteration": 724,
                        "passed_time": 20.2655765,
                        "remaining_time": 35.63946212,
                        "test": [
                          0.1538535654,
                          0.9049779751,
                          0.04417857143
                        ]
                      },
                      {
                        "learn": [
                          0.03758829365
                        ],
                        "iteration": 725,
                        "passed_time": 20.2888318,
                        "remaining_time": 35.60326682,
                        "test": [
                          0.1538535654,
                          0.9048886801,
                          0.04417857143
                        ]
                      },
                      {
                        "learn": [
                          0.03758829365
                        ],
                        "iteration": 726,
                        "passed_time": 20.34059979,
                        "remaining_time": 35.61703374,
                        "test": [
                          0.1538535654,
                          0.9046906131,
                          0.04417857143
                        ]
                      },
                      {
                        "learn": [
                          0.03758829365
                        ],
                        "iteration": 727,
                        "passed_time": 20.39450102,
                        "remaining_time": 35.63434794,
                        "test": [
                          0.1538535654,
                          0.9046906131,
                          0.04417857143
                        ]
                      },
                      {
                        "learn": [
                          0.03758829365
                        ],
                        "iteration": 728,
                        "passed_time": 20.41777993,
                        "remaining_time": 35.59807722,
                        "test": [
                          0.1545497529,
                          0.9049611849,
                          0.04417857143
                        ]
                      },
                      {
                        "learn": [
                          0.03758829365
                        ],
                        "iteration": 729,
                        "passed_time": 20.44098725,
                        "remaining_time": 35.56171754,
                        "test": [
                          0.1539759908,
                          0.9044253113,
                          0.04517857143
                        ]
                      },
                      {
                        "learn": [
                          0.03758829365
                        ],
                        "iteration": 730,
                        "passed_time": 20.46428645,
                        "remaining_time": 35.52555336,
                        "test": [
                          0.1531929814,
                          0.9043523866,
                          0.04517857143
                        ]
                      },
                      {
                        "learn": [
                          0.03758829365
                        ],
                        "iteration": 731,
                        "passed_time": 20.48729469,
                        "remaining_time": 35.48892031,
                        "test": [
                          0.1531929814,
                          0.9043056769,
                          0.04517857143
                        ]
                      },
                      {
                        "learn": [
                          0.03758829365
                        ],
                        "iteration": 732,
                        "passed_time": 20.51173196,
                        "remaining_time": 35.45479453,
                        "test": [
                          0.1539759908,
                          0.904415871,
                          0.04517857143
                        ]
                      },
                      {
                        "learn": [
                          0.03758829365
                        ],
                        "iteration": 733,
                        "passed_time": 20.5349898,
                        "remaining_time": 35.41866089,
                        "test": [
                          0.1531929814,
                          0.9040627051,
                          0.04517857143
                        ]
                      },
                      {
                        "learn": [
                          0.03758829365
                        ],
                        "iteration": 734,
                        "passed_time": 20.55996287,
                        "remaining_time": 35.38551433,
                        "test": [
                          0.1546929814,
                          0.9059128853,
                          0.04617857143
                        ]
                      },
                      {
                        "learn": [
                          0.03758829365
                        ],
                        "iteration": 735,
                        "passed_time": 20.58288314,
                        "remaining_time": 35.34886452,
                        "test": [
                          0.1524099721,
                          0.9040051328,
                          0.04617857143
                        ]
                      },
                      {
                        "learn": [
                          0.03758829365
                        ],
                        "iteration": 736,
                        "passed_time": 20.60559486,
                        "remaining_time": 35.31189459,
                        "test": [
                          0.1531929814,
                          0.9042810367,
                          0.04617857143
                        ]
                      },
                      {
                        "learn": [
                          0.03758829365
                        ],
                        "iteration": 737,
                        "passed_time": 20.62904518,
                        "remaining_time": 35.2762263,
                        "test": [
                          0.1531929814,
                          0.9042810367,
                          0.04617857143
                        ]
                      },
                      {
                        "learn": [
                          0.03758829365
                        ],
                        "iteration": 738,
                        "passed_time": 20.65181936,
                        "remaining_time": 35.23943736,
                        "test": [
                          0.1531929814,
                          0.9042810367,
                          0.04617857143
                        ]
                      },
                      {
                        "learn": [
                          0.03758829365
                        ],
                        "iteration": 739,
                        "passed_time": 20.67800985,
                        "remaining_time": 35.20850326,
                        "test": [
                          0.1531929814,
                          0.9044049265,
                          0.04617857143
                        ]
                      },
                      {
                        "learn": [
                          0.03758829365
                        ],
                        "iteration": 740,
                        "passed_time": 20.70072874,
                        "remaining_time": 35.17168352,
                        "test": [
                          0.1531929814,
                          0.9043371867,
                          0.04617857143
                        ]
                      },
                      {
                        "learn": [
                          0.03758829365
                        ],
                        "iteration": 741,
                        "passed_time": 20.72387021,
                        "remaining_time": 35.13561823,
                        "test": [
                          0.1531929814,
                          0.9043371867,
                          0.04617857143
                        ]
                      },
                      {
                        "learn": [
                          0.03758829365
                        ],
                        "iteration": 742,
                        "passed_time": 20.74702948,
                        "remaining_time": 35.09961785,
                        "test": [
                          0.1531929814,
                          0.9044467467,
                          0.04617857143
                        ]
                      },
                      {
                        "learn": [
                          0.03758829365
                        ],
                        "iteration": 743,
                        "passed_time": 20.77117158,
                        "remaining_time": 35.06531116,
                        "test": [
                          0.1531929814,
                          0.9044467467,
                          0.04617857143
                        ]
                      },
                      {
                        "learn": [
                          0.03758829365
                        ],
                        "iteration": 744,
                        "passed_time": 20.79519895,
                        "remaining_time": 35.03083851,
                        "test": [
                          0.1537667435,
                          0.9046606407,
                          0.04517857143
                        ]
                      },
                      {
                        "learn": [
                          0.03758829365
                        ],
                        "iteration": 745,
                        "passed_time": 20.81933681,
                        "remaining_time": 34.99657957,
                        "test": [
                          0.1541141689,
                          0.9048180095,
                          0.04617857143
                        ]
                      },
                      {
                        "learn": [
                          0.03758829365
                        ],
                        "iteration": 746,
                        "passed_time": 20.84260751,
                        "remaining_time": 34.96089319,
                        "test": [
                          0.1541141689,
                          0.9048180095,
                          0.04617857143
                        ]
                      },
                      {
                        "learn": [
                          0.03758829365
                        ],
                        "iteration": 747,
                        "passed_time": 20.86572291,
                        "remaining_time": 34.92498005,
                        "test": [
                          0.1541141689,
                          0.9047913551,
                          0.04617857143
                        ]
                      },
                      {
                        "learn": [
                          0.03758829365
                        ],
                        "iteration": 748,
                        "passed_time": 20.88844194,
                        "remaining_time": 34.88843908,
                        "test": [
                          0.1560229047,
                          0.9085549996,
                          0.04617857143
                        ]
                      },
                      {
                        "learn": [
                          0.03758829365
                        ],
                        "iteration": 749,
                        "passed_time": 20.9118196,
                        "remaining_time": 34.85303267,
                        "test": [
                          0.1560229047,
                          0.9086227394,
                          0.04617857143
                        ]
                      },
                      {
                        "learn": [
                          0.03758829365
                        ],
                        "iteration": 750,
                        "passed_time": 20.93851919,
                        "remaining_time": 34.82318304,
                        "test": [
                          0.1564316405,
                          0.90846141,
                          0.04517857143
                        ]
                      },
                      {
                        "learn": [
                          0.03758829365
                        ],
                        "iteration": 751,
                        "passed_time": 20.96156786,
                        "remaining_time": 34.78728284,
                        "test": [
                          0.1569125062,
                          0.9086057588,
                          0.04517857143
                        ]
                      },
                      {
                        "learn": [
                          0.03758829365
                        ],
                        "iteration": 752,
                        "passed_time": 20.9849584,
                        "remaining_time": 34.7519829,
                        "test": [
                          0.1569125062,
                          0.9086057588,
                          0.04517857143
                        ]
                      },
                      {
                        "learn": [
                          0.03758829365
                        ],
                        "iteration": 753,
                        "passed_time": 21.00747419,
                        "remaining_time": 34.71526902,
                        "test": [
                          0.1573400523,
                          0.9089779823,
                          0.04517857143
                        ]
                      },
                      {
                        "learn": [
                          0.03758829365
                        ],
                        "iteration": 754,
                        "passed_time": 21.0301237,
                        "remaining_time": 34.67881326,
                        "test": [
                          0.1573400523,
                          0.9090908602,
                          0.04617857143
                        ]
                      },
                      {
                        "learn": [
                          0.03758829365
                        ],
                        "iteration": 755,
                        "passed_time": 21.0689924,
                        "remaining_time": 34.66908274,
                        "test": [
                          0.1575573374,
                          0.9091000784,
                          0.04617857143
                        ]
                      },
                      {
                        "learn": [
                          0.03758829365
                        ],
                        "iteration": 756,
                        "passed_time": 21.09140902,
                        "remaining_time": 34.63226079,
                        "test": [
                          0.1560573374,
                          0.9054093759,
                          0.04617857143
                        ]
                      },
                      {
                        "learn": [
                          0.03758829365
                        ],
                        "iteration": 757,
                        "passed_time": 21.11450337,
                        "remaining_time": 34.59658732,
                        "test": [
                          0.1560573374,
                          0.9054093759,
                          0.04617857143
                        ]
                      },
                      {
                        "learn": [
                          0.03758829365
                        ],
                        "iteration": 758,
                        "passed_time": 21.13731559,
                        "remaining_time": 34.56048571,
                        "test": [
                          0.1560573374,
                          0.9054093759,
                          0.04617857143
                        ]
                      },
                      {
                        "learn": [
                          0.03758829365
                        ],
                        "iteration": 759,
                        "passed_time": 21.1609807,
                        "remaining_time": 34.52581061,
                        "test": [
                          0.1556486016,
                          0.9052058713,
                          0.04617857143
                        ]
                      },
                      {
                        "learn": [
                          0.03758829365
                        ],
                        "iteration": 760,
                        "passed_time": 21.18628506,
                        "remaining_time": 34.49383336,
                        "test": [
                          0.1548655922,
                          0.9051018214,
                          0.04617857143
                        ]
                      },
                      {
                        "learn": [
                          0.03758829365
                        ],
                        "iteration": 761,
                        "passed_time": 21.20861368,
                        "remaining_time": 34.45703903,
                        "test": [
                          0.1556486016,
                          0.9052897242,
                          0.04617857143
                        ]
                      },
                      {
                        "learn": [
                          0.03758829365
                        ],
                        "iteration": 762,
                        "passed_time": 21.23154403,
                        "remaining_time": 34.42125814,
                        "test": [
                          0.1560573374,
                          0.9054093759,
                          0.04617857143
                        ]
                      },
                      {
                        "learn": [
                          0.03758829365
                        ],
                        "iteration": 763,
                        "passed_time": 21.25471421,
                        "remaining_time": 34.38589891,
                        "test": [
                          0.155274328,
                          0.9051321782,
                          0.04617857143
                        ]
                      },
                      {
                        "learn": [
                          0.03758829365
                        ],
                        "iteration": 764,
                        "passed_time": 21.27766774,
                        "remaining_time": 34.35022177,
                        "test": [
                          0.1547934624,
                          0.9049878294,
                          0.04617857143
                        ]
                      },
                      {
                        "learn": [
                          0.03758829365
                        ],
                        "iteration": 765,
                        "passed_time": 21.30152778,
                        "remaining_time": 34.31603823,
                        "test": [
                          0.1547934624,
                          0.9050973893,
                          0.04617857143
                        ]
                      },
                      {
                        "learn": [
                          0.03758829365
                        ],
                        "iteration": 766,
                        "passed_time": 21.32463962,
                        "remaining_time": 34.28067881,
                        "test": [
                          0.1547934624,
                          0.9050973893,
                          0.04617857143
                        ]
                      },
                      {
                        "learn": [
                          0.03758829365
                        ],
                        "iteration": 767,
                        "passed_time": 21.58651207,
                        "remaining_time": 34.62836312,
                        "test": [
                          0.1547934624,
                          0.9050973893,
                          0.04617857143
                        ]
                      },
                      {
                        "learn": [
                          0.03758829365
                        ],
                        "iteration": 768,
                        "passed_time": 21.62764039,
                        "remaining_time": 34.62109925,
                        "test": [
                          0.1547934624,
                          0.9051866843,
                          0.04617857143
                        ]
                      },
                      {
                        "learn": [
                          0.03758829365
                        ],
                        "iteration": 769,
                        "passed_time": 21.650816,
                        "remaining_time": 34.58506971,
                        "test": [
                          0.1557146499,
                          0.9056249218,
                          0.04617857143
                        ]
                      },
                      {
                        "learn": [
                          0.03758829365
                        ],
                        "iteration": 770,
                        "passed_time": 21.67718333,
                        "remaining_time": 34.55416123,
                        "test": [
                          0.1549316405,
                          0.9052291706,
                          0.04617857143
                        ]
                      },
                      {
                        "learn": [
                          0.03758829365
                        ],
                        "iteration": 771,
                        "passed_time": 21.69989442,
                        "remaining_time": 34.51744863,
                        "test": [
                          0.1547934624,
                          0.9049788359,
                          0.04617857143
                        ]
                      },
                      {
                        "learn": [
                          0.03758829365
                        ],
                        "iteration": 772,
                        "passed_time": 21.72299611,
                        "remaining_time": 34.48139227,
                        "test": [
                          0.1557146499,
                          0.9054170734,
                          0.04617857143
                        ]
                      },
                      {
                        "learn": [
                          0.03758829365
                        ],
                        "iteration": 773,
                        "passed_time": 21.74688733,
                        "remaining_time": 34.44661999,
                        "test": [
                          0.154010453,
                          0.9047909331,
                          0.04617857143
                        ]
                      },
                      {
                        "learn": [
                          0.03758829365
                        ],
                        "iteration": 774,
                        "passed_time": 21.77002594,
                        "remaining_time": 34.41068617,
                        "test": [
                          0.1536017172,
                          0.9046712814,
                          0.04617857143
                        ]
                      },
                      {
                        "learn": [
                          0.03758829365
                        ],
                        "iteration": 775,
                        "passed_time": 21.79303366,
                        "remaining_time": 34.37457887,
                        "test": [
                          0.1536017172,
                          0.9046015265,
                          0.04617857143
                        ]
                      },
                      {
                        "learn": [
                          0.03758829365
                        ],
                        "iteration": 776,
                        "passed_time": 21.81614397,
                        "remaining_time": 34.33866676,
                        "test": [
                          0.1536017172,
                          0.9046015265,
                          0.04617857143
                        ]
                      },
                      {
                        "learn": [
                          0.03758829365
                        ],
                        "iteration": 777,
                        "passed_time": 21.83917986,
                        "remaining_time": 34.30267068,
                        "test": [
                          0.1551017172,
                          0.908292229,
                          0.04617857143
                        ]
                      },
                      {
                        "learn": [
                          0.03758829365
                        ],
                        "iteration": 778,
                        "passed_time": 21.86490542,
                        "remaining_time": 34.27092364,
                        "test": [
                          0.1528187079,
                          0.9042950703,
                          0.04617857143
                        ]
                      },
                      {
                        "learn": [
                          0.03758829365
                        ],
                        "iteration": 779,
                        "passed_time": 21.88874111,
                        "remaining_time": 34.2362361,
                        "test": [
                          0.1528187079,
                          0.9042950703,
                          0.04617857143
                        ]
                      },
                      {
                        "learn": [
                          0.03758829365
                        ],
                        "iteration": 780,
                        "passed_time": 21.91375578,
                        "remaining_time": 34.20341652,
                        "test": [
                          0.1520356985,
                          0.9041754359,
                          0.04617857143
                        ]
                      },
                      {
                        "learn": [
                          0.03758829365
                        ],
                        "iteration": 781,
                        "passed_time": 21.93712362,
                        "remaining_time": 34.16805187,
                        "test": [
                          0.1524712824,
                          0.9041938515,
                          0.04517857143
                        ]
                      },
                      {
                        "learn": [
                          0.03758829365
                        ],
                        "iteration": 782,
                        "passed_time": 21.9689747,
                        "remaining_time": 34.1459032,
                        "test": [
                          0.152845556,
                          0.9044269436,
                          0.04517857143
                        ]
                      },
                      {
                        "learn": [
                          0.03758829365
                        ],
                        "iteration": 783,
                        "passed_time": 21.99189896,
                        "remaining_time": 34.1098841,
                        "test": [
                          0.1524712824,
                          0.9041938515,
                          0.04517857143
                        ]
                      },
                      {
                        "learn": [
                          0.03758829365
                        ],
                        "iteration": 784,
                        "passed_time": 22.01512757,
                        "remaining_time": 34.07436942,
                        "test": [
                          0.1524712824,
                          0.9041938515,
                          0.04517857143
                        ]
                      },
                      {
                        "learn": [
                          0.03758829365
                        ],
                        "iteration": 785,
                        "passed_time": 22.03793319,
                        "remaining_time": 34.03823268,
                        "test": [
                          0.1524712824,
                          0.9043521135,
                          0.04517857143
                        ]
                      },
                      {
                        "learn": [
                          0.03758829365
                        ],
                        "iteration": 786,
                        "passed_time": 22.07278165,
                        "remaining_time": 34.02069141,
                        "test": [
                          0.1524712824,
                          0.9043290682,
                          0.04517857143
                        ]
                      },
                      {
                        "learn": [
                          0.03758829365
                        ],
                        "iteration": 787,
                        "passed_time": 22.1001401,
                        "remaining_time": 33.99158605,
                        "test": [
                          0.1536017172,
                          0.9048064981,
                          0.04617857143
                        ]
                      },
                      {
                        "learn": [
                          0.03758829365
                        ],
                        "iteration": 788,
                        "passed_time": 22.12312513,
                        "remaining_time": 33.95577254,
                        "test": [
                          0.1543847266,
                          0.9047894293,
                          0.04617857143
                        ]
                      },
                      {
                        "learn": [
                          0.03758829365
                        ],
                        "iteration": 789,
                        "passed_time": 22.16758124,
                        "remaining_time": 33.9528776,
                        "test": [
                          0.154010453,
                          0.90455412,
                          0.04617857143
                        ]
                      },
                      {
                        "learn": [
                          0.03758829365
                        ],
                        "iteration": 790,
                        "passed_time": 22.2123338,
                        "remaining_time": 33.95033068,
                        "test": [
                          0.155510453,
                          0.9081130055,
                          0.04517857143
                        ]
                      },
                      {
                        "learn": [
                          0.03758829365
                        ],
                        "iteration": 791,
                        "passed_time": 22.25582076,
                        "remaining_time": 33.94574682,
                        "test": [
                          0.154010453,
                          0.9044223031,
                          0.04517857143
                        ]
                      },
                      {
                        "learn": [
                          0.03758829365
                        ],
                        "iteration": 792,
                        "passed_time": 22.29291468,
                        "remaining_time": 33.9313342,
                        "test": [
                          0.154010453,
                          0.9044843651,
                          0.04617857143
                        ]
                      },
                      {
                        "learn": [
                          0.03758829365
                        ],
                        "iteration": 793,
                        "passed_time": 22.34907679,
                        "remaining_time": 33.94582696,
                        "test": [
                          0.1536017172,
                          0.9043026514,
                          0.04517857143
                        ]
                      },
                      {
                        "learn": [
                          0.03758829365
                        ],
                        "iteration": 794,
                        "passed_time": 22.39377889,
                        "remaining_time": 33.94277177,
                        "test": [
                          0.1536017172,
                          0.9043026514,
                          0.04517857143
                        ]
                      },
                      {
                        "learn": [
                          0.03758829365
                        ],
                        "iteration": 795,
                        "passed_time": 22.45086493,
                        "remaining_time": 33.95834343,
                        "test": [
                          0.1536017172,
                          0.9043026514,
                          0.04517857143
                        ]
                      },
                      {
                        "learn": [
                          0.03758829365
                        ],
                        "iteration": 796,
                        "passed_time": 22.50875058,
                        "remaining_time": 33.97493971,
                        "test": [
                          0.1543847266,
                          0.9044905541,
                          0.04517857143
                        ]
                      },
                      {
                        "learn": [
                          0.03758829365
                        ],
                        "iteration": 797,
                        "passed_time": 22.55207169,
                        "remaining_time": 33.96941124,
                        "test": [
                          0.1558847266,
                          0.9080927495,
                          0.04517857143
                        ]
                      },
                      {
                        "learn": [
                          0.03758829365
                        ],
                        "iteration": 798,
                        "passed_time": 22.63818995,
                        "remaining_time": 34.02811781,
                        "test": [
                          0.1543847266,
                          0.9044020471,
                          0.04517857143
                        ]
                      },
                      {
                        "learn": [
                          0.03758829365
                        ],
                        "iteration": 799,
                        "passed_time": 22.72035826,
                        "remaining_time": 34.08053738,
                        "test": [
                          0.1558847266,
                          0.9080927495,
                          0.04517857143
                        ]
                      },
                      {
                        "learn": [
                          0.03758829365
                        ],
                        "iteration": 800,
                        "passed_time": 22.79185758,
                        "remaining_time": 34.11665073,
                        "test": [
                          0.155274328,
                          0.9046096967,
                          0.04517857143
                        ]
                      },
                      {
                        "learn": [
                          0.03758829365
                        ],
                        "iteration": 801,
                        "passed_time": 22.8515995,
                        "remaining_time": 34.13493293,
                        "test": [
                          0.155274328,
                          0.9046096967,
                          0.04517857143
                        ]
                      },
                      {
                        "learn": [
                          0.03758829365
                        ],
                        "iteration": 802,
                        "passed_time": 22.90749349,
                        "remaining_time": 34.14728482,
                        "test": [
                          0.1560650523,
                          0.9076762916,
                          0.04517857143
                        ]
                      },
                      {
                        "learn": [
                          0.03758829365
                        ],
                        "iteration": 803,
                        "passed_time": 22.96225408,
                        "remaining_time": 34.15778094,
                        "test": [
                          0.1535184624,
                          0.9038028062,
                          0.04517857143
                        ]
                      },
                      {
                        "learn": [
                          0.03758829365
                        ],
                        "iteration": 804,
                        "passed_time": 23.01750739,
                        "remaining_time": 34.16884637,
                        "test": [
                          0.152499328,
                          0.9003185145,
                          0.04617857143
                        ]
                      },
                      {
                        "learn": [
                          0.03758829365
                        ],
                        "iteration": 805,
                        "passed_time": 23.0707219,
                        "remaining_time": 34.17672698,
                        "test": [
                          0.152499328,
                          0.9003185145,
                          0.04617857143
                        ]
                      },
                      {
                        "learn": [
                          0.03758829365
                        ],
                        "iteration": 806,
                        "passed_time": 23.13184195,
                        "remaining_time": 34.19614306,
                        "test": [
                          0.152499328,
                          0.9006438347,
                          0.04617857143
                        ]
                      },
                      {
                        "learn": [
                          0.03758829365
                        ],
                        "iteration": 807,
                        "passed_time": 23.18719461,
                        "remaining_time": 34.20685145,
                        "test": [
                          0.1545650523,
                          0.9041879016,
                          0.04617857143
                        ]
                      },
                      {
                        "learn": [
                          0.03758829365
                        ],
                        "iteration": 808,
                        "passed_time": 23.24222313,
                        "remaining_time": 34.21691935,
                        "test": [
                          0.1535905922,
                          0.9038895653,
                          0.04617857143
                        ]
                      },
                      {
                        "learn": [
                          0.03758829365
                        ],
                        "iteration": 809,
                        "passed_time": 23.29634086,
                        "remaining_time": 34.22548842,
                        "test": [
                          0.1550905922,
                          0.9075802678,
                          0.04617857143
                        ]
                      },
                      {
                        "learn": [
                          0.03758829365
                        ],
                        "iteration": 810,
                        "passed_time": 23.35007844,
                        "remaining_time": 34.23334559,
                        "test": [
                          0.1535905922,
                          0.9038895653,
                          0.04617857143
                        ]
                      },
                      {
                        "learn": [
                          0.03758829365
                        ],
                        "iteration": 811,
                        "passed_time": 23.40363389,
                        "remaining_time": 34.24078455,
                        "test": [
                          0.1535905922,
                          0.9038895653,
                          0.04617857143
                        ]
                      },
                      {
                        "learn": [
                          0.03758829365
                        ],
                        "iteration": 812,
                        "passed_time": 23.45728698,
                        "remaining_time": 34.24821604,
                        "test": [
                          0.1535905922,
                          0.9038895653,
                          0.04617857143
                        ]
                      },
                      {
                        "learn": [
                          0.03758829365
                        ],
                        "iteration": 813,
                        "passed_time": 23.51277101,
                        "remaining_time": 34.25816513,
                        "test": [
                          0.1535905922,
                          0.9038895653,
                          0.04617857143
                        ]
                      },
                      {
                        "learn": [
                          0.03758829365
                        ],
                        "iteration": 814,
                        "passed_time": 23.56039688,
                        "remaining_time": 34.25652798,
                        "test": [
                          0.153999328,
                          0.904009217,
                          0.04617857143
                        ]
                      },
                      {
                        "learn": [
                          0.03758829365
                        ],
                        "iteration": 815,
                        "passed_time": 23.60590727,
                        "remaining_time": 34.25170859,
                        "test": [
                          0.152499328,
                          0.9003185145,
                          0.04617857143
                        ]
                      },
                      {
                        "learn": [
                          0.03758829365
                        ],
                        "iteration": 816,
                        "passed_time": 23.6600475,
                        "remaining_time": 34.25928543,
                        "test": [
                          0.152499328,
                          0.9003185145,
                          0.04617857143
                        ]
                      },
                      {
                        "learn": [
                          0.03758829365
                        ],
                        "iteration": 817,
                        "passed_time": 23.74279731,
                        "remaining_time": 34.30805186,
                        "test": [
                          0.152499328,
                          0.9003185145,
                          0.04617857143
                        ]
                      },
                      {
                        "learn": [
                          0.03758829365
                        ],
                        "iteration": 818,
                        "passed_time": 23.81842979,
                        "remaining_time": 34.34623392,
                        "test": [
                          0.1541563165,
                          0.9039279995,
                          0.04617857143
                        ]
                      },
                      {
                        "learn": [
                          0.03758829365
                        ],
                        "iteration": 819,
                        "passed_time": 23.87707177,
                        "remaining_time": 34.35968865,
                        "test": [
                          0.1556563165,
                          0.9076187019,
                          0.04617857143
                        ]
                      },
                      {
                        "learn": [
                          0.03758829365
                        ],
                        "iteration": 820,
                        "passed_time": 23.91156111,
                        "remaining_time": 34.33828325,
                        "test": [
                          0.1556563165,
                          0.9076187019,
                          0.04617857143
                        ]
                      },
                      {
                        "learn": [
                          0.03758829365
                        ],
                        "iteration": 821,
                        "passed_time": 23.94763068,
                        "remaining_time": 34.31911064,
                        "test": [
                          0.1556563165,
                          0.9076187019,
                          0.04617857143
                        ]
                      },
                      {
                        "learn": [
                          0.03758829365
                        ],
                        "iteration": 822,
                        "passed_time": 23.9991416,
                        "remaining_time": 34.32198015,
                        "test": [
                          0.1550905922,
                          0.9074400174,
                          0.04617857143
                        ]
                      },
                      {
                        "learn": [
                          0.03758829365
                        ],
                        "iteration": 823,
                        "passed_time": 24.03868882,
                        "remaining_time": 34.30764327,
                        "test": [
                          0.1567947891,
                          0.9081847111,
                          0.04617857143
                        ]
                      },
                      {
                        "learn": [
                          0.03758829365
                        ],
                        "iteration": 824,
                        "passed_time": 24.09488437,
                        "remaining_time": 34.31695653,
                        "test": [
                          0.1567947891,
                          0.9081847111,
                          0.04617857143
                        ]
                      },
                      {
                        "learn": [
                          0.03758829365
                        ],
                        "iteration": 825,
                        "passed_time": 24.15167152,
                        "remaining_time": 34.32695201,
                        "test": [
                          0.1573605134,
                          0.9083633957,
                          0.04617857143
                        ]
                      },
                      {
                        "learn": [
                          0.03758829365
                        ],
                        "iteration": 826,
                        "passed_time": 24.20491937,
                        "remaining_time": 34.33176593,
                        "test": [
                          0.1573605134,
                          0.9083633957,
                          0.04617857143
                        ]
                      },
                      {
                        "learn": [
                          0.03758829365
                        ],
                        "iteration": 827,
                        "passed_time": 24.26170822,
                        "remaining_time": 34.34145173,
                        "test": [
                          0.1586355134,
                          0.9091661878,
                          0.04617857143
                        ]
                      },
                      {
                        "learn": [
                          0.03758829365
                        ],
                        "iteration": 828,
                        "passed_time": 24.30853793,
                        "remaining_time": 34.33690943,
                        "test": [
                          0.1586355134,
                          0.9091661878,
                          0.04617857143
                        ]
                      },
                      {
                        "learn": [
                          0.03758829365
                        ],
                        "iteration": 829,
                        "passed_time": 24.36392987,
                        "remaining_time": 34.34433488,
                        "test": [
                          0.157852504,
                          0.9088597316,
                          0.04617857143
                        ]
                      },
                      {
                        "learn": [
                          0.03758829365
                        ],
                        "iteration": 830,
                        "passed_time": 24.41844442,
                        "remaining_time": 34.35037488,
                        "test": [
                          0.1565225807,
                          0.9084883803,
                          0.04617857143
                        ]
                      },
                      {
                        "learn": [
                          0.03758829365
                        ],
                        "iteration": 831,
                        "passed_time": 24.47456383,
                        "remaining_time": 34.35852229,
                        "test": [
                          0.1565225807,
                          0.9084883803,
                          0.04617857143
                        ]
                      },
                      {
                        "learn": [
                          0.03758829365
                        ],
                        "iteration": 832,
                        "passed_time": 24.53243269,
                        "remaining_time": 34.36896633,
                        "test": [
                          0.1565225807,
                          0.9084883803,
                          0.04617857143
                        ]
                      },
                      {
                        "learn": [
                          0.03758829365
                        ],
                        "iteration": 833,
                        "passed_time": 24.58682981,
                        "remaining_time": 34.37439276,
                        "test": [
                          0.1559568565,
                          0.9083096958,
                          0.04617857143
                        ]
                      },
                      {
                        "learn": [
                          0.03758829365
                        ],
                        "iteration": 834,
                        "passed_time": 24.64274858,
                        "remaining_time": 34.38179892,
                        "test": [
                          0.1567947891,
                          0.9083249615,
                          0.04617857143
                        ]
                      },
                      {
                        "learn": [
                          0.03758829365
                        ],
                        "iteration": 835,
                        "passed_time": 24.69043358,
                        "remaining_time": 34.37758934,
                        "test": [
                          0.1563860533,
                          0.9084366672,
                          0.04617857143
                        ]
                      },
                      {
                        "learn": [
                          0.03758829365
                        ],
                        "iteration": 836,
                        "passed_time": 24.71369364,
                        "remaining_time": 34.33933775,
                        "test": [
                          0.1576610533,
                          0.9092394593,
                          0.04617857143
                        ]
                      },
                      {
                        "learn": [
                          0.03758829365
                        ],
                        "iteration": 837,
                        "passed_time": 24.73723701,
                        "remaining_time": 34.30151481,
                        "test": [
                          0.1563860533,
                          0.9084366672,
                          0.04617857143
                        ]
                      },
                      {
                        "learn": [
                          0.03758829365
                        ],
                        "iteration": 838,
                        "passed_time": 24.7600394,
                        "remaining_time": 34.26270053,
                        "test": [
                          0.1576610533,
                          0.9092394593,
                          0.04617857143
                        ]
                      },
                      {
                        "learn": [
                          0.03758829365
                        ],
                        "iteration": 839,
                        "passed_time": 24.78277446,
                        "remaining_time": 34.2238314,
                        "test": [
                          0.1576610533,
                          0.9092184064,
                          0.04617857143
                        ]
                      },
                      {
                        "learn": [
                          0.03758829365
                        ],
                        "iteration": 840,
                        "passed_time": 24.85458911,
                        "remaining_time": 34.25263826,
                        "test": [
                          0.1576610533,
                          0.9091951474,
                          0.04617857143
                        ]
                      },
                      {
                        "learn": [
                          0.03758829365
                        ],
                        "iteration": 841,
                        "passed_time": 24.89864952,
                        "remaining_time": 34.2430358,
                        "test": [
                          0.1576610533,
                          0.9091617507,
                          0.04517857143
                        ]
                      },
                      {
                        "learn": [
                          0.03758829365
                        ],
                        "iteration": 842,
                        "passed_time": 24.92200165,
                        "remaining_time": 34.2049299,
                        "test": [
                          0.1576610533,
                          0.9090732436,
                          0.04517857143
                        ]
                      },
                      {
                        "learn": [
                          0.03758829365
                        ],
                        "iteration": 843,
                        "passed_time": 24.94567951,
                        "remaining_time": 34.16730512,
                        "test": [
                          0.1580697891,
                          0.9091759584,
                          0.04517857143
                        ]
                      },
                      {
                        "learn": [
                          0.03758829365
                        ],
                        "iteration": 844,
                        "passed_time": 24.9697795,
                        "remaining_time": 34.13029032,
                        "test": [
                          0.1567947891,
                          0.9083168154,
                          0.04517857143
                        ]
                      },
                      {
                        "learn": [
                          0.03758829365
                        ],
                        "iteration": 845,
                        "passed_time": 24.99257537,
                        "remaining_time": 34.09152716,
                        "test": [
                          0.1558736016,
                          0.9078785778,
                          0.04517857143
                        ]
                      },
                      {
                        "learn": [
                          0.03758829365
                        ],
                        "iteration": 846,
                        "passed_time": 25.01589482,
                        "remaining_time": 34.05351443,
                        "test": [
                          0.1567947891,
                          0.9083168154,
                          0.04517857143
                        ]
                      },
                      {
                        "learn": [
                          0.03758829365
                        ],
                        "iteration": 847,
                        "passed_time": 25.03932975,
                        "remaining_time": 34.01569325,
                        "test": [
                          0.1567947891,
                          0.9083425224,
                          0.04517857143
                        ]
                      },
                      {
                        "learn": [
                          0.03758829365
                        ],
                        "iteration": 848,
                        "passed_time": 25.06271316,
                        "remaining_time": 33.97783609,
                        "test": [
                          0.1567947891,
                          0.9083425224,
                          0.04517857143
                        ]
                      },
                      {
                        "learn": [
                          0.03758829365
                        ],
                        "iteration": 849,
                        "passed_time": 25.08558871,
                        "remaining_time": 33.93932591,
                        "test": [
                          0.1552947891,
                          0.90454226,
                          0.04517857143
                        ]
                      },
                      {
                        "learn": [
                          0.03758829365
                        ],
                        "iteration": 850,
                        "passed_time": 25.10897903,
                        "remaining_time": 33.90154748,
                        "test": [
                          0.1552947891,
                          0.90454226,
                          0.04517857143
                        ]
                      },
                      {
                        "learn": [
                          0.03758829365
                        ],
                        "iteration": 851,
                        "passed_time": 25.13146724,
                        "remaining_time": 33.86258731,
                        "test": [
                          0.1565697891,
                          0.9053450521,
                          0.04517857143
                        ]
                      },
                      {
                        "learn": [
                          0.03758829365
                        ],
                        "iteration": 852,
                        "passed_time": 25.15552038,
                        "remaining_time": 33.82577008,
                        "test": [
                          0.1565697891,
                          0.9053450521,
                          0.04517857143
                        ]
                      },
                      {
                        "learn": [
                          0.03758829365
                        ],
                        "iteration": 853,
                        "passed_time": 25.19229613,
                        "remaining_time": 33.80605547,
                        "test": [
                          0.1565697891,
                          0.9053450521,
                          0.04517857143
                        ]
                      },
                      {
                        "learn": [
                          0.03758829365
                        ],
                        "iteration": 854,
                        "passed_time": 25.21865309,
                        "remaining_time": 33.77234828,
                        "test": [
                          0.1565697891,
                          0.9053450521,
                          0.04517857143
                        ]
                      },
                      {
                        "learn": [
                          0.03758829365
                        ],
                        "iteration": 855,
                        "passed_time": 25.24399772,
                        "remaining_time": 33.73730536,
                        "test": [
                          0.1565697891,
                          0.9053450521,
                          0.04517857143
                        ]
                      },
                      {
                        "learn": [
                          0.03758829365
                        ],
                        "iteration": 856,
                        "passed_time": 25.26666469,
                        "remaining_time": 33.69871381,
                        "test": [
                          0.1565697891,
                          0.9053450521,
                          0.04517857143
                        ]
                      },
                      {
                        "learn": [
                          0.03758829365
                        ],
                        "iteration": 857,
                        "passed_time": 25.29033977,
                        "remaining_time": 33.66150118,
                        "test": [
                          0.1552947891,
                          0.90454226,
                          0.04517857143
                        ]
                      },
                      {
                        "learn": [
                          0.03758829365
                        ],
                        "iteration": 858,
                        "passed_time": 25.31305834,
                        "remaining_time": 33.62304956,
                        "test": [
                          0.1552947891,
                          0.90454226,
                          0.04517857143
                        ]
                      },
                      {
                        "learn": [
                          0.03758829365
                        ],
                        "iteration": 859,
                        "passed_time": 25.33615924,
                        "remaining_time": 33.58514132,
                        "test": [
                          0.1565697891,
                          0.9053450521,
                          0.04517857143
                        ]
                      },
                      {
                        "learn": [
                          0.03758829365
                        ],
                        "iteration": 860,
                        "passed_time": 25.35954613,
                        "remaining_time": 33.54764582,
                        "test": [
                          0.1552947891,
                          0.9046307671,
                          0.04517857143
                        ]
                      },
                      {
                        "learn": [
                          0.03758829365
                        ],
                        "iteration": 861,
                        "passed_time": 25.38221673,
                        "remaining_time": 33.5092374,
                        "test": [
                          0.1565697891,
                          0.9054335592,
                          0.04517857143
                        ]
                      },
                      {
                        "learn": [
                          0.03758829365
                        ],
                        "iteration": 862,
                        "passed_time": 25.40535095,
                        "remaining_time": 33.47147628,
                        "test": [
                          0.1565697891,
                          0.9054335592,
                          0.04517857143
                        ]
                      },
                      {
                        "learn": [
                          0.03758829365
                        ],
                        "iteration": 863,
                        "passed_time": 25.42812168,
                        "remaining_time": 33.4332711,
                        "test": [
                          0.1552947891,
                          0.9046307671,
                          0.04517857143
                        ]
                      },
                      {
                        "learn": [
                          0.03758829365
                        ],
                        "iteration": 864,
                        "passed_time": 25.4512582,
                        "remaining_time": 33.39558157,
                        "test": [
                          0.1537947891,
                          0.9009400646,
                          0.04517857143
                        ]
                      },
                      {
                        "learn": [
                          0.03758829365
                        ],
                        "iteration": 865,
                        "passed_time": 25.47458432,
                        "remaining_time": 33.35817392,
                        "test": [
                          0.1533860533,
                          0.9009270975,
                          0.04617857143
                        ]
                      },
                      {
                        "learn": [
                          0.03758829365
                        ],
                        "iteration": 866,
                        "passed_time": 25.49835612,
                        "remaining_time": 33.32138118,
                        "test": [
                          0.1546610533,
                          0.9016903759,
                          0.04517857143
                        ]
                      },
                      {
                        "learn": [
                          0.03758829365
                        ],
                        "iteration": 867,
                        "passed_time": 25.52353587,
                        "remaining_time": 33.28645461,
                        "test": [
                          0.1552947891,
                          0.9046516503,
                          0.04517857143
                        ]
                      },
                      {
                        "learn": [
                          0.03758829365
                        ],
                        "iteration": 868,
                        "passed_time": 25.5468185,
                        "remaining_time": 33.24908138,
                        "test": [
                          0.1565697891,
                          0.9054054492,
                          0.04617857143
                        ]
                      },
                      {
                        "learn": [
                          0.03758829365
                        ],
                        "iteration": 869,
                        "passed_time": 25.56965053,
                        "remaining_time": 33.21115529,
                        "test": [
                          0.1565697891,
                          0.9054544424,
                          0.04517857143
                        ]
                      },
                      {
                        "learn": [
                          0.03758829365
                        ],
                        "iteration": 870,
                        "passed_time": 25.59301085,
                        "remaining_time": 33.17394862,
                        "test": [
                          0.1557867797,
                          0.9051479862,
                          0.04517857143
                        ]
                      },
                      {
                        "learn": [
                          0.03758829365
                        ],
                        "iteration": 871,
                        "passed_time": 25.61599973,
                        "remaining_time": 33.13629323,
                        "test": [
                          0.1542867797,
                          0.9014572838,
                          0.04517857143
                        ]
                      },
                      {
                        "learn": [
                          0.03758829365
                        ],
                        "iteration": 872,
                        "passed_time": 25.6384603,
                        "remaining_time": 33.09798941,
                        "test": [
                          0.1542867797,
                          0.9014572838,
                          0.04517857143
                        ]
                      },
                      {
                        "learn": [
                          0.03758829365
                        ],
                        "iteration": 873,
                        "passed_time": 25.66138868,
                        "remaining_time": 33.06032454,
                        "test": [
                          0.1550697891,
                          0.9013499127,
                          0.04517857143
                        ]
                      },
                      {
                        "learn": [
                          0.03758829365
                        ],
                        "iteration": 874,
                        "passed_time": 25.68744521,
                        "remaining_time": 33.02671527,
                        "test": [
                          0.1552947891,
                          0.9042378231,
                          0.04517857143
                        ]
                      },
                      {
                        "learn": [
                          0.03758829365
                        ],
                        "iteration": 875,
                        "passed_time": 25.7105017,
                        "remaining_time": 32.98927387,
                        "test": [
                          0.1537947891,
                          0.9008724408,
                          0.04517857143
                        ]
                      },
                      {
                        "learn": [
                          0.03758829365
                        ],
                        "iteration": 876,
                        "passed_time": 25.73394704,
                        "remaining_time": 32.9523632,
                        "test": [
                          0.1537947891,
                          0.9008257311,
                          0.04517857143
                        ]
                      },
                      {
                        "learn": [
                          0.03758829365
                        ],
                        "iteration": 877,
                        "passed_time": 25.75818671,
                        "remaining_time": 32.91649828,
                        "test": [
                          0.1552947891,
                          0.9042378231,
                          0.04517857143
                        ]
                      },
                      {
                        "learn": [
                          0.03758829365
                        ],
                        "iteration": 878,
                        "passed_time": 25.78138702,
                        "remaining_time": 32.8793343,
                        "test": [
                          0.1537947891,
                          0.9009119546,
                          0.04617857143
                        ]
                      },
                      {
                        "learn": [
                          0.03758829365
                        ],
                        "iteration": 879,
                        "passed_time": 25.80652897,
                        "remaining_time": 32.84467324,
                        "test": [
                          0.1537947891,
                          0.9008515576,
                          0.04517857143
                        ]
                      },
                      {
                        "learn": [
                          0.03758829365
                        ],
                        "iteration": 880,
                        "passed_time": 25.86186637,
                        "remaining_time": 32.84838645,
                        "test": [
                          0.1537947891,
                          0.9008724408,
                          0.04517857143
                        ]
                      },
                      {
                        "learn": [
                          0.03758829365
                        ],
                        "iteration": 881,
                        "passed_time": 25.91449613,
                        "remaining_time": 32.84853365,
                        "test": [
                          0.1537947891,
                          0.9009144079,
                          0.04517857143
                        ]
                      },
                      {
                        "learn": [
                          0.03758829365
                        ],
                        "iteration": 882,
                        "passed_time": 25.93755526,
                        "remaining_time": 32.81115427,
                        "test": [
                          0.1537947891,
                          0.9005890877,
                          0.04517857143
                        ]
                      },
                      {
                        "learn": [
                          0.03758829365
                        ],
                        "iteration": 883,
                        "passed_time": 25.9615193,
                        "remaining_time": 32.7749497,
                        "test": [
                          0.1537947891,
                          0.9005890877,
                          0.04517857143
                        ]
                      },
                      {
                        "learn": [
                          0.03758829365
                        ],
                        "iteration": 884,
                        "passed_time": 25.98459108,
                        "remaining_time": 32.73764865,
                        "test": [
                          0.1546610533,
                          0.9016438359,
                          0.04517857143
                        ]
                      },
                      {
                        "learn": [
                          0.03758829365
                        ],
                        "iteration": 885,
                        "passed_time": 26.00752835,
                        "remaining_time": 32.70021059,
                        "test": [
                          0.1548860533,
                          0.9045784559,
                          0.04517857143
                        ]
                      },
                      {
                        "learn": [
                          0.03758829365
                        ],
                        "iteration": 886,
                        "passed_time": 26.03053575,
                        "remaining_time": 32.66289322,
                        "test": [
                          0.1548860533,
                          0.9046388529,
                          0.04617857143
                        ]
                      },
                      {
                        "learn": [
                          0.03758829365
                        ],
                        "iteration": 887,
                        "passed_time": 26.05417658,
                        "remaining_time": 32.6264013,
                        "test": [
                          0.1537947891,
                          0.9010215145,
                          0.04617857143
                        ]
                      },
                      {
                        "learn": [
                          0.03758829365
                        ],
                        "iteration": 888,
                        "passed_time": 26.07681434,
                        "remaining_time": 32.58868474,
                        "test": [
                          0.1537947891,
                          0.9010215145,
                          0.04617857143
                        ]
                      },
                      {
                        "learn": [
                          0.03758829365
                        ],
                        "iteration": 889,
                        "passed_time": 26.09926853,
                        "remaining_time": 32.5507731,
                        "test": [
                          0.1537947891,
                          0.9010215145,
                          0.04617857143
                        ]
                      },
                      {
                        "learn": [
                          0.03758829365
                        ],
                        "iteration": 890,
                        "passed_time": 26.12170411,
                        "remaining_time": 32.51287302,
                        "test": [
                          0.1537947891,
                          0.9010215145,
                          0.04617857143
                        ]
                      },
                      {
                        "learn": [
                          0.03758829365
                        ],
                        "iteration": 891,
                        "passed_time": 26.14479734,
                        "remaining_time": 32.4758245,
                        "test": [
                          0.1537947891,
                          0.9010215145,
                          0.04617857143
                        ]
                      },
                      {
                        "learn": [
                          0.03758829365
                        ],
                        "iteration": 892,
                        "passed_time": 26.16942895,
                        "remaining_time": 32.44071428,
                        "test": [
                          0.1537947891,
                          0.9009119546,
                          0.04617857143
                        ]
                      },
                      {
                        "learn": [
                          0.03758829365
                        ],
                        "iteration": 893,
                        "passed_time": 26.19727705,
                        "remaining_time": 32.40960673,
                        "test": [
                          0.1537947891,
                          0.9009119546,
                          0.04617857143
                        ]
                      },
                      {
                        "learn": [
                          0.03758829365
                        ],
                        "iteration": 894,
                        "passed_time": 26.22971315,
                        "remaining_time": 32.38417098,
                        "test": [
                          0.1537947891,
                          0.9009119546,
                          0.04617857143
                        ]
                      },
                      {
                        "learn": [
                          0.03758829365
                        ],
                        "iteration": 895,
                        "passed_time": 26.25600241,
                        "remaining_time": 32.35114583,
                        "test": [
                          0.1537947891,
                          0.9009119546,
                          0.04617857143
                        ]
                      },
                      {
                        "learn": [
                          0.03758829365
                        ],
                        "iteration": 896,
                        "passed_time": 26.27888583,
                        "remaining_time": 32.31394769,
                        "test": [
                          0.1537947891,
                          0.9009119546,
                          0.04617857143
                        ]
                      },
                      {
                        "learn": [
                          0.03758829365
                        ],
                        "iteration": 897,
                        "passed_time": 26.30180899,
                        "remaining_time": 32.27683019,
                        "test": [
                          0.1537947891,
                          0.9009119546,
                          0.04617857143
                        ]
                      },
                      {
                        "learn": [
                          0.03758829365
                        ],
                        "iteration": 898,
                        "passed_time": 26.32479572,
                        "remaining_time": 32.23982213,
                        "test": [
                          0.1552947891,
                          0.9045817738,
                          0.04617857143
                        ]
                      },
                      {
                        "learn": [
                          0.03758829365
                        ],
                        "iteration": 899,
                        "passed_time": 26.34836766,
                        "remaining_time": 32.20356048,
                        "test": [
                          0.1552947891,
                          0.9045817738,
                          0.04617857143
                        ]
                      },
                      {
                        "learn": [
                          0.03758829365
                        ],
                        "iteration": 900,
                        "passed_time": 26.37068153,
                        "remaining_time": 32.16579246,
                        "test": [
                          0.1537947891,
                          0.9008515576,
                          0.04517857143
                        ]
                      },
                      {
                        "learn": [
                          0.03758829365
                        ],
                        "iteration": 901,
                        "passed_time": 26.3929174,
                        "remaining_time": 32.12796375,
                        "test": [
                          0.1537947891,
                          0.9008910714,
                          0.04617857143
                        ]
                      },
                      {
                        "learn": [
                          0.03758829365
                        ],
                        "iteration": 902,
                        "passed_time": 26.41543072,
                        "remaining_time": 32.09050665,
                        "test": [
                          0.1537947891,
                          0.9008515576,
                          0.04517857143
                        ]
                      },
                      {
                        "learn": [
                          0.03758829365
                        ],
                        "iteration": 903,
                        "passed_time": 26.43815378,
                        "remaining_time": 32.05333688,
                        "test": [
                          0.1537947891,
                          0.9008515576,
                          0.04517857143
                        ]
                      },
                      {
                        "learn": [
                          0.03758829365
                        ],
                        "iteration": 904,
                        "passed_time": 26.46162077,
                        "remaining_time": 32.01709916,
                        "test": [
                          0.1530117797,
                          0.9005846152,
                          0.04617857143
                        ]
                      },
                      {
                        "learn": [
                          0.03758829365
                        ],
                        "iteration": 905,
                        "passed_time": 26.48470409,
                        "remaining_time": 31.98042635,
                        "test": [
                          0.1530117797,
                          0.9004129932,
                          0.04517857143
                        ]
                      },
                      {
                        "learn": [
                          0.03758829365
                        ],
                        "iteration": 906,
                        "passed_time": 26.50920815,
                        "remaining_time": 31.9454956,
                        "test": [
                          0.1530117797,
                          0.9004129932,
                          0.04517857143
                        ]
                      },
                      {
                        "learn": [
                          0.03758829365
                        ],
                        "iteration": 907,
                        "passed_time": 26.53173851,
                        "remaining_time": 31.90821415,
                        "test": [
                          0.1537947891,
                          0.9007194494,
                          0.04517857143
                        ]
                      },
                      {
                        "learn": [
                          0.03758829365
                        ],
                        "iteration": 908,
                        "passed_time": 26.55467785,
                        "remaining_time": 31.87145603,
                        "test": [
                          0.1537947891,
                          0.9007081473,
                          0.04617857143
                        ]
                      },
                      {
                        "learn": [
                          0.03758829365
                        ],
                        "iteration": 909,
                        "passed_time": 26.57761208,
                        "remaining_time": 31.83472217,
                        "test": [
                          0.1537947891,
                          0.9007081473,
                          0.04617857143
                        ]
                      },
                      {
                        "learn": [
                          0.03758829365
                        ],
                        "iteration": 910,
                        "passed_time": 26.60042616,
                        "remaining_time": 31.79787496,
                        "test": [
                          0.1547159766,
                          0.9008171645,
                          0.04517857143
                        ]
                      },
                      {
                        "learn": [
                          0.03758829365
                        ],
                        "iteration": 911,
                        "passed_time": 26.62313781,
                        "remaining_time": 31.76093633,
                        "test": [
                          0.1537947891,
                          0.9007194494,
                          0.04517857143
                        ]
                      },
                      {
                        "learn": [
                          0.03758829365
                        ],
                        "iteration": 912,
                        "passed_time": 26.64590155,
                        "remaining_time": 31.7240909,
                        "test": [
                          0.1547159766,
                          0.9009525906,
                          0.04617857143
                        ]
                      },
                      {
                        "learn": [
                          0.03758829365
                        ],
                        "iteration": 913,
                        "passed_time": 26.67106766,
                        "remaining_time": 31.69013072,
                        "test": [
                          0.1547159766,
                          0.9009525906,
                          0.04617857143
                        ]
                      },
                      {
                        "learn": [
                          0.03758829365
                        ],
                        "iteration": 914,
                        "passed_time": 26.69501376,
                        "remaining_time": 31.6547431,
                        "test": [
                          0.1547159766,
                          0.9009525906,
                          0.04617857143
                        ]
                      },
                      {
                        "learn": [
                          0.03758829365
                        ],
                        "iteration": 915,
                        "passed_time": 26.71761187,
                        "remaining_time": 31.61778523,
                        "test": [
                          0.1547159766,
                          0.9010621505,
                          0.04617857143
                        ]
                      },
                      {
                        "learn": [
                          0.03758829365
                        ],
                        "iteration": 916,
                        "passed_time": 26.74041371,
                        "remaining_time": 31.58109929,
                        "test": [
                          0.1547159766,
                          0.9007368304,
                          0.04617857143
                        ]
                      },
                      {
                        "learn": [
                          0.03758829365
                        ],
                        "iteration": 917,
                        "passed_time": 26.76381913,
                        "remaining_time": 31.54515501,
                        "test": [
                          0.1547159766,
                          0.9006634663,
                          0.04617857143
                        ]
                      },
                      {
                        "learn": [
                          0.03758829365
                        ],
                        "iteration": 918,
                        "passed_time": 26.78585379,
                        "remaining_time": 31.50762562,
                        "test": [
                          0.1559909766,
                          0.9019727638,
                          0.04617857143
                        ]
                      },
                      {
                        "learn": [
                          0.03758829365
                        ],
                        "iteration": 919,
                        "passed_time": 26.80855964,
                        "remaining_time": 31.47091784,
                        "test": [
                          0.1559909766,
                          0.9018632039,
                          0.04617857143
                        ]
                      },
                      {
                        "learn": [
                          0.03758829365
                        ],
                        "iteration": 920,
                        "passed_time": 26.83160402,
                        "remaining_time": 31.43463707,
                        "test": [
                          0.1567079672,
                          0.9053208142,
                          0.04617857143
                        ]
                      },
                      {
                        "learn": [
                          0.03758829365
                        ],
                        "iteration": 921,
                        "passed_time": 26.85445667,
                        "remaining_time": 31.39816083,
                        "test": [
                          0.1567079672,
                          0.9053208142,
                          0.04617857143
                        ]
                      },
                      {
                        "learn": [
                          0.03758829365
                        ],
                        "iteration": 922,
                        "passed_time": 26.93516784,
                        "remaining_time": 31.42922618,
                        "test": [
                          0.1559909766,
                          0.9018745059,
                          0.04517857143
                        ]
                      },
                      {
                        "learn": [
                          0.03758829365
                        ],
                        "iteration": 923,
                        "passed_time": 26.97074705,
                        "remaining_time": 31.40749331,
                        "test": [
                          0.1559909766,
                          0.901936568,
                          0.04617857143
                        ]
                      },
                      {
                        "learn": [
                          0.03758829365
                        ],
                        "iteration": 924,
                        "passed_time": 26.99497254,
                        "remaining_time": 31.37253566,
                        "test": [
                          0.1574909766,
                          0.9055539063,
                          0.04617857143
                        ]
                      },
                      {
                        "learn": [
                          0.03758829365
                        ],
                        "iteration": 925,
                        "passed_time": 27.01683736,
                        "remaining_time": 31.3348632,
                        "test": [
                          0.1574909766,
                          0.9054918443,
                          0.04517857143
                        ]
                      },
                      {
                        "learn": [
                          0.03758829365
                        ],
                        "iteration": 926,
                        "passed_time": 27.03964143,
                        "remaining_time": 31.29831203,
                        "test": [
                          0.1559909766,
                          0.9018632039,
                          0.04617857143
                        ]
                      },
                      {
                        "learn": [
                          0.03758829365
                        ],
                        "iteration": 927,
                        "passed_time": 27.0623555,
                        "remaining_time": 31.26168652,
                        "test": [
                          0.1559909766,
                          0.9018632039,
                          0.04617857143
                        ]
                      },
                      {
                        "learn": [
                          0.03758829365
                        ],
                        "iteration": 928,
                        "passed_time": 27.08560388,
                        "remaining_time": 31.22570695,
                        "test": [
                          0.1559909766,
                          0.9018632039,
                          0.04617857143
                        ]
                      },
                      {
                        "learn": [
                          0.03758829365
                        ],
                        "iteration": 929,
                        "passed_time": 27.10862899,
                        "remaining_time": 31.18949787,
                        "test": [
                          0.1559909766,
                          0.9018632039,
                          0.04617857143
                        ]
                      },
                      {
                        "learn": [
                          0.03758829365
                        ],
                        "iteration": 930,
                        "passed_time": 27.13212265,
                        "remaining_time": 31.15385512,
                        "test": [
                          0.1559909766,
                          0.9019195548,
                          0.04617857143
                        ]
                      },
                      {
                        "learn": [
                          0.03758829365
                        ],
                        "iteration": 931,
                        "passed_time": 27.15716189,
                        "remaining_time": 31.12000955,
                        "test": [
                          0.1559909766,
                          0.9018574927,
                          0.04517857143
                        ]
                      },
                      {
                        "learn": [
                          0.03758829365
                        ],
                        "iteration": 932,
                        "passed_time": 27.18026539,
                        "remaining_time": 31.08396911,
                        "test": [
                          0.1559909766,
                          0.9018632039,
                          0.04617857143
                        ]
                      },
                      {
                        "learn": [
                          0.03758829365
                        ],
                        "iteration": 933,
                        "passed_time": 27.20319419,
                        "remaining_time": 31.04775697,
                        "test": [
                          0.1559909766,
                          0.9018632039,
                          0.04617857143
                        ]
                      },
                      {
                        "learn": [
                          0.03758829365
                        ],
                        "iteration": 934,
                        "passed_time": 27.24047,
                        "remaining_time": 31.02791503,
                        "test": [
                          0.155510111,
                          0.9017188551,
                          0.04617857143
                        ]
                      },
                      {
                        "learn": [
                          0.03758829365
                        ],
                        "iteration": 935,
                        "passed_time": 27.26274901,
                        "remaining_time": 30.99098819,
                        "test": [
                          0.155510111,
                          0.9017188551,
                          0.04617857143
                        ]
                      },
                      {
                        "learn": [
                          0.03758829365
                        ],
                        "iteration": 936,
                        "passed_time": 27.28662152,
                        "remaining_time": 30.9559004,
                        "test": [
                          0.155510111,
                          0.901828415,
                          0.04617857143
                        ]
                      },
                      {
                        "learn": [
                          0.03758829365
                        ],
                        "iteration": 937,
                        "passed_time": 27.30976839,
                        "remaining_time": 30.92001496,
                        "test": [
                          0.154235111,
                          0.9005191175,
                          0.04617857143
                        ]
                      },
                      {
                        "learn": [
                          0.03758829365
                        ],
                        "iteration": 938,
                        "passed_time": 27.33579682,
                        "remaining_time": 30.8874126,
                        "test": [
                          0.154235111,
                          0.9005191175,
                          0.04617857143
                        ]
                      },
                      {
                        "learn": [
                          0.03758829365
                        ],
                        "iteration": 939,
                        "passed_time": 27.36162027,
                        "remaining_time": 30.85459307,
                        "test": [
                          0.152960111,
                          0.8998789849,
                          0.04617857143
                        ]
                      },
                      {
                        "learn": [
                          0.03758829365
                        ],
                        "iteration": 940,
                        "passed_time": 27.38425597,
                        "remaining_time": 30.81820093,
                        "test": [
                          0.154460111,
                          0.9036260383,
                          0.04617857143
                        ]
                      },
                      {
                        "learn": [
                          0.03758829365
                        ],
                        "iteration": 941,
                        "passed_time": 27.40649873,
                        "remaining_time": 30.78139667,
                        "test": [
                          0.154460111,
                          0.9036260383,
                          0.04617857143
                        ]
                      },
                      {
                        "learn": [
                          0.03758829365
                        ],
                        "iteration": 942,
                        "passed_time": 27.4290624,
                        "remaining_time": 30.74498299,
                        "test": [
                          0.154460111,
                          0.9037355982,
                          0.04617857143
                        ]
                      },
                      {
                        "learn": [
                          0.03758829365
                        ],
                        "iteration": 943,
                        "passed_time": 27.45187643,
                        "remaining_time": 30.70887872,
                        "test": [
                          0.154460111,
                          0.9037355982,
                          0.04617857143
                        ]
                      },
                      {
                        "learn": [
                          0.03758829365
                        ],
                        "iteration": 944,
                        "passed_time": 27.47482504,
                        "remaining_time": 30.67295282,
                        "test": [
                          0.154460111,
                          0.9036260383,
                          0.04617857143
                        ]
                      },
                      {
                        "learn": [
                          0.03758829365
                        ],
                        "iteration": 945,
                        "passed_time": 27.49934313,
                        "remaining_time": 30.63880302,
                        "test": [
                          0.154460111,
                          0.9035696874,
                          0.04617857143
                        ]
                      },
                      {
                        "learn": [
                          0.03758829365
                        ],
                        "iteration": 946,
                        "passed_time": 27.52211686,
                        "remaining_time": 30.60273395,
                        "test": [
                          0.154460111,
                          0.9035696874,
                          0.04617857143
                        ]
                      },
                      {
                        "learn": [
                          0.03758829365
                        ],
                        "iteration": 947,
                        "passed_time": 27.54523661,
                        "remaining_time": 30.56707691,
                        "test": [
                          0.154460111,
                          0.9035696874,
                          0.04617857143
                        ]
                      },
                      {
                        "learn": [
                          0.03758829365
                        ],
                        "iteration": 948,
                        "passed_time": 27.5681636,
                        "remaining_time": 30.53123282,
                        "test": [
                          0.154460111,
                          0.9035076253,
                          0.04517857143
                        ]
                      },
                      {
                        "learn": [
                          0.03758829365
                        ],
                        "iteration": 949,
                        "passed_time": 27.59178922,
                        "remaining_time": 30.49618809,
                        "test": [
                          0.154460111,
                          0.9035696874,
                          0.04617857143
                        ]
                      },
                      {
                        "learn": [
                          0.03758829365
                        ],
                        "iteration": 950,
                        "passed_time": 27.61465908,
                        "remaining_time": 30.46033373,
                        "test": [
                          0.154460111,
                          0.9034237725,
                          0.04517857143
                        ]
                      },
                      {
                        "learn": [
                          0.03758829365
                        ],
                        "iteration": 951,
                        "passed_time": 27.63798515,
                        "remaining_time": 30.42500887,
                        "test": [
                          0.154460111,
                          0.9034858345,
                          0.04617857143
                        ]
                      },
                      {
                        "learn": [
                          0.03758829365
                        ],
                        "iteration": 952,
                        "passed_time": 27.66115823,
                        "remaining_time": 30.38954109,
                        "test": [
                          0.1549409766,
                          0.9036301833,
                          0.04617857143
                        ]
                      },
                      {
                        "learn": [
                          0.03758829365
                        ],
                        "iteration": 953,
                        "passed_time": 27.68649413,
                        "remaining_time": 30.35647051,
                        "test": [
                          0.1549409766,
                          0.9036301833,
                          0.04617857143
                        ]
                      },
                      {
                        "learn": [
                          0.03758829365
                        ],
                        "iteration": 954,
                        "passed_time": 27.70962139,
                        "remaining_time": 30.32099932,
                        "test": [
                          0.1549409766,
                          0.9035681213,
                          0.04517857143
                        ]
                      },
                      {
                        "learn": [
                          0.03758829365
                        ],
                        "iteration": 955,
                        "passed_time": 27.73333935,
                        "remaining_time": 30.28619904,
                        "test": [
                          0.1549409766,
                          0.9036244722,
                          0.04517857143
                        ]
                      },
                      {
                        "learn": [
                          0.03758829365
                        ],
                        "iteration": 956,
                        "passed_time": 27.75669047,
                        "remaining_time": 30.25102211,
                        "test": [
                          0.1549409766,
                          0.9037083251,
                          0.04517857143
                        ]
                      },
                      {
                        "learn": [
                          0.03758829365
                        ],
                        "iteration": 957,
                        "passed_time": 27.7793312,
                        "remaining_time": 30.21509719,
                        "test": [
                          0.1549409766,
                          0.9036894382,
                          0.04517857143
                        ]
                      },
                      {
                        "learn": [
                          0.03758829365
                        ],
                        "iteration": 958,
                        "passed_time": 27.80176611,
                        "remaining_time": 30.17897656,
                        "test": [
                          0.1549409766,
                          0.9036894382,
                          0.04517857143
                        ]
                      },
                      {
                        "learn": [
                          0.03758829365
                        ],
                        "iteration": 959,
                        "passed_time": 27.82445405,
                        "remaining_time": 30.14315855,
                        "test": [
                          0.1549409766,
                          0.9037515002,
                          0.04617857143
                        ]
                      },
                      {
                        "learn": [
                          0.03758829365
                        ],
                        "iteration": 960,
                        "passed_time": 27.84853176,
                        "remaining_time": 30.10887045,
                        "test": [
                          0.1549409766,
                          0.9037703871,
                          0.04617857143
                        ]
                      },
                      {
                        "learn": [
                          0.03758829365
                        ],
                        "iteration": 961,
                        "passed_time": 27.87184127,
                        "remaining_time": 30.07377467,
                        "test": [
                          0.1549409766,
                          0.9037083251,
                          0.04517857143
                        ]
                      },
                      {
                        "learn": [
                          0.03758829365
                        ],
                        "iteration": 962,
                        "passed_time": 27.92018945,
                        "remaining_time": 30.0656661,
                        "test": [
                          0.1549409766,
                          0.9037703871,
                          0.04617857143
                        ]
                      },
                      {
                        "learn": [
                          0.03758829365
                        ],
                        "iteration": 963,
                        "passed_time": 27.97411626,
                        "remaining_time": 30.06346934,
                        "test": [
                          0.1549409766,
                          0.9037703871,
                          0.04617857143
                        ]
                      },
                      {
                        "learn": [
                          0.03758829365
                        ],
                        "iteration": 964,
                        "passed_time": 28.01799954,
                        "remaining_time": 30.05039329,
                        "test": [
                          0.154460111,
                          0.9036260383,
                          0.04617857143
                        ]
                      },
                      {
                        "learn": [
                          0.03758829365
                        ],
                        "iteration": 965,
                        "passed_time": 28.04032927,
                        "remaining_time": 30.01418267,
                        "test": [
                          0.1553812985,
                          0.9038108895,
                          0.04617857143
                        ]
                      },
                      {
                        "learn": [
                          0.03758829365
                        ],
                        "iteration": 966,
                        "passed_time": 28.06389236,
                        "remaining_time": 29.97931831,
                        "test": [
                          0.154460111,
                          0.9034858345,
                          0.04617857143
                        ]
                      },
                      {
                        "learn": [
                          0.03758829365
                        ],
                        "iteration": 967,
                        "passed_time": 28.08754968,
                        "remaining_time": 29.94457776,
                        "test": [
                          0.154460111,
                          0.9033455841,
                          0.04617857143
                        ]
                      },
                      {
                        "learn": [
                          0.03758829365
                        ],
                        "iteration": 968,
                        "passed_time": 28.11068636,
                        "remaining_time": 29.90930613,
                        "test": [
                          0.154460111,
                          0.9034858345,
                          0.04617857143
                        ]
                      },
                      {
                        "learn": [
                          0.03758829365
                        ],
                        "iteration": 969,
                        "passed_time": 28.13343651,
                        "remaining_time": 29.87364908,
                        "test": [
                          0.154460111,
                          0.9034858345,
                          0.04617857143
                        ]
                      },
                      {
                        "learn": [
                          0.03758829365
                        ],
                        "iteration": 970,
                        "passed_time": 28.15880492,
                        "remaining_time": 29.84079327,
                        "test": [
                          0.154460111,
                          0.9034858345,
                          0.04617857143
                        ]
                      },
                      {
                        "learn": [
                          0.03758829365
                        ],
                        "iteration": 971,
                        "passed_time": 28.18269668,
                        "remaining_time": 29.80639114,
                        "test": [
                          0.154460111,
                          0.9035026716,
                          0.04517857143
                        ]
                      },
                      {
                        "learn": [
                          0.03758829365
                        ],
                        "iteration": 972,
                        "passed_time": 28.20574494,
                        "remaining_time": 29.7711203,
                        "test": [
                          0.154460111,
                          0.9035026716,
                          0.04517857143
                        ]
                      },
                      {
                        "learn": [
                          0.03758829365
                        ],
                        "iteration": 973,
                        "passed_time": 28.22824408,
                        "remaining_time": 29.73529613,
                        "test": [
                          0.154460111,
                          0.9035026716,
                          0.04517857143
                        ]
                      },
                      {
                        "learn": [
                          0.03758829365
                        ],
                        "iteration": 974,
                        "passed_time": 28.26803444,
                        "remaining_time": 29.71767723,
                        "test": [
                          0.154460111,
                          0.9035301736,
                          0.04517857143
                        ]
                      },
                      {
                        "learn": [
                          0.03758829365
                        ],
                        "iteration": 975,
                        "passed_time": 28.29062883,
                        "remaining_time": 29.68197123,
                        "test": [
                          0.154460111,
                          0.9035696874,
                          0.04617857143
                        ]
                      },
                      {
                        "learn": [
                          0.03758829365
                        ],
                        "iteration": 976,
                        "passed_time": 28.31350419,
                        "remaining_time": 29.64658627,
                        "test": [
                          0.1549409766,
                          0.9037349194,
                          0.04617857143
                        ]
                      },
                      {
                        "learn": [
                          0.03758829365
                        ],
                        "iteration": 977,
                        "passed_time": 28.33647774,
                        "remaining_time": 29.6113295,
                        "test": [
                          0.1549409766,
                          0.9036954056,
                          0.04517857143
                        ]
                      },
                      {
                        "learn": [
                          0.03758829365
                        ],
                        "iteration": 978,
                        "passed_time": 28.36275103,
                        "remaining_time": 29.57953912,
                        "test": [
                          0.1534409766,
                          0.8999208503,
                          0.04517857143
                        ]
                      },
                      {
                        "learn": [
                          0.03758829365
                        ],
                        "iteration": 979,
                        "passed_time": 28.38540021,
                        "remaining_time": 29.54398798,
                        "test": [
                          0.1543621641,
                          0.9002734072,
                          0.04517857143
                        ]
                      },
                      {
                        "learn": [
                          0.03758829365
                        ],
                        "iteration": 980,
                        "passed_time": 28.40827771,
                        "remaining_time": 29.50870029,
                        "test": [
                          0.1558621641,
                          0.9040374738,
                          0.04517857143
                        ]
                      },
                      {
                        "learn": [
                          0.03758829365
                        ],
                        "iteration": 981,
                        "passed_time": 28.43130468,
                        "remaining_time": 29.47359283,
                        "test": [
                          0.1549409766,
                          0.9037517565,
                          0.04517857143
                        ]
                      },
                      {
                        "learn": [
                          0.03758829365
                        ],
                        "iteration": 982,
                        "passed_time": 28.45469163,
                        "remaining_time": 29.43888239,
                        "test": [
                          0.1558621641,
                          0.9039366077,
                          0.04517857143
                        ]
                      },
                      {
                        "learn": [
                          0.03758829365
                        ],
                        "iteration": 983,
                        "passed_time": 28.47790434,
                        "remaining_time": 29.40401505,
                        "test": [
                          0.1558621641,
                          0.9039157245,
                          0.04517857143
                        ]
                      },
                      {
                        "learn": [
                          0.03758829365
                        ],
                        "iteration": 984,
                        "passed_time": 28.50287507,
                        "remaining_time": 29.37098294,
                        "test": [
                          0.1558621641,
                          0.9039157245,
                          0.04517857143
                        ]
                      },
                      {
                        "learn": [
                          0.03758829365
                        ],
                        "iteration": 985,
                        "passed_time": 28.52536472,
                        "remaining_time": 29.33541565,
                        "test": [
                          0.1558621641,
                          0.9039157245,
                          0.04517857143
                        ]
                      },
                      {
                        "learn": [
                          0.03758829365
                        ],
                        "iteration": 986,
                        "passed_time": 28.54866555,
                        "remaining_time": 29.3007074,
                        "test": [
                          0.1558621641,
                          0.9038029761,
                          0.04517857143
                        ]
                      },
                      {
                        "learn": [
                          0.03758829365
                        ],
                        "iteration": 987,
                        "passed_time": 28.5715935,
                        "remaining_time": 29.2656403,
                        "test": [
                          0.1558621641,
                          0.9038029761,
                          0.04517857143
                        ]
                      },
                      {
                        "learn": [
                          0.03758829365
                        ],
                        "iteration": 988,
                        "passed_time": 28.59423889,
                        "remaining_time": 29.23030891,
                        "test": [
                          0.1558621641,
                          0.903912536,
                          0.04517857143
                        ]
                      },
                      {
                        "learn": [
                          0.03758829365
                        ],
                        "iteration": 989,
                        "passed_time": 28.61857182,
                        "remaining_time": 29.19672479,
                        "test": [
                          0.1558621641,
                          0.903912536,
                          0.04517857143
                        ]
                      },
                      {
                        "learn": [
                          0.03758829365
                        ],
                        "iteration": 990,
                        "passed_time": 28.64133094,
                        "remaining_time": 29.16155694,
                        "test": [
                          0.1558621641,
                          0.9039897701,
                          0.04517857143
                        ]
                      },
                      {
                        "learn": [
                          0.03758829365
                        ],
                        "iteration": 991,
                        "passed_time": 28.66362115,
                        "remaining_time": 29.12593763,
                        "test": [
                          0.1558621641,
                          0.9038802102,
                          0.04517857143
                        ]
                      },
                      {
                        "learn": [
                          0.03758829365
                        ],
                        "iteration": 992,
                        "passed_time": 28.68938069,
                        "remaining_time": 29.09386339,
                        "test": [
                          0.1558621641,
                          0.903859327,
                          0.04517857143
                        ]
                      },
                      {
                        "learn": [
                          0.03758829365
                        ],
                        "iteration": 993,
                        "passed_time": 28.71183094,
                        "remaining_time": 29.05845264,
                        "test": [
                          0.1558621641,
                          0.903859327,
                          0.04517857143
                        ]
                      },
                      {
                        "learn": [
                          0.03758829365
                        ],
                        "iteration": 994,
                        "passed_time": 28.73635237,
                        "remaining_time": 29.02515993,
                        "test": [
                          0.1549409766,
                          0.9035906229,
                          0.04517857143
                        ]
                      },
                      {
                        "learn": [
                          0.03758829365
                        ],
                        "iteration": 995,
                        "passed_time": 28.75953329,
                        "remaining_time": 28.99053355,
                        "test": [
                          0.1549409766,
                          0.9033011145,
                          0.04517857143
                        ]
                      },
                      {
                        "learn": [
                          0.03758829365
                        ],
                        "iteration": 996,
                        "passed_time": 28.78415067,
                        "remaining_time": 28.95737525,
                        "test": [
                          0.1549409766,
                          0.9033849673,
                          0.04517857143
                        ]
                      },
                      {
                        "learn": [
                          0.03758829365
                        ],
                        "iteration": 997,
                        "passed_time": 28.80620046,
                        "remaining_time": 28.92165617,
                        "test": [
                          0.1558621641,
                          0.9036536714,
                          0.04517857143
                        ]
                      },
                      {
                        "learn": [
                          0.03758829365
                        ],
                        "iteration": 998,
                        "passed_time": 28.82864136,
                        "remaining_time": 28.88635635,
                        "test": [
                          0.1558621641,
                          0.903859327,
                          0.04517857143
                        ]
                      },
                      {
                        "learn": [
                          0.03758829365
                        ],
                        "iteration": 999,
                        "passed_time": 28.85188766,
                        "remaining_time": 28.85188766,
                        "test": [
                          0.1558621641,
                          0.9038802102,
                          0.04517857143
                        ]
                      },
                      {
                        "learn": [
                          0.03758829365
                        ],
                        "iteration": 1000,
                        "passed_time": 28.8747808,
                        "remaining_time": 28.81708893,
                        "test": [
                          0.1558621641,
                          0.9038802102,
                          0.04517857143
                        ]
                      },
                      {
                        "learn": [
                          0.03758829365
                        ],
                        "iteration": 1001,
                        "passed_time": 28.89760225,
                        "remaining_time": 28.78224256,
                        "test": [
                          0.1558621641,
                          0.9037963573,
                          0.04517857143
                        ]
                      },
                      {
                        "learn": [
                          0.03758829365
                        ],
                        "iteration": 1002,
                        "passed_time": 28.92013568,
                        "remaining_time": 28.74713387,
                        "test": [
                          0.1573621641,
                          0.9074870598,
                          0.04517857143
                        ]
                      },
                      {
                        "learn": [
                          0.03758829365
                        ],
                        "iteration": 1003,
                        "passed_time": 28.98039052,
                        "remaining_time": 28.74947108,
                        "test": [
                          0.1573621641,
                          0.9075709127,
                          0.04517857143
                        ]
                      },
                      {
                        "learn": [
                          0.03758829365
                        ],
                        "iteration": 1004,
                        "passed_time": 29.033542,
                        "remaining_time": 28.74465103,
                        "test": [
                          0.1573621641,
                          0.9075709127,
                          0.04517857143
                        ]
                      },
                      {
                        "learn": [
                          0.03758829365
                        ],
                        "iteration": 1005,
                        "passed_time": 29.06515305,
                        "remaining_time": 28.71845143,
                        "test": [
                          0.1573621641,
                          0.9074870598,
                          0.04517857143
                        ]
                      },
                      {
                        "learn": [
                          0.03758829365
                        ],
                        "iteration": 1006,
                        "passed_time": 29.08877356,
                        "remaining_time": 28.68436162,
                        "test": [
                          0.1573621641,
                          0.9074870598,
                          0.04517857143
                        ]
                      },
                      {
                        "learn": [
                          0.03758829365
                        ],
                        "iteration": 1007,
                        "passed_time": 29.11106242,
                        "remaining_time": 28.64898206,
                        "test": [
                          0.1573621641,
                          0.9074870598,
                          0.04517857143
                        ]
                      },
                      {
                        "learn": [
                          0.03758829365
                        ],
                        "iteration": 1008,
                        "passed_time": 29.13647791,
                        "remaining_time": 28.61669931,
                        "test": [
                          0.1573621641,
                          0.9074870598,
                          0.04517857143
                        ]
                      },
                      {
                        "learn": [
                          0.03758829365
                        ],
                        "iteration": 1009,
                        "passed_time": 29.16095334,
                        "remaining_time": 28.58350872,
                        "test": [
                          0.1573621641,
                          0.9074824056,
                          0.04517857143
                        ]
                      },
                      {
                        "learn": [
                          0.03758829365
                        ],
                        "iteration": 1010,
                        "passed_time": 29.18478977,
                        "remaining_time": 28.54971027,
                        "test": [
                          0.1558621641,
                          0.9037078503,
                          0.04517857143
                        ]
                      },
                      {
                        "learn": [
                          0.03758829365
                        ],
                        "iteration": 1011,
                        "passed_time": 29.20751212,
                        "remaining_time": 28.51484385,
                        "test": [
                          0.1577708999,
                          0.9075182044,
                          0.04517857143
                        ]
                      },
                      {
                        "learn": [
                          0.03758829365
                        ],
                        "iteration": 1012,
                        "passed_time": 29.23093625,
                        "remaining_time": 28.48068517,
                        "test": [
                          0.1577708999,
                          0.9075182044,
                          0.04517857143
                        ]
                      },
                      {
                        "learn": [
                          0.03758829365
                        ],
                        "iteration": 1013,
                        "passed_time": 29.26047716,
                        "remaining_time": 28.45249554,
                        "test": [
                          0.1562708999,
                          0.903916009,
                          0.04517857143
                        ]
                      },
                      {
                        "learn": [
                          0.03758829365
                        ],
                        "iteration": 1014,
                        "passed_time": 29.29431629,
                        "remaining_time": 28.42847443,
                        "test": [
                          0.1543621641,
                          0.9000847717,
                          0.04517857143
                        ]
                      },
                      {
                        "learn": [
                          0.03758829365
                        ],
                        "iteration": 1015,
                        "passed_time": 29.31753421,
                        "remaining_time": 28.39414731,
                        "test": [
                          0.1543621641,
                          0.9001056549,
                          0.04517857143
                        ]
                      },
                      {
                        "learn": [
                          0.03758829365
                        ],
                        "iteration": 1016,
                        "passed_time": 29.34163277,
                        "remaining_time": 28.36069323,
                        "test": [
                          0.1558621641,
                          0.9037963573,
                          0.04517857143
                        ]
                      },
                      {
                        "learn": [
                          0.03758829365
                        ],
                        "iteration": 1017,
                        "passed_time": 29.36511777,
                        "remaining_time": 28.32666566,
                        "test": [
                          0.1558621641,
                          0.9037963573,
                          0.04517857143
                        ]
                      },
                      {
                        "learn": [
                          0.03758829365
                        ],
                        "iteration": 1018,
                        "passed_time": 29.38827032,
                        "remaining_time": 28.29233875,
                        "test": [
                          0.1558621641,
                          0.9037963573,
                          0.04517857143
                        ]
                      },
                      {
                        "learn": [
                          0.03758829365
                        ],
                        "iteration": 1019,
                        "passed_time": 29.41076339,
                        "remaining_time": 28.25740012,
                        "test": [
                          0.1558621641,
                          0.9037963573,
                          0.04517857143
                        ]
                      },
                      {
                        "learn": [
                          0.03758829365
                        ],
                        "iteration": 1020,
                        "passed_time": 29.43818583,
                        "remaining_time": 28.22721246,
                        "test": [
                          0.1558621641,
                          0.9037963573,
                          0.04517857143
                        ]
                      },
                      {
                        "learn": [
                          0.03758829365
                        ],
                        "iteration": 1021,
                        "passed_time": 29.46138459,
                        "remaining_time": 28.19298838,
                        "test": [
                          0.1558621641,
                          0.9037963573,
                          0.04517857143
                        ]
                      },
                      {
                        "learn": [
                          0.03758829365
                        ],
                        "iteration": 1022,
                        "passed_time": 29.48386437,
                        "remaining_time": 28.1580992,
                        "test": [
                          0.1562708999,
                          0.903916009,
                          0.04517857143
                        ]
                      },
                      {
                        "learn": [
                          0.03758829365
                        ],
                        "iteration": 1023,
                        "passed_time": 29.50907627,
                        "remaining_time": 28.12583832,
                        "test": [
                          0.1577708999,
                          0.9076067115,
                          0.04517857143
                        ]
                      },
                      {
                        "learn": [
                          0.03758829365
                        ],
                        "iteration": 1024,
                        "passed_time": 29.5324631,
                        "remaining_time": 28.09185514,
                        "test": [
                          0.1562708999,
                          0.9038596581,
                          0.04517857143
                        ]
                      },
                      {
                        "learn": [
                          0.03758829365
                        ],
                        "iteration": 1025,
                        "passed_time": 29.55584133,
                        "remaining_time": 28.05788446,
                        "test": [
                          0.1577708999,
                          0.9075503606,
                          0.04517857143
                        ]
                      },
                      {
                        "learn": [
                          0.03758829365
                        ],
                        "iteration": 1026,
                        "passed_time": 29.57875391,
                        "remaining_time": 28.02349324,
                        "test": [
                          0.1590458999,
                          0.9081647861,
                          0.04517857143
                        ]
                      },
                      {
                        "learn": [
                          0.03758829365
                        ],
                        "iteration": 1027,
                        "passed_time": 29.60100819,
                        "remaining_time": 27.98850191,
                        "test": [
                          0.1590458999,
                          0.9081647861,
                          0.04517857143
                        ]
                      },
                      {
                        "learn": [
                          0.03758829365
                        ],
                        "iteration": 1028,
                        "passed_time": 29.62374894,
                        "remaining_time": 27.95399439,
                        "test": [
                          0.1567517655,
                          0.9040040069,
                          0.04517857143
                        ]
                      },
                      {
                        "learn": [
                          0.03758829365
                        ],
                        "iteration": 1029,
                        "passed_time": 29.6467496,
                        "remaining_time": 27.91975447,
                        "test": [
                          0.1567517655,
                          0.9040603578,
                          0.04517857143
                        ]
                      },
                      {
                        "learn": [
                          0.03758829365
                        ],
                        "iteration": 1030,
                        "passed_time": 29.67326092,
                        "remaining_time": 27.88883591,
                        "test": [
                          0.1567517655,
                          0.9040603578,
                          0.04517857143
                        ]
                      },
                      {
                        "learn": [
                          0.03758829365
                        ],
                        "iteration": 1031,
                        "passed_time": 29.69733036,
                        "remaining_time": 27.85563545,
                        "test": [
                          0.1567517655,
                          0.9042006082,
                          0.04517857143
                        ]
                      },
                      {
                        "learn": [
                          0.03758829365
                        ],
                        "iteration": 1032,
                        "passed_time": 29.72164129,
                        "remaining_time": 27.82267873,
                        "test": [
                          0.1578355155,
                          0.9048938427,
                          0.04517857143
                        ]
                      },
                      {
                        "learn": [
                          0.03758829365
                        ],
                        "iteration": 1033,
                        "passed_time": 29.74492278,
                        "remaining_time": 27.78877699,
                        "test": [
                          0.1578355155,
                          0.9048938427,
                          0.04517857143
                        ]
                      },
                      {
                        "learn": [
                          0.03758829365
                        ],
                        "iteration": 1034,
                        "passed_time": 29.7694169,
                        "remaining_time": 27.75602638,
                        "test": [
                          0.1578355155,
                          0.9048938427,
                          0.04517857143
                        ]
                      },
                      {
                        "learn": [
                          0.03758829365
                        ],
                        "iteration": 1035,
                        "passed_time": 29.79253923,
                        "remaining_time": 27.72201527,
                        "test": [
                          0.1591105155,
                          0.9055082681,
                          0.04517857143
                        ]
                      },
                      {
                        "learn": [
                          0.03758829365
                        ],
                        "iteration": 1036,
                        "passed_time": 29.81634338,
                        "remaining_time": 27.68865832,
                        "test": [
                          0.1591105155,
                          0.9055082681,
                          0.04517857143
                        ]
                      },
                      {
                        "learn": [
                          0.03758829365
                        ],
                        "iteration": 1037,
                        "passed_time": 29.84042191,
                        "remaining_time": 27.65557406,
                        "test": [
                          0.1591105155,
                          0.9055082681,
                          0.04517857143
                        ]
                      },
                      {
                        "learn": [
                          0.03758829365
                        ],
                        "iteration": 1038,
                        "passed_time": 29.8637729,
                        "remaining_time": 27.62183422,
                        "test": [
                          0.1591105155,
                          0.9055082681,
                          0.04517857143
                        ]
                      },
                      {
                        "learn": [
                          0.03758829365
                        ],
                        "iteration": 1039,
                        "passed_time": 29.88797778,
                        "remaining_time": 27.58890257,
                        "test": [
                          0.1591105155,
                          0.9055082681,
                          0.04517857143
                        ]
                      },
                      {
                        "learn": [
                          0.03758829365
                        ],
                        "iteration": 1040,
                        "passed_time": 29.91302104,
                        "remaining_time": 27.55676002,
                        "test": [
                          0.1591105155,
                          0.9055082681,
                          0.04517857143
                        ]
                      },
                      {
                        "learn": [
                          0.03758829365
                        ],
                        "iteration": 1041,
                        "passed_time": 29.93779369,
                        "remaining_time": 27.5243823,
                        "test": [
                          0.1591105155,
                          0.9055082681,
                          0.04517857143
                        ]
                      },
                      {
                        "learn": [
                          0.03758829365
                        ],
                        "iteration": 1042,
                        "passed_time": 29.961686,
                        "remaining_time": 27.49121141,
                        "test": [
                          0.1591105155,
                          0.9054873849,
                          0.04517857143
                        ]
                      },
                      {
                        "learn": [
                          0.03758829365
                        ],
                        "iteration": 1043,
                        "passed_time": 30.02665683,
                        "remaining_time": 27.49567427,
                        "test": [
                          0.1591105155,
                          0.9054873849,
                          0.04517857143
                        ]
                      },
                      {
                        "learn": [
                          0.03758829365
                        ],
                        "iteration": 1044,
                        "passed_time": 30.08537229,
                        "remaining_time": 27.49428759,
                        "test": [
                          0.158189328,
                          0.9052186808,
                          0.04517857143
                        ]
                      },
                      {
                        "learn": [
                          0.03758829365
                        ],
                        "iteration": 1045,
                        "passed_time": 30.11817695,
                        "remaining_time": 27.46915947,
                        "test": [
                          0.1591105155,
                          0.9054873849,
                          0.04517857143
                        ]
                      },
                      {
                        "learn": [
                          0.03758829365
                        ],
                        "iteration": 1046,
                        "passed_time": 30.14534025,
                        "remaining_time": 27.43888182,
                        "test": [
                          0.1591105155,
                          0.9054873849,
                          0.04517857143
                        ]
                      },
                      {
                        "learn": [
                          0.03758829365
                        ],
                        "iteration": 1047,
                        "passed_time": 30.16933314,
                        "remaining_time": 27.4057301,
                        "test": [
                          0.1591105155,
                          0.9054873849,
                          0.04517857143
                        ]
                      },
                      {
                        "learn": [
                          0.03758829365
                        ],
                        "iteration": 1048,
                        "passed_time": 30.19361387,
                        "remaining_time": 27.37285681,
                        "test": [
                          0.1591105155,
                          0.9054873849,
                          0.04517857143
                        ]
                      },
                      {
                        "learn": [
                          0.03758829365
                        ],
                        "iteration": 1049,
                        "passed_time": 30.21754939,
                        "remaining_time": 27.33968754,
                        "test": [
                          0.158189328,
                          0.9052186808,
                          0.04517857143
                        ]
                      },
                      {
                        "learn": [
                          0.03758829365
                        ],
                        "iteration": 1050,
                        "passed_time": 30.24171069,
                        "remaining_time": 27.30673972,
                        "test": [
                          0.158189328,
                          0.9052186808,
                          0.04517857143
                        ]
                      },
                      {
                        "learn": [
                          0.03758829365
                        ],
                        "iteration": 1051,
                        "passed_time": 30.26679984,
                        "remaining_time": 27.27464472,
                        "test": [
                          0.1591105155,
                          0.9053471345,
                          0.04517857143
                        ]
                      },
                      {
                        "learn": [
                          0.03758829365
                        ],
                        "iteration": 1052,
                        "passed_time": 30.3081425,
                        "remaining_time": 27.25718039,
                        "test": [
                          0.1591105155,
                          0.9053471345,
                          0.04517857143
                        ]
                      },
                      {
                        "learn": [
                          0.03758829365
                        ],
                        "iteration": 1053,
                        "passed_time": 30.33218475,
                        "remaining_time": 27.22414304,
                        "test": [
                          0.1591105155,
                          0.905141479,
                          0.04517857143
                        ]
                      },
                      {
                        "learn": [
                          0.03758829365
                        ],
                        "iteration": 1054,
                        "passed_time": 30.3561276,
                        "remaining_time": 27.19103372,
                        "test": [
                          0.1591105155,
                          0.9053471345,
                          0.04517857143
                        ]
                      },
                      {
                        "learn": [
                          0.03758829365
                        ],
                        "iteration": 1055,
                        "passed_time": 30.37928459,
                        "remaining_time": 27.15723926,
                        "test": [
                          0.1591105155,
                          0.9053471345,
                          0.04517857143
                        ]
                      },
                      {
                        "learn": [
                          0.03758829365
                        ],
                        "iteration": 1056,
                        "passed_time": 30.40280119,
                        "remaining_time": 27.12378574,
                        "test": [
                          0.1591105155,
                          0.9053471345,
                          0.04517857143
                        ]
                      },
                      {
                        "learn": [
                          0.03758829365
                        ],
                        "iteration": 1057,
                        "passed_time": 30.42645589,
                        "remaining_time": 27.09047396,
                        "test": [
                          0.1591105155,
                          0.9053471345,
                          0.04517857143
                        ]
                      },
                      {
                        "learn": [
                          0.03758829365
                        ],
                        "iteration": 1058,
                        "passed_time": 30.45370147,
                        "remaining_time": 27.06037118,
                        "test": [
                          0.1591105155,
                          0.9053471345,
                          0.04517857143
                        ]
                      },
                      {
                        "learn": [
                          0.03758829365
                        ],
                        "iteration": 1059,
                        "passed_time": 30.47985409,
                        "remaining_time": 27.02930457,
                        "test": [
                          0.158189328,
                          0.9051760553,
                          0.04517857143
                        ]
                      },
                      {
                        "learn": [
                          0.03758829365
                        ],
                        "iteration": 1060,
                        "passed_time": 30.50681492,
                        "remaining_time": 26.9989625,
                        "test": [
                          0.158189328,
                          0.9051760553,
                          0.04517857143
                        ]
                      },
                      {
                        "learn": [
                          0.03758829365
                        ],
                        "iteration": 1061,
                        "passed_time": 30.53155141,
                        "remaining_time": 26.96666216,
                        "test": [
                          0.158189328,
                          0.9053163057,
                          0.04517857143
                        ]
                      },
                      {
                        "learn": [
                          0.03758829365
                        ],
                        "iteration": 1062,
                        "passed_time": 30.55577775,
                        "remaining_time": 26.93392639,
                        "test": [
                          0.158189328,
                          0.9051760553,
                          0.04517857143
                        ]
                      },
                      {
                        "learn": [
                          0.03758829365
                        ],
                        "iteration": 1063,
                        "passed_time": 30.58071946,
                        "remaining_time": 26.90183592,
                        "test": [
                          0.158189328,
                          0.9050729948,
                          0.04517857143
                        ]
                      },
                      {
                        "learn": [
                          0.03758829365
                        ],
                        "iteration": 1064,
                        "passed_time": 30.60572524,
                        "remaining_time": 26.86981512,
                        "test": [
                          0.158189328,
                          0.9050729948,
                          0.04517857143
                        ]
                      },
                      {
                        "learn": [
                          0.03758829365
                        ],
                        "iteration": 1065,
                        "passed_time": 30.63030359,
                        "remaining_time": 26.83743298,
                        "test": [
                          0.158189328,
                          0.9050729948,
                          0.04517857143
                        ]
                      },
                      {
                        "learn": [
                          0.03758829365
                        ],
                        "iteration": 1066,
                        "passed_time": 30.65515557,
                        "remaining_time": 26.80530473,
                        "test": [
                          0.158189328,
                          0.9050729948,
                          0.04517857143
                        ]
                      },
                      {
                        "learn": [
                          0.03758829365
                        ],
                        "iteration": 1067,
                        "passed_time": 30.68311557,
                        "remaining_time": 26.77590235,
                        "test": [
                          0.158189328,
                          0.9050729948,
                          0.04517857143
                        ]
                      },
                      {
                        "learn": [
                          0.03758829365
                        ],
                        "iteration": 1068,
                        "passed_time": 30.70873015,
                        "remaining_time": 26.74446003,
                        "test": [
                          0.158189328,
                          0.9050729948,
                          0.04517857143
                        ]
                      },
                      {
                        "learn": [
                          0.03758829365
                        ],
                        "iteration": 1069,
                        "passed_time": 30.73305496,
                        "remaining_time": 26.71190758,
                        "test": [
                          0.158189328,
                          0.9050729948,
                          0.04517857143
                        ]
                      },
                      {
                        "learn": [
                          0.03758829365
                        ],
                        "iteration": 1070,
                        "passed_time": 30.757786,
                        "remaining_time": 26.67972287,
                        "test": [
                          0.158189328,
                          0.9050729948,
                          0.04517857143
                        ]
                      },
                      {
                        "learn": [
                          0.03758829365
                        ],
                        "iteration": 1071,
                        "passed_time": 30.78267088,
                        "remaining_time": 26.64768524,
                        "test": [
                          0.159464328,
                          0.906429002,
                          0.04517857143
                        ]
                      },
                      {
                        "learn": [
                          0.03758829365
                        ],
                        "iteration": 1072,
                        "passed_time": 30.80792909,
                        "remaining_time": 26.61598348,
                        "test": [
                          0.159464328,
                          0.9062233464,
                          0.04517857143
                        ]
                      },
                      {
                        "learn": [
                          0.03758829365
                        ],
                        "iteration": 1073,
                        "passed_time": 30.83430888,
                        "remaining_time": 26.58526073,
                        "test": [
                          0.1590240062,
                          0.9062758728,
                          0.04517857143
                        ]
                      },
                      {
                        "learn": [
                          0.03758829365
                        ],
                        "iteration": 1074,
                        "passed_time": 30.85959242,
                        "remaining_time": 26.55360278,
                        "test": [
                          0.1599451937,
                          0.9066577594,
                          0.04517857143
                        ]
                      },
                      {
                        "learn": [
                          0.03758829365
                        ],
                        "iteration": 1075,
                        "passed_time": 30.88642744,
                        "remaining_time": 26.52328899,
                        "test": [
                          0.1599451937,
                          0.9066577594,
                          0.04517857143
                        ]
                      },
                      {
                        "learn": [
                          0.03758829365
                        ],
                        "iteration": 1076,
                        "passed_time": 30.91299729,
                        "remaining_time": 26.49275441,
                        "test": [
                          0.1599451937,
                          0.9067141103,
                          0.04517857143
                        ]
                      },
                      {
                        "learn": [
                          0.03758829365
                        ],
                        "iteration": 1077,
                        "passed_time": 30.93923548,
                        "remaining_time": 26.46194352,
                        "test": [
                          0.1599451937,
                          0.9067141103,
                          0.04517857143
                        ]
                      },
                      {
                        "learn": [
                          0.03758829365
                        ],
                        "iteration": 1078,
                        "passed_time": 30.96537102,
                        "remaining_time": 26.43105349,
                        "test": [
                          0.1599451937,
                          0.9070394305,
                          0.04517857143
                        ]
                      },
                      {
                        "learn": [
                          0.03758829365
                        ],
                        "iteration": 1079,
                        "passed_time": 30.99105718,
                        "remaining_time": 26.39978945,
                        "test": [
                          0.1599451937,
                          0.9070394305,
                          0.04517857143
                        ]
                      },
                      {
                        "learn": [
                          0.03758829365
                        ],
                        "iteration": 1080,
                        "passed_time": 31.01601485,
                        "remaining_time": 26.36791642,
                        "test": [
                          0.1599451937,
                          0.9070394305,
                          0.04517857143
                        ]
                      },
                      {
                        "learn": [
                          0.03758829365
                        ],
                        "iteration": 1081,
                        "passed_time": 31.10871913,
                        "remaining_time": 26.39353434,
                        "test": [
                          0.1599451937,
                          0.9070394305,
                          0.04517857143
                        ]
                      },
                      {
                        "learn": [
                          0.03758829365
                        ],
                        "iteration": 1082,
                        "passed_time": 31.15285518,
                        "remaining_time": 26.37780998,
                        "test": [
                          0.1599451937,
                          0.9070394305,
                          0.04517857143
                        ]
                      },
                      {
                        "learn": [
                          0.03758829365
                        ],
                        "iteration": 1083,
                        "passed_time": 31.17652569,
                        "remaining_time": 26.34473942,
                        "test": [
                          0.1599451937,
                          0.9070394305,
                          0.04517857143
                        ]
                      },
                      {
                        "learn": [
                          0.03758829365
                        ],
                        "iteration": 1084,
                        "passed_time": 31.19913312,
                        "remaining_time": 26.31078968,
                        "test": [
                          0.1599451937,
                          0.9070394305,
                          0.04517857143
                        ]
                      },
                      {
                        "learn": [
                          0.03758829365
                        ],
                        "iteration": 1085,
                        "passed_time": 31.22293036,
                        "remaining_time": 26.2778622,
                        "test": [
                          0.1586701937,
                          0.905730133,
                          0.04517857143
                        ]
                      },
                      {
                        "learn": [
                          0.03758829365
                        ],
                        "iteration": 1086,
                        "passed_time": 31.2480857,
                        "remaining_time": 26.24609222,
                        "test": [
                          0.1586701937,
                          0.905730133,
                          0.04517857143
                        ]
                      },
                      {
                        "learn": [
                          0.03758829365
                        ],
                        "iteration": 1087,
                        "passed_time": 31.28025328,
                        "remaining_time": 26.22021231,
                        "test": [
                          0.1586701937,
                          0.905730133,
                          0.04517857143
                        ]
                      },
                      {
                        "learn": [
                          0.03758829365
                        ],
                        "iteration": 1088,
                        "passed_time": 31.31898091,
                        "remaining_time": 26.19980864,
                        "test": [
                          0.1586701937,
                          0.905730133,
                          0.04517857143
                        ]
                      },
                      {
                        "learn": [
                          0.03758829365
                        ],
                        "iteration": 1089,
                        "passed_time": 31.34265951,
                        "remaining_time": 26.16680748,
                        "test": [
                          0.1586701937,
                          0.905730133,
                          0.04517857143
                        ]
                      },
                      {
                        "learn": [
                          0.03758829365
                        ],
                        "iteration": 1090,
                        "passed_time": 31.36570261,
                        "remaining_time": 26.13329393,
                        "test": [
                          0.1586701937,
                          0.9054048128,
                          0.04517857143
                        ]
                      },
                      {
                        "learn": [
                          0.03758829365
                        ],
                        "iteration": 1091,
                        "passed_time": 31.38890895,
                        "remaining_time": 26.09993528,
                        "test": [
                          0.1599451937,
                          0.9067141103,
                          0.04517857143
                        ]
                      },
                      {
                        "learn": [
                          0.03758829365
                        ],
                        "iteration": 1092,
                        "passed_time": 31.41221549,
                        "remaining_time": 26.06667836,
                        "test": [
                          0.1586701937,
                          0.905730133,
                          0.04517857143
                        ]
                      },
                      {
                        "learn": [
                          0.03758829365
                        ],
                        "iteration": 1093,
                        "passed_time": 31.43820038,
                        "remaining_time": 26.03565771,
                        "test": [
                          0.1586701937,
                          0.905730133,
                          0.04517857143
                        ]
                      },
                      {
                        "learn": [
                          0.03758829365
                        ],
                        "iteration": 1094,
                        "passed_time": 31.46268852,
                        "remaining_time": 26.00340923,
                        "test": [
                          0.1629451937,
                          0.9120747189,
                          0.04417857143
                        ]
                      },
                      {
                        "learn": [
                          0.03758829365
                        ],
                        "iteration": 1095,
                        "passed_time": 31.49721435,
                        "remaining_time": 25.97945417,
                        "test": [
                          0.1623663812,
                          0.9104415699,
                          0.04417857143
                        ]
                      },
                      {
                        "learn": [
                          0.03758829365
                        ],
                        "iteration": 1096,
                        "passed_time": 31.52481614,
                        "remaining_time": 25.94978028,
                        "test": [
                          0.1623663812,
                          0.9104949431,
                          0.04417857143
                        ]
                      },
                      {
                        "learn": [
                          0.03758829365
                        ],
                        "iteration": 1097,
                        "passed_time": 31.54814683,
                        "remaining_time": 25.9166015,
                        "test": [
                          0.1623663812,
                          0.9105570051,
                          0.04517857143
                        ]
                      },
                      {
                        "learn": [
                          0.03758829365
                        ],
                        "iteration": 1098,
                        "passed_time": 31.57211194,
                        "remaining_time": 25.88396075,
                        "test": [
                          0.1623663812,
                          0.9105570051,
                          0.04517857143
                        ]
                      },
                      {
                        "learn": [
                          0.03758829365
                        ],
                        "iteration": 1099,
                        "passed_time": 31.59554519,
                        "remaining_time": 25.85090061,
                        "test": [
                          0.1623663812,
                          0.9104949431,
                          0.04417857143
                        ]
                      },
                      {
                        "learn": [
                          0.03758829365
                        ],
                        "iteration": 1100,
                        "passed_time": 31.6195361,
                        "remaining_time": 25.81831331,
                        "test": [
                          0.1623663812,
                          0.9105570051,
                          0.04517857143
                        ]
                      },
                      {
                        "learn": [
                          0.03758829365
                        ],
                        "iteration": 1101,
                        "passed_time": 31.64231816,
                        "remaining_time": 25.78475654,
                        "test": [
                          0.1623663812,
                          0.9105570051,
                          0.04517857143
                        ]
                      },
                      {
                        "learn": [
                          0.03758829365
                        ],
                        "iteration": 1102,
                        "passed_time": 31.66932368,
                        "remaining_time": 25.75465398,
                        "test": [
                          0.1638663812,
                          0.9122889733,
                          0.04517857143
                        ]
                      },
                      {
                        "learn": [
                          0.03758829365
                        ],
                        "iteration": 1103,
                        "passed_time": 31.69331636,
                        "remaining_time": 25.72211183,
                        "test": [
                          0.1638663812,
                          0.9122889733,
                          0.04517857143
                        ]
                      },
                      {
                        "learn": [
                          0.03758829365
                        ],
                        "iteration": 1104,
                        "passed_time": 31.71767442,
                        "remaining_time": 25.68988109,
                        "test": [
                          0.1625913812,
                          0.9109796757,
                          0.04517857143
                        ]
                      },
                      {
                        "learn": [
                          0.03758829365
                        ],
                        "iteration": 1105,
                        "passed_time": 31.74326836,
                        "remaining_time": 25.65866357,
                        "test": [
                          0.1625913812,
                          0.9109176137,
                          0.04417857143
                        ]
                      },
                      {
                        "learn": [
                          0.03758829365
                        ],
                        "iteration": 1106,
                        "passed_time": 31.767112,
                        "remaining_time": 25.62604428,
                        "test": [
                          0.1625913812,
                          0.9109176137,
                          0.04417857143
                        ]
                      },
                      {
                        "learn": [
                          0.03758829365
                        ],
                        "iteration": 1107,
                        "passed_time": 31.79204212,
                        "remaining_time": 25.5943155,
                        "test": [
                          0.1610913812,
                          0.9091856455,
                          0.04417857143
                        ]
                      },
                      {
                        "learn": [
                          0.03758829365
                        ],
                        "iteration": 1108,
                        "passed_time": 31.8154473,
                        "remaining_time": 25.5613738,
                        "test": [
                          0.1625913812,
                          0.9109796757,
                          0.04517857143
                        ]
                      },
                      {
                        "learn": [
                          0.03758829365
                        ],
                        "iteration": 1109,
                        "passed_time": 31.83880525,
                        "remaining_time": 25.52841142,
                        "test": [
                          0.1625913812,
                          0.9109796757,
                          0.04517857143
                        ]
                      },
                      {
                        "learn": [
                          0.03758829365
                        ],
                        "iteration": 1110,
                        "passed_time": 31.863511,
                        "remaining_time": 25.49654481,
                        "test": [
                          0.1625913812,
                          0.9109176137,
                          0.04417857143
                        ]
                      },
                      {
                        "learn": [
                          0.03758829365
                        ],
                        "iteration": 1111,
                        "passed_time": 31.88720635,
                        "remaining_time": 25.46388421,
                        "test": [
                          0.1616701937,
                          0.9104793762,
                          0.04417857143
                        ]
                      },
                      {
                        "learn": [
                          0.03758829365
                        ],
                        "iteration": 1112,
                        "passed_time": 31.91027233,
                        "remaining_time": 25.43073814,
                        "test": [
                          0.1616701937,
                          0.9104793762,
                          0.04417857143
                        ]
                      },
                      {
                        "learn": [
                          0.03758829365
                        ],
                        "iteration": 1113,
                        "passed_time": 31.93381927,
                        "remaining_time": 25.39799271,
                        "test": [
                          0.1616701937,
                          0.9104793762,
                          0.04417857143
                        ]
                      },
                      {
                        "learn": [
                          0.03758829365
                        ],
                        "iteration": 1114,
                        "passed_time": 31.95698867,
                        "remaining_time": 25.3649641,
                        "test": [
                          0.1616701937,
                          0.9104793762,
                          0.04417857143
                        ]
                      },
                      {
                        "learn": [
                          0.03758829365
                        ],
                        "iteration": 1115,
                        "passed_time": 31.98040822,
                        "remaining_time": 25.33215131,
                        "test": [
                          0.1616701937,
                          0.9104793762,
                          0.04417857143
                        ]
                      },
                      {
                        "learn": [
                          0.03758829365
                        ],
                        "iteration": 1116,
                        "passed_time": 32.00301373,
                        "remaining_time": 25.29871184,
                        "test": [
                          0.1616701937,
                          0.9102737206,
                          0.04417857143
                        ]
                      },
                      {
                        "learn": [
                          0.03758829365
                        ],
                        "iteration": 1117,
                        "passed_time": 32.02673084,
                        "remaining_time": 25.2661687,
                        "test": [
                          0.1616701937,
                          0.9102737206,
                          0.04417857143
                        ]
                      },
                      {
                        "learn": [
                          0.03758829365
                        ],
                        "iteration": 1118,
                        "passed_time": 32.0501858,
                        "remaining_time": 25.23343494,
                        "test": [
                          0.1616701937,
                          0.9104793762,
                          0.04417857143
                        ]
                      },
                      {
                        "learn": [
                          0.03758829365
                        ],
                        "iteration": 1119,
                        "passed_time": 32.09579853,
                        "remaining_time": 25.21812742,
                        "test": [
                          0.1616701937,
                          0.9102737206,
                          0.04417857143
                        ]
                      },
                      {
                        "learn": [
                          0.03758829365
                        ],
                        "iteration": 1120,
                        "passed_time": 32.16543734,
                        "remaining_time": 25.22160519,
                        "test": [
                          0.1616701937,
                          0.9102737206,
                          0.04417857143
                        ]
                      },
                      {
                        "learn": [
                          0.03758829365
                        ],
                        "iteration": 1121,
                        "passed_time": 32.20489111,
                        "remaining_time": 25.2013319,
                        "test": [
                          0.1616701937,
                          0.9102737206,
                          0.04417857143
                        ]
                      },
                      {
                        "learn": [
                          0.03758829365
                        ],
                        "iteration": 1122,
                        "passed_time": 32.22717581,
                        "remaining_time": 25.16761637,
                        "test": [
                          0.1616701937,
                          0.9103357827,
                          0.04517857143
                        ]
                      },
                      {
                        "learn": [
                          0.03758829365
                        ],
                        "iteration": 1123,
                        "passed_time": 32.25132855,
                        "remaining_time": 25.13537706,
                        "test": [
                          0.1616701937,
                          0.9102737206,
                          0.04417857143
                        ]
                      },
                      {
                        "learn": [
                          0.03758829365
                        ],
                        "iteration": 1124,
                        "passed_time": 32.27422827,
                        "remaining_time": 25.10217754,
                        "test": [
                          0.1616701937,
                          0.9101334703,
                          0.04417857143
                        ]
                      },
                      {
                        "learn": [
                          0.03758829365
                        ],
                        "iteration": 1125,
                        "passed_time": 32.29713596,
                        "remaining_time": 25.06900251,
                        "test": [
                          0.1616701937,
                          0.9100239103,
                          0.04417857143
                        ]
                      },
                      {
                        "learn": [
                          0.03758829365
                        ],
                        "iteration": 1126,
                        "passed_time": 32.32833324,
                        "remaining_time": 25.04226701,
                        "test": [
                          0.1629451937,
                          0.9109362624,
                          0.04417857143
                        ]
                      },
                      {
                        "learn": [
                          0.03758829365
                        ],
                        "iteration": 1127,
                        "passed_time": 32.35829723,
                        "remaining_time": 25.0145702,
                        "test": [
                          0.1629451937,
                          0.9109362624,
                          0.04417857143
                        ]
                      },
                      {
                        "learn": [
                          0.03758829365
                        ],
                        "iteration": 1128,
                        "passed_time": 32.38169466,
                        "remaining_time": 24.98180341,
                        "test": [
                          0.1629451937,
                          0.9108267024,
                          0.04417857143
                        ]
                      },
                      {
                        "learn": [
                          0.03758829365
                        ],
                        "iteration": 1129,
                        "passed_time": 32.40433093,
                        "remaining_time": 24.94846717,
                        "test": [
                          0.1625289437,
                          0.909519789,
                          0.04417857143
                        ]
                      },
                      {
                        "learn": [
                          0.03758829365
                        ],
                        "iteration": 1130,
                        "passed_time": 32.42925802,
                        "remaining_time": 24.91691001,
                        "test": [
                          0.1625289437,
                          0.909581851,
                          0.04517857143
                        ]
                      },
                      {
                        "learn": [
                          0.03758829365
                        ],
                        "iteration": 1131,
                        "passed_time": 32.45222273,
                        "remaining_time": 24.88385983,
                        "test": [
                          0.1640289437,
                          0.9113670282,
                          0.04517857143
                        ]
                      },
                      {
                        "learn": [
                          0.03758829365
                        ],
                        "iteration": 1132,
                        "passed_time": 32.47539787,
                        "remaining_time": 24.85098849,
                        "test": [
                          0.1638039437,
                          0.9110404532,
                          0.04517857143
                        ]
                      },
                      {
                        "learn": [
                          0.03758829365
                        ],
                        "iteration": 1133,
                        "passed_time": 32.4999159,
                        "remaining_time": 24.81915976,
                        "test": [
                          0.1638039437,
                          0.9109443576,
                          0.04517857143
                        ]
                      },
                      {
                        "learn": [
                          0.03758829365
                        ],
                        "iteration": 1134,
                        "passed_time": 32.52311425,
                        "remaining_time": 24.78633817,
                        "test": [
                          0.1638039437,
                          0.9109443576,
                          0.04517857143
                        ]
                      },
                      {
                        "learn": [
                          0.03758829365
                        ],
                        "iteration": 1135,
                        "passed_time": 32.55762898,
                        "remaining_time": 24.76214035,
                        "test": [
                          0.1638039437,
                          0.9109443576,
                          0.04517857143
                        ]
                      },
                      {
                        "learn": [
                          0.03758829365
                        ],
                        "iteration": 1136,
                        "passed_time": 32.58048989,
                        "remaining_time": 24.72907896,
                        "test": [
                          0.1638039437,
                          0.9109443576,
                          0.04517857143
                        ]
                      },
                      {
                        "learn": [
                          0.03758829365
                        ],
                        "iteration": 1137,
                        "passed_time": 32.60349777,
                        "remaining_time": 24.69614682,
                        "test": [
                          0.1638039437,
                          0.9108289224,
                          0.04417857143
                        ]
                      },
                      {
                        "learn": [
                          0.03758829365
                        ],
                        "iteration": 1138,
                        "passed_time": 32.62673264,
                        "remaining_time": 24.66340369,
                        "test": [
                          0.1638039437,
                          0.9108822956,
                          0.04417857143
                        ]
                      },
                      {
                        "learn": [
                          0.03758829365
                        ],
                        "iteration": 1139,
                        "passed_time": 32.64917935,
                        "remaining_time": 24.63008266,
                        "test": [
                          0.1638039437,
                          0.9108822956,
                          0.04417857143
                        ]
                      },
                      {
                        "learn": [
                          0.03758829365
                        ],
                        "iteration": 1140,
                        "passed_time": 32.67583008,
                        "remaining_time": 24.5999457,
                        "test": [
                          0.1653039437,
                          0.9126142637,
                          0.04417857143
                        ]
                      },
                      {
                        "learn": [
                          0.03758829365
                        ],
                        "iteration": 1141,
                        "passed_time": 32.6990081,
                        "remaining_time": 24.56720574,
                        "test": [
                          0.1653039437,
                          0.9126142637,
                          0.04417857143
                        ]
                      },
                      {
                        "learn": [
                          0.03758829365
                        ],
                        "iteration": 1142,
                        "passed_time": 32.72193723,
                        "remaining_time": 24.53429589,
                        "test": [
                          0.1653039437,
                          0.9126142637,
                          0.04417857143
                        ]
                      },
                      {
                        "learn": [
                          0.03758829365
                        ],
                        "iteration": 1143,
                        "passed_time": 32.74406553,
                        "remaining_time": 24.50080428,
                        "test": [
                          0.1642201937,
                          0.912189209,
                          0.04417857143
                        ]
                      },
                      {
                        "learn": [
                          0.03758829365
                        ],
                        "iteration": 1144,
                        "passed_time": 32.76736362,
                        "remaining_time": 24.46820602,
                        "test": [
                          0.1642201937,
                          0.912189209,
                          0.04417857143
                        ]
                      },
                      {
                        "learn": [
                          0.03758829365
                        ],
                        "iteration": 1145,
                        "passed_time": 32.79010268,
                        "remaining_time": 24.43520741,
                        "test": [
                          0.1642201937,
                          0.9121358358,
                          0.04417857143
                        ]
                      },
                      {
                        "learn": [
                          0.03758829365
                        ],
                        "iteration": 1146,
                        "passed_time": 32.81274938,
                        "remaining_time": 24.402158,
                        "test": [
                          0.1642201937,
                          0.9121358358,
                          0.04417857143
                        ]
                      },
                      {
                        "learn": [
                          0.03758829365
                        ],
                        "iteration": 1147,
                        "passed_time": 32.83608725,
                        "remaining_time": 24.36963967,
                        "test": [
                          0.1642201937,
                          0.9121358358,
                          0.04417857143
                        ]
                      },
                      {
                        "learn": [
                          0.03758829365
                        ],
                        "iteration": 1148,
                        "passed_time": 32.85888296,
                        "remaining_time": 24.33673577,
                        "test": [
                          0.1627201937,
                          0.9104038677,
                          0.04417857143
                        ]
                      },
                      {
                        "learn": [
                          0.03758829365
                        ],
                        "iteration": 1149,
                        "passed_time": 32.88226869,
                        "remaining_time": 24.30428556,
                        "test": [
                          0.1627201937,
                          0.9104038677,
                          0.04417857143
                        ]
                      },
                      {
                        "learn": [
                          0.03758829365
                        ],
                        "iteration": 1150,
                        "passed_time": 32.91024136,
                        "remaining_time": 24.2752345,
                        "test": [
                          0.1627201937,
                          0.9104038677,
                          0.04417857143
                        ]
                      },
                      {
                        "learn": [
                          0.03758829365
                        ],
                        "iteration": 1151,
                        "passed_time": 32.93437685,
                        "remaining_time": 24.24336074,
                        "test": [
                          0.1627201937,
                          0.9104038677,
                          0.04417857143
                        ]
                      },
                      {
                        "learn": [
                          0.03758829365
                        ],
                        "iteration": 1152,
                        "passed_time": 32.95745213,
                        "remaining_time": 24.21072156,
                        "test": [
                          0.1642201937,
                          0.9120262759,
                          0.04417857143
                        ]
                      },
                      {
                        "learn": [
                          0.03758829365
                        ],
                        "iteration": 1153,
                        "passed_time": 32.98142386,
                        "remaining_time": 24.17875614,
                        "test": [
                          0.1642201937,
                          0.91209964,
                          0.04417857143
                        ]
                      },
                      {
                        "learn": [
                          0.03758829365
                        ],
                        "iteration": 1154,
                        "passed_time": 33.0045905,
                        "remaining_time": 24.14621556,
                        "test": [
                          0.1642201937,
                          0.9120262759,
                          0.04417857143
                        ]
                      },
                      {
                        "learn": [
                          0.03758829365
                        ],
                        "iteration": 1155,
                        "passed_time": 33.02835629,
                        "remaining_time": 24.11412864,
                        "test": [
                          0.1642201937,
                          0.9122091999,
                          0.04417857143
                        ]
                      },
                      {
                        "learn": [
                          0.03758829365
                        ],
                        "iteration": 1156,
                        "passed_time": 33.05063403,
                        "remaining_time": 24.0809719,
                        "test": [
                          0.1642201937,
                          0.9122091999,
                          0.04417857143
                        ]
                      },
                      {
                        "learn": [
                          0.03758829365
                        ],
                        "iteration": 1157,
                        "passed_time": 33.07396466,
                        "remaining_time": 24.04859952,
                        "test": [
                          0.1642201937,
                          0.9122091999,
                          0.04417857143
                        ]
                      },
                      {
                        "learn": [
                          0.03758829365
                        ],
                        "iteration": 1158,
                        "passed_time": 33.09708976,
                        "remaining_time": 24.01609361,
                        "test": [
                          0.1642201937,
                          0.9122091999,
                          0.04417857143
                        ]
                      },
                      {
                        "learn": [
                          0.03758829365
                        ],
                        "iteration": 1159,
                        "passed_time": 33.14173517,
                        "remaining_time": 23.99918754,
                        "test": [
                          0.1627201937,
                          0.9104038677,
                          0.04417857143
                        ]
                      },
                      {
                        "learn": [
                          0.03758829365
                        ],
                        "iteration": 1160,
                        "passed_time": 33.21744384,
                        "remaining_time": 24.00468164,
                        "test": [
                          0.1627201937,
                          0.9104038677,
                          0.04417857143
                        ]
                      },
                      {
                        "learn": [
                          0.03758829365
                        ],
                        "iteration": 1161,
                        "passed_time": 33.25872997,
                        "remaining_time": 23.98521146,
                        "test": [
                          0.1612201937,
                          0.906752679,
                          0.04517857143
                        ]
                      },
                      {
                        "learn": [
                          0.03758829365
                        ],
                        "iteration": 1162,
                        "passed_time": 33.2814116,
                        "remaining_time": 23.95231428,
                        "test": [
                          0.1612201937,
                          0.906752679,
                          0.04517857143
                        ]
                      },
                      {
                        "learn": [
                          0.03758829365
                        ],
                        "iteration": 1163,
                        "passed_time": 33.30482359,
                        "remaining_time": 23.91995921,
                        "test": [
                          0.1612201937,
                          0.9068090299,
                          0.04517857143
                        ]
                      },
                      {
                        "learn": [
                          0.03758829365
                        ],
                        "iteration": 1164,
                        "passed_time": 33.32833379,
                        "remaining_time": 23.88768988,
                        "test": [
                          0.162239328,
                          0.9103553836,
                          0.04517857143
                        ]
                      },
                      {
                        "learn": [
                          0.03758829365
                        ],
                        "iteration": 1165,
                        "passed_time": 33.3682177,
                        "remaining_time": 23.86714714,
                        "test": [
                          0.160739328,
                          0.9065688164,
                          0.04417857143
                        ]
                      },
                      {
                        "learn": [
                          0.03758829365
                        ],
                        "iteration": 1166,
                        "passed_time": 33.39639493,
                        "remaining_time": 23.83821506,
                        "test": [
                          0.160739328,
                          0.9065688164,
                          0.04417857143
                        ]
                      },
                      {
                        "learn": [
                          0.03758829365
                        ],
                        "iteration": 1167,
                        "passed_time": 33.42041992,
                        "remaining_time": 23.80632652,
                        "test": [
                          0.160739328,
                          0.9065688164,
                          0.04417857143
                        ]
                      },
                      {
                        "learn": [
                          0.03758829365
                        ],
                        "iteration": 1168,
                        "passed_time": 33.44302061,
                        "remaining_time": 23.77343895,
                        "test": [
                          0.160739328,
                          0.9065688164,
                          0.04417857143
                        ]
                      },
                      {
                        "learn": [
                          0.03758829365
                        ],
                        "iteration": 1169,
                        "passed_time": 33.46669406,
                        "remaining_time": 23.74132998,
                        "test": [
                          0.160739328,
                          0.9066421805,
                          0.04417857143
                        ]
                      },
                      {
                        "learn": [
                          0.03758829365
                        ],
                        "iteration": 1170,
                        "passed_time": 33.49144736,
                        "remaining_time": 23.70999988,
                        "test": [
                          0.1612201937,
                          0.9067865293,
                          0.04417857143
                        ]
                      },
                      {
                        "learn": [
                          0.03758829365
                        ],
                        "iteration": 1171,
                        "passed_time": 33.51485419,
                        "remaining_time": 23.67772975,
                        "test": [
                          0.1612201937,
                          0.9067865293,
                          0.04417857143
                        ]
                      },
                      {
                        "learn": [
                          0.03758829365
                        ],
                        "iteration": 1172,
                        "passed_time": 33.5387786,
                        "remaining_time": 23.64583965,
                        "test": [
                          0.1638039437,
                          0.9109022865,
                          0.04417857143
                        ]
                      },
                      {
                        "learn": [
                          0.03758829365
                        ],
                        "iteration": 1173,
                        "passed_time": 33.56188091,
                        "remaining_time": 23.61338469,
                        "test": [
                          0.1638039437,
                          0.9109022865,
                          0.04417857143
                        ]
                      },
                      {
                        "learn": [
                          0.03758829365
                        ],
                        "iteration": 1174,
                        "passed_time": 33.58601936,
                        "remaining_time": 23.58167316,
                        "test": [
                          0.1638039437,
                          0.9109022865,
                          0.04417857143
                        ]
                      },
                      {
                        "learn": [
                          0.03758829365
                        ],
                        "iteration": 1175,
                        "passed_time": 33.61241219,
                        "remaining_time": 23.55155412,
                        "test": [
                          0.1627201937,
                          0.9104772318,
                          0.04417857143
                        ]
                      },
                      {
                        "learn": [
                          0.03758829365
                        ],
                        "iteration": 1176,
                        "passed_time": 33.63565783,
                        "remaining_time": 23.51924078,
                        "test": [
                          0.1612201937,
                          0.9068399025,
                          0.04417857143
                        ]
                      },
                      {
                        "learn": [
                          0.03758829365
                        ],
                        "iteration": 1177,
                        "passed_time": 33.65834114,
                        "remaining_time": 23.48655044,
                        "test": [
                          0.1612201937,
                          0.9068399025,
                          0.04417857143
                        ]
                      },
                      {
                        "learn": [
                          0.03758829365
                        ],
                        "iteration": 1178,
                        "passed_time": 33.68395368,
                        "remaining_time": 23.45591685,
                        "test": [
                          0.1612201937,
                          0.9068399025,
                          0.04417857143
                        ]
                      },
                      {
                        "learn": [
                          0.03758829365
                        ],
                        "iteration": 1179,
                        "passed_time": 33.70736765,
                        "remaining_time": 23.42376396,
                        "test": [
                          0.1612201937,
                          0.9068399025,
                          0.04417857143
                        ]
                      },
                      {
                        "learn": [
                          0.03758829365
                        ],
                        "iteration": 1180,
                        "passed_time": 33.73011376,
                        "remaining_time": 23.39116272,
                        "test": [
                          0.1612201937,
                          0.9068399025,
                          0.04417857143
                        ]
                      },
                      {
                        "learn": [
                          0.03758829365
                        ],
                        "iteration": 1181,
                        "passed_time": 33.75326217,
                        "remaining_time": 23.35885656,
                        "test": [
                          0.1612201937,
                          0.9068399025,
                          0.04417857143
                        ]
                      },
                      {
                        "learn": [
                          0.03758829365
                        ],
                        "iteration": 1182,
                        "passed_time": 33.77589143,
                        "remaining_time": 23.32620735,
                        "test": [
                          0.1612201937,
                          0.9068399025,
                          0.04417857143
                        ]
                      },
                      {
                        "learn": [
                          0.03758829365
                        ],
                        "iteration": 1183,
                        "passed_time": 33.79868087,
                        "remaining_time": 23.29368547,
                        "test": [
                          0.1597201937,
                          0.9031024904,
                          0.04417857143
                        ]
                      },
                      {
                        "learn": [
                          0.03758829365
                        ],
                        "iteration": 1184,
                        "passed_time": 33.82378252,
                        "remaining_time": 23.26277026,
                        "test": [
                          0.1597201937,
                          0.9030291263,
                          0.04417857143
                        ]
                      },
                      {
                        "learn": [
                          0.03758829365
                        ],
                        "iteration": 1185,
                        "passed_time": 33.85104591,
                        "remaining_time": 23.23334854,
                        "test": [
                          0.1597201937,
                          0.9030758359,
                          0.04417857143
                        ]
                      },
                      {
                        "learn": [
                          0.03758829365
                        ],
                        "iteration": 1186,
                        "passed_time": 33.87506475,
                        "remaining_time": 23.20170821,
                        "test": [
                          0.1612201937,
                          0.9048078041,
                          0.04417857143
                        ]
                      },
                      {
                        "learn": [
                          0.03758829365
                        ],
                        "iteration": 1187,
                        "passed_time": 33.89720158,
                        "remaining_time": 23.16879435,
                        "test": [
                          0.1597201937,
                          0.9030758359,
                          0.04417857143
                        ]
                      },
                      {
                        "learn": [
                          0.03758829365
                        ],
                        "iteration": 1188,
                        "passed_time": 33.92040119,
                        "remaining_time": 23.13662352,
                        "test": [
                          0.1597201937,
                          0.9030758359,
                          0.04417857143
                        ]
                      },
                      {
                        "learn": [
                          0.03758829365
                        ],
                        "iteration": 1189,
                        "passed_time": 33.94333412,
                        "remaining_time": 23.10428625,
                        "test": [
                          0.1597201937,
                          0.9030291263,
                          0.04417857143
                        ]
                      },
                      {
                        "learn": [
                          0.03758829365
                        ],
                        "iteration": 1190,
                        "passed_time": 33.96629978,
                        "remaining_time": 23.07198701,
                        "test": [
                          0.1612201937,
                          0.9067198288,
                          0.04417857143
                        ]
                      },
                      {
                        "learn": [
                          0.03758829365
                        ],
                        "iteration": 1191,
                        "passed_time": 33.98923054,
                        "remaining_time": 23.03967976,
                        "test": [
                          0.1612201937,
                          0.9067198288,
                          0.04417857143
                        ]
                      },
                      {
                        "learn": [
                          0.03758829365
                        ],
                        "iteration": 1192,
                        "passed_time": 34.01899475,
                        "remaining_time": 23.0120107,
                        "test": [
                          0.1612201937,
                          0.9067931929,
                          0.04417857143
                        ]
                      },
                      {
                        "learn": [
                          0.03758829365
                        ],
                        "iteration": 1193,
                        "passed_time": 34.0410741,
                        "remaining_time": 22.97915052,
                        "test": [
                          0.1623039437,
                          0.9072182476,
                          0.04417857143
                        ]
                      },
                      {
                        "learn": [
                          0.03758829365
                        ],
                        "iteration": 1194,
                        "passed_time": 34.06308878,
                        "remaining_time": 22.94626483,
                        "test": [
                          0.1623039437,
                          0.9072182476,
                          0.04417857143
                        ]
                      },
                      {
                        "learn": [
                          0.03758829365
                        ],
                        "iteration": 1195,
                        "passed_time": 34.08587257,
                        "remaining_time": 22.91391434,
                        "test": [
                          0.1623039437,
                          0.9072182476,
                          0.04417857143
                        ]
                      },
                      {
                        "learn": [
                          0.03758829365
                        ],
                        "iteration": 1196,
                        "passed_time": 34.11033916,
                        "remaining_time": 22.88270873,
                        "test": [
                          0.1623039437,
                          0.9072182476,
                          0.04417857143
                        ]
                      },
                      {
                        "learn": [
                          0.03758829365
                        ],
                        "iteration": 1197,
                        "passed_time": 34.13342463,
                        "remaining_time": 22.85058978,
                        "test": [
                          0.1612201937,
                          0.9067931929,
                          0.04417857143
                        ]
                      },
                      {
                        "learn": [
                          0.03758829365
                        ],
                        "iteration": 1198,
                        "passed_time": 34.15561244,
                        "remaining_time": 22.81788621,
                        "test": [
                          0.1623039437,
                          0.9072182476,
                          0.04417857143
                        ]
                      },
                      {
                        "learn": [
                          0.03758829365
                        ],
                        "iteration": 1199,
                        "passed_time": 34.22869979,
                        "remaining_time": 22.81913319,
                        "test": [
                          0.1623039437,
                          0.9072182476,
                          0.04417857143
                        ]
                      },
                      {
                        "learn": [
                          0.03758829365
                        ],
                        "iteration": 1200,
                        "passed_time": 34.27217275,
                        "remaining_time": 22.80055456,
                        "test": [
                          0.1623039437,
                          0.9072182476,
                          0.04417857143
                        ]
                      },
                      {
                        "learn": [
                          0.03758829365
                        ],
                        "iteration": 1201,
                        "passed_time": 34.31415261,
                        "remaining_time": 22.78094325,
                        "test": [
                          0.161823078,
                          0.9070205256,
                          0.04417857143
                        ]
                      },
                      {
                        "learn": [
                          0.03758829365
                        ],
                        "iteration": 1202,
                        "passed_time": 34.33723016,
                        "remaining_time": 22.74877177,
                        "test": [
                          0.161823078,
                          0.9070205256,
                          0.04417857143
                        ]
                      },
                      {
                        "learn": [
                          0.03758829365
                        ],
                        "iteration": 1203,
                        "passed_time": 34.36924556,
                        "remaining_time": 22.72252447,
                        "test": [
                          0.161823078,
                          0.9070205256,
                          0.04417857143
                        ]
                      },
                      {
                        "learn": [
                          0.03758829365
                        ],
                        "iteration": 1204,
                        "passed_time": 34.39847728,
                        "remaining_time": 22.69443107,
                        "test": [
                          0.160323078,
                          0.9033298231,
                          0.04417857143
                        ]
                      },
                      {
                        "learn": [
                          0.03758829365
                        ],
                        "iteration": 1205,
                        "passed_time": 34.42198862,
                        "remaining_time": 22.66256962,
                        "test": [
                          0.1608039437,
                          0.9035580248,
                          0.04417857143
                        ]
                      },
                      {
                        "learn": [
                          0.03758829365
                        ],
                        "iteration": 1206,
                        "passed_time": 34.44493682,
                        "remaining_time": 22.63035203,
                        "test": [
                          0.1608039437,
                          0.9035580248,
                          0.04417857143
                        ]
                      },
                      {
                        "learn": [
                          0.03758829365
                        ],
                        "iteration": 1207,
                        "passed_time": 34.46748821,
                        "remaining_time": 22.59788962,
                        "test": [
                          0.1608039437,
                          0.9035580248,
                          0.04417857143
                        ]
                      },
                      {
                        "learn": [
                          0.03758829365
                        ],
                        "iteration": 1208,
                        "passed_time": 34.49275055,
                        "remaining_time": 22.56721727,
                        "test": [
                          0.1608039437,
                          0.903611398,
                          0.04417857143
                        ]
                      },
                      {
                        "learn": [
                          0.03758829365
                        ],
                        "iteration": 1209,
                        "passed_time": 34.51819899,
                        "remaining_time": 22.53667537,
                        "test": [
                          0.1608039437,
                          0.903611398,
                          0.04417857143
                        ]
                      },
                      {
                        "learn": [
                          0.03758829365
                        ],
                        "iteration": 1210,
                        "passed_time": 34.54451383,
                        "remaining_time": 22.50670637,
                        "test": [
                          0.1608039437,
                          0.903611398,
                          0.04417857143
                        ]
                      },
                      {
                        "learn": [
                          0.03758829365
                        ],
                        "iteration": 1211,
                        "passed_time": 34.56772961,
                        "remaining_time": 22.47472849,
                        "test": [
                          0.1623039437,
                          0.9073021005,
                          0.04417857143
                        ]
                      },
                      {
                        "learn": [
                          0.03758829365
                        ],
                        "iteration": 1212,
                        "passed_time": 34.59058465,
                        "remaining_time": 22.44253102,
                        "test": [
                          0.161823078,
                          0.9071577516,
                          0.04417857143
                        ]
                      },
                      {
                        "learn": [
                          0.03758829365
                        ],
                        "iteration": 1213,
                        "passed_time": 34.61429028,
                        "remaining_time": 22.41089964,
                        "test": [
                          0.162048078,
                          0.910045662,
                          0.04417857143
                        ]
                      },
                      {
                        "learn": [
                          0.03758829365
                        ],
                        "iteration": 1214,
                        "passed_time": 34.65292061,
                        "remaining_time": 22.38892402,
                        "test": [
                          0.160548078,
                          0.9063015864,
                          0.04417857143
                        ]
                      },
                      {
                        "learn": [
                          0.03758829365
                        ],
                        "iteration": 1215,
                        "passed_time": 34.69232337,
                        "remaining_time": 22.36741902,
                        "test": [
                          0.160548078,
                          0.9063015864,
                          0.04417857143
                        ]
                      },
                      {
                        "learn": [
                          0.03758829365
                        ],
                        "iteration": 1216,
                        "passed_time": 34.74660641,
                        "remaining_time": 22.35545835,
                        "test": [
                          0.162048078,
                          0.9099922888,
                          0.04417857143
                        ]
                      },
                      {
                        "learn": [
                          0.03758829365
                        ],
                        "iteration": 1217,
                        "passed_time": 34.7926089,
                        "remaining_time": 22.33811179,
                        "test": [
                          0.162048078,
                          0.9099922888,
                          0.04417857143
                        ]
                      },
                      {
                        "learn": [
                          0.03758829365
                        ],
                        "iteration": 1218,
                        "passed_time": 34.84946768,
                        "remaining_time": 22.32767371,
                        "test": [
                          0.160548078,
                          0.9063015864,
                          0.04417857143
                        ]
                      },
                      {
                        "learn": [
                          0.03758829365
                        ],
                        "iteration": 1219,
                        "passed_time": 34.88420235,
                        "remaining_time": 22.30301462,
                        "test": [
                          0.1610289437,
                          0.9064459352,
                          0.04417857143
                        ]
                      },
                      {
                        "learn": [
                          0.03758829365
                        ],
                        "iteration": 1220,
                        "passed_time": 34.9173461,
                        "remaining_time": 22.277324,
                        "test": [
                          0.1610289437,
                          0.9063725711,
                          0.04417857143
                        ]
                      },
                      {
                        "learn": [
                          0.03758829365
                        ],
                        "iteration": 1221,
                        "passed_time": 34.9636748,
                        "remaining_time": 22.26001554,
                        "test": [
                          0.1623039437,
                          0.9071753632,
                          0.04417857143
                        ]
                      },
                      {
                        "learn": [
                          0.03758829365
                        ],
                        "iteration": 1222,
                        "passed_time": 35.01778118,
                        "remaining_time": 22.24760096,
                        "test": [
                          0.1623039437,
                          0.9071753632,
                          0.04417857143
                        ]
                      },
                      {
                        "learn": [
                          0.03758829365
                        ],
                        "iteration": 1223,
                        "passed_time": 35.06990246,
                        "remaining_time": 22.23385973,
                        "test": [
                          0.1638039437,
                          0.9089073313,
                          0.04417857143
                        ]
                      },
                      {
                        "learn": [
                          0.03758829365
                        ],
                        "iteration": 1224,
                        "passed_time": 35.12173122,
                        "remaining_time": 22.21987077,
                        "test": [
                          0.1623039437,
                          0.9072287364,
                          0.04417857143
                        ]
                      },
                      {
                        "learn": [
                          0.03758829365
                        ],
                        "iteration": 1225,
                        "passed_time": 35.17126274,
                        "remaining_time": 22.20436979,
                        "test": [
                          0.1623039437,
                          0.9072287364,
                          0.04417857143
                        ]
                      },
                      {
                        "learn": [
                          0.03758829365
                        ],
                        "iteration": 1226,
                        "passed_time": 35.24446543,
                        "remaining_time": 22.20372598,
                        "test": [
                          0.1625289437,
                          0.9081579124,
                          0.04417857143
                        ]
                      },
                      {
                        "learn": [
                          0.03758829365
                        ],
                        "iteration": 1227,
                        "passed_time": 35.3370256,
                        "remaining_time": 22.21513336,
                        "test": [
                          0.1625289437,
                          0.9081579124,
                          0.04417857143
                        ]
                      },
                      {
                        "learn": [
                          0.03758829365
                        ],
                        "iteration": 1228,
                        "passed_time": 35.42328443,
                        "remaining_time": 22.22241847,
                        "test": [
                          0.1638039437,
                          0.9089607045,
                          0.04417857143
                        ]
                      },
                      {
                        "learn": [
                          0.03758829365
                        ],
                        "iteration": 1229,
                        "passed_time": 35.49337652,
                        "remaining_time": 22.21943083,
                        "test": [
                          0.1638039437,
                          0.9089607045,
                          0.04417857143
                        ]
                      },
                      {
                        "learn": [
                          0.03758829365
                        ],
                        "iteration": 1230,
                        "passed_time": 35.56613022,
                        "remaining_time": 22.21799686,
                        "test": [
                          0.1612201937,
                          0.9048449473,
                          0.04417857143
                        ]
                      },
                      {
                        "learn": [
                          0.03758829365
                        ],
                        "iteration": 1231,
                        "passed_time": 35.62672044,
                        "remaining_time": 22.20886469,
                        "test": [
                          0.1612201937,
                          0.9048449473,
                          0.04417857143
                        ]
                      },
                      {
                        "learn": [
                          0.03758829365
                        ],
                        "iteration": 1232,
                        "passed_time": 35.67437625,
                        "remaining_time": 22.19160307,
                        "test": [
                          0.160739328,
                          0.9047005985,
                          0.04417857143
                        ]
                      },
                      {
                        "learn": [
                          0.03758829365
                        ],
                        "iteration": 1233,
                        "passed_time": 35.72793493,
                        "remaining_time": 22.17795637,
                        "test": [
                          0.159239328,
                          0.9029686303,
                          0.04417857143
                        ]
                      },
                      {
                        "learn": [
                          0.03758829365
                        ],
                        "iteration": 1234,
                        "passed_time": 35.77940288,
                        "remaining_time": 22.16294997,
                        "test": [
                          0.1601605155,
                          0.9034068678,
                          0.04417857143
                        ]
                      },
                      {
                        "learn": [
                          0.03758829365
                        ],
                        "iteration": 1235,
                        "passed_time": 35.8310132,
                        "remaining_time": 22.14797256,
                        "test": [
                          0.159239328,
                          0.9029686303,
                          0.04417857143
                        ]
                      },
                      {
                        "learn": [
                          0.03758829365
                        ],
                        "iteration": 1236,
                        "passed_time": 35.87979165,
                        "remaining_time": 22.13118919,
                        "test": [
                          0.1603855155,
                          0.9038295385,
                          0.04417857143
                        ]
                      },
                      {
                        "learn": [
                          0.03758829365
                        ],
                        "iteration": 1237,
                        "passed_time": 35.92726462,
                        "remaining_time": 22.1135506,
                        "test": [
                          0.1616605155,
                          0.905138836,
                          0.04417857143
                        ]
                      },
                      {
                        "learn": [
                          0.03758829365
                        ],
                        "iteration": 1238,
                        "passed_time": 35.97783058,
                        "remaining_time": 22.09776358,
                        "test": [
                          0.1616605155,
                          0.905138836,
                          0.04417857143
                        ]
                      },
                      {
                        "learn": [
                          0.03758829365
                        ],
                        "iteration": 1239,
                        "passed_time": 36.02768716,
                        "remaining_time": 22.08148568,
                        "test": [
                          0.1616605155,
                          0.905138836,
                          0.04417857143
                        ]
                      },
                      {
                        "learn": [
                          0.03758829365
                        ],
                        "iteration": 1240,
                        "passed_time": 36.07977072,
                        "remaining_time": 22.06651569,
                        "test": [
                          0.160739328,
                          0.9047005985,
                          0.04417857143
                        ]
                      },
                      {
                        "learn": [
                          0.03758829365
                        ],
                        "iteration": 1241,
                        "passed_time": 36.12362867,
                        "remaining_time": 22.04646581,
                        "test": [
                          0.160739328,
                          0.9047005985,
                          0.04417857143
                        ]
                      },
                      {
                        "learn": [
                          0.03758829365
                        ],
                        "iteration": 1242,
                        "passed_time": 36.17217722,
                        "remaining_time": 22.02923424,
                        "test": [
                          0.159239328,
                          0.9029686303,
                          0.04417857143
                        ]
                      },
                      {
                        "learn": [
                          0.03758829365
                        ],
                        "iteration": 1243,
                        "passed_time": 36.22393411,
                        "remaining_time": 22.01390208,
                        "test": [
                          0.159239328,
                          0.9029686303,
                          0.04417857143
                        ]
                      },
                      {
                        "learn": [
                          0.03758829365
                        ],
                        "iteration": 1244,
                        "passed_time": 36.27091091,
                        "remaining_time": 21.99561264,
                        "test": [
                          0.1583181405,
                          0.9027975512,
                          0.04417857143
                        ]
                      },
                      {
                        "learn": [
                          0.03758829365
                        ],
                        "iteration": 1245,
                        "passed_time": 36.32549768,
                        "remaining_time": 21.98188223,
                        "test": [
                          0.1583181405,
                          0.9027975512,
                          0.04417857143
                        ]
                      },
                      {
                        "learn": [
                          0.03758829365
                        ],
                        "iteration": 1246,
                        "passed_time": 36.37452358,
                        "remaining_time": 21.96472835,
                        "test": [
                          0.1583181405,
                          0.9027975512,
                          0.04417857143
                        ]
                      },
                      {
                        "learn": [
                          0.03758829365
                        ],
                        "iteration": 1247,
                        "passed_time": 36.45590163,
                        "remaining_time": 21.96701765,
                        "test": [
                          0.159239328,
                          0.9029686303,
                          0.04417857143
                        ]
                      },
                      {
                        "learn": [
                          0.03758829365
                        ],
                        "iteration": 1248,
                        "passed_time": 36.54063939,
                        "remaining_time": 21.9711931,
                        "test": [
                          0.159239328,
                          0.9029686303,
                          0.04417857143
                        ]
                      },
                      {
                        "learn": [
                          0.03758829365
                        ],
                        "iteration": 1249,
                        "passed_time": 36.67977576,
                        "remaining_time": 22.00786546,
                        "test": [
                          0.160739328,
                          0.9048079406,
                          0.04417857143
                        ]
                      },
                      {
                        "learn": [
                          0.03758829365
                        ],
                        "iteration": 1250,
                        "passed_time": 36.85121002,
                        "remaining_time": 22.06359417,
                        "test": [
                          0.160739328,
                          0.9047005985,
                          0.04417857143
                        ]
                      },
                      {
                        "learn": [
                          0.03758829365
                        ],
                        "iteration": 1251,
                        "passed_time": 36.99973481,
                        "remaining_time": 22.10527288,
                        "test": [
                          0.160739328,
                          0.9047005985,
                          0.04417857143
                        ]
                      },
                      {
                        "learn": [
                          0.03758829365
                        ],
                        "iteration": 1252,
                        "passed_time": 37.16039812,
                        "remaining_time": 22.15388459,
                        "test": [
                          0.160739328,
                          0.9047005985,
                          0.04417857143
                        ]
                      },
                      {
                        "learn": [
                          0.03758829365
                        ],
                        "iteration": 1253,
                        "passed_time": 37.30907166,
                        "remaining_time": 22.19502987,
                        "test": [
                          0.159464328,
                          0.903391301,
                          0.04417857143
                        ]
                      },
                      {
                        "learn": [
                          0.03758829365
                        ],
                        "iteration": 1254,
                        "passed_time": 37.40759699,
                        "remaining_time": 22.20610339,
                        "test": [
                          0.159464328,
                          0.903391301,
                          0.04417857143
                        ]
                      },
                      {
                        "learn": [
                          0.03758829365
                        ],
                        "iteration": 1255,
                        "passed_time": 37.4531669,
                        "remaining_time": 22.1856339,
                        "test": [
                          0.157964328,
                          0.9016782197,
                          0.04417857143
                        ]
                      },
                      {
                        "learn": [
                          0.03758829365
                        ],
                        "iteration": 1256,
                        "passed_time": 37.5220089,
                        "remaining_time": 22.17888036,
                        "test": [
                          0.160739328,
                          0.9047194854,
                          0.04417857143
                        ]
                      },
                      {
                        "learn": [
                          0.03758829365
                        ],
                        "iteration": 1257,
                        "passed_time": 37.56972104,
                        "remaining_time": 22.15956519,
                        "test": [
                          0.161823078,
                          0.9051256532,
                          0.04417857143
                        ]
                      },
                      {
                        "learn": [
                          0.03758829365
                        ],
                        "iteration": 1258,
                        "passed_time": 37.66253864,
                        "remaining_time": 22.16675229,
                        "test": [
                          0.161823078,
                          0.9051256532,
                          0.04417857143
                        ]
                      },
                      {
                        "learn": [
                          0.03758829365
                        ],
                        "iteration": 1259,
                        "passed_time": 37.71919663,
                        "remaining_time": 22.15254405,
                        "test": [
                          0.160323078,
                          0.9033936851,
                          0.04417857143
                        ]
                      },
                      {
                        "learn": [
                          0.03758829365
                        ],
                        "iteration": 1260,
                        "passed_time": 37.7439027,
                        "remaining_time": 22.11954329,
                        "test": [
                          0.160323078,
                          0.903412572,
                          0.04417857143
                        ]
                      },
                      {
                        "learn": [
                          0.03758829365
                        ],
                        "iteration": 1261,
                        "passed_time": 37.7704185,
                        "remaining_time": 22.08761399,
                        "test": [
                          0.160323078,
                          0.9034334552,
                          0.04417857143
                        ]
                      },
                      {
                        "learn": [
                          0.03758829365
                        ],
                        "iteration": 1262,
                        "passed_time": 37.79345506,
                        "remaining_time": 22.05366301,
                        "test": [
                          0.161823078,
                          0.9051654233,
                          0.04417857143
                        ]
                      },
                      {
                        "learn": [
                          0.03758829365
                        ],
                        "iteration": 1263,
                        "passed_time": 37.81597085,
                        "remaining_time": 22.01942607,
                        "test": [
                          0.161823078,
                          0.9051654233,
                          0.04417857143
                        ]
                      },
                      {
                        "learn": [
                          0.03758829365
                        ],
                        "iteration": 1264,
                        "passed_time": 37.8401901,
                        "remaining_time": 21.98619741,
                        "test": [
                          0.161823078,
                          0.9051654233,
                          0.04417857143
                        ]
                      },
                      {
                        "learn": [
                          0.03758829365
                        ],
                        "iteration": 1265,
                        "passed_time": 37.86345849,
                        "remaining_time": 21.9524317,
                        "test": [
                          0.161823078,
                          0.9050769163,
                          0.04417857143
                        ]
                      },
                      {
                        "learn": [
                          0.03758829365
                        ],
                        "iteration": 1266,
                        "passed_time": 37.88733164,
                        "remaining_time": 21.91903243,
                        "test": [
                          0.161823078,
                          0.9051654233,
                          0.04417857143
                        ]
                      },
                      {
                        "learn": [
                          0.03758829365
                        ],
                        "iteration": 1267,
                        "passed_time": 37.91154602,
                        "remaining_time": 21.88584518,
                        "test": [
                          0.161823078,
                          0.9050769163,
                          0.04417857143
                        ]
                      },
                      {
                        "learn": [
                          0.03758829365
                        ],
                        "iteration": 1268,
                        "passed_time": 37.93538431,
                        "remaining_time": 21.85245542,
                        "test": [
                          0.161823078,
                          0.9050371462,
                          0.04417857143
                        ]
                      },
                      {
                        "learn": [
                          0.03758829365
                        ],
                        "iteration": 1269,
                        "passed_time": 37.95870188,
                        "remaining_time": 21.81878139,
                        "test": [
                          0.161823078,
                          0.9050371462,
                          0.04417857143
                        ]
                      },
                      {
                        "learn": [
                          0.03758829365
                        ],
                        "iteration": 1270,
                        "passed_time": 37.98199955,
                        "remaining_time": 21.78511225,
                        "test": [
                          0.161823078,
                          0.9050371462,
                          0.04417857143
                        ]
                      },
                      {
                        "learn": [
                          0.03758829365
                        ],
                        "iteration": 1271,
                        "passed_time": 38.00523975,
                        "remaining_time": 21.75142653,
                        "test": [
                          0.161823078,
                          0.9050371462,
                          0.04417857143
                        ]
                      },
                      {
                        "learn": [
                          0.03758829365
                        ],
                        "iteration": 1272,
                        "passed_time": 38.10186008,
                        "remaining_time": 21.759664,
                        "test": [
                          0.161823078,
                          0.9050371462,
                          0.04417857143
                        ]
                      },
                      {
                        "learn": [
                          0.03758829365
                        ],
                        "iteration": 1273,
                        "passed_time": 38.18866071,
                        "remaining_time": 21.76214103,
                        "test": [
                          0.161823078,
                          0.905056033,
                          0.04417857143
                        ]
                      },
                      {
                        "learn": [
                          0.03758829365
                        ],
                        "iteration": 1274,
                        "passed_time": 38.2698499,
                        "remaining_time": 21.7612872,
                        "test": [
                          0.161823078,
                          0.9050838558,
                          0.04417857143
                        ]
                      },
                      {
                        "learn": [
                          0.03758829365
                        ],
                        "iteration": 1275,
                        "passed_time": 38.38586645,
                        "remaining_time": 21.78006843,
                        "test": [
                          0.161823078,
                          0.9050304826,
                          0.04417857143
                        ]
                      },
                      {
                        "learn": [
                          0.03758829365
                        ],
                        "iteration": 1276,
                        "passed_time": 38.46686414,
                        "remaining_time": 21.77881188,
                        "test": [
                          0.161823078,
                          0.9050304826,
                          0.04417857143
                        ]
                      },
                      {
                        "learn": [
                          0.03758829365
                        ],
                        "iteration": 1277,
                        "passed_time": 38.52507406,
                        "remaining_time": 21.76455671,
                        "test": [
                          0.161823078,
                          0.9050028401,
                          0.04417857143
                        ]
                      },
                      {
                        "learn": [
                          0.03758829365
                        ],
                        "iteration": 1278,
                        "passed_time": 38.60795619,
                        "remaining_time": 21.76414106,
                        "test": [
                          0.1627442655,
                          0.9055295847,
                          0.04417857143
                        ]
                      },
                      {
                        "learn": [
                          0.03758829365
                        ],
                        "iteration": 1279,
                        "passed_time": 38.69987805,
                        "remaining_time": 21.7686814,
                        "test": [
                          0.1627442655,
                          0.9055295847,
                          0.04417857143
                        ]
                      },
                      {
                        "learn": [
                          0.03758829365
                        ],
                        "iteration": 1280,
                        "passed_time": 38.75412162,
                        "remaining_time": 21.75192306,
                        "test": [
                          0.1627442655,
                          0.9055295847,
                          0.04417857143
                        ]
                      },
                      {
                        "learn": [
                          0.03758829365
                        ],
                        "iteration": 1281,
                        "passed_time": 38.80561742,
                        "remaining_time": 21.73356732,
                        "test": [
                          0.1627442655,
                          0.9055295847,
                          0.04417857143
                        ]
                      },
                      {
                        "learn": [
                          0.03758829365
                        ],
                        "iteration": 1282,
                        "passed_time": 38.85324641,
                        "remaining_time": 21.71299897,
                        "test": [
                          0.1612442655,
                          0.9038650291,
                          0.04417857143
                        ]
                      },
                      {
                        "learn": [
                          0.03758829365
                        ],
                        "iteration": 1283,
                        "passed_time": 38.88342323,
                        "remaining_time": 21.68265657,
                        "test": [
                          0.1612442655,
                          0.9037976165,
                          0.04417857143
                        ]
                      },
                      {
                        "learn": [
                          0.03758829365
                        ],
                        "iteration": 1284,
                        "passed_time": 38.92513389,
                        "remaining_time": 21.65873209,
                        "test": [
                          0.1607633999,
                          0.9038373348,
                          0.04417857143
                        ]
                      },
                      {
                        "learn": [
                          0.03758829365
                        ],
                        "iteration": 1285,
                        "passed_time": 38.95127518,
                        "remaining_time": 21.62613567,
                        "test": [
                          0.1622633999,
                          0.9055693029,
                          0.04417857143
                        ]
                      },
                      {
                        "learn": [
                          0.03758829365
                        ],
                        "iteration": 1286,
                        "passed_time": 38.97468385,
                        "remaining_time": 21.59203542,
                        "test": [
                          0.1607633999,
                          0.9038373348,
                          0.04417857143
                        ]
                      },
                      {
                        "learn": [
                          0.03758829365
                        ],
                        "iteration": 1287,
                        "passed_time": 38.99791315,
                        "remaining_time": 21.55785261,
                        "test": [
                          0.1594883999,
                          0.902507154,
                          0.04417857143
                        ]
                      },
                      {
                        "learn": [
                          0.03758829365
                        ],
                        "iteration": 1288,
                        "passed_time": 39.02055175,
                        "remaining_time": 21.52336098,
                        "test": [
                          0.1607633999,
                          0.9038164516,
                          0.04417857143
                        ]
                      },
                      {
                        "learn": [
                          0.03758829365
                        ],
                        "iteration": 1289,
                        "passed_time": 39.04434616,
                        "remaining_time": 21.48952386,
                        "test": [
                          0.1607633999,
                          0.9038164516,
                          0.04417857143
                        ]
                      },
                      {
                        "learn": [
                          0.03758829365
                        ],
                        "iteration": 1290,
                        "passed_time": 39.06745216,
                        "remaining_time": 21.45532423,
                        "test": [
                          0.1607633999,
                          0.9038164516,
                          0.04417857143
                        ]
                      },
                      {
                        "learn": [
                          0.03758829365
                        ],
                        "iteration": 1291,
                        "passed_time": 39.09297486,
                        "remaining_time": 21.4224661,
                        "test": [
                          0.1594883999,
                          0.902507154,
                          0.04417857143
                        ]
                      },
                      {
                        "learn": [
                          0.03758829365
                        ],
                        "iteration": 1292,
                        "passed_time": 39.11605926,
                        "remaining_time": 21.38828608,
                        "test": [
                          0.1594883999,
                          0.902507154,
                          0.04417857143
                        ]
                      },
                      {
                        "learn": [
                          0.03758829365
                        ],
                        "iteration": 1293,
                        "passed_time": 39.13917842,
                        "remaining_time": 21.35414217,
                        "test": [
                          0.1609883999,
                          0.9042391222,
                          0.04417857143
                        ]
                      },
                      {
                        "learn": [
                          0.03758829365
                        ],
                        "iteration": 1294,
                        "passed_time": 39.16155776,
                        "remaining_time": 21.31961252,
                        "test": [
                          0.1609883999,
                          0.9042391222,
                          0.04417857143
                        ]
                      },
                      {
                        "learn": [
                          0.03758829365
                        ],
                        "iteration": 1295,
                        "passed_time": 39.18457031,
                        "remaining_time": 21.2854456,
                        "test": [
                          0.1609883999,
                          0.9042391222,
                          0.04417857143
                        ]
                      },
                      {
                        "learn": [
                          0.03758829365
                        ],
                        "iteration": 1296,
                        "passed_time": 39.20843817,
                        "remaining_time": 21.25175947,
                        "test": [
                          0.1609883999,
                          0.9042600054,
                          0.04417857143
                        ]
                      },
                      {
                        "learn": [
                          0.03758829365
                        ],
                        "iteration": 1297,
                        "passed_time": 39.2321363,
                        "remaining_time": 21.21799667,
                        "test": [
                          0.1609883999,
                          0.9042600054,
                          0.04417857143
                        ]
                      },
                      {
                        "learn": [
                          0.03758829365
                        ],
                        "iteration": 1298,
                        "passed_time": 39.25537719,
                        "remaining_time": 21.18400262,
                        "test": [
                          0.1609883999,
                          0.9042391222,
                          0.04417857143
                        ]
                      },
                      {
                        "learn": [
                          0.03758829365
                        ],
                        "iteration": 1299,
                        "passed_time": 39.27750356,
                        "remaining_time": 21.14942499,
                        "test": [
                          0.1609883999,
                          0.9042391222,
                          0.04417857143
                        ]
                      },
                      {
                        "learn": [
                          0.03758829365
                        ],
                        "iteration": 1300,
                        "passed_time": 39.30061944,
                        "remaining_time": 21.11539815,
                        "test": [
                          0.1609883999,
                          0.9042600054,
                          0.04417857143
                        ]
                      },
                      {
                        "learn": [
                          0.03758829365
                        ],
                        "iteration": 1301,
                        "passed_time": 39.32406881,
                        "remaining_time": 21.08156684,
                        "test": [
                          0.1609883999,
                          0.9042391222,
                          0.04417857143
                        ]
                      },
                      {
                        "learn": [
                          0.03758829365
                        ],
                        "iteration": 1302,
                        "passed_time": 39.34637605,
                        "remaining_time": 21.04714053,
                        "test": [
                          0.1609883999,
                          0.9042202353,
                          0.04417857143
                        ]
                      },
                      {
                        "learn": [
                          0.03758829365
                        ],
                        "iteration": 1303,
                        "passed_time": 39.36892501,
                        "remaining_time": 21.01286181,
                        "test": [
                          0.1609883999,
                          0.9042202353,
                          0.04417857143
                        ]
                      },
                      {
                        "learn": [
                          0.03758829365
                        ],
                        "iteration": 1304,
                        "passed_time": 39.39171801,
                        "remaining_time": 20.97873105,
                        "test": [
                          0.1614692655,
                          0.9043178745,
                          0.04417857143
                        ]
                      },
                      {
                        "learn": [
                          0.03758829365
                        ],
                        "iteration": 1305,
                        "passed_time": 39.41378241,
                        "remaining_time": 20.94423047,
                        "test": [
                          0.1601942655,
                          0.9030085769,
                          0.04417857143
                        ]
                      },
                      {
                        "learn": [
                          0.03758829365
                        ],
                        "iteration": 1306,
                        "passed_time": 39.43642299,
                        "remaining_time": 20.91005443,
                        "test": [
                          0.1601942655,
                          0.9030085769,
                          0.04417857143
                        ]
                      },
                      {
                        "learn": [
                          0.03758829365
                        ],
                        "iteration": 1307,
                        "passed_time": 39.45957138,
                        "remaining_time": 20.87616467,
                        "test": [
                          0.1601942655,
                          0.9030552866,
                          0.04417857143
                        ]
                      },
                      {
                        "learn": [
                          0.03758829365
                        ],
                        "iteration": 1308,
                        "passed_time": 39.48406995,
                        "remaining_time": 20.84300408,
                        "test": [
                          0.1601942655,
                          0.9030552866,
                          0.04417857143
                        ]
                      },
                      {
                        "learn": [
                          0.03758829365
                        ],
                        "iteration": 1309,
                        "passed_time": 39.50709416,
                        "remaining_time": 20.80908013,
                        "test": [
                          0.1616942655,
                          0.9067648759,
                          0.04417857143
                        ]
                      },
                      {
                        "learn": [
                          0.03758829365
                        ],
                        "iteration": 1310,
                        "passed_time": 39.53038229,
                        "remaining_time": 20.77531151,
                        "test": [
                          0.1616942655,
                          0.9067857591,
                          0.04417857143
                        ]
                      },
                      {
                        "learn": [
                          0.03758829365
                        ],
                        "iteration": 1311,
                        "passed_time": 39.55380357,
                        "remaining_time": 20.7416287,
                        "test": [
                          0.1616942655,
                          0.9067857591,
                          0.04417857143
                        ]
                      },
                      {
                        "learn": [
                          0.03758829365
                        ],
                        "iteration": 1312,
                        "passed_time": 39.59328396,
                        "remaining_time": 20.71636411,
                        "test": [
                          0.1616942655,
                          0.9067390495,
                          0.04417857143
                        ]
                      },
                      {
                        "learn": [
                          0.03758829365
                        ],
                        "iteration": 1313,
                        "passed_time": 39.61606127,
                        "remaining_time": 20.68235771,
                        "test": [
                          0.1616942655,
                          0.9067390495,
                          0.04417857143
                        ]
                      },
                      {
                        "learn": [
                          0.03758829365
                        ],
                        "iteration": 1314,
                        "passed_time": 39.63877105,
                        "remaining_time": 20.64833321,
                        "test": [
                          0.162615453,
                          0.907177287,
                          0.04417857143
                        ]
                      },
                      {
                        "learn": [
                          0.03758829365
                        ],
                        "iteration": 1315,
                        "passed_time": 39.66113334,
                        "remaining_time": 20.61414529,
                        "test": [
                          0.162615453,
                          0.907177287,
                          0.04417857143
                        ]
                      },
                      {
                        "learn": [
                          0.03758829365
                        ],
                        "iteration": 1316,
                        "passed_time": 39.68446298,
                        "remaining_time": 20.580477,
                        "test": [
                          0.162615453,
                          0.907177287,
                          0.04417857143
                        ]
                      },
                      {
                        "learn": [
                          0.03758829365
                        ],
                        "iteration": 1317,
                        "passed_time": 39.71738574,
                        "remaining_time": 20.55178837,
                        "test": [
                          0.162615453,
                          0.907177287,
                          0.04417857143
                        ]
                      },
                      {
                        "learn": [
                          0.03758829365
                        ],
                        "iteration": 1318,
                        "passed_time": 39.80007444,
                        "remaining_time": 20.54878749,
                        "test": [
                          0.162615453,
                          0.907177287,
                          0.04417857143
                        ]
                      },
                      {
                        "learn": [
                          0.03758829365
                        ],
                        "iteration": 1319,
                        "passed_time": 39.84516433,
                        "remaining_time": 20.52629678,
                        "test": [
                          0.162615453,
                          0.907177287,
                          0.04417857143
                        ]
                      },
                      {
                        "learn": [
                          0.03758829365
                        ],
                        "iteration": 1320,
                        "passed_time": 39.88288844,
                        "remaining_time": 20.49998581,
                        "test": [
                          0.161115453,
                          0.9038857479,
                          0.04417857143
                        ]
                      },
                      {
                        "learn": [
                          0.03758829365
                        ],
                        "iteration": 1321,
                        "passed_time": 39.90597575,
                        "remaining_time": 20.46615095,
                        "test": [
                          0.161115453,
                          0.90399309,
                          0.04417857143
                        ]
                      },
                      {
                        "learn": [
                          0.03758829365
                        ],
                        "iteration": 1322,
                        "passed_time": 39.92965675,
                        "remaining_time": 20.43263614,
                        "test": [
                          0.161115453,
                          0.90399309,
                          0.04417857143
                        ]
                      },
                      {
                        "learn": [
                          0.03758829365
                        ],
                        "iteration": 1323,
                        "passed_time": 39.95261082,
                        "remaining_time": 20.39876504,
                        "test": [
                          0.161115453,
                          0.90399309,
                          0.04417857143
                        ]
                      },
                      {
                        "learn": [
                          0.03758829365
                        ],
                        "iteration": 1324,
                        "passed_time": 39.97605256,
                        "remaining_time": 20.36515885,
                        "test": [
                          0.161115453,
                          0.90399309,
                          0.04417857143
                        ]
                      },
                      {
                        "learn": [
                          0.03758829365
                        ],
                        "iteration": 1325,
                        "passed_time": 39.99928599,
                        "remaining_time": 20.33146211,
                        "test": [
                          0.162615453,
                          0.9076837924,
                          0.04417857143
                        ]
                      },
                      {
                        "learn": [
                          0.03758829365
                        ],
                        "iteration": 1326,
                        "passed_time": 40.02279961,
                        "remaining_time": 20.29792324,
                        "test": [
                          0.162615453,
                          0.9076837924,
                          0.04417857143
                        ]
                      },
                      {
                        "learn": [
                          0.03758829365
                        ],
                        "iteration": 1327,
                        "passed_time": 40.04503875,
                        "remaining_time": 20.26375455,
                        "test": [
                          0.162615453,
                          0.9076837924,
                          0.04417857143
                        ]
                      },
                      {
                        "learn": [
                          0.03758829365
                        ],
                        "iteration": 1328,
                        "passed_time": 40.06840785,
                        "remaining_time": 20.23017432,
                        "test": [
                          0.162615453,
                          0.9076837924,
                          0.04417857143
                        ]
                      },
                      {
                        "learn": [
                          0.03758829365
                        ],
                        "iteration": 1329,
                        "passed_time": 40.09242732,
                        "remaining_time": 20.19693707,
                        "test": [
                          0.162615453,
                          0.9076837924,
                          0.04417857143
                        ]
                      },
                      {
                        "learn": [
                          0.03758829365
                        ],
                        "iteration": 1330,
                        "passed_time": 40.11580616,
                        "remaining_time": 20.16339168,
                        "test": [
                          0.161340453,
                          0.9063744949,
                          0.04417857143
                        ]
                      },
                      {
                        "learn": [
                          0.03758829365
                        ],
                        "iteration": 1331,
                        "passed_time": 40.13928633,
                        "remaining_time": 20.12991236,
                        "test": [
                          0.161340453,
                          0.9063744949,
                          0.04417857143
                        ]
                      },
                      {
                        "learn": [
                          0.03758829365
                        ],
                        "iteration": 1332,
                        "passed_time": 40.16181597,
                        "remaining_time": 20.09597243,
                        "test": [
                          0.161340453,
                          0.9063744949,
                          0.04417857143
                        ]
                      },
                      {
                        "learn": [
                          0.03758829365
                        ],
                        "iteration": 1333,
                        "passed_time": 40.18429307,
                        "remaining_time": 20.06202338,
                        "test": [
                          0.161340453,
                          0.9063744949,
                          0.04417857143
                        ]
                      },
                      {
                        "learn": [
                          0.03758829365
                        ],
                        "iteration": 1334,
                        "passed_time": 40.20838866,
                        "remaining_time": 20.02889772,
                        "test": [
                          0.161340453,
                          0.9063744949,
                          0.04417857143
                        ]
                      },
                      {
                        "learn": [
                          0.03758829365
                        ],
                        "iteration": 1335,
                        "passed_time": 40.23304001,
                        "remaining_time": 19.9960618,
                        "test": [
                          0.159840453,
                          0.9046007293,
                          0.04417857143
                        ]
                      },
                      {
                        "learn": [
                          0.03758829365
                        ],
                        "iteration": 1336,
                        "passed_time": 40.25813004,
                        "remaining_time": 19.96345566,
                        "test": [
                          0.159840453,
                          0.9046007293,
                          0.04417857143
                        ]
                      },
                      {
                        "learn": [
                          0.03758829365
                        ],
                        "iteration": 1337,
                        "passed_time": 40.28107761,
                        "remaining_time": 19.92980073,
                        "test": [
                          0.159840453,
                          0.9045540197,
                          0.04417857143
                        ]
                      },
                      {
                        "learn": [
                          0.03758829365
                        ],
                        "iteration": 1338,
                        "passed_time": 40.30363403,
                        "remaining_time": 19.8959687,
                        "test": [
                          0.161115453,
                          0.9059518243,
                          0.04417857143
                        ]
                      },
                      {
                        "learn": [
                          0.03758829365
                        ],
                        "iteration": 1339,
                        "passed_time": 40.32607554,
                        "remaining_time": 19.86209691,
                        "test": [
                          0.161115453,
                          0.9059518243,
                          0.04417857143
                        ]
                      },
                      {
                        "learn": [
                          0.03758829365
                        ],
                        "iteration": 1340,
                        "passed_time": 40.34929978,
                        "remaining_time": 19.82862681,
                        "test": [
                          0.1605497288,
                          0.9057731397,
                          0.04417857143
                        ]
                      },
                      {
                        "learn": [
                          0.03758829365
                        ],
                        "iteration": 1341,
                        "passed_time": 40.37161252,
                        "remaining_time": 19.79472507,
                        "test": [
                          0.1605497288,
                          0.9057731397,
                          0.04417857143
                        ]
                      },
                      {
                        "learn": [
                          0.03758829365
                        ],
                        "iteration": 1342,
                        "passed_time": 40.39492978,
                        "remaining_time": 19.76133199,
                        "test": [
                          0.1605497288,
                          0.9057731397,
                          0.04417857143
                        ]
                      },
                      {
                        "learn": [
                          0.03758829365
                        ],
                        "iteration": 1343,
                        "passed_time": 40.41731125,
                        "remaining_time": 19.72749716,
                        "test": [
                          0.1618247288,
                          0.9070824373,
                          0.04417857143
                        ]
                      },
                      {
                        "learn": [
                          0.03758829365
                        ],
                        "iteration": 1344,
                        "passed_time": 40.44031122,
                        "remaining_time": 19.69398056,
                        "test": [
                          0.1618247288,
                          0.9070824373,
                          0.04417857143
                        ]
                      },
                      {
                        "learn": [
                          0.03758829365
                        ],
                        "iteration": 1345,
                        "passed_time": 40.46288807,
                        "remaining_time": 19.660274,
                        "test": [
                          0.1618247288,
                          0.9070824373,
                          0.04417857143
                        ]
                      },
                      {
                        "learn": [
                          0.03758829365
                        ],
                        "iteration": 1346,
                        "passed_time": 40.48756941,
                        "remaining_time": 19.62760418,
                        "test": [
                          0.1618247288,
                          0.9070824373,
                          0.04417857143
                        ]
                      },
                      {
                        "learn": [
                          0.03758829365
                        ],
                        "iteration": 1347,
                        "passed_time": 40.51215702,
                        "remaining_time": 19.59490087,
                        "test": [
                          0.1618247288,
                          0.9071919972,
                          0.04417857143
                        ]
                      },
                      {
                        "learn": [
                          0.03758829365
                        ],
                        "iteration": 1348,
                        "passed_time": 40.53528163,
                        "remaining_time": 19.56150359,
                        "test": [
                          0.1618247288,
                          0.9071919972,
                          0.04417857143
                        ]
                      },
                      {
                        "learn": [
                          0.03758829365
                        ],
                        "iteration": 1349,
                        "passed_time": 40.55871698,
                        "remaining_time": 19.52827114,
                        "test": [
                          0.1605497288,
                          0.9058826997,
                          0.04417857143
                        ]
                      },
                      {
                        "learn": [
                          0.03758829365
                        ],
                        "iteration": 1350,
                        "passed_time": 40.59156071,
                        "remaining_time": 19.49957284,
                        "test": [
                          0.1605497288,
                          0.9058826997,
                          0.04417857143
                        ]
                      },
                      {
                        "learn": [
                          0.03758829365
                        ],
                        "iteration": 1351,
                        "passed_time": 40.6186418,
                        "remaining_time": 19.46810643,
                        "test": [
                          0.1596285413,
                          0.9054444622,
                          0.04417857143
                        ]
                      },
                      {
                        "learn": [
                          0.03758829365
                        ],
                        "iteration": 1352,
                        "passed_time": 40.64125859,
                        "remaining_time": 19.43451168,
                        "test": [
                          0.1618247288,
                          0.9071919972,
                          0.04417857143
                        ]
                      },
                      {
                        "learn": [
                          0.03758829365
                        ],
                        "iteration": 1353,
                        "passed_time": 40.66392009,
                        "remaining_time": 19.40095449,
                        "test": [
                          0.1618247288,
                          0.9071919972,
                          0.04417857143
                        ]
                      },
                      {
                        "learn": [
                          0.03758829365
                        ],
                        "iteration": 1354,
                        "passed_time": 40.6870566,
                        "remaining_time": 19.36763949,
                        "test": [
                          0.1618247288,
                          0.9071919972,
                          0.04417857143
                        ]
                      },
                      {
                        "learn": [
                          0.03758829365
                        ],
                        "iteration": 1355,
                        "passed_time": 40.71022622,
                        "remaining_time": 19.33435523,
                        "test": [
                          0.162390453,
                          0.9073706818,
                          0.04417857143
                        ]
                      },
                      {
                        "learn": [
                          0.03758829365
                        ],
                        "iteration": 1356,
                        "passed_time": 40.73839518,
                        "remaining_time": 19.30345475,
                        "test": [
                          0.1618247288,
                          0.9071919972,
                          0.04417857143
                        ]
                      },
                      {
                        "learn": [
                          0.03758829365
                        ],
                        "iteration": 1357,
                        "passed_time": 40.76160446,
                        "remaining_time": 19.2702136,
                        "test": [
                          0.1618247288,
                          0.9071919972,
                          0.04417857143
                        ]
                      },
                      {
                        "learn": [
                          0.03758829365
                        ],
                        "iteration": 1358,
                        "passed_time": 40.84301819,
                        "remaining_time": 19.26444052,
                        "test": [
                          0.1618247288,
                          0.9071919972,
                          0.04417857143
                        ]
                      },
                      {
                        "learn": [
                          0.03758829365
                        ],
                        "iteration": 1359,
                        "passed_time": 40.87761791,
                        "remaining_time": 19.23652607,
                        "test": [
                          0.1618247288,
                          0.9071919972,
                          0.04417857143
                        ]
                      },
                      {
                        "learn": [
                          0.03758829365
                        ],
                        "iteration": 1360,
                        "passed_time": 40.91199423,
                        "remaining_time": 19.20849692,
                        "test": [
                          0.1618247288,
                          0.9071919972,
                          0.04417857143
                        ]
                      },
                      {
                        "learn": [
                          0.03758829365
                        ],
                        "iteration": 1361,
                        "passed_time": 40.96138911,
                        "remaining_time": 19.18749358,
                        "test": [
                          0.1609035413,
                          0.9069232931,
                          0.04417857143
                        ]
                      },
                      {
                        "learn": [
                          0.03758829365
                        ],
                        "iteration": 1362,
                        "passed_time": 40.99024729,
                        "remaining_time": 19.15685071,
                        "test": [
                          0.1609035413,
                          0.9069232931,
                          0.04417857143
                        ]
                      },
                      {
                        "learn": [
                          0.03758829365
                        ],
                        "iteration": 1363,
                        "passed_time": 41.0139172,
                        "remaining_time": 19.1237913,
                        "test": [
                          0.1599823538,
                          0.9064850556,
                          0.04417857143
                        ]
                      },
                      {
                        "learn": [
                          0.03758829365
                        ],
                        "iteration": 1364,
                        "passed_time": 41.04023554,
                        "remaining_time": 19.0919777,
                        "test": [
                          0.1599823538,
                          0.9064850556,
                          0.04417857143
                        ]
                      },
                      {
                        "learn": [
                          0.03758829365
                        ],
                        "iteration": 1365,
                        "passed_time": 41.06315373,
                        "remaining_time": 19.05859405,
                        "test": [
                          0.1599823538,
                          0.9064850556,
                          0.04417857143
                        ]
                      },
                      {
                        "learn": [
                          0.03758829365
                        ],
                        "iteration": 1366,
                        "passed_time": 41.08800518,
                        "remaining_time": 19.0261209,
                        "test": [
                          0.1584823538,
                          0.9042221117,
                          0.04417857143
                        ]
                      },
                      {
                        "learn": [
                          0.03758829365
                        ],
                        "iteration": 1367,
                        "passed_time": 41.11135315,
                        "remaining_time": 18.99296432,
                        "test": [
                          0.1599823538,
                          0.9064850556,
                          0.04417857143
                        ]
                      },
                      {
                        "learn": [
                          0.03758829365
                        ],
                        "iteration": 1368,
                        "passed_time": 41.13422184,
                        "remaining_time": 18.95960116,
                        "test": [
                          0.1595420319,
                          0.9061353252,
                          0.04417857143
                        ]
                      },
                      {
                        "learn": [
                          0.03758829365
                        ],
                        "iteration": 1369,
                        "passed_time": 41.15714284,
                        "remaining_time": 18.92627737,
                        "test": [
                          0.1595420319,
                          0.9061353252,
                          0.04417857143
                        ]
                      },
                      {
                        "learn": [
                          0.03758829365
                        ],
                        "iteration": 1370,
                        "passed_time": 41.17960625,
                        "remaining_time": 18.89275881,
                        "test": [
                          0.1595420319,
                          0.9061353252,
                          0.04417857143
                        ]
                      },
                      {
                        "learn": [
                          0.03758829365
                        ],
                        "iteration": 1371,
                        "passed_time": 41.20390249,
                        "remaining_time": 18.86009531,
                        "test": [
                          0.1590611663,
                          0.9060468181,
                          0.04417857143
                        ]
                      },
                      {
                        "learn": [
                          0.03758829365
                        ],
                        "iteration": 1372,
                        "passed_time": 41.2278166,
                        "remaining_time": 18.82726949,
                        "test": [
                          0.1599823538,
                          0.9063965485,
                          0.04417857143
                        ]
                      },
                      {
                        "learn": [
                          0.03758829365
                        ],
                        "iteration": 1373,
                        "passed_time": 41.25037146,
                        "remaining_time": 18.79383736,
                        "test": [
                          0.1599823538,
                          0.9063965485,
                          0.04417857143
                        ]
                      },
                      {
                        "learn": [
                          0.03758829365
                        ],
                        "iteration": 1374,
                        "passed_time": 41.27367324,
                        "remaining_time": 18.76076056,
                        "test": [
                          0.1599823538,
                          0.9064850556,
                          0.04417857143
                        ]
                      },
                      {
                        "learn": [
                          0.03758829365
                        ],
                        "iteration": 1375,
                        "passed_time": 41.2976364,
                        "remaining_time": 18.7279979,
                        "test": [
                          0.1599823538,
                          0.9064850556,
                          0.04417857143
                        ]
                      },
                      {
                        "learn": [
                          0.03758829365
                        ],
                        "iteration": 1376,
                        "passed_time": 41.32054725,
                        "remaining_time": 18.69477192,
                        "test": [
                          0.1599823538,
                          0.9064850556,
                          0.04417857143
                        ]
                      },
                      {
                        "learn": [
                          0.03758829365
                        ],
                        "iteration": 1377,
                        "passed_time": 41.35440181,
                        "remaining_time": 18.66650067,
                        "test": [
                          0.1599823538,
                          0.9064850556,
                          0.04417857143
                        ]
                      },
                      {
                        "learn": [
                          0.03758829365
                        ],
                        "iteration": 1378,
                        "passed_time": 41.37777069,
                        "remaining_time": 18.63349935,
                        "test": [
                          0.1609035413,
                          0.9069232931,
                          0.04417857143
                        ]
                      },
                      {
                        "learn": [
                          0.03758829365
                        ],
                        "iteration": 1379,
                        "passed_time": 41.40141803,
                        "remaining_time": 18.60063708,
                        "test": [
                          0.1603247288,
                          0.9049290534,
                          0.04417857143
                        ]
                      },
                      {
                        "learn": [
                          0.03758829365
                        ],
                        "iteration": 1380,
                        "passed_time": 41.42517274,
                        "remaining_time": 18.5678363,
                        "test": [
                          0.1608055944,
                          0.9050175604,
                          0.04417857143
                        ]
                      },
                      {
                        "learn": [
                          0.03758829365
                        ],
                        "iteration": 1381,
                        "passed_time": 41.45059541,
                        "remaining_time": 18.53579447,
                        "test": [
                          0.1613844069,
                          0.9068422668,
                          0.04417857143
                        ]
                      },
                      {
                        "learn": [
                          0.03758829365
                        ],
                        "iteration": 1382,
                        "passed_time": 41.47677331,
                        "remaining_time": 18.50409915,
                        "test": [
                          0.1598844069,
                          0.9045793229,
                          0.04417857143
                        ]
                      },
                      {
                        "learn": [
                          0.03758829365
                        ],
                        "iteration": 1383,
                        "passed_time": 41.49999368,
                        "remaining_time": 18.47109545,
                        "test": [
                          0.1584823538,
                          0.9042221117,
                          0.04417857143
                        ]
                      },
                      {
                        "learn": [
                          0.03758829365
                        ],
                        "iteration": 1384,
                        "passed_time": 41.52314326,
                        "remaining_time": 18.43807445,
                        "test": [
                          0.1584823538,
                          0.9041336047,
                          0.04417857143
                        ]
                      },
                      {
                        "learn": [
                          0.03758829365
                        ],
                        "iteration": 1385,
                        "passed_time": 41.5461504,
                        "remaining_time": 18.40500458,
                        "test": [
                          0.1584823538,
                          0.9042221117,
                          0.04417857143
                        ]
                      },
                      {
                        "learn": [
                          0.03758829365
                        ],
                        "iteration": 1386,
                        "passed_time": 41.56878642,
                        "remaining_time": 18.3717852,
                        "test": [
                          0.1584823538,
                          0.9042221117,
                          0.04417857143
                        ]
                      },
                      {
                        "learn": [
                          0.03758829365
                        ],
                        "iteration": 1387,
                        "passed_time": 41.59122305,
                        "remaining_time": 18.33849316,
                        "test": [
                          0.1584823538,
                          0.9042221117,
                          0.04417857143
                        ]
                      },
                      {
                        "learn": [
                          0.03758829365
                        ],
                        "iteration": 1388,
                        "passed_time": 41.63218495,
                        "remaining_time": 18.31336573,
                        "test": [
                          0.1589632194,
                          0.9043106188,
                          0.04417857143
                        ]
                      },
                      {
                        "learn": [
                          0.03758829365
                        ],
                        "iteration": 1389,
                        "passed_time": 41.65485341,
                        "remaining_time": 18.28018747,
                        "test": [
                          0.1589632194,
                          0.9043106188,
                          0.04417857143
                        ]
                      },
                      {
                        "learn": [
                          0.03758829365
                        ],
                        "iteration": 1390,
                        "passed_time": 41.68062721,
                        "remaining_time": 18.24838387,
                        "test": [
                          0.1589632194,
                          0.9043106188,
                          0.04417857143
                        ]
                      },
                      {
                        "learn": [
                          0.03758829365
                        ],
                        "iteration": 1391,
                        "passed_time": 41.70837358,
                        "remaining_time": 18.21745053,
                        "test": [
                          0.1589632194,
                          0.9043106188,
                          0.04417857143
                        ]
                      },
                      {
                        "learn": [
                          0.03758829365
                        ],
                        "iteration": 1392,
                        "passed_time": 41.74633808,
                        "remaining_time": 18.19097431,
                        "test": [
                          0.1589632194,
                          0.9043106188,
                          0.04417857143
                        ]
                      },
                      {
                        "learn": [
                          0.03758829365
                        ],
                        "iteration": 1393,
                        "passed_time": 41.76891245,
                        "remaining_time": 18.15779121,
                        "test": [
                          0.1589632194,
                          0.9043106188,
                          0.04417857143
                        ]
                      },
                      {
                        "learn": [
                          0.03758829365
                        ],
                        "iteration": 1394,
                        "passed_time": 41.79170244,
                        "remaining_time": 18.12471683,
                        "test": [
                          0.1589632194,
                          0.9043106188,
                          0.04417857143
                        ]
                      },
                      {
                        "learn": [
                          0.03758829365
                        ],
                        "iteration": 1395,
                        "passed_time": 41.81408113,
                        "remaining_time": 18.09147923,
                        "test": [
                          0.1589632194,
                          0.9043106188,
                          0.04417857143
                        ]
                      },
                      {
                        "learn": [
                          0.03758829365
                        ],
                        "iteration": 1396,
                        "passed_time": 41.87664851,
                        "remaining_time": 18.07560419,
                        "test": [
                          0.1589632194,
                          0.9043106188,
                          0.04417857143
                        ]
                      },
                      {
                        "learn": [
                          0.03758829365
                        ],
                        "iteration": 1397,
                        "passed_time": 41.94190532,
                        "remaining_time": 18.06082046,
                        "test": [
                          0.1589632194,
                          0.9042012285,
                          0.04417857143
                        ]
                      },
                      {
                        "learn": [
                          0.03758829365
                        ],
                        "iteration": 1398,
                        "passed_time": 41.98036094,
                        "remaining_time": 18.03445098,
                        "test": [
                          0.1595289437,
                          0.9043799131,
                          0.04417857143
                        ]
                      },
                      {
                        "learn": [
                          0.03758829365
                        ],
                        "iteration": 1399,
                        "passed_time": 42.00750865,
                        "remaining_time": 18.00321799,
                        "test": [
                          0.1604501312,
                          0.9048181506,
                          0.04417857143
                        ]
                      },
                      {
                        "learn": [
                          0.03758829365
                        ],
                        "iteration": 1400,
                        "passed_time": 42.03078425,
                        "remaining_time": 17.97033531,
                        "test": [
                          0.1595289437,
                          0.9043799131,
                          0.04417857143
                        ]
                      },
                      {
                        "learn": [
                          0.03758829365
                        ],
                        "iteration": 1401,
                        "passed_time": 42.05341485,
                        "remaining_time": 17.93719121,
                        "test": [
                          0.1604501312,
                          0.9048181506,
                          0.04417857143
                        ]
                      },
                      {
                        "learn": [
                          0.03758829365
                        ],
                        "iteration": 1402,
                        "passed_time": 42.07839721,
                        "remaining_time": 17.90506282,
                        "test": [
                          0.1604501312,
                          0.9048181506,
                          0.04417857143
                        ]
                      },
                      {
                        "learn": [
                          0.03758829365
                        ],
                        "iteration": 1403,
                        "passed_time": 42.10241352,
                        "remaining_time": 17.87253451,
                        "test": [
                          0.1599692655,
                          0.9047505267,
                          0.04417857143
                        ]
                      },
                      {
                        "learn": [
                          0.03758829365
                        ],
                        "iteration": 1404,
                        "passed_time": 42.1252121,
                        "remaining_time": 17.83950263,
                        "test": [
                          0.1599692655,
                          0.9047505267,
                          0.04417857143
                        ]
                      },
                      {
                        "learn": [
                          0.03758829365
                        ],
                        "iteration": 1405,
                        "passed_time": 42.14797014,
                        "remaining_time": 17.80646818,
                        "test": [
                          0.1599692655,
                          0.9047505267,
                          0.04417857143
                        ]
                      },
                      {
                        "learn": [
                          0.03758829365
                        ],
                        "iteration": 1406,
                        "passed_time": 42.17103705,
                        "remaining_time": 17.77357852,
                        "test": [
                          0.1586942655,
                          0.9034412292,
                          0.04417857143
                        ]
                      },
                      {
                        "learn": [
                          0.03758829365
                        ],
                        "iteration": 1407,
                        "passed_time": 42.19490485,
                        "remaining_time": 17.74103954,
                        "test": [
                          0.1586942655,
                          0.9034412292,
                          0.04417857143
                        ]
                      },
                      {
                        "learn": [
                          0.03758829365
                        ],
                        "iteration": 1408,
                        "passed_time": 42.21807763,
                        "remaining_time": 17.70822135,
                        "test": [
                          0.1586942655,
                          0.9034412292,
                          0.04417857143
                        ]
                      },
                      {
                        "learn": [
                          0.03758829365
                        ],
                        "iteration": 1409,
                        "passed_time": 42.24163373,
                        "remaining_time": 17.67557724,
                        "test": [
                          0.1586942655,
                          0.9034412292,
                          0.04417857143
                        ]
                      },
                      {
                        "learn": [
                          0.03758829365
                        ],
                        "iteration": 1410,
                        "passed_time": 42.26499778,
                        "remaining_time": 17.64286584,
                        "test": [
                          0.157773078,
                          0.9030029917,
                          0.04417857143
                        ]
                      },
                      {
                        "learn": [
                          0.03758829365
                        ],
                        "iteration": 1411,
                        "passed_time": 42.28841956,
                        "remaining_time": 17.61019171,
                        "test": [
                          0.157773078,
                          0.9030029917,
                          0.04417857143
                        ]
                      },
                      {
                        "learn": [
                          0.03758829365
                        ],
                        "iteration": 1412,
                        "passed_time": 42.3111036,
                        "remaining_time": 17.57722421,
                        "test": [
                          0.157773078,
                          0.9030029917,
                          0.04417857143
                        ]
                      },
                      {
                        "learn": [
                          0.03758829365
                        ],
                        "iteration": 1413,
                        "passed_time": 42.33503994,
                        "remaining_time": 17.54479025,
                        "test": [
                          0.157773078,
                          0.9030029917,
                          0.04417857143
                        ]
                      },
                      {
                        "learn": [
                          0.03758829365
                        ],
                        "iteration": 1414,
                        "passed_time": 42.35897429,
                        "remaining_time": 17.51236746,
                        "test": [
                          0.157773078,
                          0.9030029917,
                          0.04417857143
                        ]
                      },
                      {
                        "learn": [
                          0.03758829365
                        ],
                        "iteration": 1415,
                        "passed_time": 42.38453541,
                        "remaining_time": 17.4806276,
                        "test": [
                          0.157773078,
                          0.9030029917,
                          0.04417857143
                        ]
                      },
                      {
                        "learn": [
                          0.03758829365
                        ],
                        "iteration": 1416,
                        "passed_time": 42.40748529,
                        "remaining_time": 17.4478221,
                        "test": [
                          0.157773078,
                          0.9030029917,
                          0.04417857143
                        ]
                      },
                      {
                        "learn": [
                          0.03758829365
                        ],
                        "iteration": 1417,
                        "passed_time": 42.43034708,
                        "remaining_time": 17.41499436,
                        "test": [
                          0.159048078,
                          0.9043122892,
                          0.04417857143
                        ]
                      },
                      {
                        "learn": [
                          0.03758829365
                        ],
                        "iteration": 1418,
                        "passed_time": 42.45336302,
                        "remaining_time": 17.38224377,
                        "test": [
                          0.159048078,
                          0.9043122892,
                          0.04417857143
                        ]
                      },
                      {
                        "learn": [
                          0.03758829365
                        ],
                        "iteration": 1419,
                        "passed_time": 42.47892872,
                        "remaining_time": 17.35054835,
                        "test": [
                          0.159048078,
                          0.9043122892,
                          0.04417857143
                        ]
                      },
                      {
                        "learn": [
                          0.03758829365
                        ],
                        "iteration": 1420,
                        "passed_time": 42.50258351,
                        "remaining_time": 17.31808293,
                        "test": [
                          0.159048078,
                          0.9043122892,
                          0.04417857143
                        ]
                      },
                      {
                        "learn": [
                          0.03758829365
                        ],
                        "iteration": 1421,
                        "passed_time": 42.52657605,
                        "remaining_time": 17.2857672,
                        "test": [
                          0.159048078,
                          0.9043122892,
                          0.04417857143
                        ]
                      },
                      {
                        "learn": [
                          0.03758829365
                        ],
                        "iteration": 1422,
                        "passed_time": 42.5502511,
                        "remaining_time": 17.25333442,
                        "test": [
                          0.159048078,
                          0.9043122892,
                          0.04417857143
                        ]
                      },
                      {
                        "learn": [
                          0.03758829365
                        ],
                        "iteration": 1423,
                        "passed_time": 42.57303811,
                        "remaining_time": 17.22055474,
                        "test": [
                          0.157773078,
                          0.9030029917,
                          0.04417857143
                        ]
                      },
                      {
                        "learn": [
                          0.03758829365
                        ],
                        "iteration": 1424,
                        "passed_time": 42.59601222,
                        "remaining_time": 17.18786458,
                        "test": [
                          0.159048078,
                          0.9043122892,
                          0.04417857143
                        ]
                      },
                      {
                        "learn": [
                          0.03758829365
                        ],
                        "iteration": 1425,
                        "passed_time": 42.62445302,
                        "remaining_time": 17.15738852,
                        "test": [
                          0.157773078,
                          0.9030029917,
                          0.04417857143
                        ]
                      },
                      {
                        "learn": [
                          0.03758829365
                        ],
                        "iteration": 1426,
                        "passed_time": 42.65545931,
                        "remaining_time": 17.12794547,
                        "test": [
                          0.157773078,
                          0.9030029917,
                          0.04417857143
                        ]
                      },
                      {
                        "learn": [
                          0.03758829365
                        ],
                        "iteration": 1427,
                        "passed_time": 42.6786032,
                        "remaining_time": 17.09535086,
                        "test": [
                          0.157773078,
                          0.9030029917,
                          0.04417857143
                        ]
                      },
                      {
                        "learn": [
                          0.03758829365
                        ],
                        "iteration": 1428,
                        "passed_time": 42.70170364,
                        "remaining_time": 17.06275212,
                        "test": [
                          0.157773078,
                          0.9029821085,
                          0.04417857143
                        ]
                      },
                      {
                        "learn": [
                          0.03758829365
                        ],
                        "iteration": 1429,
                        "passed_time": 42.72410356,
                        "remaining_time": 17.02988743,
                        "test": [
                          0.159048078,
                          0.904291406,
                          0.04417857143
                        ]
                      },
                      {
                        "learn": [
                          0.03758829365
                        ],
                        "iteration": 1430,
                        "passed_time": 42.75008019,
                        "remaining_time": 16.99845956,
                        "test": [
                          0.159048078,
                          0.904291406,
                          0.04417857143
                        ]
                      },
                      {
                        "learn": [
                          0.03758829365
                        ],
                        "iteration": 1431,
                        "passed_time": 42.77359921,
                        "remaining_time": 16.96606449,
                        "test": [
                          0.159048078,
                          0.904291406,
                          0.04417857143
                        ]
                      },
                      {
                        "learn": [
                          0.03758829365
                        ],
                        "iteration": 1432,
                        "passed_time": 42.79803527,
                        "remaining_time": 16.93404466,
                        "test": [
                          0.159048078,
                          0.904291406,
                          0.04417857143
                        ]
                      },
                      {
                        "learn": [
                          0.03758829365
                        ],
                        "iteration": 1433,
                        "passed_time": 42.82256819,
                        "remaining_time": 16.90207364,
                        "test": [
                          0.159048078,
                          0.904291406,
                          0.04417857143
                        ]
                      },
                      {
                        "learn": [
                          0.03758829365
                        ],
                        "iteration": 1434,
                        "passed_time": 42.84566864,
                        "remaining_time": 16.86954898,
                        "test": [
                          0.157773078,
                          0.9028725485,
                          0.04417857143
                        ]
                      },
                      {
                        "learn": [
                          0.03758829365
                        ],
                        "iteration": 1435,
                        "passed_time": 42.87055377,
                        "remaining_time": 16.83773839,
                        "test": [
                          0.157773078,
                          0.9028725485,
                          0.04417857143
                        ]
                      },
                      {
                        "learn": [
                          0.03758829365
                        ],
                        "iteration": 1436,
                        "passed_time": 43.09733546,
                        "remaining_time": 16.88503818,
                        "test": [
                          0.157773078,
                          0.9028725485,
                          0.04417857143
                        ]
                      },
                      {
                        "learn": [
                          0.03758829365
                        ],
                        "iteration": 1437,
                        "passed_time": 43.18715232,
                        "remaining_time": 16.8784281,
                        "test": [
                          0.157773078,
                          0.9028725485,
                          0.04417857143
                        ]
                      },
                      {
                        "learn": [
                          0.03758829365
                        ],
                        "iteration": 1438,
                        "passed_time": 43.23567831,
                        "remaining_time": 16.85560496,
                        "test": [
                          0.157773078,
                          0.9028725485,
                          0.04417857143
                        ]
                      },
                      {
                        "learn": [
                          0.03758829365
                        ],
                        "iteration": 1439,
                        "passed_time": 43.2580304,
                        "remaining_time": 16.82256738,
                        "test": [
                          0.157773078,
                          0.9028725485,
                          0.04417857143
                        ]
                      },
                      {
                        "learn": [
                          0.03758829365
                        ],
                        "iteration": 1440,
                        "passed_time": 43.28120864,
                        "remaining_time": 16.78986511,
                        "test": [
                          0.157773078,
                          0.9029821085,
                          0.04417857143
                        ]
                      },
                      {
                        "learn": [
                          0.03758829365
                        ],
                        "iteration": 1441,
                        "passed_time": 43.30431959,
                        "remaining_time": 16.75715002,
                        "test": [
                          0.157773078,
                          0.9029821085,
                          0.04417857143
                        ]
                      },
                      {
                        "learn": [
                          0.03758829365
                        ],
                        "iteration": 1442,
                        "passed_time": 43.32735066,
                        "remaining_time": 16.72441741,
                        "test": [
                          0.1569900687,
                          0.9027942057,
                          0.04417857143
                        ]
                      },
                      {
                        "learn": [
                          0.03758829365
                        ],
                        "iteration": 1443,
                        "passed_time": 43.35110913,
                        "remaining_time": 16.69197831,
                        "test": [
                          0.1569900687,
                          0.9027942057,
                          0.04417857143
                        ]
                      },
                      {
                        "learn": [
                          0.03758829365
                        ],
                        "iteration": 1444,
                        "passed_time": 43.3758347,
                        "remaining_time": 16.65992267,
                        "test": [
                          0.157773078,
                          0.9030099312,
                          0.04417857143
                        ]
                      },
                      {
                        "learn": [
                          0.03758829365
                        ],
                        "iteration": 1445,
                        "passed_time": 43.39954806,
                        "remaining_time": 16.62748937,
                        "test": [
                          0.157773078,
                          0.9030099312,
                          0.04417857143
                        ]
                      },
                      {
                        "learn": [
                          0.03758829365
                        ],
                        "iteration": 1446,
                        "passed_time": 43.42329062,
                        "remaining_time": 16.59507928,
                        "test": [
                          0.157773078,
                          0.9030099312,
                          0.04417857143
                        ]
                      },
                      {
                        "learn": [
                          0.03758829365
                        ],
                        "iteration": 1447,
                        "passed_time": 43.44700182,
                        "remaining_time": 16.5626692,
                        "test": [
                          0.159048078,
                          0.9043192288,
                          0.04417857143
                        ]
                      },
                      {
                        "learn": [
                          0.03758829365
                        ],
                        "iteration": 1448,
                        "passed_time": 43.47241973,
                        "remaining_time": 16.53092013,
                        "test": [
                          0.159048078,
                          0.9043192288,
                          0.04417857143
                        ]
                      },
                      {
                        "learn": [
                          0.03758829365
                        ],
                        "iteration": 1449,
                        "passed_time": 43.49557219,
                        "remaining_time": 16.49832049,
                        "test": [
                          0.159048078,
                          0.9043192288,
                          0.04417857143
                        ]
                      },
                      {
                        "learn": [
                          0.03758829365
                        ],
                        "iteration": 1450,
                        "passed_time": 43.51935537,
                        "remaining_time": 16.4659725,
                        "test": [
                          0.1572073538,
                          0.9028312467,
                          0.04417857143
                        ]
                      },
                      {
                        "learn": [
                          0.03758829365
                        ],
                        "iteration": 1451,
                        "passed_time": 43.54182474,
                        "remaining_time": 16.43314047,
                        "test": [
                          0.1572073538,
                          0.9028312467,
                          0.04417857143
                        ]
                      },
                      {
                        "learn": [
                          0.03758829365
                        ],
                        "iteration": 1452,
                        "passed_time": 43.56484146,
                        "remaining_time": 16.40052875,
                        "test": [
                          0.1584823538,
                          0.9040309843,
                          0.04417857143
                        ]
                      },
                      {
                        "learn": [
                          0.03758829365
                        ],
                        "iteration": 1453,
                        "passed_time": 43.58813903,
                        "remaining_time": 16.3680357,
                        "test": [
                          0.1584823538,
                          0.9040309843,
                          0.04417857143
                        ]
                      },
                      {
                        "learn": [
                          0.03758829365
                        ],
                        "iteration": 1454,
                        "passed_time": 43.61112231,
                        "remaining_time": 16.33543757,
                        "test": [
                          0.1587073538,
                          0.9044536549,
                          0.04417857143
                        ]
                      },
                      {
                        "learn": [
                          0.03758829365
                        ],
                        "iteration": 1455,
                        "passed_time": 43.63742683,
                        "remaining_time": 16.30409354,
                        "test": [
                          0.1572073538,
                          0.9027216867,
                          0.04417857143
                        ]
                      },
                      {
                        "learn": [
                          0.03758829365
                        ],
                        "iteration": 1456,
                        "passed_time": 43.67867759,
                        "remaining_time": 16.27832665,
                        "test": [
                          0.1587073538,
                          0.9044536549,
                          0.04417857143
                        ]
                      },
                      {
                        "learn": [
                          0.03758829365
                        ],
                        "iteration": 1457,
                        "passed_time": 43.70152901,
                        "remaining_time": 16.24569871,
                        "test": [
                          0.1587073538,
                          0.9044536549,
                          0.04417857143
                        ]
                      },
                      {
                        "learn": [
                          0.03758829365
                        ],
                        "iteration": 1458,
                        "passed_time": 43.72592814,
                        "remaining_time": 16.21365807,
                        "test": [
                          0.1587073538,
                          0.9044536549,
                          0.04417857143
                        ]
                      },
                      {
                        "learn": [
                          0.03758829365
                        ],
                        "iteration": 1459,
                        "passed_time": 43.75155852,
                        "remaining_time": 16.18208329,
                        "test": [
                          0.1572073538,
                          0.9027216867,
                          0.04417857143
                        ]
                      },
                      {
                        "learn": [
                          0.03758829365
                        ],
                        "iteration": 1460,
                        "passed_time": 43.77713699,
                        "remaining_time": 16.15049749,
                        "test": [
                          0.1572073538,
                          0.9026483226,
                          0.04417857143
                        ]
                      },
                      {
                        "learn": [
                          0.03758829365
                        ],
                        "iteration": 1461,
                        "passed_time": 43.80031219,
                        "remaining_time": 16.11803554,
                        "test": [
                          0.1572073538,
                          0.9027216867,
                          0.04417857143
                        ]
                      },
                      {
                        "learn": [
                          0.03758829365
                        ],
                        "iteration": 1462,
                        "passed_time": 43.8234998,
                        "remaining_time": 16.08559084,
                        "test": [
                          0.1587073538,
                          0.9043802908,
                          0.04417857143
                        ]
                      },
                      {
                        "learn": [
                          0.03758829365
                        ],
                        "iteration": 1463,
                        "passed_time": 43.84671089,
                        "remaining_time": 16.05316738,
                        "test": [
                          0.1587073538,
                          0.9043802908,
                          0.04417857143
                        ]
                      },
                      {
                        "learn": [
                          0.03758829365
                        ],
                        "iteration": 1464,
                        "passed_time": 43.86952763,
                        "remaining_time": 16.02061248,
                        "test": [
                          0.1587073538,
                          0.9043802908,
                          0.04417857143
                        ]
                      },
                      {
                        "learn": [
                          0.03758829365
                        ],
                        "iteration": 1465,
                        "passed_time": 43.9015916,
                        "remaining_time": 15.99143923,
                        "test": [
                          0.1587073538,
                          0.9043802908,
                          0.04417857143
                        ]
                      },
                      {
                        "learn": [
                          0.03758829365
                        ],
                        "iteration": 1466,
                        "passed_time": 43.92532108,
                        "remaining_time": 15.9592339,
                        "test": [
                          0.1587073538,
                          0.9044536549,
                          0.04417857143
                        ]
                      },
                      {
                        "learn": [
                          0.03758829365
                        ],
                        "iteration": 1467,
                        "passed_time": 43.94844477,
                        "remaining_time": 15.92682058,
                        "test": [
                          0.1572073538,
                          0.9027216867,
                          0.04417857143
                        ]
                      },
                      {
                        "learn": [
                          0.03758829365
                        ],
                        "iteration": 1468,
                        "passed_time": 43.97050347,
                        "remaining_time": 15.89403495,
                        "test": [
                          0.1572073538,
                          0.9027216867,
                          0.04417857143
                        ]
                      },
                      {
                        "learn": [
                          0.03758829365
                        ],
                        "iteration": 1469,
                        "passed_time": 43.99309472,
                        "remaining_time": 15.86145592,
                        "test": [
                          0.1572073538,
                          0.9027216867,
                          0.04417857143
                        ]
                      },
                      {
                        "learn": [
                          0.03758829365
                        ],
                        "iteration": 1470,
                        "passed_time": 44.01647023,
                        "remaining_time": 15.8291725,
                        "test": [
                          0.1572073538,
                          0.9026483226,
                          0.04417857143
                        ]
                      },
                      {
                        "learn": [
                          0.03758829365
                        ],
                        "iteration": 1471,
                        "passed_time": 44.03957922,
                        "remaining_time": 15.79680559,
                        "test": [
                          0.1572073538,
                          0.9026483226,
                          0.04417857143
                        ]
                      },
                      {
                        "learn": [
                          0.03758829365
                        ],
                        "iteration": 1472,
                        "passed_time": 44.06479193,
                        "remaining_time": 15.7652039,
                        "test": [
                          0.1572073538,
                          0.9026483226,
                          0.04417857143
                        ]
                      },
                      {
                        "learn": [
                          0.03758829365
                        ],
                        "iteration": 1473,
                        "passed_time": 44.08816588,
                        "remaining_time": 15.73295472,
                        "test": [
                          0.1572073538,
                          0.9026483226,
                          0.04417857143
                        ]
                      },
                      {
                        "learn": [
                          0.03758829365
                        ],
                        "iteration": 1474,
                        "passed_time": 44.1105736,
                        "remaining_time": 15.70037365,
                        "test": [
                          0.1572073538,
                          0.9026483226,
                          0.04417857143
                        ]
                      },
                      {
                        "learn": [
                          0.03758829365
                        ],
                        "iteration": 1475,
                        "passed_time": 44.13307406,
                        "remaining_time": 15.6678393,
                        "test": [
                          0.1572073538,
                          0.9026483226,
                          0.04417857143
                        ]
                      },
                      {
                        "learn": [
                          0.03758829365
                        ],
                        "iteration": 1476,
                        "passed_time": 44.22793364,
                        "remaining_time": 15.66094062,
                        "test": [
                          0.1572073538,
                          0.9026483226,
                          0.04417857143
                        ]
                      },
                      {
                        "learn": [
                          0.03758829365
                        ],
                        "iteration": 1477,
                        "passed_time": 44.27589416,
                        "remaining_time": 15.6373591,
                        "test": [
                          0.1572073538,
                          0.9026483226,
                          0.04417857143
                        ]
                      },
                      {
                        "learn": [
                          0.03758829365
                        ],
                        "iteration": 1478,
                        "passed_time": 44.31068705,
                        "remaining_time": 15.60910612,
                        "test": [
                          0.1572073538,
                          0.9026483226,
                          0.04417857143
                        ]
                      },
                      {
                        "learn": [
                          0.03758829365
                        ],
                        "iteration": 1479,
                        "passed_time": 44.334564,
                        "remaining_time": 15.57700897,
                        "test": [
                          0.1572073538,
                          0.9026483226,
                          0.04417857143
                        ]
                      },
                      {
                        "learn": [
                          0.03758829365
                        ],
                        "iteration": 1480,
                        "passed_time": 44.35726131,
                        "remaining_time": 15.54450954,
                        "test": [
                          0.1572073538,
                          0.9027216867,
                          0.04417857143
                        ]
                      },
                      {
                        "learn": [
                          0.03758829365
                        ],
                        "iteration": 1481,
                        "passed_time": 44.38016686,
                        "remaining_time": 15.51209611,
                        "test": [
                          0.1572073538,
                          0.9027216867,
                          0.04417857143
                        ]
                      },
                      {
                        "learn": [
                          0.03758829365
                        ],
                        "iteration": 1482,
                        "passed_time": 44.4037372,
                        "remaining_time": 15.47992727,
                        "test": [
                          0.1572073538,
                          0.9027216867,
                          0.04417857143
                        ]
                      },
                      {
                        "learn": [
                          0.03758829365
                        ],
                        "iteration": 1483,
                        "passed_time": 44.42660188,
                        "remaining_time": 15.44752464,
                        "test": [
                          0.1572073538,
                          0.9027216867,
                          0.04417857143
                        ]
                      },
                      {
                        "learn": [
                          0.03758829365
                        ],
                        "iteration": 1484,
                        "passed_time": 44.44935657,
                        "remaining_time": 15.41509672,
                        "test": [
                          0.1572073538,
                          0.9027216867,
                          0.04417857143
                        ]
                      },
                      {
                        "learn": [
                          0.03758829365
                        ],
                        "iteration": 1485,
                        "passed_time": 44.47393426,
                        "remaining_time": 15.38331239,
                        "test": [
                          0.1572073538,
                          0.9027216867,
                          0.04417857143
                        ]
                      },
                      {
                        "learn": [
                          0.03758829365
                        ],
                        "iteration": 1486,
                        "passed_time": 44.49703672,
                        "remaining_time": 15.35102881,
                        "test": [
                          0.1572073538,
                          0.9026483226,
                          0.04417857143
                        ]
                      },
                      {
                        "learn": [
                          0.03758829365
                        ],
                        "iteration": 1487,
                        "passed_time": 44.51984569,
                        "remaining_time": 15.31865658,
                        "test": [
                          0.1572073538,
                          0.9026483226,
                          0.04417857143
                        ]
                      },
                      {
                        "learn": [
                          0.03758829365
                        ],
                        "iteration": 1488,
                        "passed_time": 44.54266848,
                        "remaining_time": 15.28630194,
                        "test": [
                          0.1572073538,
                          0.9026672095,
                          0.04417857143
                        ]
                      },
                      {
                        "learn": [
                          0.03758829365
                        ],
                        "iteration": 1489,
                        "passed_time": 44.56537963,
                        "remaining_time": 15.25392189,
                        "test": [
                          0.1572073538,
                          0.9026672095,
                          0.04417857143
                        ]
                      },
                      {
                        "learn": [
                          0.03758829365
                        ],
                        "iteration": 1490,
                        "passed_time": 44.58882397,
                        "remaining_time": 15.2218051,
                        "test": [
                          0.1572073538,
                          0.9026672095,
                          0.04417857143
                        ]
                      },
                      {
                        "learn": [
                          0.03758829365
                        ],
                        "iteration": 1491,
                        "passed_time": 44.61196928,
                        "remaining_time": 15.18959812,
                        "test": [
                          0.157773078,
                          0.9029192582,
                          0.04417857143
                        ]
                      },
                      {
                        "learn": [
                          0.03758829365
                        ],
                        "iteration": 1492,
                        "passed_time": 44.63590689,
                        "remaining_time": 15.15767233,
                        "test": [
                          0.157773078,
                          0.9029192582,
                          0.04417857143
                        ]
                      },
                      {
                        "learn": [
                          0.03758829365
                        ],
                        "iteration": 1493,
                        "passed_time": 44.6586295,
                        "remaining_time": 15.12534573,
                        "test": [
                          0.157773078,
                          0.9028458941,
                          0.04417857143
                        ]
                      },
                      {
                        "learn": [
                          0.03758829365
                        ],
                        "iteration": 1494,
                        "passed_time": 44.6983038,
                        "remaining_time": 15.09875814,
                        "test": [
                          0.157773078,
                          0.902738552,
                          0.04417857143
                        ]
                      },
                      {
                        "learn": [
                          0.03758829365
                        ],
                        "iteration": 1495,
                        "passed_time": 44.7216632,
                        "remaining_time": 15.06665659,
                        "test": [
                          0.157773078,
                          0.902955454,
                          0.04417857143
                        ]
                      },
                      {
                        "learn": [
                          0.03758829365
                        ],
                        "iteration": 1496,
                        "passed_time": 44.74705508,
                        "remaining_time": 15.03524963,
                        "test": [
                          0.1572073538,
                          0.9027767695,
                          0.04417857143
                        ]
                      },
                      {
                        "learn": [
                          0.03758829365
                        ],
                        "iteration": 1497,
                        "passed_time": 44.76988596,
                        "remaining_time": 15.00299249,
                        "test": [
                          0.1572073538,
                          0.9028501336,
                          0.04417857143
                        ]
                      },
                      {
                        "learn": [
                          0.03758829365
                        ],
                        "iteration": 1498,
                        "passed_time": 44.792597,
                        "remaining_time": 14.97070787,
                        "test": [
                          0.1572073538,
                          0.9028501336,
                          0.04417857143
                        ]
                      },
                      {
                        "learn": [
                          0.03758829365
                        ],
                        "iteration": 1499,
                        "passed_time": 44.81526426,
                        "remaining_time": 14.93842142,
                        "test": [
                          0.1572073538,
                          0.9027767695,
                          0.04417857143
                        ]
                      },
                      {
                        "learn": [
                          0.03758829365
                        ],
                        "iteration": 1500,
                        "passed_time": 44.83926077,
                        "remaining_time": 14.90658969,
                        "test": [
                          0.1572073538,
                          0.9027767695,
                          0.04417857143
                        ]
                      },
                      {
                        "learn": [
                          0.03758829365
                        ],
                        "iteration": 1501,
                        "passed_time": 44.86194139,
                        "remaining_time": 14.8743321,
                        "test": [
                          0.1572073538,
                          0.9027767695,
                          0.04417857143
                        ]
                      },
                      {
                        "learn": [
                          0.03758829365
                        ],
                        "iteration": 1502,
                        "passed_time": 44.88444491,
                        "remaining_time": 14.84202869,
                        "test": [
                          0.1572073538,
                          0.9027767695,
                          0.04417857143
                        ]
                      },
                      {
                        "learn": [
                          0.03758829365
                        ],
                        "iteration": 1503,
                        "passed_time": 44.9076278,
                        "remaining_time": 14.80996236,
                        "test": [
                          0.1572073538,
                          0.9027767695,
                          0.04417857143
                        ]
                      },
                      {
                        "learn": [
                          0.03758829365
                        ],
                        "iteration": 1504,
                        "passed_time": 44.93076082,
                        "remaining_time": 14.77789143,
                        "test": [
                          0.1572073538,
                          0.9027767695,
                          0.04417857143
                        ]
                      },
                      {
                        "learn": [
                          0.03758829365
                        ],
                        "iteration": 1505,
                        "passed_time": 44.95421137,
                        "remaining_time": 14.74593653,
                        "test": [
                          0.1572073538,
                          0.9027767695,
                          0.04417857143
                        ]
                      },
                      {
                        "learn": [
                          0.03758829365
                        ],
                        "iteration": 1506,
                        "passed_time": 44.9774938,
                        "remaining_time": 14.71393792,
                        "test": [
                          0.1572073538,
                          0.9027767695,
                          0.04417857143
                        ]
                      },
                      {
                        "learn": [
                          0.03758829365
                        ],
                        "iteration": 1507,
                        "passed_time": 44.99991309,
                        "remaining_time": 14.68166926,
                        "test": [
                          0.1572073538,
                          0.9027767695,
                          0.04417857143
                        ]
                      },
                      {
                        "learn": [
                          0.03758829365
                        ],
                        "iteration": 1508,
                        "passed_time": 45.02311481,
                        "remaining_time": 14.64966824,
                        "test": [
                          0.1572073538,
                          0.9027767695,
                          0.04417857143
                        ]
                      },
                      {
                        "learn": [
                          0.03758829365
                        ],
                        "iteration": 1509,
                        "passed_time": 45.04805376,
                        "remaining_time": 14.61824261,
                        "test": [
                          0.1572073538,
                          0.9027767695,
                          0.04417857143
                        ]
                      },
                      {
                        "learn": [
                          0.03758829365
                        ],
                        "iteration": 1510,
                        "passed_time": 45.07197306,
                        "remaining_time": 14.58649558,
                        "test": [
                          0.1572073538,
                          0.9027767695,
                          0.04417857143
                        ]
                      },
                      {
                        "learn": [
                          0.03758829365
                        ],
                        "iteration": 1511,
                        "passed_time": 45.09478707,
                        "remaining_time": 14.55440218,
                        "test": [
                          0.1572073538,
                          0.9027767695,
                          0.04417857143
                        ]
                      },
                      {
                        "learn": [
                          0.03758829365
                        ],
                        "iteration": 1512,
                        "passed_time": 45.11743379,
                        "remaining_time": 14.52226719,
                        "test": [
                          0.1558053006,
                          0.9021941831,
                          0.04417857143
                        ]
                      },
                      {
                        "learn": [
                          0.03758829365
                        ],
                        "iteration": 1513,
                        "passed_time": 45.14068416,
                        "remaining_time": 14.49033851,
                        "test": [
                          0.1563710249,
                          0.9023728677,
                          0.04417857143
                        ]
                      },
                      {
                        "learn": [
                          0.03758829365
                        ],
                        "iteration": 1514,
                        "passed_time": 45.16328081,
                        "remaining_time": 14.45821201,
                        "test": [
                          0.1563710249,
                          0.9023728677,
                          0.04417857143
                        ]
                      },
                      {
                        "learn": [
                          0.03758829365
                        ],
                        "iteration": 1515,
                        "passed_time": 45.18673751,
                        "remaining_time": 14.42637266,
                        "test": [
                          0.1563710249,
                          0.9023728677,
                          0.04417857143
                        ]
                      },
                      {
                        "learn": [
                          0.03758829365
                        ],
                        "iteration": 1516,
                        "passed_time": 45.22937754,
                        "remaining_time": 14.40065218,
                        "test": [
                          0.1563710249,
                          0.9024462318,
                          0.04417857143
                        ]
                      },
                      {
                        "learn": [
                          0.03758829365
                        ],
                        "iteration": 1517,
                        "passed_time": 45.31376708,
                        "remaining_time": 14.38816583,
                        "test": [
                          0.1563710249,
                          0.9024462318,
                          0.04417857143
                        ]
                      },
                      {
                        "learn": [
                          0.03758829365
                        ],
                        "iteration": 1518,
                        "passed_time": 45.3667998,
                        "remaining_time": 14.3656555,
                        "test": [
                          0.1563710249,
                          0.9024462318,
                          0.04417857143
                        ]
                      },
                      {
                        "learn": [
                          0.03758829365
                        ],
                        "iteration": 1519,
                        "passed_time": 45.38976463,
                        "remaining_time": 14.33360988,
                        "test": [
                          0.1563710249,
                          0.9024462318,
                          0.04417857143
                        ]
                      },
                      {
                        "learn": [
                          0.03758829365
                        ],
                        "iteration": 1520,
                        "passed_time": 45.41217303,
                        "remaining_time": 14.30140097,
                        "test": [
                          0.1563710249,
                          0.9023728677,
                          0.04417857143
                        ]
                      },
                      {
                        "learn": [
                          0.03758829365
                        ],
                        "iteration": 1521,
                        "passed_time": 45.43537874,
                        "remaining_time": 14.26945535,
                        "test": [
                          0.1563710249,
                          0.9025131181,
                          0.04417857143
                        ]
                      },
                      {
                        "learn": [
                          0.03758829365
                        ],
                        "iteration": 1522,
                        "passed_time": 45.45790887,
                        "remaining_time": 14.23730961,
                        "test": [
                          0.1563710249,
                          0.9025131181,
                          0.04417857143
                        ]
                      },
                      {
                        "learn": [
                          0.03758829365
                        ],
                        "iteration": 1523,
                        "passed_time": 45.48335933,
                        "remaining_time": 14.20608861,
                        "test": [
                          0.1563710249,
                          0.9025864822,
                          0.04417857143
                        ]
                      },
                      {
                        "learn": [
                          0.03758829365
                        ],
                        "iteration": 1524,
                        "passed_time": 45.50594412,
                        "remaining_time": 14.1739826,
                        "test": [
                          0.1563710249,
                          0.9025864822,
                          0.04417857143
                        ]
                      },
                      {
                        "learn": [
                          0.03758829365
                        ],
                        "iteration": 1525,
                        "passed_time": 45.52829614,
                        "remaining_time": 14.14181676,
                        "test": [
                          0.1563710249,
                          0.9025864822,
                          0.04417857143
                        ]
                      },
                      {
                        "learn": [
                          0.03758829365
                        ],
                        "iteration": 1526,
                        "passed_time": 45.55066157,
                        "remaining_time": 14.10966793,
                        "test": [
                          0.1563710249,
                          0.9025864822,
                          0.04417857143
                        ]
                      },
                      {
                        "learn": [
                          0.03758829365
                        ],
                        "iteration": 1527,
                        "passed_time": 45.57308144,
                        "remaining_time": 14.07754872,
                        "test": [
                          0.1563710249,
                          0.9025864822,
                          0.04417857143
                        ]
                      },
                      {
                        "learn": [
                          0.03758829365
                        ],
                        "iteration": 1528,
                        "passed_time": 45.595659,
                        "remaining_time": 14.04549077,
                        "test": [
                          0.1563710249,
                          0.9025347389,
                          0.04417857143
                        ]
                      },
                      {
                        "learn": [
                          0.03758829365
                        ],
                        "iteration": 1529,
                        "passed_time": 45.61912708,
                        "remaining_time": 14.01371878,
                        "test": [
                          0.1563710249,
                          0.9025347389,
                          0.04417857143
                        ]
                      },
                      {
                        "learn": [
                          0.03758829365
                        ],
                        "iteration": 1530,
                        "passed_time": 45.64161815,
                        "remaining_time": 13.98165834,
                        "test": [
                          0.1563710249,
                          0.9024273967,
                          0.04417857143
                        ]
                      },
                      {
                        "learn": [
                          0.03758829365
                        ],
                        "iteration": 1531,
                        "passed_time": 45.66414541,
                        "remaining_time": 13.94962144,
                        "test": [
                          0.1563710249,
                          0.9025347389,
                          0.04417857143
                        ]
                      },
                      {
                        "learn": [
                          0.03758829365
                        ],
                        "iteration": 1532,
                        "passed_time": 45.69136426,
                        "remaining_time": 13.91902616,
                        "test": [
                          0.1563710249,
                          0.9025347389,
                          0.04417857143
                        ]
                      },
                      {
                        "learn": [
                          0.03758829365
                        ],
                        "iteration": 1533,
                        "passed_time": 45.72770381,
                        "remaining_time": 13.89120598,
                        "test": [
                          0.1563710249,
                          0.9026958725,
                          0.04417857143
                        ]
                      },
                      {
                        "learn": [
                          0.03758829365
                        ],
                        "iteration": 1534,
                        "passed_time": 45.75360864,
                        "remaining_time": 13.86021369,
                        "test": [
                          0.1563710249,
                          0.9026958725,
                          0.04417857143
                        ]
                      },
                      {
                        "learn": [
                          0.03758829365
                        ],
                        "iteration": 1535,
                        "passed_time": 45.77649155,
                        "remaining_time": 13.82831515,
                        "test": [
                          0.1570365829,
                          0.9029037278,
                          0.04417857143
                        ]
                      },
                      {
                        "learn": [
                          0.03758829365
                        ],
                        "iteration": 1536,
                        "passed_time": 45.79901034,
                        "remaining_time": 13.79631867,
                        "test": [
                          0.1570365829,
                          0.9029037278,
                          0.04417857143
                        ]
                      },
                      {
                        "learn": [
                          0.03758829365
                        ],
                        "iteration": 1537,
                        "passed_time": 45.82396155,
                        "remaining_time": 13.76506517,
                        "test": [
                          0.1570365829,
                          0.9029037278,
                          0.04417857143
                        ]
                      },
                      {
                        "learn": [
                          0.03758829365
                        ],
                        "iteration": 1538,
                        "passed_time": 45.84700353,
                        "remaining_time": 13.73324797,
                        "test": [
                          0.1583115829,
                          0.9042130253,
                          0.04417857143
                        ]
                      },
                      {
                        "learn": [
                          0.03758829365
                        ],
                        "iteration": 1539,
                        "passed_time": 45.8722573,
                        "remaining_time": 13.70210283,
                        "test": [
                          0.1570365829,
                          0.9029037278,
                          0.04417857143
                        ]
                      },
                      {
                        "learn": [
                          0.03758829365
                        ],
                        "iteration": 1540,
                        "passed_time": 45.89472909,
                        "remaining_time": 13.6701367,
                        "test": [
                          0.1559528329,
                          0.9024786731,
                          0.04417857143
                        ]
                      },
                      {
                        "learn": [
                          0.03758829365
                        ],
                        "iteration": 1541,
                        "passed_time": 45.91811016,
                        "remaining_time": 13.63845295,
                        "test": [
                          0.1564336985,
                          0.9024827715,
                          0.04417857143
                        ]
                      },
                      {
                        "learn": [
                          0.03758829365
                        ],
                        "iteration": 1542,
                        "passed_time": 45.94119971,
                        "remaining_time": 13.60669363,
                        "test": [
                          0.1564336985,
                          0.9024827715,
                          0.04417857143
                        ]
                      },
                      {
                        "learn": [
                          0.03758829365
                        ],
                        "iteration": 1543,
                        "passed_time": 45.96378418,
                        "remaining_time": 13.57479636,
                        "test": [
                          0.1564336985,
                          0.9024827715,
                          0.04417857143
                        ]
                      },
                      {
                        "learn": [
                          0.03758829365
                        ],
                        "iteration": 1544,
                        "passed_time": 45.98782004,
                        "remaining_time": 13.54333859,
                        "test": [
                          0.1564336985,
                          0.9023732115,
                          0.04417857143
                        ]
                      },
                      {
                        "learn": [
                          0.03758829365
                        ],
                        "iteration": 1545,
                        "passed_time": 46.01161447,
                        "remaining_time": 13.51181951,
                        "test": [
                          0.1564336985,
                          0.9024827715,
                          0.04417857143
                        ]
                      },
                      {
                        "learn": [
                          0.03758829365
                        ],
                        "iteration": 1546,
                        "passed_time": 46.03544194,
                        "remaining_time": 13.4803201,
                        "test": [
                          0.1570365829,
                          0.9027634774,
                          0.04417857143
                        ]
                      },
                      {
                        "learn": [
                          0.03758829365
                        ],
                        "iteration": 1547,
                        "passed_time": 46.06027262,
                        "remaining_time": 13.44912353,
                        "test": [
                          0.1563710249,
                          0.9025347389,
                          0.04417857143
                        ]
                      },
                      {
                        "learn": [
                          0.03758829365
                        ],
                        "iteration": 1548,
                        "passed_time": 46.08322898,
                        "remaining_time": 13.41738946,
                        "test": [
                          0.1563710249,
                          0.9025347389,
                          0.04417857143
                        ]
                      },
                      {
                        "learn": [
                          0.03758829365
                        ],
                        "iteration": 1549,
                        "passed_time": 46.10668859,
                        "remaining_time": 13.38581282,
                        "test": [
                          0.1563710249,
                          0.9025347389,
                          0.04417857143
                        ]
                      },
                      {
                        "learn": [
                          0.03758829365
                        ],
                        "iteration": 1550,
                        "passed_time": 46.12936449,
                        "remaining_time": 13.35401976,
                        "test": [
                          0.1563710249,
                          0.9025347389,
                          0.04417857143
                        ]
                      },
                      {
                        "learn": [
                          0.03758829365
                        ],
                        "iteration": 1551,
                        "passed_time": 46.15338956,
                        "remaining_time": 13.32262792,
                        "test": [
                          0.1563710249,
                          0.9025347389,
                          0.04417857143
                        ]
                      },
                      {
                        "learn": [
                          0.03758829365
                        ],
                        "iteration": 1552,
                        "passed_time": 46.17767209,
                        "remaining_time": 13.29131966,
                        "test": [
                          0.1570365829,
                          0.9027634774,
                          0.04417857143
                        ]
                      },
                      {
                        "learn": [
                          0.03758829365
                        ],
                        "iteration": 1553,
                        "passed_time": 46.20058217,
                        "remaining_time": 13.25962654,
                        "test": [
                          0.1570365829,
                          0.9027634774,
                          0.04417857143
                        ]
                      },
                      {
                        "learn": [
                          0.03758829365
                        ],
                        "iteration": 1554,
                        "passed_time": 46.22327648,
                        "remaining_time": 13.22788298,
                        "test": [
                          0.1570365829,
                          0.9027634774,
                          0.04417857143
                        ]
                      },
                      {
                        "learn": [
                          0.03758829365
                        ],
                        "iteration": 1555,
                        "passed_time": 46.24656358,
                        "remaining_time": 13.1963202,
                        "test": [
                          0.1570365829,
                          0.9027634774,
                          0.04417857143
                        ]
                      },
                      {
                        "learn": [
                          0.03758829365
                        ],
                        "iteration": 1556,
                        "passed_time": 46.28391881,
                        "remaining_time": 13.16877073,
                        "test": [
                          0.1570365829,
                          0.9027634774,
                          0.04417857143
                        ]
                      },
                      {
                        "learn": [
                          0.03758829365
                        ],
                        "iteration": 1557,
                        "passed_time": 46.37388307,
                        "remaining_time": 13.15613371,
                        "test": [
                          0.1559528329,
                          0.9023384227,
                          0.04417857143
                        ]
                      },
                      {
                        "learn": [
                          0.03758829365
                        ],
                        "iteration": 1558,
                        "passed_time": 46.4213641,
                        "remaining_time": 13.13138009,
                        "test": [
                          0.1559528329,
                          0.9023384227,
                          0.04417857143
                        ]
                      },
                      {
                        "learn": [
                          0.03758829365
                        ],
                        "iteration": 1559,
                        "passed_time": 46.45390946,
                        "remaining_time": 13.10238472,
                        "test": [
                          0.1559528329,
                          0.9022310805,
                          0.04417857143
                        ]
                      },
                      {
                        "learn": [
                          0.03758829365
                        ],
                        "iteration": 1560,
                        "passed_time": 46.48013159,
                        "remaining_time": 13.07160651,
                        "test": [
                          0.1559528329,
                          0.9022310805,
                          0.04417857143
                        ]
                      },
                      {
                        "learn": [
                          0.03758829365
                        ],
                        "iteration": 1561,
                        "passed_time": 46.50287855,
                        "remaining_time": 13.03985967,
                        "test": [
                          0.1559528329,
                          0.9022310805,
                          0.04417857143
                        ]
                      },
                      {
                        "learn": [
                          0.03758829365
                        ],
                        "iteration": 1562,
                        "passed_time": 46.52586758,
                        "remaining_time": 13.00819202,
                        "test": [
                          0.1559528329,
                          0.9022310805,
                          0.04417857143
                        ]
                      },
                      {
                        "learn": [
                          0.03758829365
                        ],
                        "iteration": 1563,
                        "passed_time": 46.54875067,
                        "remaining_time": 12.97650594,
                        "test": [
                          0.1559528329,
                          0.9022310805,
                          0.04417857143
                        ]
                      },
                      {
                        "learn": [
                          0.03758829365
                        ],
                        "iteration": 1564,
                        "passed_time": 46.57133681,
                        "remaining_time": 12.94474857,
                        "test": [
                          0.1559528329,
                          0.9022310805,
                          0.04417857143
                        ]
                      },
                      {
                        "learn": [
                          0.03758829365
                        ],
                        "iteration": 1565,
                        "passed_time": 46.5946116,
                        "remaining_time": 12.91319376,
                        "test": [
                          0.1559528329,
                          0.9022310805,
                          0.04417857143
                        ]
                      },
                      {
                        "learn": [
                          0.03758829365
                        ],
                        "iteration": 1566,
                        "passed_time": 46.61776029,
                        "remaining_time": 12.88161468,
                        "test": [
                          0.1559528329,
                          0.9022310805,
                          0.04417857143
                        ]
                      },
                      {
                        "learn": [
                          0.03758829365
                        ],
                        "iteration": 1567,
                        "passed_time": 46.64017429,
                        "remaining_time": 12.84984394,
                        "test": [
                          0.1559528329,
                          0.9022310805,
                          0.04417857143
                        ]
                      },
                      {
                        "learn": [
                          0.03758829365
                        ],
                        "iteration": 1568,
                        "passed_time": 46.66325278,
                        "remaining_time": 12.81826765,
                        "test": [
                          0.1559528329,
                          0.9022310805,
                          0.04417857143
                        ]
                      },
                      {
                        "learn": [
                          0.03758829365
                        ],
                        "iteration": 1569,
                        "passed_time": 46.68652748,
                        "remaining_time": 12.78675593,
                        "test": [
                          0.1559528329,
                          0.9022310805,
                          0.04417857143
                        ]
                      },
                      {
                        "learn": [
                          0.03758829365
                        ],
                        "iteration": 1570,
                        "passed_time": 46.71849222,
                        "remaining_time": 12.75762773,
                        "test": [
                          0.1559528329,
                          0.9022310805,
                          0.04417857143
                        ]
                      },
                      {
                        "learn": [
                          0.03758829365
                        ],
                        "iteration": 1571,
                        "passed_time": 46.7515591,
                        "remaining_time": 12.72879599,
                        "test": [
                          0.1570365829,
                          0.9026561353,
                          0.04417857143
                        ]
                      },
                      {
                        "learn": [
                          0.03758829365
                        ],
                        "iteration": 1572,
                        "passed_time": 46.77697309,
                        "remaining_time": 12.69788144,
                        "test": [
                          0.1570365829,
                          0.9026561353,
                          0.04417857143
                        ]
                      },
                      {
                        "learn": [
                          0.03758829365
                        ],
                        "iteration": 1573,
                        "passed_time": 46.79975563,
                        "remaining_time": 12.66626169,
                        "test": [
                          0.1570365829,
                          0.9026561353,
                          0.04417857143
                        ]
                      },
                      {
                        "learn": [
                          0.03758829365
                        ],
                        "iteration": 1574,
                        "passed_time": 46.82253817,
                        "remaining_time": 12.63465316,
                        "test": [
                          0.1570365829,
                          0.9026221535,
                          0.04417857143
                        ]
                      },
                      {
                        "learn": [
                          0.03758829365
                        ],
                        "iteration": 1575,
                        "passed_time": 46.84843489,
                        "remaining_time": 12.60389365,
                        "test": [
                          0.1570365829,
                          0.9026221535,
                          0.04417857143
                        ]
                      },
                      {
                        "learn": [
                          0.03758829365
                        ],
                        "iteration": 1576,
                        "passed_time": 46.87173414,
                        "remaining_time": 12.57244359,
                        "test": [
                          0.1570365829,
                          0.9026221535,
                          0.04417857143
                        ]
                      },
                      {
                        "learn": [
                          0.03758829365
                        ],
                        "iteration": 1577,
                        "passed_time": 46.89469968,
                        "remaining_time": 12.54091462,
                        "test": [
                          0.1570365829,
                          0.9026221535,
                          0.04417857143
                        ]
                      },
                      {
                        "learn": [
                          0.03758829365
                        ],
                        "iteration": 1578,
                        "passed_time": 46.9176206,
                        "remaining_time": 12.50938459,
                        "test": [
                          0.1570365829,
                          0.9027294956,
                          0.04417857143
                        ]
                      },
                      {
                        "learn": [
                          0.03758829365
                        ],
                        "iteration": 1579,
                        "passed_time": 46.94005238,
                        "remaining_time": 12.47773544,
                        "test": [
                          0.1570365829,
                          0.9027294956,
                          0.04417857143
                        ]
                      },
                      {
                        "learn": [
                          0.03758829365
                        ],
                        "iteration": 1580,
                        "passed_time": 46.96300386,
                        "remaining_time": 12.44623569,
                        "test": [
                          0.1570365829,
                          0.9027858465,
                          0.04417857143
                        ]
                      },
                      {
                        "learn": [
                          0.03758829365
                        ],
                        "iteration": 1581,
                        "passed_time": 46.98604783,
                        "remaining_time": 12.41477117,
                        "test": [
                          0.1570365829,
                          0.9027294956,
                          0.04417857143
                        ]
                      },
                      {
                        "learn": [
                          0.03758829365
                        ],
                        "iteration": 1582,
                        "passed_time": 47.00810668,
                        "remaining_time": 12.38305779,
                        "test": [
                          0.1570365829,
                          0.9028198283,
                          0.04417857143
                        ]
                      },
                      {
                        "learn": [
                          0.03758829365
                        ],
                        "iteration": 1583,
                        "passed_time": 47.03073902,
                        "remaining_time": 12.35150722,
                        "test": [
                          0.1570365829,
                          0.9028198283,
                          0.04417857143
                        ]
                      },
                      {
                        "learn": [
                          0.03758829365
                        ],
                        "iteration": 1584,
                        "passed_time": 47.05548687,
                        "remaining_time": 12.3205218,
                        "test": [
                          0.1570365829,
                          0.9028198283,
                          0.04417857143
                        ]
                      },
                      {
                        "learn": [
                          0.03758829365
                        ],
                        "iteration": 1585,
                        "passed_time": 47.07902336,
                        "remaining_time": 12.28922804,
                        "test": [
                          0.1570365829,
                          0.9028198283,
                          0.04417857143
                        ]
                      },
                      {
                        "learn": [
                          0.03758829365
                        ],
                        "iteration": 1586,
                        "passed_time": 47.1022801,
                        "remaining_time": 12.25787125,
                        "test": [
                          0.1575174485,
                          0.9029641771,
                          0.04417857143
                        ]
                      },
                      {
                        "learn": [
                          0.03758829365
                        ],
                        "iteration": 1587,
                        "passed_time": 47.12529775,
                        "remaining_time": 12.22646264,
                        "test": [
                          0.1575174485,
                          0.9029641771,
                          0.04417857143
                        ]
                      },
                      {
                        "learn": [
                          0.03758829365
                        ],
                        "iteration": 1588,
                        "passed_time": 47.14830176,
                        "remaining_time": 12.19506106,
                        "test": [
                          0.1568518905,
                          0.9027354386,
                          0.04417857143
                        ]
                      },
                      {
                        "learn": [
                          0.03758829365
                        ],
                        "iteration": 1589,
                        "passed_time": 47.17524772,
                        "remaining_time": 12.16468652,
                        "test": [
                          0.1568518905,
                          0.9027683468,
                          0.04417857143
                        ]
                      },
                      {
                        "learn": [
                          0.03758829365
                        ],
                        "iteration": 1590,
                        "passed_time": 47.19848985,
                        "remaining_time": 12.13336414,
                        "test": [
                          0.1568518905,
                          0.9027683468,
                          0.04417857143
                        ]
                      },
                      {
                        "learn": [
                          0.03758829365
                        ],
                        "iteration": 1591,
                        "passed_time": 47.22144934,
                        "remaining_time": 12.10197948,
                        "test": [
                          0.1568518905,
                          0.9027683468,
                          0.04417857143
                        ]
                      },
                      {
                        "learn": [
                          0.03758829365
                        ],
                        "iteration": 1592,
                        "passed_time": 47.24437418,
                        "remaining_time": 12.07059654,
                        "test": [
                          0.1568518905,
                          0.9027683468,
                          0.04417857143
                        ]
                      },
                      {
                        "learn": [
                          0.03758829365
                        ],
                        "iteration": 1593,
                        "passed_time": 47.26713558,
                        "remaining_time": 12.03918259,
                        "test": [
                          0.1568518905,
                          0.9027683468,
                          0.04417857143
                        ]
                      },
                      {
                        "learn": [
                          0.03758829365
                        ],
                        "iteration": 1594,
                        "passed_time": 47.29010322,
                        "remaining_time": 12.00783185,
                        "test": [
                          0.1568518905,
                          0.9027683468,
                          0.04417857143
                        ]
                      },
                      {
                        "learn": [
                          0.03758829365
                        ],
                        "iteration": 1595,
                        "passed_time": 47.3236797,
                        "remaining_time": 11.97917707,
                        "test": [
                          0.1574176148,
                          0.9036419035,
                          0.04417857143
                        ]
                      },
                      {
                        "learn": [
                          0.03758829365
                        ],
                        "iteration": 1596,
                        "passed_time": 47.41389319,
                        "remaining_time": 11.96480836,
                        "test": [
                          0.1574176148,
                          0.9036419035,
                          0.04417857143
                        ]
                      },
                      {
                        "learn": [
                          0.03758829365
                        ],
                        "iteration": 1597,
                        "passed_time": 47.51358651,
                        "remaining_time": 11.95272952,
                        "test": [
                          0.1574176148,
                          0.9036419035,
                          0.04417857143
                        ]
                      },
                      {
                        "learn": [
                          0.03758829365
                        ],
                        "iteration": 1598,
                        "passed_time": 47.57624103,
                        "remaining_time": 11.93125244,
                        "test": [
                          0.1574176148,
                          0.9036419035,
                          0.04417857143
                        ]
                      },
                      {
                        "learn": [
                          0.03758829365
                        ],
                        "iteration": 1599,
                        "passed_time": 47.62921832,
                        "remaining_time": 11.90730458,
                        "test": [
                          0.1574176148,
                          0.9035855526,
                          0.04417857143
                        ]
                      },
                      {
                        "learn": [
                          0.03758829365
                        ],
                        "iteration": 1600,
                        "passed_time": 47.68539145,
                        "remaining_time": 11.88411692,
                        "test": [
                          0.1574176148,
                          0.9035855526,
                          0.04417857143
                        ]
                      },
                      {
                        "learn": [
                          0.03758829365
                        ],
                        "iteration": 1601,
                        "passed_time": 47.74946924,
                        "remaining_time": 11.86285191,
                        "test": [
                          0.1574176148,
                          0.9035855526,
                          0.04417857143
                        ]
                      },
                      {
                        "learn": [
                          0.03758829365
                        ],
                        "iteration": 1602,
                        "passed_time": 47.8238226,
                        "remaining_time": 11.84407834,
                        "test": [
                          0.1563710249,
                          0.9031222688,
                          0.04417857143
                        ]
                      },
                      {
                        "learn": [
                          0.03758829365
                        ],
                        "iteration": 1603,
                        "passed_time": 47.87979367,
                        "remaining_time": 11.82069719,
                        "test": [
                          0.1563710249,
                          0.9031786197,
                          0.04417857143
                        ]
                      },
                      {
                        "learn": [
                          0.03758829365
                        ],
                        "iteration": 1604,
                        "passed_time": 47.93328798,
                        "remaining_time": 11.79666589,
                        "test": [
                          0.1563710249,
                          0.9031786197,
                          0.04417857143
                        ]
                      },
                      {
                        "learn": [
                          0.03758829365
                        ],
                        "iteration": 1605,
                        "passed_time": 47.98714967,
                        "remaining_time": 11.77268803,
                        "test": [
                          0.1563710249,
                          0.9030690598,
                          0.04417857143
                        ]
                      },
                      {
                        "learn": [
                          0.03758829365
                        ],
                        "iteration": 1606,
                        "passed_time": 48.0377827,
                        "remaining_time": 11.74788339,
                        "test": [
                          0.1563710249,
                          0.9030690598,
                          0.04417857143
                        ]
                      },
                      {
                        "learn": [
                          0.03758829365
                        ],
                        "iteration": 1607,
                        "passed_time": 48.09049712,
                        "remaining_time": 11.72355402,
                        "test": [
                          0.1563710249,
                          0.9030690598,
                          0.04417857143
                        ]
                      },
                      {
                        "learn": [
                          0.03758829365
                        ],
                        "iteration": 1608,
                        "passed_time": 48.14208113,
                        "remaining_time": 11.69891468,
                        "test": [
                          0.1574547749,
                          0.9033396846,
                          0.04417857143
                        ]
                      },
                      {
                        "learn": [
                          0.03758829365
                        ],
                        "iteration": 1609,
                        "passed_time": 48.19463251,
                        "remaining_time": 11.6744762,
                        "test": [
                          0.1579356405,
                          0.9034840335,
                          0.04417857143
                        ]
                      },
                      {
                        "learn": [
                          0.03758829365
                        ],
                        "iteration": 1610,
                        "passed_time": 48.24754484,
                        "remaining_time": 11.65008997,
                        "test": [
                          0.1579356405,
                          0.9034840335,
                          0.04417857143
                        ]
                      },
                      {
                        "learn": [
                          0.03758829365
                        ],
                        "iteration": 1611,
                        "passed_time": 48.30056332,
                        "remaining_time": 11.6256939,
                        "test": [
                          0.1586011985,
                          0.903712772,
                          0.04417857143
                        ]
                      },
                      {
                        "learn": [
                          0.03758829365
                        ],
                        "iteration": 1612,
                        "passed_time": 48.35116067,
                        "remaining_time": 11.60068145,
                        "test": [
                          0.1586011985,
                          0.903712772,
                          0.04417857143
                        ]
                      },
                      {
                        "learn": [
                          0.03758829365
                        ],
                        "iteration": 1613,
                        "passed_time": 48.38319705,
                        "remaining_time": 11.5711983,
                        "test": [
                          0.1579356405,
                          0.9034840335,
                          0.04417857143
                        ]
                      },
                      {
                        "learn": [
                          0.03758829365
                        ],
                        "iteration": 1614,
                        "passed_time": 48.42731178,
                        "remaining_time": 11.54459135,
                        "test": [
                          0.1579356405,
                          0.9034840335,
                          0.04417857143
                        ]
                      },
                      {
                        "learn": [
                          0.03758829365
                        ],
                        "iteration": 1615,
                        "passed_time": 48.4795252,
                        "remaining_time": 11.51988718,
                        "test": [
                          0.1579356405,
                          0.9034840335,
                          0.04417857143
                        ]
                      },
                      {
                        "learn": [
                          0.03758829365
                        ],
                        "iteration": 1616,
                        "passed_time": 48.55627189,
                        "remaining_time": 11.50095989,
                        "test": [
                          0.1579356405,
                          0.9035913756,
                          0.04417857143
                        ]
                      },
                      {
                        "learn": [
                          0.03758829365
                        ],
                        "iteration": 1617,
                        "passed_time": 48.6435232,
                        "remaining_time": 11.4844412,
                        "test": [
                          0.1579356405,
                          0.9035913756,
                          0.04417857143
                        ]
                      },
                      {
                        "learn": [
                          0.03758829365
                        ],
                        "iteration": 1618,
                        "passed_time": 48.71858855,
                        "remaining_time": 11.46496741,
                        "test": [
                          0.1579356405,
                          0.9035913756,
                          0.04417857143
                        ]
                      },
                      {
                        "learn": [
                          0.03758829365
                        ],
                        "iteration": 1619,
                        "passed_time": 48.8012654,
                        "remaining_time": 11.4472104,
                        "test": [
                          0.1579356405,
                          0.9035913756,
                          0.04417857143
                        ]
                      },
                      {
                        "learn": [
                          0.03758829365
                        ],
                        "iteration": 1620,
                        "passed_time": 48.87507784,
                        "remaining_time": 11.42730074,
                        "test": [
                          0.1579356405,
                          0.9035913756,
                          0.04417857143
                        ]
                      },
                      {
                        "learn": [
                          0.03758829365
                        ],
                        "iteration": 1621,
                        "passed_time": 48.93286186,
                        "remaining_time": 11.40358926,
                        "test": [
                          0.1579356405,
                          0.9035913756,
                          0.04417857143
                        ]
                      },
                      {
                        "learn": [
                          0.03758829365
                        ],
                        "iteration": 1622,
                        "passed_time": 49.00118075,
                        "remaining_time": 11.3822829,
                        "test": [
                          0.1579356405,
                          0.9035913756,
                          0.04417857143
                        ]
                      },
                      {
                        "learn": [
                          0.03758829365
                        ],
                        "iteration": 1623,
                        "passed_time": 49.03974747,
                        "remaining_time": 11.3540302,
                        "test": [
                          0.1568518905,
                          0.9033207507,
                          0.04417857143
                        ]
                      },
                      {
                        "learn": [
                          0.03758829365
                        ],
                        "iteration": 1624,
                        "passed_time": 49.09206548,
                        "remaining_time": 11.32893819,
                        "test": [
                          0.1568518905,
                          0.9033207507,
                          0.04417857143
                        ]
                      },
                      {
                        "learn": [
                          0.03758829365
                        ],
                        "iteration": 1625,
                        "passed_time": 49.14374305,
                        "remaining_time": 11.30366537,
                        "test": [
                          0.1568518905,
                          0.9033207507,
                          0.04417857143
                        ]
                      },
                      {
                        "learn": [
                          0.03758829365
                        ],
                        "iteration": 1626,
                        "passed_time": 49.19526081,
                        "remaining_time": 11.27832347,
                        "test": [
                          0.1568518905,
                          0.9033207507,
                          0.04417857143
                        ]
                      },
                      {
                        "learn": [
                          0.03758829365
                        ],
                        "iteration": 1627,
                        "passed_time": 49.24828492,
                        "remaining_time": 11.25329361,
                        "test": [
                          0.1568518905,
                          0.9033207507,
                          0.04417857143
                        ]
                      },
                      {
                        "learn": [
                          0.03758829365
                        ],
                        "iteration": 1628,
                        "passed_time": 49.29226408,
                        "remaining_time": 11.22616941,
                        "test": [
                          0.1568518905,
                          0.9033207507,
                          0.04417857143
                        ]
                      },
                      {
                        "learn": [
                          0.03758829365
                        ],
                        "iteration": 1629,
                        "passed_time": 49.3307029,
                        "remaining_time": 11.19776691,
                        "test": [
                          0.1568518905,
                          0.9033207507,
                          0.04417857143
                        ]
                      },
                      {
                        "learn": [
                          0.03758829365
                        ],
                        "iteration": 1630,
                        "passed_time": 49.38668264,
                        "remaining_time": 11.1733206,
                        "test": [
                          0.1568518905,
                          0.9033207507,
                          0.04417857143
                        ]
                      },
                      {
                        "learn": [
                          0.03758829365
                        ],
                        "iteration": 1631,
                        "passed_time": 49.43883344,
                        "remaining_time": 11.14797225,
                        "test": [
                          0.1557681405,
                          0.9029954305,
                          0.04417857143
                        ]
                      },
                      {
                        "learn": [
                          0.03758829365
                        ],
                        "iteration": 1632,
                        "passed_time": 49.48789902,
                        "remaining_time": 11.1218977,
                        "test": [
                          0.1557681405,
                          0.9029954305,
                          0.04417857143
                        ]
                      },
                      {
                        "learn": [
                          0.03758829365
                        ],
                        "iteration": 1633,
                        "passed_time": 49.53464846,
                        "remaining_time": 11.09527622,
                        "test": [
                          0.1557681405,
                          0.9029954305,
                          0.04417857143
                        ]
                      },
                      {
                        "learn": [
                          0.03758829365
                        ],
                        "iteration": 1634,
                        "passed_time": 49.58731741,
                        "remaining_time": 11.06995159,
                        "test": [
                          0.1557681405,
                          0.9029954305,
                          0.04417857143
                        ]
                      },
                      {
                        "learn": [
                          0.03758829365
                        ],
                        "iteration": 1635,
                        "passed_time": 49.64366712,
                        "remaining_time": 11.04541249,
                        "test": [
                          0.1544931405,
                          0.901686133,
                          0.04417857143
                        ]
                      },
                      {
                        "learn": [
                          0.03758829365
                        ],
                        "iteration": 1636,
                        "passed_time": 49.70049875,
                        "remaining_time": 11.02094138,
                        "test": [
                          0.1544931405,
                          0.901686133,
                          0.04417857143
                        ]
                      },
                      {
                        "learn": [
                          0.03758829365
                        ],
                        "iteration": 1637,
                        "passed_time": 49.74989219,
                        "remaining_time": 10.99478692,
                        "test": [
                          0.1544931405,
                          0.901686133,
                          0.04417857143
                        ]
                      },
                      {
                        "learn": [
                          0.03758829365
                        ],
                        "iteration": 1638,
                        "passed_time": 49.85593805,
                        "remaining_time": 10.98108215,
                        "test": [
                          0.1544931405,
                          0.901686133,
                          0.04417857143
                        ]
                      },
                      {
                        "learn": [
                          0.03758829365
                        ],
                        "iteration": 1639,
                        "passed_time": 49.9591258,
                        "remaining_time": 10.96663737,
                        "test": [
                          0.1544931405,
                          0.901686133,
                          0.04417857143
                        ]
                      },
                      {
                        "learn": [
                          0.03758829365
                        ],
                        "iteration": 1640,
                        "passed_time": 50.01424251,
                        "remaining_time": 10.94156798,
                        "test": [
                          0.1550588648,
                          0.9018648176,
                          0.04417857143
                        ]
                      },
                      {
                        "learn": [
                          0.03758829365
                        ],
                        "iteration": 1641,
                        "passed_time": 50.05764539,
                        "remaining_time": 10.91390807,
                        "test": [
                          0.1550588648,
                          0.9018648176,
                          0.04417857143
                        ]
                      },
                      {
                        "learn": [
                          0.03758829365
                        ],
                        "iteration": 1642,
                        "passed_time": 50.08068046,
                        "remaining_time": 10.88180336,
                        "test": [
                          0.1544931405,
                          0.901686133,
                          0.04417857143
                        ]
                      },
                      {
                        "learn": [
                          0.03758829365
                        ],
                        "iteration": 1643,
                        "passed_time": 50.10372449,
                        "remaining_time": 10.84971163,
                        "test": [
                          0.1555768905,
                          0.9019551023,
                          0.04417857143
                        ]
                      },
                      {
                        "learn": [
                          0.03758829365
                        ],
                        "iteration": 1644,
                        "passed_time": 50.12654013,
                        "remaining_time": 10.81758161,
                        "test": [
                          0.155733879,
                          0.9020604227,
                          0.04417857143
                        ]
                      },
                      {
                        "learn": [
                          0.03758829365
                        ],
                        "iteration": 1645,
                        "passed_time": 50.14960682,
                        "remaining_time": 10.7855169,
                        "test": [
                          0.155733879,
                          0.9020604227,
                          0.04417857143
                        ]
                      },
                      {
                        "learn": [
                          0.03758829365
                        ],
                        "iteration": 1646,
                        "passed_time": 50.17259134,
                        "remaining_time": 10.7534455,
                        "test": [
                          0.155733879,
                          0.9020604227,
                          0.04417857143
                        ]
                      },
                      {
                        "learn": [
                          0.03758829365
                        ],
                        "iteration": 1647,
                        "passed_time": 50.19618404,
                        "remaining_time": 10.72151504,
                        "test": [
                          0.155733879,
                          0.9021167736,
                          0.04417857143
                        ]
                      },
                      {
                        "learn": [
                          0.03758829365
                        ],
                        "iteration": 1648,
                        "passed_time": 50.21941156,
                        "remaining_time": 10.68951695,
                        "test": [
                          0.155733879,
                          0.9021167736,
                          0.04417857143
                        ]
                      },
                      {
                        "learn": [
                          0.03758829365
                        ],
                        "iteration": 1649,
                        "passed_time": 50.24211331,
                        "remaining_time": 10.65741797,
                        "test": [
                          0.1568081728,
                          0.9024188763,
                          0.04417857143
                        ]
                      },
                      {
                        "learn": [
                          0.03758829365
                        ],
                        "iteration": 1650,
                        "passed_time": 50.26458947,
                        "remaining_time": 10.62528269,
                        "test": [
                          0.1568081728,
                          0.9024188763,
                          0.04417857143
                        ]
                      },
                      {
                        "learn": [
                          0.03758829365
                        ],
                        "iteration": 1651,
                        "passed_time": 50.28716767,
                        "remaining_time": 10.5931806,
                        "test": [
                          0.1568081728,
                          0.9024188763,
                          0.04417857143
                        ]
                      },
                      {
                        "learn": [
                          0.03758829365
                        ],
                        "iteration": 1652,
                        "passed_time": 50.30984666,
                        "remaining_time": 10.56111119,
                        "test": [
                          0.1568081728,
                          0.9024188763,
                          0.04417857143
                        ]
                      },
                      {
                        "learn": [
                          0.03758829365
                        ],
                        "iteration": 1653,
                        "passed_time": 50.33350422,
                        "remaining_time": 10.52925784,
                        "test": [
                          0.156399437,
                          0.9024550721,
                          0.04417857143
                        ]
                      },
                      {
                        "learn": [
                          0.03758829365
                        ],
                        "iteration": 1654,
                        "passed_time": 50.35610273,
                        "remaining_time": 10.49719362,
                        "test": [
                          0.1568081728,
                          0.9025284362,
                          0.04417857143
                        ]
                      },
                      {
                        "learn": [
                          0.03758829365
                        ],
                        "iteration": 1655,
                        "passed_time": 50.37902382,
                        "remaining_time": 10.46520785,
                        "test": [
                          0.1578919228,
                          0.9027990611,
                          0.04417857143
                        ]
                      },
                      {
                        "learn": [
                          0.03758829365
                        ],
                        "iteration": 1656,
                        "passed_time": 50.4023419,
                        "remaining_time": 10.43331519,
                        "test": [
                          0.157483187,
                          0.9026161371,
                          0.04417857143
                        ]
                      },
                      {
                        "learn": [
                          0.03758829365
                        ],
                        "iteration": 1657,
                        "passed_time": 50.43102525,
                        "remaining_time": 10.40253959,
                        "test": [
                          0.157483187,
                          0.902725697,
                          0.04417857143
                        ]
                      },
                      {
                        "learn": [
                          0.03758829365
                        ],
                        "iteration": 1658,
                        "passed_time": 50.45813605,
                        "remaining_time": 10.37144327,
                        "test": [
                          0.157483187,
                          0.902725697,
                          0.04417857143
                        ]
                      },
                      {
                        "learn": [
                          0.03758829365
                        ],
                        "iteration": 1659,
                        "passed_time": 50.48138227,
                        "remaining_time": 10.33956022,
                        "test": [
                          0.157483187,
                          0.902725697,
                          0.04417857143
                        ]
                      },
                      {
                        "learn": [
                          0.03758829365
                        ],
                        "iteration": 1660,
                        "passed_time": 50.504154,
                        "remaining_time": 10.30759073,
                        "test": [
                          0.157483187,
                          0.9027526973,
                          0.04417857143
                        ]
                      },
                      {
                        "learn": [
                          0.03758829365
                        ],
                        "iteration": 1661,
                        "passed_time": 50.52721889,
                        "remaining_time": 10.27569193,
                        "test": [
                          0.157483187,
                          0.9027526973,
                          0.04417857143
                        ]
                      },
                      {
                        "learn": [
                          0.03758829365
                        ],
                        "iteration": 1662,
                        "passed_time": 50.5495777,
                        "remaining_time": 10.24366066,
                        "test": [
                          0.157483187,
                          0.9027954519,
                          0.04417857143
                        ]
                      },
                      {
                        "learn": [
                          0.03758829365
                        ],
                        "iteration": 1663,
                        "passed_time": 50.57230997,
                        "remaining_time": 10.21171644,
                        "test": [
                          0.157483187,
                          0.902725697,
                          0.04417857143
                        ]
                      },
                      {
                        "learn": [
                          0.03758829365
                        ],
                        "iteration": 1664,
                        "passed_time": 50.5951714,
                        "remaining_time": 10.17980926,
                        "test": [
                          0.157483187,
                          0.9028224521,
                          0.04417857143
                        ]
                      },
                      {
                        "learn": [
                          0.03758829365
                        ],
                        "iteration": 1665,
                        "passed_time": 50.6188616,
                        "remaining_time": 10.1480791,
                        "test": [
                          0.158758187,
                          0.9041317497,
                          0.04417857143
                        ]
                      },
                      {
                        "learn": [
                          0.03758829365
                        ],
                        "iteration": 1666,
                        "passed_time": 50.64134748,
                        "remaining_time": 10.116118,
                        "test": [
                          0.157674437,
                          0.9037794293,
                          0.04417857143
                        ]
                      },
                      {
                        "learn": [
                          0.03758829365
                        ],
                        "iteration": 1667,
                        "passed_time": 50.6665326,
                        "remaining_time": 10.08470553,
                        "test": [
                          0.157674437,
                          0.9037794293,
                          0.04417857143
                        ]
                      },
                      {
                        "learn": [
                          0.03758829365
                        ],
                        "iteration": 1668,
                        "passed_time": 50.6891928,
                        "remaining_time": 10.05279977,
                        "test": [
                          0.156590687,
                          0.9035088044,
                          0.04417857143
                        ]
                      },
                      {
                        "learn": [
                          0.03758829365
                        ],
                        "iteration": 1669,
                        "passed_time": 50.71138212,
                        "remaining_time": 10.02081204,
                        "test": [
                          0.155925129,
                          0.9032800658,
                          0.04417857143
                        ]
                      },
                      {
                        "learn": [
                          0.03758829365
                        ],
                        "iteration": 1670,
                        "passed_time": 50.73391035,
                        "remaining_time": 9.988902757,
                        "test": [
                          0.155925129,
                          0.9032800658,
                          0.04417857143
                        ]
                      },
                      {
                        "learn": [
                          0.03758829365
                        ],
                        "iteration": 1671,
                        "passed_time": 50.75646534,
                        "remaining_time": 9.957009948,
                        "test": [
                          0.155925129,
                          0.9032800658,
                          0.04417857143
                        ]
                      },
                      {
                        "learn": [
                          0.03758829365
                        ],
                        "iteration": 1672,
                        "passed_time": 50.7791508,
                        "remaining_time": 9.925153803,
                        "test": [
                          0.155925129,
                          0.9032800658,
                          0.04417857143
                        ]
                      },
                      {
                        "learn": [
                          0.03758829365
                        ],
                        "iteration": 1673,
                        "passed_time": 50.80145244,
                        "remaining_time": 9.893233867,
                        "test": [
                          0.157008879,
                          0.9035506907,
                          0.04417857143
                        ]
                      },
                      {
                        "learn": [
                          0.03758829365
                        ],
                        "iteration": 1674,
                        "passed_time": 50.82398308,
                        "remaining_time": 9.861369852,
                        "test": [
                          0.158092629,
                          0.9038760109,
                          0.04417857143
                        ]
                      },
                      {
                        "learn": [
                          0.03758829365
                        ],
                        "iteration": 1675,
                        "passed_time": 50.8462651,
                        "remaining_time": 9.82946891,
                        "test": [
                          0.158092629,
                          0.9038760109,
                          0.04417857143
                        ]
                      },
                      {
                        "learn": [
                          0.03758829365
                        ],
                        "iteration": 1676,
                        "passed_time": 50.8687501,
                        "remaining_time": 9.797618535,
                        "test": [
                          0.158092629,
                          0.9038760109,
                          0.04417857143
                        ]
                      },
                      {
                        "learn": [
                          0.03758829365
                        ],
                        "iteration": 1677,
                        "passed_time": 50.89376324,
                        "remaining_time": 9.766264459,
                        "test": [
                          0.158092629,
                          0.9038760109,
                          0.04417857143
                        ]
                      },
                      {
                        "learn": [
                          0.03758829365
                        ],
                        "iteration": 1678,
                        "passed_time": 50.9163523,
                        "remaining_time": 9.73445449,
                        "test": [
                          0.157008879,
                          0.903605386,
                          0.04417857143
                        ]
                      },
                      {
                        "learn": [
                          0.03758829365
                        ],
                        "iteration": 1679,
                        "passed_time": 50.97121332,
                        "remaining_time": 9.708802537,
                        "test": [
                          0.1564431547,
                          0.9034267014,
                          0.04417857143
                        ]
                      },
                      {
                        "learn": [
                          0.03758829365
                        ],
                        "iteration": 1680,
                        "passed_time": 51.06985097,
                        "remaining_time": 9.691423236,
                        "test": [
                          0.1575269047,
                          0.9036973263,
                          0.04417857143
                        ]
                      },
                      {
                        "learn": [
                          0.03758829365
                        ],
                        "iteration": 1681,
                        "passed_time": 51.11955097,
                        "remaining_time": 9.664695131,
                        "test": [
                          0.1575269047,
                          0.9036973263,
                          0.04417857143
                        ]
                      },
                      {
                        "learn": [
                          0.03758829365
                        ],
                        "iteration": 1682,
                        "passed_time": 51.14575574,
                        "remaining_time": 9.633514301,
                        "test": [
                          0.1575269047,
                          0.9036973263,
                          0.04417857143
                        ]
                      },
                      {
                        "learn": [
                          0.03758829365
                        ],
                        "iteration": 1683,
                        "passed_time": 51.16831431,
                        "remaining_time": 9.601655179,
                        "test": [
                          0.1575269047,
                          0.9036973263,
                          0.04417857143
                        ]
                      },
                      {
                        "learn": [
                          0.03758829365
                        ],
                        "iteration": 1684,
                        "passed_time": 51.19085526,
                        "remaining_time": 9.569803803,
                        "test": [
                          0.1575269047,
                          0.9036973263,
                          0.04417857143
                        ]
                      },
                      {
                        "learn": [
                          0.03758829365
                        ],
                        "iteration": 1685,
                        "passed_time": 51.21394604,
                        "remaining_time": 9.538065871,
                        "test": [
                          0.1575269047,
                          0.9036973263,
                          0.04417857143
                        ]
                      },
                      {
                        "learn": [
                          0.03758829365
                        ],
                        "iteration": 1686,
                        "passed_time": 51.23699846,
                        "remaining_time": 9.506331072,
                        "test": [
                          0.1545763954,
                          0.9029134785,
                          0.04417857143
                        ]
                      },
                      {
                        "learn": [
                          0.03758829365
                        ],
                        "iteration": 1687,
                        "passed_time": 51.25971852,
                        "remaining_time": 9.474545129,
                        "test": [
                          0.1560763954,
                          0.9066311812,
                          0.04417857143
                        ]
                      },
                      {
                        "learn": [
                          0.03758829365
                        ],
                        "iteration": 1688,
                        "passed_time": 51.28343322,
                        "remaining_time": 9.442953067,
                        "test": [
                          0.1568594047,
                          0.906819084,
                          0.04417857143
                        ]
                      },
                      {
                        "learn": [
                          0.03758829365
                        ],
                        "iteration": 1689,
                        "passed_time": 51.30546293,
                        "remaining_time": 9.411061248,
                        "test": [
                          0.1568594047,
                          0.906819084,
                          0.04417857143
                        ]
                      },
                      {
                        "learn": [
                          0.03758829365
                        ],
                        "iteration": 1690,
                        "passed_time": 51.32774652,
                        "remaining_time": 9.379227483,
                        "test": [
                          0.1579431547,
                          0.9070627086,
                          0.04417857143
                        ]
                      },
                      {
                        "learn": [
                          0.03758829365
                        ],
                        "iteration": 1691,
                        "passed_time": 51.35109225,
                        "remaining_time": 9.347598353,
                        "test": [
                          0.1579431547,
                          0.9070897089,
                          0.04417857143
                        ]
                      },
                      {
                        "learn": [
                          0.03758829365
                        ],
                        "iteration": 1692,
                        "passed_time": 51.3740093,
                        "remaining_time": 9.315901272,
                        "test": [
                          0.1560763954,
                          0.9066311812,
                          0.04417857143
                        ]
                      },
                      {
                        "learn": [
                          0.03758829365
                        ],
                        "iteration": 1693,
                        "passed_time": 51.39702633,
                        "remaining_time": 9.284232619,
                        "test": [
                          0.1545763954,
                          0.9029404788,
                          0.04417857143
                        ]
                      },
                      {
                        "learn": [
                          0.03758829365
                        ],
                        "iteration": 1694,
                        "passed_time": 51.42169503,
                        "remaining_time": 9.252871377,
                        "test": [
                          0.1545763954,
                          0.9029404788,
                          0.04417857143
                        ]
                      },
                      {
                        "learn": [
                          0.03758829365
                        ],
                        "iteration": 1695,
                        "passed_time": 51.44639967,
                        "remaining_time": 9.221524468,
                        "test": [
                          0.1549851312,
                          0.9030138429,
                          0.04417857143
                        ]
                      },
                      {
                        "learn": [
                          0.03758829365
                        ],
                        "iteration": 1696,
                        "passed_time": 51.47390919,
                        "remaining_time": 9.190686203,
                        "test": [
                          0.153793386,
                          0.9026340226,
                          0.04417857143
                        ]
                      },
                      {
                        "learn": [
                          0.03758829365
                        ],
                        "iteration": 1697,
                        "passed_time": 51.49815752,
                        "remaining_time": 9.159271832,
                        "test": [
                          0.1542021218,
                          0.9027073867,
                          0.04417857143
                        ]
                      },
                      {
                        "learn": [
                          0.03758829365
                        ],
                        "iteration": 1698,
                        "passed_time": 51.52478081,
                        "remaining_time": 9.128286653,
                        "test": [
                          0.1542021218,
                          0.9027073867,
                          0.04417857143
                        ]
                      },
                      {
                        "learn": [
                          0.03758829365
                        ],
                        "iteration": 1699,
                        "passed_time": 51.5491801,
                        "remaining_time": 9.096914135,
                        "test": [
                          0.1545763954,
                          0.9029404788,
                          0.04417857143
                        ]
                      },
                      {
                        "learn": [
                          0.03758829365
                        ],
                        "iteration": 1700,
                        "passed_time": 51.57365416,
                        "remaining_time": 9.065562959,
                        "test": [
                          0.1549851312,
                          0.9029868426,
                          0.04417857143
                        ]
                      },
                      {
                        "learn": [
                          0.03758829365
                        ],
                        "iteration": 1701,
                        "passed_time": 51.59786624,
                        "remaining_time": 9.034173995,
                        "test": [
                          0.1549851312,
                          0.9029868426,
                          0.04417857143
                        ]
                      },
                      {
                        "learn": [
                          0.03758829365
                        ],
                        "iteration": 1702,
                        "passed_time": 51.62256124,
                        "remaining_time": 9.002877679,
                        "test": [
                          0.1549851312,
                          0.9030138429,
                          0.04417857143
                        ]
                      },
                      {
                        "learn": [
                          0.03758829365
                        ],
                        "iteration": 1703,
                        "passed_time": 51.64629085,
                        "remaining_time": 8.971421414,
                        "test": [
                          0.1560688812,
                          0.9032844678,
                          0.04417857143
                        ]
                      },
                      {
                        "learn": [
                          0.03758829365
                        ],
                        "iteration": 1704,
                        "passed_time": 51.6701723,
                        "remaining_time": 8.940000486,
                        "test": [
                          0.1560688812,
                          0.9032844678,
                          0.04417857143
                        ]
                      },
                      {
                        "learn": [
                          0.03758829365
                        ],
                        "iteration": 1705,
                        "passed_time": 51.69413955,
                        "remaining_time": 8.908603181,
                        "test": [
                          0.1560688812,
                          0.9032844678,
                          0.04417857143
                        ]
                      },
                      {
                        "learn": [
                          0.03758829365
                        ],
                        "iteration": 1706,
                        "passed_time": 51.71825632,
                        "remaining_time": 8.877240247,
                        "test": [
                          0.1583518905,
                          0.907163073,
                          0.04417857143
                        ]
                      },
                      {
                        "learn": [
                          0.03758829365
                        ],
                        "iteration": 1707,
                        "passed_time": 51.74212414,
                        "remaining_time": 8.845843237,
                        "test": [
                          0.1568518905,
                          0.9034723705,
                          0.04417857143
                        ]
                      },
                      {
                        "learn": [
                          0.03758829365
                        ],
                        "iteration": 1708,
                        "passed_time": 51.76583046,
                        "remaining_time": 8.814427539,
                        "test": [
                          0.1568518905,
                          0.9034723705,
                          0.04417857143
                        ]
                      },
                      {
                        "learn": [
                          0.03758829365
                        ],
                        "iteration": 1709,
                        "passed_time": 51.78960116,
                        "remaining_time": 8.783031775,
                        "test": [
                          0.1568518905,
                          0.9034723705,
                          0.04417857143
                        ]
                      },
                      {
                        "learn": [
                          0.03758829365
                        ],
                        "iteration": 1710,
                        "passed_time": 51.81524074,
                        "remaining_time": 8.751960593,
                        "test": [
                          0.1568518905,
                          0.9034723705,
                          0.04417857143
                        ]
                      },
                      {
                        "learn": [
                          0.03758829365
                        ],
                        "iteration": 1711,
                        "passed_time": 51.83868197,
                        "remaining_time": 8.720525939,
                        "test": [
                          0.1575688812,
                          0.9069751702,
                          0.04417857143
                        ]
                      },
                      {
                        "learn": [
                          0.03758829365
                        ],
                        "iteration": 1712,
                        "passed_time": 51.86517125,
                        "remaining_time": 8.689611296,
                        "test": [
                          0.1577861663,
                          0.9069843884,
                          0.04417857143
                        ]
                      },
                      {
                        "learn": [
                          0.03758829365
                        ],
                        "iteration": 1713,
                        "passed_time": 51.89190538,
                        "remaining_time": 8.658742671,
                        "test": [
                          0.1570031569,
                          0.9067964856,
                          0.04417857143
                        ]
                      },
                      {
                        "learn": [
                          0.03758829365
                        ],
                        "iteration": 1714,
                        "passed_time": 51.91560581,
                        "remaining_time": 8.627374727,
                        "test": [
                          0.1570031569,
                          0.9067964856,
                          0.04417857143
                        ]
                      },
                      {
                        "learn": [
                          0.03758829365
                        ],
                        "iteration": 1715,
                        "passed_time": 51.94011372,
                        "remaining_time": 8.596149356,
                        "test": [
                          0.1555031569,
                          0.9031057832,
                          0.04417857143
                        ]
                      },
                      {
                        "learn": [
                          0.03758829365
                        ],
                        "iteration": 1716,
                        "passed_time": 51.98028155,
                        "remaining_time": 8.567512917,
                        "test": [
                          0.1565944211,
                          0.9067231215,
                          0.04417857143
                        ]
                      },
                      {
                        "learn": [
                          0.03758829365
                        ],
                        "iteration": 1717,
                        "passed_time": 52.00418539,
                        "remaining_time": 8.536193411,
                        "test": [
                          0.1565944211,
                          0.9067231215,
                          0.04417857143
                        ]
                      },
                      {
                        "learn": [
                          0.03758829365
                        ],
                        "iteration": 1718,
                        "passed_time": 52.07507333,
                        "remaining_time": 8.512562889,
                        "test": [
                          0.1565944211,
                          0.9067231215,
                          0.04417857143
                        ]
                      },
                      {
                        "learn": [
                          0.03758829365
                        ],
                        "iteration": 1719,
                        "passed_time": 52.15279341,
                        "remaining_time": 8.489989625,
                        "test": [
                          0.1565944211,
                          0.9067231215,
                          0.04417857143
                        ]
                      },
                      {
                        "learn": [
                          0.03758829365
                        ],
                        "iteration": 1720,
                        "passed_time": 52.2074699,
                        "remaining_time": 8.463616561,
                        "test": [
                          0.1565944211,
                          0.9066135616,
                          0.04417857143
                        ]
                      },
                      {
                        "learn": [
                          0.03758829365
                        ],
                        "iteration": 1721,
                        "passed_time": 52.23568573,
                        "remaining_time": 8.432938811,
                        "test": [
                          0.1565944211,
                          0.9066135616,
                          0.04417857143
                        ]
                      },
                      {
                        "learn": [
                          0.03758829365
                        ],
                        "iteration": 1722,
                        "passed_time": 52.25940956,
                        "remaining_time": 8.401541757,
                        "test": [
                          0.1555106711,
                          0.9063429367,
                          0.04417857143
                        ]
                      },
                      {
                        "learn": [
                          0.03758829365
                        ],
                        "iteration": 1723,
                        "passed_time": 52.28360474,
                        "remaining_time": 8.370229066,
                        "test": [
                          0.1555106711,
                          0.9064524967,
                          0.04417857143
                        ]
                      },
                      {
                        "learn": [
                          0.03758829365
                        ],
                        "iteration": 1724,
                        "passed_time": 52.3080533,
                        "remaining_time": 8.338965019,
                        "test": [
                          0.1555106711,
                          0.9064524967,
                          0.04417857143
                        ]
                      },
                      {
                        "learn": [
                          0.03758829365
                        ],
                        "iteration": 1725,
                        "passed_time": 52.33311954,
                        "remaining_time": 8.307806926,
                        "test": [
                          0.1555106711,
                          0.9064524967,
                          0.04417857143
                        ]
                      },
                      {
                        "learn": [
                          0.03758829365
                        ],
                        "iteration": 1726,
                        "passed_time": 52.35716556,
                        "remaining_time": 8.276494614,
                        "test": [
                          0.1555106711,
                          0.9063429367,
                          0.04417857143
                        ]
                      },
                      {
                        "learn": [
                          0.03758829365
                        ],
                        "iteration": 1727,
                        "passed_time": 52.38143313,
                        "remaining_time": 8.245225585,
                        "test": [
                          0.1555106711,
                          0.9063159365,
                          0.04417857143
                        ]
                      },
                      {
                        "learn": [
                          0.03758829365
                        ],
                        "iteration": 1728,
                        "passed_time": 52.40544253,
                        "remaining_time": 8.21392419,
                        "test": [
                          0.1555106711,
                          0.9063429367,
                          0.04417857143
                        ]
                      },
                      {
                        "learn": [
                          0.03758829365
                        ],
                        "iteration": 1729,
                        "passed_time": 52.43027859,
                        "remaining_time": 8.182760243,
                        "test": [
                          0.1555106711,
                          0.9064254964,
                          0.04417857143
                        ]
                      },
                      {
                        "learn": [
                          0.03758829365
                        ],
                        "iteration": 1730,
                        "passed_time": 52.45588622,
                        "remaining_time": 8.151723509,
                        "test": [
                          0.1555106711,
                          0.9063159365,
                          0.04417857143
                        ]
                      },
                      {
                        "learn": [
                          0.03758829365
                        ],
                        "iteration": 1731,
                        "passed_time": 52.48016532,
                        "remaining_time": 8.120487475,
                        "test": [
                          0.1555106711,
                          0.9063159365,
                          0.04417857143
                        ]
                      },
                      {
                        "learn": [
                          0.03758829365
                        ],
                        "iteration": 1732,
                        "passed_time": 52.50309337,
                        "remaining_time": 8.089051315,
                        "test": [
                          0.1560763954,
                          0.9064248661,
                          0.04417857143
                        ]
                      },
                      {
                        "learn": [
                          0.03758829365
                        ],
                        "iteration": 1733,
                        "passed_time": 52.52561096,
                        "remaining_time": 8.057562004,
                        "test": [
                          0.1560763954,
                          0.9064248661,
                          0.04417857143
                        ]
                      },
                      {
                        "learn": [
                          0.03758829365
                        ],
                        "iteration": 1734,
                        "passed_time": 52.54781827,
                        "remaining_time": 8.026035643,
                        "test": [
                          0.1560763954,
                          0.9064248661,
                          0.04417857143
                        ]
                      },
                      {
                        "learn": [
                          0.03758829365
                        ],
                        "iteration": 1735,
                        "passed_time": 52.57074026,
                        "remaining_time": 7.994628704,
                        "test": [
                          0.1560763954,
                          0.9063153062,
                          0.04417857143
                        ]
                      },
                      {
                        "learn": [
                          0.03758829365
                        ],
                        "iteration": 1736,
                        "passed_time": 52.59427654,
                        "remaining_time": 7.963324542,
                        "test": [
                          0.1560763954,
                          0.9063153062,
                          0.04417857143
                        ]
                      },
                      {
                        "learn": [
                          0.03758829365
                        ],
                        "iteration": 1737,
                        "passed_time": 52.61779623,
                        "remaining_time": 7.93202682,
                        "test": [
                          0.1560763954,
                          0.9064248661,
                          0.04417857143
                        ]
                      },
                      {
                        "learn": [
                          0.03758829365
                        ],
                        "iteration": 1738,
                        "passed_time": 52.64079798,
                        "remaining_time": 7.900660307,
                        "test": [
                          0.1560763954,
                          0.9064248661,
                          0.04417857143
                        ]
                      },
                      {
                        "learn": [
                          0.03758829365
                        ],
                        "iteration": 1739,
                        "passed_time": 52.66331173,
                        "remaining_time": 7.869230489,
                        "test": [
                          0.1560763954,
                          0.9064248661,
                          0.04417857143
                        ]
                      },
                      {
                        "learn": [
                          0.03758829365
                        ],
                        "iteration": 1740,
                        "passed_time": 52.68610679,
                        "remaining_time": 7.837852762,
                        "test": [
                          0.1560763954,
                          0.9063363591,
                          0.04417857143
                        ]
                      },
                      {
                        "learn": [
                          0.03758829365
                        ],
                        "iteration": 1741,
                        "passed_time": 52.70850444,
                        "remaining_time": 7.806426031,
                        "test": [
                          0.1560763954,
                          0.9063363591,
                          0.04417857143
                        ]
                      },
                      {
                        "learn": [
                          0.03758829365
                        ],
                        "iteration": 1742,
                        "passed_time": 52.73336087,
                        "remaining_time": 7.7753722,
                        "test": [
                          0.1560763954,
                          0.9063363591,
                          0.04417857143
                        ]
                      },
                      {
                        "learn": [
                          0.03758829365
                        ],
                        "iteration": 1743,
                        "passed_time": 52.75998039,
                        "remaining_time": 7.744584278,
                        "test": [
                          0.1560763954,
                          0.9063633593,
                          0.04417857143
                        ]
                      },
                      {
                        "learn": [
                          0.03758829365
                        ],
                        "iteration": 1744,
                        "passed_time": 52.78475556,
                        "remaining_time": 7.713531616,
                        "test": [
                          0.1560763954,
                          0.9063633593,
                          0.04417857143
                        ]
                      },
                      {
                        "learn": [
                          0.03758829365
                        ],
                        "iteration": 1745,
                        "passed_time": 52.80754879,
                        "remaining_time": 7.682197819,
                        "test": [
                          0.1560763954,
                          0.9063633593,
                          0.04417857143
                        ]
                      },
                      {
                        "learn": [
                          0.03758829365
                        ],
                        "iteration": 1746,
                        "passed_time": 52.83157602,
                        "remaining_time": 7.651052508,
                        "test": [
                          0.1560763954,
                          0.9063633593,
                          0.04417857143
                        ]
                      },
                      {
                        "learn": [
                          0.03758829365
                        ],
                        "iteration": 1747,
                        "passed_time": 52.8544019,
                        "remaining_time": 7.61974215,
                        "test": [
                          0.1560763954,
                          0.9063363591,
                          0.04417857143
                        ]
                      },
                      {
                        "learn": [
                          0.03758829365
                        ],
                        "iteration": 1748,
                        "passed_time": 52.88001797,
                        "remaining_time": 7.588841916,
                        "test": [
                          0.1560763954,
                          0.9063363591,
                          0.04417857143
                        ]
                      },
                      {
                        "learn": [
                          0.03758829365
                        ],
                        "iteration": 1749,
                        "passed_time": 52.90241886,
                        "remaining_time": 7.557488408,
                        "test": [
                          0.1566421196,
                          0.9065150436,
                          0.04417857143
                        ]
                      },
                      {
                        "learn": [
                          0.03758829365
                        ],
                        "iteration": 1750,
                        "passed_time": 52.92455736,
                        "remaining_time": 7.526107814,
                        "test": [
                          0.1566421196,
                          0.9065150436,
                          0.04417857143
                        ]
                      },
                      {
                        "learn": [
                          0.03758829365
                        ],
                        "iteration": 1751,
                        "passed_time": 52.94705319,
                        "remaining_time": 7.494788351,
                        "test": [
                          0.1566421196,
                          0.9065150436,
                          0.04417857143
                        ]
                      },
                      {
                        "learn": [
                          0.03758829365
                        ],
                        "iteration": 1752,
                        "passed_time": 52.96992724,
                        "remaining_time": 7.463532247,
                        "test": [
                          0.1566421196,
                          0.9065420439,
                          0.04417857143
                        ]
                      },
                      {
                        "learn": [
                          0.03758829365
                        ],
                        "iteration": 1753,
                        "passed_time": 53.01126958,
                        "remaining_time": 7.434875894,
                        "test": [
                          0.1566421196,
                          0.9065359268,
                          0.04417857143
                        ]
                      },
                      {
                        "learn": [
                          0.03758829365
                        ],
                        "iteration": 1754,
                        "passed_time": 53.03630035,
                        "remaining_time": 7.403927969,
                        "test": [
                          0.1558591103,
                          0.9062294706,
                          0.04417857143
                        ]
                      },
                      {
                        "learn": [
                          0.03758829365
                        ],
                        "iteration": 1755,
                        "passed_time": 53.05982937,
                        "remaining_time": 7.372778112,
                        "test": [
                          0.1569428603,
                          0.9065547908,
                          0.04417857143
                        ]
                      },
                      {
                        "learn": [
                          0.03758829365
                        ],
                        "iteration": 1756,
                        "passed_time": 53.08270715,
                        "remaining_time": 7.341546862,
                        "test": [
                          0.156377136,
                          0.9063761062,
                          0.04417857143
                        ]
                      },
                      {
                        "learn": [
                          0.03758829365
                        ],
                        "iteration": 1757,
                        "passed_time": 53.1270117,
                        "remaining_time": 7.313274648,
                        "test": [
                          0.156377136,
                          0.9063761062,
                          0.04417857143
                        ]
                      },
                      {
                        "learn": [
                          0.03758829365
                        ],
                        "iteration": 1758,
                        "passed_time": 53.22196321,
                        "remaining_time": 7.291923328,
                        "test": [
                          0.1569428603,
                          0.9065547908,
                          0.04417857143
                        ]
                      },
                      {
                        "learn": [
                          0.03758829365
                        ],
                        "iteration": 1759,
                        "passed_time": 53.26864634,
                        "remaining_time": 7.263906319,
                        "test": [
                          0.1569428603,
                          0.9065547908,
                          0.04417857143
                        ]
                      },
                      {
                        "learn": [
                          0.03758829365
                        ],
                        "iteration": 1760,
                        "passed_time": 53.30709506,
                        "remaining_time": 7.23475055,
                        "test": [
                          0.1558591103,
                          0.9062294706,
                          0.04417857143
                        ]
                      },
                      {
                        "learn": [
                          0.03758829365
                        ],
                        "iteration": 1761,
                        "passed_time": 53.33152067,
                        "remaining_time": 7.203690079,
                        "test": [
                          0.1566421196,
                          0.9065150436,
                          0.04417857143
                        ]
                      },
                      {
                        "learn": [
                          0.03758829365
                        ],
                        "iteration": 1762,
                        "passed_time": 53.35396394,
                        "remaining_time": 7.172370649,
                        "test": [
                          0.1558591103,
                          0.9062294706,
                          0.04417857143
                        ]
                      },
                      {
                        "learn": [
                          0.03758829365
                        ],
                        "iteration": 1763,
                        "passed_time": 53.37645067,
                        "remaining_time": 7.141067097,
                        "test": [
                          0.1558591103,
                          0.9062294706,
                          0.04417857143
                        ]
                      },
                      {
                        "learn": [
                          0.03758829365
                        ],
                        "iteration": 1764,
                        "passed_time": 53.39963707,
                        "remaining_time": 7.109866693,
                        "test": [
                          0.1558591103,
                          0.9062294706,
                          0.04417857143
                        ]
                      },
                      {
                        "learn": [
                          0.03758829365
                        ],
                        "iteration": 1765,
                        "passed_time": 53.42211726,
                        "remaining_time": 7.078581788,
                        "test": [
                          0.1558591103,
                          0.9062085874,
                          0.04417857143
                        ]
                      },
                      {
                        "learn": [
                          0.03758829365
                        ],
                        "iteration": 1766,
                        "passed_time": 53.44530716,
                        "remaining_time": 7.047400435,
                        "test": [
                          0.155293386,
                          0.9060299029,
                          0.04417857143
                        ]
                      },
                      {
                        "learn": [
                          0.03758829365
                        ],
                        "iteration": 1767,
                        "passed_time": 53.47094544,
                        "remaining_time": 7.016549402,
                        "test": [
                          0.155293386,
                          0.9060299029,
                          0.04417857143
                        ]
                      },
                      {
                        "learn": [
                          0.03758829365
                        ],
                        "iteration": 1768,
                        "passed_time": 53.49384258,
                        "remaining_time": 6.985346318,
                        "test": [
                          0.155293386,
                          0.9060299029,
                          0.04417857143
                        ]
                      },
                      {
                        "learn": [
                          0.03758829365
                        ],
                        "iteration": 1769,
                        "passed_time": 53.51898079,
                        "remaining_time": 6.954443832,
                        "test": [
                          0.155293386,
                          0.9060299029,
                          0.04417857143
                        ]
                      },
                      {
                        "learn": [
                          0.03758829365
                        ],
                        "iteration": 1770,
                        "passed_time": 53.54153501,
                        "remaining_time": 6.923213731,
                        "test": [
                          0.155293386,
                          0.9060996578,
                          0.04417857143
                        ]
                      },
                      {
                        "learn": [
                          0.03758829365
                        ],
                        "iteration": 1771,
                        "passed_time": 53.56429484,
                        "remaining_time": 6.892019878,
                        "test": [
                          0.155293386,
                          0.9060996578,
                          0.04417857143
                        ]
                      },
                      {
                        "learn": [
                          0.03758829365
                        ],
                        "iteration": 1772,
                        "passed_time": 53.58762738,
                        "remaining_time": 6.860908864,
                        "test": [
                          0.155293386,
                          0.9060996578,
                          0.04417857143
                        ]
                      },
                      {
                        "learn": [
                          0.03758829365
                        ],
                        "iteration": 1773,
                        "passed_time": 53.61200821,
                        "remaining_time": 6.829940166,
                        "test": [
                          0.155293386,
                          0.906120541,
                          0.04417857143
                        ]
                      },
                      {
                        "learn": [
                          0.03758829365
                        ],
                        "iteration": 1774,
                        "passed_time": 53.63538332,
                        "remaining_time": 6.798851407,
                        "test": [
                          0.156377136,
                          0.9064249779,
                          0.04417857143
                        ]
                      },
                      {
                        "learn": [
                          0.03758829365
                        ],
                        "iteration": 1775,
                        "passed_time": 53.65988043,
                        "remaining_time": 6.767912847,
                        "test": [
                          0.156377136,
                          0.9065345379,
                          0.04417857143
                        ]
                      },
                      {
                        "learn": [
                          0.03758829365
                        ],
                        "iteration": 1776,
                        "passed_time": 53.68668389,
                        "remaining_time": 6.737270967,
                        "test": [
                          0.155293386,
                          0.9062092177,
                          0.04417857143
                        ]
                      },
                      {
                        "learn": [
                          0.03758829365
                        ],
                        "iteration": 1777,
                        "passed_time": 53.70938463,
                        "remaining_time": 6.706121141,
                        "test": [
                          0.156377136,
                          0.9065345379,
                          0.04417857143
                        ]
                      },
                      {
                        "learn": [
                          0.03758829365
                        ],
                        "iteration": 1778,
                        "passed_time": 53.732458,
                        "remaining_time": 6.675027104,
                        "test": [
                          0.156377136,
                          0.9065554211,
                          0.04417857143
                        ]
                      },
                      {
                        "learn": [
                          0.03758829365
                        ],
                        "iteration": 1779,
                        "passed_time": 53.75520834,
                        "remaining_time": 6.643902154,
                        "test": [
                          0.155293386,
                          0.9060996578,
                          0.04417857143
                        ]
                      },
                      {
                        "learn": [
                          0.03758829365
                        ],
                        "iteration": 1780,
                        "passed_time": 53.77810331,
                        "remaining_time": 6.612804394,
                        "test": [
                          0.155293386,
                          0.9060996578,
                          0.04417857143
                        ]
                      },
                      {
                        "learn": [
                          0.03758829365
                        ],
                        "iteration": 1781,
                        "passed_time": 53.79998016,
                        "remaining_time": 6.581591288,
                        "test": [
                          0.155293386,
                          0.9060996578,
                          0.04417857143
                        ]
                      },
                      {
                        "learn": [
                          0.03758829365
                        ],
                        "iteration": 1782,
                        "passed_time": 53.82336881,
                        "remaining_time": 6.550572648,
                        "test": [
                          0.1534526617,
                          0.9046116757,
                          0.04417857143
                        ]
                      },
                      {
                        "learn": [
                          0.03758829365
                        ],
                        "iteration": 1783,
                        "passed_time": 53.84644435,
                        "remaining_time": 6.519524652,
                        "test": [
                          0.1534526617,
                          0.9046116757,
                          0.04417857143
                        ]
                      },
                      {
                        "learn": [
                          0.03758829365
                        ],
                        "iteration": 1784,
                        "passed_time": 53.86937954,
                        "remaining_time": 6.488468685,
                        "test": [
                          0.1534526617,
                          0.9046116757,
                          0.04417857143
                        ]
                      },
                      {
                        "learn": [
                          0.03758829365
                        ],
                        "iteration": 1785,
                        "passed_time": 53.89479487,
                        "remaining_time": 6.457718982,
                        "test": [
                          0.1534526617,
                          0.9046116757,
                          0.04417857143
                        ]
                      },
                      {
                        "learn": [
                          0.03758829365
                        ],
                        "iteration": 1786,
                        "passed_time": 53.91763008,
                        "remaining_time": 6.426667716,
                        "test": [
                          0.1534526617,
                          0.9046116757,
                          0.04417857143
                        ]
                      },
                      {
                        "learn": [
                          0.03758829365
                        ],
                        "iteration": 1787,
                        "passed_time": 53.94104786,
                        "remaining_time": 6.395694712,
                        "test": [
                          0.1534526617,
                          0.9046325589,
                          0.04417857143
                        ]
                      },
                      {
                        "learn": [
                          0.03758829365
                        ],
                        "iteration": 1788,
                        "passed_time": 53.96362956,
                        "remaining_time": 6.364631547,
                        "test": [
                          0.155102136,
                          0.9050668087,
                          0.04417857143
                        ]
                      },
                      {
                        "learn": [
                          0.03758829365
                        ],
                        "iteration": 1789,
                        "passed_time": 53.98667804,
                        "remaining_time": 6.33363262,
                        "test": [
                          0.155102136,
                          0.9050668087,
                          0.04417857143
                        ]
                      },
                      {
                        "learn": [
                          0.03758829365
                        ],
                        "iteration": 1790,
                        "passed_time": 54.02808861,
                        "remaining_time": 6.304785326,
                        "test": [
                          0.155102136,
                          0.9050668087,
                          0.04417857143
                        ]
                      },
                      {
                        "learn": [
                          0.03758829365
                        ],
                        "iteration": 1791,
                        "passed_time": 54.05029631,
                        "remaining_time": 6.273695107,
                        "test": [
                          0.155102136,
                          0.9050668087,
                          0.04417857143
                        ]
                      },
                      {
                        "learn": [
                          0.03758829365
                        ],
                        "iteration": 1792,
                        "passed_time": 54.07389023,
                        "remaining_time": 6.242774834,
                        "test": [
                          0.155102136,
                          0.9050459255,
                          0.04417857143
                        ]
                      },
                      {
                        "learn": [
                          0.03758829365
                        ],
                        "iteration": 1793,
                        "passed_time": 54.09660254,
                        "remaining_time": 6.211761496,
                        "test": [
                          0.155102136,
                          0.9050459255,
                          0.04417857143
                        ]
                      },
                      {
                        "learn": [
                          0.03758829365
                        ],
                        "iteration": 1794,
                        "passed_time": 54.11962067,
                        "remaining_time": 6.180792333,
                        "test": [
                          0.155102136,
                          0.9050668087,
                          0.04417857143
                        ]
                      },
                      {
                        "learn": [
                          0.03758829365
                        ],
                        "iteration": 1795,
                        "passed_time": 54.14388085,
                        "remaining_time": 6.149973103,
                        "test": [
                          0.155102136,
                          0.9050668087,
                          0.04417857143
                        ]
                      },
                      {
                        "learn": [
                          0.03758829365
                        ],
                        "iteration": 1796,
                        "passed_time": 54.16643112,
                        "remaining_time": 6.118968012,
                        "test": [
                          0.155102136,
                          0.9050459255,
                          0.04417857143
                        ]
                      },
                      {
                        "learn": [
                          0.03758829365
                        ],
                        "iteration": 1797,
                        "passed_time": 54.22644042,
                        "remaining_time": 6.092180737,
                        "test": [
                          0.1556678603,
                          0.9052246101,
                          0.04417857143
                        ]
                      },
                      {
                        "learn": [
                          0.03758829365
                        ],
                        "iteration": 1798,
                        "passed_time": 54.48157321,
                        "remaining_time": 6.08715743,
                        "test": [
                          0.1560765961,
                          0.9052979742,
                          0.04417857143
                        ]
                      },
                      {
                        "learn": [
                          0.03758829365
                        ],
                        "iteration": 1799,
                        "passed_time": 54.53147654,
                        "remaining_time": 6.059052949,
                        "test": [
                          0.1568596054,
                          0.9056044304,
                          0.04417857143
                        ]
                      },
                      {
                        "learn": [
                          0.03758829365
                        ],
                        "iteration": 1800,
                        "passed_time": 54.57218505,
                        "remaining_time": 6.029908287,
                        "test": [
                          0.1568596054,
                          0.9056044304,
                          0.04417857143
                        ]
                      },
                      {
                        "learn": [
                          0.03758829365
                        ],
                        "iteration": 1801,
                        "passed_time": 54.59541244,
                        "remaining_time": 5.998830002,
                        "test": [
                          0.1562938812,
                          0.905446629,
                          0.04417857143
                        ]
                      },
                      {
                        "learn": [
                          0.03758829365
                        ],
                        "iteration": 1802,
                        "passed_time": 54.61904351,
                        "remaining_time": 5.967804532,
                        "test": [
                          0.1562938812,
                          0.9054861428,
                          0.04517857143
                        ]
                      },
                      {
                        "learn": [
                          0.03758829365
                        ],
                        "iteration": 1803,
                        "passed_time": 54.64166409,
                        "remaining_time": 5.936677473,
                        "test": [
                          0.1562938812,
                          0.9054861428,
                          0.04517857143
                        ]
                      },
                      {
                        "learn": [
                          0.03758829365
                        ],
                        "iteration": 1804,
                        "passed_time": 54.66369919,
                        "remaining_time": 5.905496588,
                        "test": [
                          0.1562938812,
                          0.9054861428,
                          0.04517857143
                        ]
                      },
                      {
                        "learn": [
                          0.03758829365
                        ],
                        "iteration": 1805,
                        "passed_time": 54.68619237,
                        "remaining_time": 5.874375039,
                        "test": [
                          0.1562938812,
                          0.9054861428,
                          0.04517857143
                        ]
                      },
                      {
                        "learn": [
                          0.03758829365
                        ],
                        "iteration": 1806,
                        "passed_time": 54.70914057,
                        "remaining_time": 5.843311638,
                        "test": [
                          0.1562938812,
                          0.9054861428,
                          0.04517857143
                        ]
                      },
                      {
                        "learn": [
                          0.03758829365
                        ],
                        "iteration": 1807,
                        "passed_time": 54.73176344,
                        "remaining_time": 5.812222667,
                        "test": [
                          0.1562938812,
                          0.9054861428,
                          0.04517857143
                        ]
                      },
                      {
                        "learn": [
                          0.03758829365
                        ],
                        "iteration": 1808,
                        "passed_time": 54.75394128,
                        "remaining_time": 5.781096067,
                        "test": [
                          0.1562938812,
                          0.9054861428,
                          0.04517857143
                        ]
                      },
                      {
                        "learn": [
                          0.03758829365
                        ],
                        "iteration": 1809,
                        "passed_time": 54.77649008,
                        "remaining_time": 5.750018296,
                        "test": [
                          0.1562938812,
                          0.905446629,
                          0.04417857143
                        ]
                      },
                      {
                        "learn": [
                          0.03758829365
                        ],
                        "iteration": 1810,
                        "passed_time": 54.79903662,
                        "remaining_time": 5.718949708,
                        "test": [
                          0.1562938812,
                          0.905446629,
                          0.04417857143
                        ]
                      },
                      {
                        "learn": [
                          0.03758829365
                        ],
                        "iteration": 1811,
                        "passed_time": 54.82213179,
                        "remaining_time": 5.687947448,
                        "test": [
                          0.1562938812,
                          0.905446629,
                          0.04417857143
                        ]
                      },
                      {
                        "learn": [
                          0.03758829365
                        ],
                        "iteration": 1812,
                        "passed_time": 54.84512737,
                        "remaining_time": 5.656943639,
                        "test": [
                          0.1562938812,
                          0.905446629,
                          0.04417857143
                        ]
                      },
                      {
                        "learn": [
                          0.03758829365
                        ],
                        "iteration": 1813,
                        "passed_time": 54.86780774,
                        "remaining_time": 5.625916339,
                        "test": [
                          0.1562938812,
                          0.9054861428,
                          0.04517857143
                        ]
                      },
                      {
                        "learn": [
                          0.03758829365
                        ],
                        "iteration": 1814,
                        "passed_time": 54.89404697,
                        "remaining_time": 5.595260986,
                        "test": [
                          0.1562938812,
                          0.905446629,
                          0.04417857143
                        ]
                      },
                      {
                        "learn": [
                          0.03758829365
                        ],
                        "iteration": 1815,
                        "passed_time": 54.91700488,
                        "remaining_time": 5.564278028,
                        "test": [
                          0.1562938812,
                          0.9055351361,
                          0.04417857143
                        ]
                      },
                      {
                        "learn": [
                          0.03758829365
                        ],
                        "iteration": 1816,
                        "passed_time": 54.93953231,
                        "remaining_time": 5.533260547,
                        "test": [
                          0.1562938812,
                          0.9055621363,
                          0.04417857143
                        ]
                      },
                      {
                        "learn": [
                          0.03758829365
                        ],
                        "iteration": 1817,
                        "passed_time": 54.96562716,
                        "remaining_time": 5.50260954,
                        "test": [
                          0.1562938812,
                          0.9055621363,
                          0.04417857143
                        ]
                      },
                      {
                        "learn": [
                          0.03758829365
                        ],
                        "iteration": 1818,
                        "passed_time": 54.98819345,
                        "remaining_time": 5.471612432,
                        "test": [
                          0.1562938812,
                          0.9055621363,
                          0.04417857143
                        ]
                      },
                      {
                        "learn": [
                          0.03758829365
                        ],
                        "iteration": 1819,
                        "passed_time": 55.01260918,
                        "remaining_time": 5.440807501,
                        "test": [
                          0.1555108718,
                          0.9052556801,
                          0.04417857143
                        ]
                      },
                      {
                        "learn": [
                          0.03758829365
                        ],
                        "iteration": 1820,
                        "passed_time": 55.04989764,
                        "remaining_time": 5.411274947,
                        "test": [
                          0.1555108718,
                          0.9052556801,
                          0.04417857143
                        ]
                      },
                      {
                        "learn": [
                          0.03758829365
                        ],
                        "iteration": 1821,
                        "passed_time": 55.07264932,
                        "remaining_time": 5.380313709,
                        "test": [
                          0.1555108718,
                          0.905434995,
                          0.04417857143
                        ]
                      },
                      {
                        "learn": [
                          0.03758829365
                        ],
                        "iteration": 1822,
                        "passed_time": 55.09484334,
                        "remaining_time": 5.349307335,
                        "test": [
                          0.1555108718,
                          0.9054745088,
                          0.04517857143
                        ]
                      },
                      {
                        "learn": [
                          0.03758829365
                        ],
                        "iteration": 1823,
                        "passed_time": 55.11742291,
                        "remaining_time": 5.318347825,
                        "test": [
                          0.1555108718,
                          0.9054745088,
                          0.04517857143
                        ]
                      },
                      {
                        "learn": [
                          0.03758829365
                        ],
                        "iteration": 1824,
                        "passed_time": 55.14086816,
                        "remaining_time": 5.287480508,
                        "test": [
                          0.1555108718,
                          0.9054745088,
                          0.04517857143
                        ]
                      },
                      {
                        "learn": [
                          0.03758829365
                        ],
                        "iteration": 1825,
                        "passed_time": 55.16351208,
                        "remaining_time": 5.256544963,
                        "test": [
                          0.1562938812,
                          0.905582898,
                          0.04517857143
                        ]
                      },
                      {
                        "learn": [
                          0.03758829365
                        ],
                        "iteration": 1826,
                        "passed_time": 55.18619927,
                        "remaining_time": 5.225622591,
                        "test": [
                          0.1562938812,
                          0.9056296076,
                          0.04517857143
                        ]
                      },
                      {
                        "learn": [
                          0.03758829365
                        ],
                        "iteration": 1827,
                        "passed_time": 55.20871274,
                        "remaining_time": 5.194692884,
                        "test": [
                          0.1562938812,
                          0.9056296076,
                          0.04517857143
                        ]
                      },
                      {
                        "learn": [
                          0.03758829365
                        ],
                        "iteration": 1828,
                        "passed_time": 55.2321688,
                        "remaining_time": 5.163860506,
                        "test": [
                          0.1562938812,
                          0.9056296076,
                          0.04517857143
                        ]
                      },
                      {
                        "learn": [
                          0.03758829365
                        ],
                        "iteration": 1829,
                        "passed_time": 55.25443568,
                        "remaining_time": 5.132925719,
                        "test": [
                          0.1562938812,
                          0.9056296076,
                          0.04517857143
                        ]
                      },
                      {
                        "learn": [
                          0.03758829365
                        ],
                        "iteration": 1830,
                        "passed_time": 55.27725884,
                        "remaining_time": 5.102051744,
                        "test": [
                          0.1562938812,
                          0.9055598527,
                          0.04517857143
                        ]
                      },
                      {
                        "learn": [
                          0.03758829365
                        ],
                        "iteration": 1831,
                        "passed_time": 55.30131273,
                        "remaining_time": 5.07129942,
                        "test": [
                          0.1552101312,
                          0.9052345325,
                          0.04517857143
                        ]
                      },
                      {
                        "learn": [
                          0.03758829365
                        ],
                        "iteration": 1832,
                        "passed_time": 55.32416453,
                        "remaining_time": 5.040444886,
                        "test": [
                          0.1562938812,
                          0.9055598527,
                          0.04517857143
                        ]
                      },
                      {
                        "learn": [
                          0.03758829365
                        ],
                        "iteration": 1833,
                        "passed_time": 55.34749892,
                        "remaining_time": 5.009642759,
                        "test": [
                          0.1562938812,
                          0.9055131431,
                          0.04517857143
                        ]
                      },
                      {
                        "learn": [
                          0.03758829365
                        ],
                        "iteration": 1834,
                        "passed_time": 55.37055653,
                        "remaining_time": 4.978823884,
                        "test": [
                          0.1562938812,
                          0.9054861428,
                          0.04517857143
                        ]
                      },
                      {
                        "learn": [
                          0.03758829365
                        ],
                        "iteration": 1835,
                        "passed_time": 55.39302452,
                        "remaining_time": 4.947960796,
                        "test": [
                          0.1562938812,
                          0.9054861428,
                          0.04517857143
                        ]
                      },
                      {
                        "learn": [
                          0.03758829365
                        ],
                        "iteration": 1836,
                        "passed_time": 55.41622141,
                        "remaining_time": 4.917171524,
                        "test": [
                          0.1562938812,
                          0.9053765829,
                          0.04517857143
                        ]
                      },
                      {
                        "learn": [
                          0.03758829365
                        ],
                        "iteration": 1837,
                        "passed_time": 55.43908701,
                        "remaining_time": 4.886361315,
                        "test": [
                          0.1562938812,
                          0.9056026073,
                          0.04517857143
                        ]
                      },
                      {
                        "learn": [
                          0.03758829365
                        ],
                        "iteration": 1838,
                        "passed_time": 55.54925614,
                        "remaining_time": 4.863202957,
                        "test": [
                          0.1562938812,
                          0.9054463378,
                          0.04517857143
                        ]
                      },
                      {
                        "learn": [
                          0.03758829365
                        ],
                        "iteration": 1839,
                        "passed_time": 55.59953349,
                        "remaining_time": 4.834742043,
                        "test": [
                          0.1562938812,
                          0.9054254545,
                          0.04517857143
                        ]
                      },
                      {
                        "learn": [
                          0.03758829365
                        ],
                        "iteration": 1840,
                        "passed_time": 55.64075333,
                        "remaining_time": 4.805475165,
                        "test": [
                          0.1562938812,
                          0.9054254545,
                          0.04517857143
                        ]
                      },
                      {
                        "learn": [
                          0.03758829365
                        ],
                        "iteration": 1841,
                        "passed_time": 55.66335322,
                        "remaining_time": 4.774598159,
                        "test": [
                          0.1562938812,
                          0.9054254545,
                          0.04517857143
                        ]
                      },
                      {
                        "learn": [
                          0.03758829365
                        ],
                        "iteration": 1842,
                        "passed_time": 55.68563007,
                        "remaining_time": 4.743702615,
                        "test": [
                          0.1562938812,
                          0.9054524548,
                          0.04517857143
                        ]
                      },
                      {
                        "learn": [
                          0.03758829365
                        ],
                        "iteration": 1843,
                        "passed_time": 55.7105123,
                        "remaining_time": 4.713036832,
                        "test": [
                          0.1562938812,
                          0.9054254545,
                          0.04517857143
                        ]
                      },
                      {
                        "learn": [
                          0.03758829365
                        ],
                        "iteration": 1844,
                        "passed_time": 55.73338534,
                        "remaining_time": 4.682208525,
                        "test": [
                          0.1568596054,
                          0.9056041391,
                          0.04517857143
                        ]
                      },
                      {
                        "learn": [
                          0.03758829365
                        ],
                        "iteration": 1845,
                        "passed_time": 55.75895984,
                        "remaining_time": 4.651614202,
                        "test": [
                          0.1557758554,
                          0.9052788189,
                          0.04517857143
                        ]
                      },
                      {
                        "learn": [
                          0.03758829365
                        ],
                        "iteration": 1846,
                        "passed_time": 55.78175122,
                        "remaining_time": 4.620794768,
                        "test": [
                          0.1557758554,
                          0.9052393051,
                          0.04417857143
                        ]
                      },
                      {
                        "learn": [
                          0.03758829365
                        ],
                        "iteration": 1847,
                        "passed_time": 55.80457049,
                        "remaining_time": 4.589986317,
                        "test": [
                          0.1557758554,
                          0.9052393051,
                          0.04417857143
                        ]
                      },
                      {
                        "learn": [
                          0.03758829365
                        ],
                        "iteration": 1848,
                        "passed_time": 55.82707193,
                        "remaining_time": 4.559160553,
                        "test": [
                          0.1557758554,
                          0.9052663054,
                          0.04417857143
                        ]
                      },
                      {
                        "learn": [
                          0.03758829365
                        ],
                        "iteration": 1849,
                        "passed_time": 55.85002251,
                        "remaining_time": 4.528380204,
                        "test": [
                          0.1563415797,
                          0.90544499,
                          0.04417857143
                        ]
                      },
                      {
                        "learn": [
                          0.03758829365
                        ],
                        "iteration": 1850,
                        "passed_time": 55.87312074,
                        "remaining_time": 4.4976202,
                        "test": [
                          0.1563415797,
                          0.9054845038,
                          0.04517857143
                        ]
                      },
                      {
                        "learn": [
                          0.03758829365
                        ],
                        "iteration": 1851,
                        "passed_time": 55.89769634,
                        "remaining_time": 4.466986532,
                        "test": [
                          0.1563415797,
                          0.9054845038,
                          0.04517857143
                        ]
                      },
                      {
                        "learn": [
                          0.03758829365
                        ],
                        "iteration": 1852,
                        "passed_time": 55.92014329,
                        "remaining_time": 4.436190536,
                        "test": [
                          0.1563415797,
                          0.9054845038,
                          0.04517857143
                        ]
                      },
                      {
                        "learn": [
                          0.03758829365
                        ],
                        "iteration": 1853,
                        "passed_time": 55.94286844,
                        "remaining_time": 4.405425454,
                        "test": [
                          0.1563415797,
                          0.9053961183,
                          0.04417857143
                        ]
                      },
                      {
                        "learn": [
                          0.03758829365
                        ],
                        "iteration": 1854,
                        "passed_time": 55.96554371,
                        "remaining_time": 4.374665141,
                        "test": [
                          0.1563415797,
                          0.9055056782,
                          0.04417857143
                        ]
                      },
                      {
                        "learn": [
                          0.03758829365
                        ],
                        "iteration": 1855,
                        "passed_time": 55.98825784,
                        "remaining_time": 4.343916556,
                        "test": [
                          0.1563415797,
                          0.9055056782,
                          0.04417857143
                        ]
                      },
                      {
                        "learn": [
                          0.03758829365
                        ],
                        "iteration": 1856,
                        "passed_time": 56.01365734,
                        "remaining_time": 4.313383414,
                        "test": [
                          0.1563415797,
                          0.9055754331,
                          0.04417857143
                        ]
                      },
                      {
                        "learn": [
                          0.03758829365
                        ],
                        "iteration": 1857,
                        "passed_time": 56.0448393,
                        "remaining_time": 4.283297729,
                        "test": [
                          0.1555585703,
                          0.9051989308,
                          0.04517857143
                        ]
                      },
                      {
                        "learn": [
                          0.03758829365
                        ],
                        "iteration": 1858,
                        "passed_time": 56.07912786,
                        "remaining_time": 4.253446492,
                        "test": [
                          0.1555585703,
                          0.9051989308,
                          0.04517857143
                        ]
                      },
                      {
                        "learn": [
                          0.03758829365
                        ],
                        "iteration": 1859,
                        "passed_time": 56.10202774,
                        "remaining_time": 4.222733271,
                        "test": [
                          0.1548930124,
                          0.9053663073,
                          0.04517857143
                        ]
                      },
                      {
                        "learn": [
                          0.03758829365
                        ],
                        "iteration": 1860,
                        "passed_time": 56.12566853,
                        "remaining_time": 4.192083786,
                        "test": [
                          0.1548930124,
                          0.9051869925,
                          0.04517857143
                        ]
                      },
                      {
                        "learn": [
                          0.03758829365
                        ],
                        "iteration": 1861,
                        "passed_time": 56.14836996,
                        "remaining_time": 4.16137221,
                        "test": [
                          0.1551498345,
                          0.9052538788,
                          0.04517857143
                        ]
                      },
                      {
                        "learn": [
                          0.03758829365
                        ],
                        "iteration": 1862,
                        "passed_time": 56.17170104,
                        "remaining_time": 4.130715535,
                        "test": [
                          0.1551498345,
                          0.9052538788,
                          0.04517857143
                        ]
                      },
                      {
                        "learn": [
                          0.03758829365
                        ],
                        "iteration": 1863,
                        "passed_time": 56.19542941,
                        "remaining_time": 4.100095708,
                        "test": [
                          0.1551498345,
                          0.9052538788,
                          0.04517857143
                        ]
                      },
                      {
                        "learn": [
                          0.03758829365
                        ],
                        "iteration": 1864,
                        "passed_time": 56.21867431,
                        "remaining_time": 4.069448275,
                        "test": [
                          0.1551498345,
                          0.9052538788,
                          0.04517857143
                        ]
                      },
                      {
                        "learn": [
                          0.03758829365
                        ],
                        "iteration": 1865,
                        "passed_time": 56.24138575,
                        "remaining_time": 4.038770466,
                        "test": [
                          0.1563415797,
                          0.9055241392,
                          0.04517857143
                        ]
                      },
                      {
                        "learn": [
                          0.03758829365
                        ],
                        "iteration": 1866,
                        "passed_time": 56.26328703,
                        "remaining_time": 4.008043479,
                        "test": [
                          0.1544748203,
                          0.9049021882,
                          0.04517857143
                        ]
                      },
                      {
                        "learn": [
                          0.03758829365
                        ],
                        "iteration": 1867,
                        "passed_time": 56.28603895,
                        "remaining_time": 3.97738605,
                        "test": [
                          0.1544748203,
                          0.9049021882,
                          0.04517857143
                        ]
                      },
                      {
                        "learn": [
                          0.03758829365
                        ],
                        "iteration": 1868,
                        "passed_time": 56.30902072,
                        "remaining_time": 3.946753191,
                        "test": [
                          0.1544748203,
                          0.9048751879,
                          0.04517857143
                        ]
                      },
                      {
                        "learn": [
                          0.03758829365
                        ],
                        "iteration": 1869,
                        "passed_time": 56.33235533,
                        "remaining_time": 3.916153044,
                        "test": [
                          0.1544748203,
                          0.9048751879,
                          0.04517857143
                        ]
                      },
                      {
                        "learn": [
                          0.03758829365
                        ],
                        "iteration": 1870,
                        "passed_time": 56.35564446,
                        "remaining_time": 3.885557528,
                        "test": [
                          0.1555585703,
                          0.9054098026,
                          0.04517857143
                        ]
                      },
                      {
                        "learn": [
                          0.03758829365
                        ],
                        "iteration": 1871,
                        "passed_time": 56.37928219,
                        "remaining_time": 3.854993654,
                        "test": [
                          0.1555585703,
                          0.9053002426,
                          0.04517857143
                        ]
                      },
                      {
                        "learn": [
                          0.03758829365
                        ],
                        "iteration": 1872,
                        "passed_time": 56.40283627,
                        "remaining_time": 3.824431504,
                        "test": [
                          0.1555585703,
                          0.9053002426,
                          0.04517857143
                        ]
                      },
                      {
                        "learn": [
                          0.03758829365
                        ],
                        "iteration": 1873,
                        "passed_time": 56.4260008,
                        "remaining_time": 3.793850641,
                        "test": [
                          0.1555585703,
                          0.9053002426,
                          0.04517857143
                        ]
                      },
                      {
                        "learn": [
                          0.03758829365
                        ],
                        "iteration": 1874,
                        "passed_time": 56.45149238,
                        "remaining_time": 3.763432825,
                        "test": [
                          0.1551498345,
                          0.9052268785,
                          0.04517857143
                        ]
                      },
                      {
                        "learn": [
                          0.03758829365
                        ],
                        "iteration": 1875,
                        "passed_time": 56.47560725,
                        "remaining_time": 3.732929264,
                        "test": [
                          0.1551498345,
                          0.9054459984,
                          0.04517857143
                        ]
                      },
                      {
                        "learn": [
                          0.03758829365
                        ],
                        "iteration": 1876,
                        "passed_time": 56.49928735,
                        "remaining_time": 3.702404019,
                        "test": [
                          0.1551498345,
                          0.9054459984,
                          0.04517857143
                        ]
                      },
                      {
                        "learn": [
                          0.03758829365
                        ],
                        "iteration": 1877,
                        "passed_time": 56.52269335,
                        "remaining_time": 3.671868258,
                        "test": [
                          0.1536498345,
                          0.901761413,
                          0.04517857143
                        ]
                      },
                      {
                        "learn": [
                          0.03758829365
                        ],
                        "iteration": 1878,
                        "passed_time": 56.62971277,
                        "remaining_time": 3.646724452,
                        "test": [
                          0.1536498345,
                          0.901761413,
                          0.04517857143
                        ]
                      },
                      {
                        "learn": [
                          0.03758829365
                        ],
                        "iteration": 1879,
                        "passed_time": 56.68177582,
                        "remaining_time": 3.617985691,
                        "test": [
                          0.1525660845,
                          0.9012476815,
                          0.04517857143
                        ]
                      },
                      {
                        "learn": [
                          0.03758829365
                        ],
                        "iteration": 1880,
                        "passed_time": 56.71349504,
                        "remaining_time": 3.587935093,
                        "test": [
                          0.1525660845,
                          0.9012476815,
                          0.04517857143
                        ]
                      },
                      {
                        "learn": [
                          0.03758829365
                        ],
                        "iteration": 1881,
                        "passed_time": 56.7458744,
                        "remaining_time": 3.557924112,
                        "test": [
                          0.1529748203,
                          0.9013210456,
                          0.04517857143
                        ]
                      },
                      {
                        "learn": [
                          0.03758829365
                        ],
                        "iteration": 1882,
                        "passed_time": 56.76855716,
                        "remaining_time": 3.527308119,
                        "test": [
                          0.1529748203,
                          0.9013210456,
                          0.04517857143
                        ]
                      },
                      {
                        "learn": [
                          0.03758829365
                        ],
                        "iteration": 1883,
                        "passed_time": 56.8139012,
                        "remaining_time": 3.498095828,
                        "test": [
                          0.1529748203,
                          0.9012114857,
                          0.04517857143
                        ]
                      },
                      {
                        "learn": [
                          0.03758829365
                        ],
                        "iteration": 1884,
                        "passed_time": 56.87010315,
                        "remaining_time": 3.469528839,
                        "test": [
                          0.1529748203,
                          0.9012114857,
                          0.04517857143
                        ]
                      },
                      {
                        "learn": [
                          0.03758829365
                        ],
                        "iteration": 1885,
                        "passed_time": 56.92590973,
                        "remaining_time": 3.440908648,
                        "test": [
                          0.1529748203,
                          0.9012114857,
                          0.04517857143
                        ]
                      },
                      {
                        "learn": [
                          0.03758829365
                        ],
                        "iteration": 1886,
                        "passed_time": 56.98212409,
                        "remaining_time": 3.412284061,
                        "test": [
                          0.1544748203,
                          0.9049021882,
                          0.04517857143
                        ]
                      },
                      {
                        "learn": [
                          0.03758829365
                        ],
                        "iteration": 1887,
                        "passed_time": 57.0418575,
                        "remaining_time": 3.383839004,
                        "test": [
                          0.1529748203,
                          0.9012114857,
                          0.04517857143
                        ]
                      },
                      {
                        "learn": [
                          0.03758829365
                        ],
                        "iteration": 1888,
                        "passed_time": 57.10400059,
                        "remaining_time": 3.355502417,
                        "test": [
                          0.1544748203,
                          0.9050117481,
                          0.04517857143
                        ]
                      },
                      {
                        "learn": [
                          0.03758829365
                        ],
                        "iteration": 1889,
                        "passed_time": 57.16654963,
                        "remaining_time": 3.327153682,
                        "test": [
                          0.1544748203,
                          0.9049021882,
                          0.04517857143
                        ]
                      },
                      {
                        "learn": [
                          0.03758829365
                        ],
                        "iteration": 1890,
                        "passed_time": 57.26263675,
                        "remaining_time": 3.30070196,
                        "test": [
                          0.1540660845,
                          0.9048288241,
                          0.04517857143
                        ]
                      },
                      {
                        "learn": [
                          0.03758829365
                        ],
                        "iteration": 1891,
                        "passed_time": 57.31893649,
                        "remaining_time": 3.271905466,
                        "test": [
                          0.1540660845,
                          0.9048288241,
                          0.04517857143
                        ]
                      },
                      {
                        "learn": [
                          0.03758829365
                        ],
                        "iteration": 1892,
                        "passed_time": 57.37779153,
                        "remaining_time": 3.24322435,
                        "test": [
                          0.1535740939,
                          0.9039355427,
                          0.04517857143
                        ]
                      },
                      {
                        "learn": [
                          0.03758829365
                        ],
                        "iteration": 1893,
                        "passed_time": 57.43350033,
                        "remaining_time": 3.214335288,
                        "test": [
                          0.1539828297,
                          0.9040089068,
                          0.04517857143
                        ]
                      },
                      {
                        "learn": [
                          0.03758829365
                        ],
                        "iteration": 1894,
                        "passed_time": 57.49290956,
                        "remaining_time": 3.185622957,
                        "test": [
                          0.1539828297,
                          0.9040089068,
                          0.04517857143
                        ]
                      },
                      {
                        "learn": [
                          0.03758829365
                        ],
                        "iteration": 1895,
                        "passed_time": 57.5341412,
                        "remaining_time": 3.155881163,
                        "test": [
                          0.1539828297,
                          0.9041184667,
                          0.04517857143
                        ]
                      },
                      {
                        "learn": [
                          0.03758829365
                        ],
                        "iteration": 1896,
                        "passed_time": 57.57135833,
                        "remaining_time": 3.125909282,
                        "test": [
                          0.1539828297,
                          0.9041184667,
                          0.04517857143
                        ]
                      },
                      {
                        "learn": [
                          0.03758829365
                        ],
                        "iteration": 1897,
                        "passed_time": 57.66552719,
                        "remaining_time": 3.098990397,
                        "test": [
                          0.1539828297,
                          0.9041184667,
                          0.04517857143
                        ]
                      },
                      {
                        "learn": [
                          0.03758829365
                        ],
                        "iteration": 1898,
                        "passed_time": 57.78657759,
                        "remaining_time": 3.073430404,
                        "test": [
                          0.1531998203,
                          0.9036396003,
                          0.04517857143
                        ]
                      },
                      {
                        "learn": [
                          0.03758829365
                        ],
                        "iteration": 1899,
                        "passed_time": 57.96097655,
                        "remaining_time": 3.050577713,
                        "test": [
                          0.1539828297,
                          0.903898173,
                          0.04517857143
                        ]
                      },
                      {
                        "learn": [
                          0.03758829365
                        ],
                        "iteration": 1900,
                        "passed_time": 58.07244897,
                        "remaining_time": 3.024288505,
                        "test": [
                          0.1531998203,
                          0.9035450072,
                          0.04517857143
                        ]
                      },
                      {
                        "learn": [
                          0.03758829365
                        ],
                        "iteration": 1901,
                        "passed_time": 58.15287895,
                        "remaining_time": 2.996310272,
                        "test": [
                          0.1531998203,
                          0.9035450072,
                          0.04517857143
                        ]
                      },
                      {
                        "learn": [
                          0.03758829365
                        ],
                        "iteration": 1902,
                        "passed_time": 58.25166212,
                        "remaining_time": 2.969212415,
                        "test": [
                          0.1531998203,
                          0.9036545671,
                          0.04517857143
                        ]
                      },
                      {
                        "learn": [
                          0.03758829365
                        ],
                        "iteration": 1903,
                        "passed_time": 58.32121052,
                        "remaining_time": 2.940565236,
                        "test": [
                          0.1531998203,
                          0.9036545671,
                          0.04517857143
                        ]
                      },
                      {
                        "learn": [
                          0.03758829365
                        ],
                        "iteration": 1904,
                        "passed_time": 58.38322929,
                        "remaining_time": 2.911499624,
                        "test": [
                          0.1516998203,
                          0.8999638646,
                          0.04517857143
                        ]
                      },
                      {
                        "learn": [
                          0.03758829365
                        ],
                        "iteration": 1905,
                        "passed_time": 58.43645959,
                        "remaining_time": 2.881966003,
                        "test": [
                          0.1531998203,
                          0.9036545671,
                          0.04517857143
                        ]
                      },
                      {
                        "learn": [
                          0.03758829365
                        ],
                        "iteration": 1906,
                        "passed_time": 58.52460061,
                        "remaining_time": 2.854110045,
                        "test": [
                          0.1531998203,
                          0.9036545671,
                          0.04517857143
                        ]
                      },
                      {
                        "learn": [
                          0.03758829365
                        ],
                        "iteration": 1907,
                        "passed_time": 58.58319442,
                        "remaining_time": 2.824766188,
                        "test": [
                          0.1529748203,
                          0.9012731622,
                          0.04517857143
                        ]
                      },
                      {
                        "learn": [
                          0.03758829365
                        ],
                        "iteration": 1908,
                        "passed_time": 58.67091327,
                        "remaining_time": 2.796780046,
                        "test": [
                          0.1544748203,
                          0.9049638646,
                          0.04517857143
                        ]
                      },
                      {
                        "learn": [
                          0.03758829365
                        ],
                        "iteration": 1909,
                        "passed_time": 58.74552228,
                        "remaining_time": 2.768113615,
                        "test": [
                          0.1544748203,
                          0.9049638646,
                          0.04517857143
                        ]
                      },
                      {
                        "learn": [
                          0.03758829365
                        ],
                        "iteration": 1910,
                        "passed_time": 58.77689191,
                        "remaining_time": 2.737385337,
                        "test": [
                          0.1544748203,
                          0.9049638646,
                          0.04517857143
                        ]
                      },
                      {
                        "learn": [
                          0.03758829365
                        ],
                        "iteration": 1911,
                        "passed_time": 58.84235591,
                        "remaining_time": 2.708225586,
                        "test": [
                          0.1529748203,
                          0.9012731622,
                          0.04517857143
                        ]
                      },
                      {
                        "learn": [
                          0.03758829365
                        ],
                        "iteration": 1912,
                        "passed_time": 58.90420324,
                        "remaining_time": 2.678863399,
                        "test": [
                          0.1544748203,
                          0.9049638646,
                          0.04517857143
                        ]
                      },
                      {
                        "learn": [
                          0.03758829365
                        ],
                        "iteration": 1913,
                        "passed_time": 58.95579261,
                        "remaining_time": 2.649006355,
                        "test": [
                          0.1544748203,
                          0.9049638646,
                          0.04517857143
                        ]
                      },
                      {
                        "learn": [
                          0.03758829365
                        ],
                        "iteration": 1914,
                        "passed_time": 59.03573244,
                        "remaining_time": 2.620384991,
                        "test": [
                          0.1529748203,
                          0.9012731622,
                          0.04517857143
                        ]
                      },
                      {
                        "learn": [
                          0.03758829365
                        ],
                        "iteration": 1915,
                        "passed_time": 59.10883909,
                        "remaining_time": 2.591410482,
                        "test": [
                          0.1529748203,
                          0.9011636022,
                          0.04517857143
                        ]
                      },
                      {
                        "learn": [
                          0.03758829365
                        ],
                        "iteration": 1916,
                        "passed_time": 59.19727378,
                        "remaining_time": 2.563053586,
                        "test": [
                          0.1544748203,
                          0.9048543047,
                          0.04517857143
                        ]
                      },
                      {
                        "learn": [
                          0.03758829365
                        ],
                        "iteration": 1917,
                        "passed_time": 59.29054778,
                        "remaining_time": 2.534840937,
                        "test": [
                          0.1544748203,
                          0.9048543047,
                          0.04517857143
                        ]
                      },
                      {
                        "learn": [
                          0.03758829365
                        ],
                        "iteration": 1918,
                        "passed_time": 59.34042574,
                        "remaining_time": 2.504728757,
                        "test": [
                          0.1544748203,
                          0.9047447448,
                          0.04517857143
                        ]
                      },
                      {
                        "learn": [
                          0.03758829365
                        ],
                        "iteration": 1919,
                        "passed_time": 59.41720981,
                        "remaining_time": 2.475717075,
                        "test": [
                          0.1544748203,
                          0.904765628,
                          0.04517857143
                        ]
                      },
                      {
                        "learn": [
                          0.03758829365
                        ],
                        "iteration": 1920,
                        "passed_time": 59.48055438,
                        "remaining_time": 2.446102965,
                        "test": [
                          0.1544748203,
                          0.904765628,
                          0.04517857143
                        ]
                      },
                      {
                        "learn": [
                          0.03758829365
                        ],
                        "iteration": 1921,
                        "passed_time": 59.56492351,
                        "remaining_time": 2.417306989,
                        "test": [
                          0.1533910703,
                          0.9043638322,
                          0.04517857143
                        ]
                      },
                      {
                        "learn": [
                          0.03758829365
                        ],
                        "iteration": 1922,
                        "passed_time": 59.66393542,
                        "remaining_time": 2.389039536,
                        "test": [
                          0.1533910703,
                          0.9045201017,
                          0.04517857143
                        ]
                      },
                      {
                        "learn": [
                          0.03758829365
                        ],
                        "iteration": 1923,
                        "passed_time": 59.72661035,
                        "remaining_time": 2.359263195,
                        "test": [
                          0.1533910703,
                          0.9044733921,
                          0.04517857143
                        ]
                      },
                      {
                        "learn": [
                          0.03758829365
                        ],
                        "iteration": 1924,
                        "passed_time": 59.76575613,
                        "remaining_time": 2.328535953,
                        "test": [
                          0.1533910703,
                          0.9044733921,
                          0.04517857143
                        ]
                      },
                      {
                        "learn": [
                          0.03758829365
                        ],
                        "iteration": 1925,
                        "passed_time": 59.82385251,
                        "remaining_time": 2.298528082,
                        "test": [
                          0.1544748203,
                          0.9050080068,
                          0.04517857143
                        ]
                      },
                      {
                        "learn": [
                          0.03758829365
                        ],
                        "iteration": 1926,
                        "passed_time": 59.88510401,
                        "remaining_time": 2.268610583,
                        "test": [
                          0.1544748203,
                          0.9048984469,
                          0.04517857143
                        ]
                      },
                      {
                        "learn": [
                          0.03758829365
                        ],
                        "iteration": 1927,
                        "passed_time": 59.98031093,
                        "remaining_time": 2.239928624,
                        "test": [
                          0.1544748203,
                          0.9048984469,
                          0.04517857143
                        ]
                      },
                      {
                        "learn": [
                          0.03758829365
                        ],
                        "iteration": 1928,
                        "passed_time": 60.04349497,
                        "remaining_time": 2.209999037,
                        "test": [
                          0.1533910703,
                          0.9044733921,
                          0.04517857143
                        ]
                      },
                      {
                        "learn": [
                          0.03758829365
                        ],
                        "iteration": 1929,
                        "passed_time": 60.11918367,
                        "remaining_time": 2.180488527,
                        "test": [
                          0.1533910703,
                          0.9044733921,
                          0.04517857143
                        ]
                      },
                      {
                        "learn": [
                          0.03758829365
                        ],
                        "iteration": 1930,
                        "passed_time": 60.24087202,
                        "remaining_time": 2.152573884,
                        "test": [
                          0.1533910703,
                          0.9044733921,
                          0.04517857143
                        ]
                      },
                      {
                        "learn": [
                          0.03758829365
                        ],
                        "iteration": 1931,
                        "passed_time": 60.36174494,
                        "remaining_time": 2.124533466,
                        "test": [
                          0.1533910703,
                          0.9043638322,
                          0.04517857143
                        ]
                      },
                      {
                        "learn": [
                          0.03758829365
                        ],
                        "iteration": 1932,
                        "passed_time": 60.46131757,
                        "remaining_time": 2.095658705,
                        "test": [
                          0.1533910703,
                          0.9043638322,
                          0.04517857143
                        ]
                      },
                      {
                        "learn": [
                          0.03758829365
                        ],
                        "iteration": 1933,
                        "passed_time": 60.54615345,
                        "remaining_time": 2.066207925,
                        "test": [
                          0.1533910703,
                          0.9044733921,
                          0.04517857143
                        ]
                      },
                      {
                        "learn": [
                          0.03758829365
                        ],
                        "iteration": 1934,
                        "passed_time": 60.72154768,
                        "remaining_time": 2.039741912,
                        "test": [
                          0.1533910703,
                          0.9045829521,
                          0.04517857143
                        ]
                      },
                      {
                        "learn": [
                          0.03758829365
                        ],
                        "iteration": 1935,
                        "passed_time": 60.82392651,
                        "remaining_time": 2.010708314,
                        "test": [
                          0.1533910703,
                          0.9046099523,
                          0.04517857143
                        ]
                      },
                      {
                        "learn": [
                          0.03758829365
                        ],
                        "iteration": 1936,
                        "passed_time": 60.92635268,
                        "remaining_time": 1.981600526,
                        "test": [
                          0.1533910703,
                          0.9045737565,
                          0.04517857143
                        ]
                      },
                      {
                        "learn": [
                          0.03758829365
                        ],
                        "iteration": 1937,
                        "passed_time": 61.00224745,
                        "remaining_time": 1.951568288,
                        "test": [
                          0.1533910703,
                          0.9045737565,
                          0.04517857143
                        ]
                      },
                      {
                        "learn": [
                          0.03758829365
                        ],
                        "iteration": 1938,
                        "passed_time": 61.0913325,
                        "remaining_time": 1.921903704,
                        "test": [
                          0.1533910703,
                          0.9045737565,
                          0.04517857143
                        ]
                      },
                      {
                        "learn": [
                          0.03758829365
                        ],
                        "iteration": 1939,
                        "passed_time": 61.19222864,
                        "remaining_time": 1.892543154,
                        "test": [
                          0.1533910703,
                          0.9045737565,
                          0.04517857143
                        ]
                      },
                      {
                        "learn": [
                          0.03758829365
                        ],
                        "iteration": 1940,
                        "passed_time": 61.28663134,
                        "remaining_time": 1.862911514,
                        "test": [
                          0.1533910703,
                          0.9045737565,
                          0.04517857143
                        ]
                      },
                      {
                        "learn": [
                          0.03758829365
                        ],
                        "iteration": 1941,
                        "passed_time": 61.37514243,
                        "remaining_time": 1.833037209,
                        "test": [
                          0.1533910703,
                          0.9046204661,
                          0.04517857143
                        ]
                      },
                      {
                        "learn": [
                          0.03758829365
                        ],
                        "iteration": 1942,
                        "passed_time": 61.45385818,
                        "remaining_time": 1.802815191,
                        "test": [
                          0.1533910703,
                          0.9046204661,
                          0.04517857143
                        ]
                      },
                      {
                        "learn": [
                          0.03758829365
                        ],
                        "iteration": 1943,
                        "passed_time": 61.5125568,
                        "remaining_time": 1.771966657,
                        "test": [
                          0.1533910703,
                          0.9046204661,
                          0.04517857143
                        ]
                      },
                      {
                        "learn": [
                          0.03758829365
                        ],
                        "iteration": 1944,
                        "passed_time": 61.60141887,
                        "remaining_time": 1.741942436,
                        "test": [
                          0.1533910703,
                          0.9046204661,
                          0.04517857143
                        ]
                      },
                      {
                        "learn": [
                          0.03758829365
                        ],
                        "iteration": 1945,
                        "passed_time": 61.7178839,
                        "remaining_time": 1.712623705,
                        "test": [
                          0.1533910703,
                          0.9046204661,
                          0.04517857143
                        ]
                      },
                      {
                        "learn": [
                          0.03758829365
                        ],
                        "iteration": 1946,
                        "passed_time": 61.82641075,
                        "remaining_time": 1.682999368,
                        "test": [
                          0.1533910703,
                          0.904531959,
                          0.04517857143
                        ]
                      },
                      {
                        "learn": [
                          0.03758829365
                        ],
                        "iteration": 1947,
                        "passed_time": 61.94401912,
                        "remaining_time": 1.653536445,
                        "test": [
                          0.1533910703,
                          0.904690221,
                          0.04517857143
                        ]
                      },
                      {
                        "learn": [
                          0.03758829365
                        ],
                        "iteration": 1948,
                        "passed_time": 62.04399238,
                        "remaining_time": 1.623521607,
                        "test": [
                          0.1533910703,
                          0.904690221,
                          0.04517857143
                        ]
                      },
                      {
                        "learn": [
                          0.03758829365
                        ],
                        "iteration": 1949,
                        "passed_time": 62.13017337,
                        "remaining_time": 1.593081368,
                        "test": [
                          0.1533910703,
                          0.904690221,
                          0.04517857143
                        ]
                      },
                      {
                        "learn": [
                          0.03758829365
                        ],
                        "iteration": 1950,
                        "passed_time": 62.18260755,
                        "remaining_time": 1.561736427,
                        "test": [
                          0.1521160703,
                          0.9033111686,
                          0.04517857143
                        ]
                      },
                      {
                        "learn": [
                          0.03758829365
                        ],
                        "iteration": 1951,
                        "passed_time": 62.23725457,
                        "remaining_time": 1.530424293,
                        "test": [
                          0.1521160703,
                          0.9033111686,
                          0.04517857143
                        ]
                      },
                      {
                        "learn": [
                          0.03758829365
                        ],
                        "iteration": 1952,
                        "passed_time": 62.28971268,
                        "remaining_time": 1.499035584,
                        "test": [
                          0.1521160703,
                          0.9033111686,
                          0.04517857143
                        ]
                      },
                      {
                        "learn": [
                          0.03758829365
                        ],
                        "iteration": 1953,
                        "passed_time": 62.342282,
                        "remaining_time": 1.467627928,
                        "test": [
                          0.1521160703,
                          0.9033809235,
                          0.04517857143
                        ]
                      },
                      {
                        "learn": [
                          0.03758829365
                        ],
                        "iteration": 1954,
                        "passed_time": 62.39092469,
                        "remaining_time": 1.436108241,
                        "test": [
                          0.1528253461,
                          0.9045115364,
                          0.04517857143
                        ]
                      },
                      {
                        "learn": [
                          0.03758829365
                        ],
                        "iteration": 1955,
                        "passed_time": 62.44294419,
                        "remaining_time": 1.404647006,
                        "test": [
                          0.1528253461,
                          0.9045115364,
                          0.04517857143
                        ]
                      },
                      {
                        "learn": [
                          0.03758829365
                        ],
                        "iteration": 1956,
                        "passed_time": 62.49446672,
                        "remaining_time": 1.373153842,
                        "test": [
                          0.1533910703,
                          0.904690221,
                          0.04517857143
                        ]
                      },
                      {
                        "learn": [
                          0.03758829365
                        ],
                        "iteration": 1957,
                        "passed_time": 62.54558852,
                        "remaining_time": 1.341631623,
                        "test": [
                          0.1521160703,
                          0.9033809235,
                          0.04517857143
                        ]
                      },
                      {
                        "learn": [
                          0.03758829365
                        ],
                        "iteration": 1958,
                        "passed_time": 62.5914372,
                        "remaining_time": 1.309979033,
                        "test": [
                          0.1521160703,
                          0.9033342138,
                          0.04517857143
                        ]
                      },
                      {
                        "learn": [
                          0.03758829365
                        ],
                        "iteration": 1959,
                        "passed_time": 62.64397821,
                        "remaining_time": 1.278448535,
                        "test": [
                          0.1506160703,
                          0.8996435114,
                          0.04517857143
                        ]
                      },
                      {
                        "learn": [
                          0.03758829365
                        ],
                        "iteration": 1960,
                        "passed_time": 62.70060757,
                        "remaining_time": 1.246977917,
                        "test": [
                          0.1506160703,
                          0.8996435114,
                          0.04517857143
                        ]
                      },
                      {
                        "learn": [
                          0.03758829365
                        ],
                        "iteration": 1961,
                        "passed_time": 62.75540159,
                        "remaining_time": 1.215446106,
                        "test": [
                          0.1516998203,
                          0.8998045763,
                          0.04517857143
                        ]
                      },
                      {
                        "learn": [
                          0.03758829365
                        ],
                        "iteration": 1962,
                        "passed_time": 62.80929613,
                        "remaining_time": 1.183873641,
                        "test": [
                          0.1506160703,
                          0.8996435114,
                          0.04517857143
                        ]
                      },
                      {
                        "learn": [
                          0.03758829365
                        ],
                        "iteration": 1963,
                        "passed_time": 62.8646333,
                        "remaining_time": 1.152304887,
                        "test": [
                          0.1506160703,
                          0.8996435114,
                          0.04517857143
                        ]
                      },
                      {
                        "learn": [
                          0.03758829365
                        ],
                        "iteration": 1964,
                        "passed_time": 62.91970918,
                        "remaining_time": 1.120707288,
                        "test": [
                          0.1506160703,
                          0.8995342427,
                          0.04417857143
                        ]
                      },
                      {
                        "learn": [
                          0.03758829365
                        ],
                        "iteration": 1965,
                        "passed_time": 62.97492162,
                        "remaining_time": 1.089088166,
                        "test": [
                          0.1500503461,
                          0.8993555581,
                          0.04417857143
                        ]
                      },
                      {
                        "learn": [
                          0.03758829365
                        ],
                        "iteration": 1966,
                        "passed_time": 62.99786553,
                        "remaining_time": 1.056903692,
                        "test": [
                          0.1500503461,
                          0.8993950719,
                          0.04517857143
                        ]
                      },
                      {
                        "learn": [
                          0.03758829365
                        ],
                        "iteration": 1967,
                        "passed_time": 63.02100083,
                        "remaining_time": 1.024731721,
                        "test": [
                          0.1514505124,
                          0.9031242085,
                          0.04517857143
                        ]
                      },
                      {
                        "learn": [
                          0.03758829365
                        ],
                        "iteration": 1968,
                        "passed_time": 63.04367768,
                        "remaining_time": 0.9925617105,
                        "test": [
                          0.1499505124,
                          0.8994335061,
                          0.04517857143
                        ]
                      },
                      {
                        "learn": [
                          0.03758829365
                        ],
                        "iteration": 1969,
                        "passed_time": 63.06671558,
                        "remaining_time": 0.9604068363,
                        "test": [
                          0.1493847881,
                          0.8992548215,
                          0.04517857143
                        ]
                      },
                      {
                        "learn": [
                          0.03758829365
                        ],
                        "iteration": 1970,
                        "passed_time": 63.08964503,
                        "remaining_time": 0.9282596173,
                        "test": [
                          0.1514505124,
                          0.9031242085,
                          0.04517857143
                        ]
                      },
                      {
                        "learn": [
                          0.03758829365
                        ],
                        "iteration": 1971,
                        "passed_time": 63.11350817,
                        "remaining_time": 0.8961350044,
                        "test": [
                          0.1508847881,
                          0.9029060102,
                          0.04417857143
                        ]
                      },
                      {
                        "learn": [
                          0.03758829365
                        ],
                        "iteration": 1972,
                        "passed_time": 63.2249419,
                        "remaining_time": 0.8652171471,
                        "test": [
                          0.1515503461,
                          0.9030857744,
                          0.04517857143
                        ]
                      },
                      {
                        "learn": [
                          0.03758829365
                        ],
                        "iteration": 1973,
                        "passed_time": 63.27241574,
                        "remaining_time": 0.8333752833,
                        "test": [
                          0.1500503461,
                          0.8993345052,
                          0.04417857143
                        ]
                      },
                      {
                        "learn": [
                          0.03758829365
                        ],
                        "iteration": 1974,
                        "passed_time": 63.32212682,
                        "remaining_time": 0.8015459091,
                        "test": [
                          0.1500503461,
                          0.8993345052,
                          0.04417857143
                        ]
                      },
                      {
                        "learn": [
                          0.03758829365
                        ],
                        "iteration": 1975,
                        "passed_time": 63.35110985,
                        "remaining_time": 0.7694466784,
                        "test": [
                          0.1500503461,
                          0.8993345052,
                          0.04417857143
                        ]
                      },
                      {
                        "learn": [
                          0.03758829365
                        ],
                        "iteration": 1976,
                        "passed_time": 63.37276166,
                        "remaining_time": 0.7372653101,
                        "test": [
                          0.1500503461,
                          0.8993345052,
                          0.04417857143
                        ]
                      },
                      {
                        "learn": [
                          0.03758829365
                        ],
                        "iteration": 1977,
                        "passed_time": 63.40203887,
                        "remaining_time": 0.7051794009,
                        "test": [
                          0.1500503461,
                          0.8993345052,
                          0.04417857143
                        ]
                      },
                      {
                        "learn": [
                          0.03758829365
                        ],
                        "iteration": 1978,
                        "passed_time": 63.4343047,
                        "remaining_time": 0.6731280438,
                        "test": [
                          0.1500503461,
                          0.8993345052,
                          0.04417857143
                        ]
                      },
                      {
                        "learn": [
                          0.03758829365
                        ],
                        "iteration": 1979,
                        "passed_time": 63.45928555,
                        "remaining_time": 0.6410028843,
                        "test": [
                          0.1500503461,
                          0.899285512,
                          0.04517857143
                        ]
                      },
                      {
                        "learn": [
                          0.03758829365
                        ],
                        "iteration": 1980,
                        "passed_time": 63.48204681,
                        "remaining_time": 0.6088636494,
                        "test": [
                          0.1500503461,
                          0.899285512,
                          0.04517857143
                        ]
                      },
                      {
                        "learn": [
                          0.03758829365
                        ],
                        "iteration": 1981,
                        "passed_time": 63.50505936,
                        "remaining_time": 0.5767361597,
                        "test": [
                          0.1487753461,
                          0.8985294295,
                          0.04517857143
                        ]
                      },
                      {
                        "learn": [
                          0.03758829365
                        ],
                        "iteration": 1982,
                        "passed_time": 63.52931494,
                        "remaining_time": 0.5446285194,
                        "test": [
                          0.1500503461,
                          0.8994417815,
                          0.04517857143
                        ]
                      },
                      {
                        "learn": [
                          0.03758829365
                        ],
                        "iteration": 1983,
                        "passed_time": 63.55218394,
                        "remaining_time": 0.5125176124,
                        "test": [
                          0.1500503461,
                          0.8994417815,
                          0.04517857143
                        ]
                      },
                      {
                        "learn": [
                          0.03758829365
                        ],
                        "iteration": 1984,
                        "passed_time": 63.57681181,
                        "remaining_time": 0.4804293084,
                        "test": [
                          0.1487753461,
                          0.8985294295,
                          0.04517857143
                        ]
                      },
                      {
                        "learn": [
                          0.03758829365
                        ],
                        "iteration": 1985,
                        "passed_time": 63.59936109,
                        "remaining_time": 0.4483338647,
                        "test": [
                          0.1500503461,
                          0.8993322216,
                          0.04517857143
                        ]
                      },
                      {
                        "learn": [
                          0.03758829365
                        ],
                        "iteration": 1986,
                        "passed_time": 63.62209556,
                        "remaining_time": 0.4162492412,
                        "test": [
                          0.1500503461,
                          0.8993322216,
                          0.04517857143
                        ]
                      },
                      {
                        "learn": [
                          0.03758829365
                        ],
                        "iteration": 1987,
                        "passed_time": 63.64480438,
                        "remaining_time": 0.3841738695,
                        "test": [
                          0.1500503461,
                          0.8993322216,
                          0.04517857143
                        ]
                      },
                      {
                        "learn": [
                          0.03758829365
                        ],
                        "iteration": 1988,
                        "passed_time": 63.66835838,
                        "remaining_time": 0.3521125903,
                        "test": [
                          0.1500503461,
                          0.8993322216,
                          0.04517857143
                        ]
                      },
                      {
                        "learn": [
                          0.03758829365
                        ],
                        "iteration": 1989,
                        "passed_time": 63.69102856,
                        "remaining_time": 0.3200554199,
                        "test": [
                          0.1500503461,
                          0.8993322216,
                          0.04517857143
                        ]
                      },
                      {
                        "learn": [
                          0.03758829365
                        ],
                        "iteration": 1990,
                        "passed_time": 63.71754393,
                        "remaining_time": 0.2880250605,
                        "test": [
                          0.1500503461,
                          0.8993322216,
                          0.04517857143
                        ]
                      },
                      {
                        "learn": [
                          0.03758829365
                        ],
                        "iteration": 1991,
                        "passed_time": 63.7399631,
                        "remaining_time": 0.2559837875,
                        "test": [
                          0.1500503461,
                          0.8993322216,
                          0.04517857143
                        ]
                      },
                      {
                        "learn": [
                          0.03758829365
                        ],
                        "iteration": 1992,
                        "passed_time": 63.76293645,
                        "remaining_time": 0.223954117,
                        "test": [
                          0.1500503461,
                          0.8993322216,
                          0.04517857143
                        ]
                      },
                      {
                        "learn": [
                          0.03758829365
                        ],
                        "iteration": 1993,
                        "passed_time": 63.78635693,
                        "remaining_time": 0.1919348754,
                        "test": [
                          0.1500503461,
                          0.8993322216,
                          0.04517857143
                        ]
                      },
                      {
                        "learn": [
                          0.03758829365
                        ],
                        "iteration": 1994,
                        "passed_time": 63.80924166,
                        "remaining_time": 0.1599229114,
                        "test": [
                          0.1500503461,
                          0.8993322216,
                          0.04517857143
                        ]
                      },
                      {
                        "learn": [
                          0.03758829365
                        ],
                        "iteration": 1995,
                        "passed_time": 63.83204085,
                        "remaining_time": 0.1279199215,
                        "test": [
                          0.1500503461,
                          0.8993322216,
                          0.04517857143
                        ]
                      },
                      {
                        "learn": [
                          0.03758829365
                        ],
                        "iteration": 1996,
                        "passed_time": 63.85450617,
                        "remaining_time": 0.09592564772,
                        "test": [
                          0.1500503461,
                          0.899285512,
                          0.04517857143
                        ]
                      },
                      {
                        "learn": [
                          0.03758829365
                        ],
                        "iteration": 1997,
                        "passed_time": 63.87722872,
                        "remaining_time": 0.06394116989,
                        "test": [
                          0.1500503461,
                          0.8993322216,
                          0.04517857143
                        ]
                      },
                      {
                        "learn": [
                          0.03758829365
                        ],
                        "iteration": 1998,
                        "passed_time": 63.90148983,
                        "remaining_time": 0.03196672828,
                        "test": [
                          0.1500503461,
                          0.8993322216,
                          0.04517857143
                        ]
                      },
                      {
                        "learn": [
                          0.03758829365
                        ],
                        "iteration": 1999,
                        "passed_time": 63.92432061,
                        "remaining_time": 0,
                        "test": [
                          0.1500503461,
                          0.8993322216,
                          0.04517857143
                        ]
                      }
                    ],
                    "meta": {
                      "test_sets": [
                        "test"
                      ],
                      "test_metrics": [
                        {
                          "best_value": "Max",
                          "name": "PFound"
                        },
                        {
                          "best_value": "Max",
                          "name": "NDCG:type=Base"
                        },
                        {
                          "best_value": "Max",
                          "name": "AverageGain:top=10"
                        }
                      ],
                      "learn_metrics": [
                        {
                          "best_value": "Max",
                          "name": "AverageGain:top=10"
                        }
                      ],
                      "launch_mode": "Train",
                      "parameters": "",
                      "iteration_count": 2000,
                      "learn_sets": [
                        "learn"
                      ],
                      "name": "experiment"
                    }
                  }
                }
              }
            },
            "layout": "IPY_MODEL_e4bf17827beb4ac392670bdc2d79760e"
          }
        }
      }
    }
  },
  "cells": [
    {
      "cell_type": "code",
      "execution_count": 1,
      "metadata": {
        "id": "MzKCMtGVE8qh",
        "colab": {
          "base_uri": "https://localhost:8080/"
        },
        "outputId": "439f13b3-2aa4-483c-c937-7b8f99a82f12"
      },
      "outputs": [
        {
          "output_type": "stream",
          "name": "stdout",
          "text": [
            "Collecting catboost\n",
            "  Downloading catboost-1.2.3-cp310-cp310-manylinux2014_x86_64.whl (98.5 MB)\n",
            "\u001b[2K     \u001b[90m━━━━━━━━━━━━━━━━━━━━━━━━━━━━━━━━━━━━━━━━\u001b[0m \u001b[32m98.5/98.5 MB\u001b[0m \u001b[31m5.7 MB/s\u001b[0m eta \u001b[36m0:00:00\u001b[0m\n",
            "\u001b[?25hRequirement already satisfied: graphviz in /usr/local/lib/python3.10/dist-packages (from catboost) (0.20.1)\n",
            "Requirement already satisfied: matplotlib in /usr/local/lib/python3.10/dist-packages (from catboost) (3.7.1)\n",
            "Requirement already satisfied: numpy>=1.16.0 in /usr/local/lib/python3.10/dist-packages (from catboost) (1.25.2)\n",
            "Requirement already satisfied: pandas>=0.24 in /usr/local/lib/python3.10/dist-packages (from catboost) (1.5.3)\n",
            "Requirement already satisfied: scipy in /usr/local/lib/python3.10/dist-packages (from catboost) (1.11.4)\n",
            "Requirement already satisfied: plotly in /usr/local/lib/python3.10/dist-packages (from catboost) (5.15.0)\n",
            "Requirement already satisfied: six in /usr/local/lib/python3.10/dist-packages (from catboost) (1.16.0)\n",
            "Requirement already satisfied: python-dateutil>=2.8.1 in /usr/local/lib/python3.10/dist-packages (from pandas>=0.24->catboost) (2.8.2)\n",
            "Requirement already satisfied: pytz>=2020.1 in /usr/local/lib/python3.10/dist-packages (from pandas>=0.24->catboost) (2023.4)\n",
            "Requirement already satisfied: contourpy>=1.0.1 in /usr/local/lib/python3.10/dist-packages (from matplotlib->catboost) (1.2.0)\n",
            "Requirement already satisfied: cycler>=0.10 in /usr/local/lib/python3.10/dist-packages (from matplotlib->catboost) (0.12.1)\n",
            "Requirement already satisfied: fonttools>=4.22.0 in /usr/local/lib/python3.10/dist-packages (from matplotlib->catboost) (4.49.0)\n",
            "Requirement already satisfied: kiwisolver>=1.0.1 in /usr/local/lib/python3.10/dist-packages (from matplotlib->catboost) (1.4.5)\n",
            "Requirement already satisfied: packaging>=20.0 in /usr/local/lib/python3.10/dist-packages (from matplotlib->catboost) (23.2)\n",
            "Requirement already satisfied: pillow>=6.2.0 in /usr/local/lib/python3.10/dist-packages (from matplotlib->catboost) (9.4.0)\n",
            "Requirement already satisfied: pyparsing>=2.3.1 in /usr/local/lib/python3.10/dist-packages (from matplotlib->catboost) (3.1.1)\n",
            "Requirement already satisfied: tenacity>=6.2.0 in /usr/local/lib/python3.10/dist-packages (from plotly->catboost) (8.2.3)\n",
            "Installing collected packages: catboost\n",
            "Successfully installed catboost-1.2.3\n"
          ]
        }
      ],
      "source": [
        "!pip install catboost\n",
        "import pandas as pd\n",
        "import numpy as np\n",
        "from sklearn.tree import DecisionTreeClassifier\n",
        "from sklearn.ensemble import RandomForestClassifier\n",
        "from matplotlib import pyplot\n",
        "from sklearn.feature_selection import SelectFromModel\n",
        "from sklearn.model_selection import train_test_split\n",
        "from sklearn.metrics import ndcg_score\n",
        "from catboost import CatBoostRanker, Pool\n",
        "from copy import deepcopy"
      ]
    },
    {
      "cell_type": "code",
      "source": [
        "train_df = pd.read_csv('/content/train_df.csv')\n",
        "test_df = pd.read_csv('/content/test_df.csv')"
      ],
      "metadata": {
        "id": "AblKAJrqFr9K"
      },
      "execution_count": 184,
      "outputs": []
    },
    {
      "cell_type": "code",
      "source": [
        "print(f'Количество объектов в трейне: {train_df.shape[0]},\\nКоличество объектов в тесте: {test_df.shape[0]}')"
      ],
      "metadata": {
        "colab": {
          "base_uri": "https://localhost:8080/"
        },
        "id": "2S_o0lesGGUt",
        "outputId": "c8b3d4ef-7621-4dd9-8807-00fc0c1024ba"
      },
      "execution_count": 185,
      "outputs": [
        {
          "output_type": "stream",
          "name": "stdout",
          "text": [
            "Количество объектов в трейне: 15081,\n",
            "Количество объектов в тесте: 1529\n"
          ]
        }
      ]
    },
    {
      "cell_type": "code",
      "source": [
        "qs = np.unique(train_df['search_id'].values)"
      ],
      "metadata": {
        "id": "hLD05tTlIKSO"
      },
      "execution_count": 186,
      "outputs": []
    },
    {
      "cell_type": "code",
      "source": [
        "q_train, q_val = train_test_split(qs, test_size=0.2, random_state=13)"
      ],
      "metadata": {
        "id": "I9MFxc5tNArf"
      },
      "execution_count": 187,
      "outputs": []
    },
    {
      "cell_type": "code",
      "source": [
        "match_q_train, match_q_test = (train_df['search_id'].isin(q_train)), (train_df['search_id'].isin(q_val))\n",
        "fin_X_train, fin_X_val = train_df[match_q_train], train_df[match_q_test]"
      ],
      "metadata": {
        "id": "5ZGAoz9xOOVM"
      },
      "execution_count": 188,
      "outputs": []
    },
    {
      "cell_type": "code",
      "source": [
        "q_train = fin_X_train['search_id'].values\n",
        "y_train = fin_X_train['target'].values\n",
        "x_train = fin_X_train.drop(columns=['search_id', 'target']).values\n",
        "\n",
        "q_val = fin_X_val['search_id'].values\n",
        "y_val = fin_X_val['target'].values\n",
        "x_val = fin_X_val.drop(columns=['search_id', 'target']).values\n",
        "\n",
        "q_test = test_df['search_id'].values\n",
        "y_test = test_df['target'].values\n",
        "x_test = test_df.drop(columns=['search_id', 'target']).values"
      ],
      "metadata": {
        "id": "aMvFEZh69rJk"
      },
      "execution_count": 189,
      "outputs": []
    },
    {
      "cell_type": "code",
      "source": [
        "def select_features(x_train, y_train, x_test):\n",
        "    fs = SelectFromModel(RandomForestClassifier(n_estimators=100, max_features=17))\n",
        "    fs.fit(x_train, y_train)\n",
        "    X_train_fs = fs.transform(x_train)\n",
        "    X_test_fs = fs.transform(x_test)\n",
        "    return X_train_fs, X_test_fs, fs\n",
        "\n",
        "x_train_select, x_test_select, fs = select_features(x_train, y_train, x_test)"
      ],
      "metadata": {
        "id": "GP214BU139gq"
      },
      "execution_count": 190,
      "outputs": []
    },
    {
      "cell_type": "code",
      "source": [
        "# попыталась посмотреть на важность признаков и отобрать наиболее значимые\n",
        "model = DecisionTreeClassifier()\n",
        "model.fit(x_train, y_train)\n",
        "feature_list = []\n",
        "imp_list = []\n",
        "imp = model.feature_importances_\n",
        "for i, v in enumerate(imp):\n",
        "    print('Feature: %0d, Score: %.5f' % (i, v))\n",
        "    if v == 0.00000:\n",
        "      feature_list.append(i)\n",
        "    if v > 0.015:\n",
        "      imp_list.append(i)\n",
        "pyplot.bar([x for x in range(len(imp))], imp)\n",
        "pyplot.show()"
      ],
      "metadata": {
        "colab": {
          "base_uri": "https://localhost:8080/",
          "height": 1000
        },
        "id": "JXvB_qGe6thF",
        "outputId": "63aa6383-1226-414f-8510-71f4a401155c"
      },
      "execution_count": 88,
      "outputs": [
        {
          "output_type": "stream",
          "name": "stdout",
          "text": [
            "Feature: 0, Score: 0.00000\n",
            "Feature: 1, Score: 0.00000\n",
            "Feature: 2, Score: 0.00000\n",
            "Feature: 3, Score: 0.00000\n",
            "Feature: 4, Score: 0.00190\n",
            "Feature: 5, Score: 0.00485\n",
            "Feature: 6, Score: 0.00215\n",
            "Feature: 7, Score: 0.00198\n",
            "Feature: 8, Score: 0.00319\n",
            "Feature: 9, Score: 0.00304\n",
            "Feature: 10, Score: 0.00091\n",
            "Feature: 11, Score: 0.00000\n",
            "Feature: 12, Score: 0.00190\n",
            "Feature: 13, Score: 0.00430\n",
            "Feature: 14, Score: 0.00178\n",
            "Feature: 15, Score: 0.00000\n",
            "Feature: 16, Score: 0.00521\n",
            "Feature: 17, Score: 0.00665\n",
            "Feature: 18, Score: 0.00110\n",
            "Feature: 19, Score: 0.00253\n",
            "Feature: 20, Score: 0.00401\n",
            "Feature: 21, Score: 0.00963\n",
            "Feature: 22, Score: 0.00285\n",
            "Feature: 23, Score: 0.01286\n",
            "Feature: 24, Score: 0.00975\n",
            "Feature: 25, Score: 0.01039\n",
            "Feature: 26, Score: 0.01291\n",
            "Feature: 27, Score: 0.01844\n",
            "Feature: 28, Score: 0.01183\n",
            "Feature: 29, Score: 0.01435\n",
            "Feature: 30, Score: 0.00876\n",
            "Feature: 31, Score: 0.00254\n",
            "Feature: 32, Score: 0.00316\n",
            "Feature: 33, Score: 0.01275\n",
            "Feature: 34, Score: 0.00857\n",
            "Feature: 35, Score: 0.00496\n",
            "Feature: 36, Score: 0.00214\n",
            "Feature: 37, Score: 0.00901\n",
            "Feature: 38, Score: 0.02304\n",
            "Feature: 39, Score: 0.02518\n",
            "Feature: 40, Score: 0.01721\n",
            "Feature: 41, Score: 0.02712\n",
            "Feature: 42, Score: 0.01364\n",
            "Feature: 43, Score: 0.02806\n",
            "Feature: 44, Score: 0.02582\n",
            "Feature: 45, Score: 0.03577\n",
            "Feature: 46, Score: 0.00414\n",
            "Feature: 47, Score: 0.02694\n",
            "Feature: 48, Score: 0.02246\n",
            "Feature: 49, Score: 0.02326\n",
            "Feature: 50, Score: 0.01757\n",
            "Feature: 51, Score: 0.02368\n",
            "Feature: 52, Score: 0.02229\n",
            "Feature: 53, Score: 0.01782\n",
            "Feature: 54, Score: 0.01596\n",
            "Feature: 55, Score: 0.01940\n",
            "Feature: 56, Score: 0.02188\n",
            "Feature: 57, Score: 0.01200\n",
            "Feature: 58, Score: 0.00553\n",
            "Feature: 59, Score: 0.00000\n",
            "Feature: 60, Score: 0.00000\n",
            "Feature: 61, Score: 0.01111\n",
            "Feature: 62, Score: 0.03506\n",
            "Feature: 63, Score: 0.02030\n",
            "Feature: 64, Score: 0.00825\n",
            "Feature: 65, Score: 0.01611\n",
            "Feature: 66, Score: 0.03135\n",
            "Feature: 67, Score: 0.04059\n",
            "Feature: 68, Score: 0.02287\n",
            "Feature: 69, Score: 0.02459\n",
            "Feature: 70, Score: 0.05861\n",
            "Feature: 71, Score: 0.02834\n",
            "Feature: 72, Score: 0.02237\n",
            "Feature: 73, Score: 0.00000\n",
            "Feature: 74, Score: 0.00000\n",
            "Feature: 75, Score: 0.00000\n",
            "Feature: 76, Score: 0.01792\n",
            "Feature: 77, Score: 0.00747\n",
            "Feature: 78, Score: 0.02585\n"
          ]
        },
        {
          "output_type": "display_data",
          "data": {
            "text/plain": [
              "<Figure size 640x480 with 1 Axes>"
            ],
            "image/png": "[encoded data removed]"
          },
          "metadata": {}
        }
      ]
    },
    {
      "cell_type": "code",
      "source": [
        "train_pool = Pool(data=x_train_select, label=y_train, group_id=q_train)\n",
        "# val_pool = Pool(data=x_test_select, label=y_val, group_id=q_val)\n",
        "test_pool = Pool(data=x_test_select, label=y_test, group_id=q_test)"
      ],
      "metadata": {
        "id": "uv7uAiKcP36a"
      },
      "execution_count": 191,
      "outputs": []
    },
    {
      "cell_type": "code",
      "source": [
        "default_parameters = {\n",
        "    'iterations': 2000,\n",
        "    'custom_metric': ['NDCG','AverageGain:top=10'],\n",
        "    'verbose': False,\n",
        "    'random_seed': 13}"
      ],
      "metadata": {
        "id": "VvJ-Q2OvbXLv"
      },
      "execution_count": 192,
      "outputs": []
    },
    {
      "cell_type": "code",
      "source": [
        "def fit_model(loss_function, additional_params=None, train_pool=train_pool, test_pool=test_pool):\n",
        "    parameters = deepcopy(default_parameters)\n",
        "    parameters['loss_function'] = loss_function\n",
        "\n",
        "    if additional_params is not None:\n",
        "        parameters.update(additional_params)\n",
        "\n",
        "    model = CatBoostRanker(**parameters)\n",
        "    model.fit(train_pool, eval_set=test_pool, plot=True)\n",
        "\n",
        "    return model"
      ],
      "metadata": {
        "id": "S5kG7f1BbXaz"
      },
      "execution_count": 193,
      "outputs": []
    },
    {
      "cell_type": "code",
      "source": [
        "model = fit_model('YetiRank')"
      ],
      "metadata": {
        "colab": {
          "base_uri": "https://localhost:8080/",
          "height": 17,
          "referenced_widgets": [
            "3059047a355741148f0533a0accdc051"
          ]
        },
        "id": "Xrdl4hvFcD_q",
        "outputId": "1c781604-0318-4791-fb63-2b5cb8fedd5d"
      },
      "execution_count": 194,
      "outputs": [
        {
          "output_type": "display_data",
          "data": {
            "text/plain": [
              "MetricVisualizer(layout=Layout(align_self='stretch', height='500px'))"
            ],
            "application/vnd.jupyter.widget-view+json": {
              "version_major": 2,
              "version_minor": 0,
              "model_id": "3059047a355741148f0533a0accdc051"
            }
          },
          "metadata": {}
        }
      ]
    },
    {
      "cell_type": "code",
      "source": [
        "model.load_model('/content/model_weights.cbm')"
      ],
      "metadata": {
        "colab": {
          "base_uri": "https://localhost:8080/"
        },
        "id": "gKbTzhlsBgri",
        "outputId": "3d8e446f-adac-423b-c03d-e8d807662b24"
      },
      "execution_count": 197,
      "outputs": [
        {
          "output_type": "execute_result",
          "data": {
            "text/plain": [
              "<catboost.core.CatBoostRanker at 0x79c942fba590>"
            ]
          },
          "metadata": {},
          "execution_count": 197
        }
      ]
    },
    {
      "cell_type": "code",
      "source": [
        "metric_val_test = model.score(x_test_select, y_test, group_id=q_test, top=len(y_test))\n",
        "print(f\"NDCG-test (CatBoostRanker): {metric_val_test}\")"
      ],
      "metadata": {
        "colab": {
          "base_uri": "https://localhost:8080/"
        },
        "id": "9CMBqNEax_UQ",
        "outputId": "128d14a2-35e2-40e0-9fad-690393e3c2bc"
      },
      "execution_count": 198,
      "outputs": [
        {
          "output_type": "stream",
          "name": "stdout",
          "text": [
            "NDCG-test (CatBoostRanker): 0.9238199800776337\n"
          ]
        }
      ]
    },
    {
      "cell_type": "code",
      "source": [
        "model.save_model('model_weights.cbm')"
      ],
      "metadata": {
        "id": "xSXvRPq5BLRg"
      },
      "execution_count": 196,
      "outputs": []
    },
    {
      "cell_type": "code",
      "source": [
        "metric_val_test = model.score(x_test_select, y_test, group_id=q_test, top=len(y_test))\n",
        "print(f\"NDCG-test (CatBoostRanker): {metric_val_test}\")"
      ],
      "metadata": {
        "colab": {
          "base_uri": "https://localhost:8080/"
        },
        "id": "ZpGW_61bzwsY",
        "outputId": "29a031dd-8aec-41d9-b6f1-eabec3dcfcdd"
      },
      "execution_count": 130,
      "outputs": [
        {
          "output_type": "stream",
          "name": "stdout",
          "text": [
            "NDCG-test (CatBoostRanker): 0.927966837218043\n"
          ]
        }
      ]
    }
  ]
}